{
 "cells": [
  {
   "cell_type": "code",
   "execution_count": 30,
   "metadata": {
    "ExecuteTime": {
     "end_time": "2020-08-17T09:15:01.481274Z",
     "start_time": "2020-08-17T09:15:01.478142Z"
    }
   },
   "outputs": [],
   "source": [
    "import pandas as pd\n",
    "import numpy as np\n",
    "import matplotlib.pyplot as plt\n",
    "import warnings\n",
    "warnings.filterwarnings(\"ignore\")\n",
    "import tensorflow as tf\n",
    "from sklearn.preprocessing import LabelEncoder, OneHotEncoder"
   ]
  },
  {
   "cell_type": "code",
   "execution_count": 2,
   "metadata": {
    "ExecuteTime": {
     "end_time": "2020-08-17T07:57:52.654103Z",
     "start_time": "2020-08-17T07:57:51.687093Z"
    }
   },
   "outputs": [],
   "source": [
    "train = pd.read_csv('data/train.csv')\n",
    "test = pd.read_csv('data/test.csv')"
   ]
  },
  {
   "cell_type": "code",
   "execution_count": 3,
   "metadata": {
    "ExecuteTime": {
     "end_time": "2020-08-17T07:57:52.765567Z",
     "start_time": "2020-08-17T07:57:52.655027Z"
    }
   },
   "outputs": [
    {
     "data": {
      "image/png": "[encoded data removed]",
      "text/plain": [
       "<Figure size 432x288 with 1 Axes>"
      ]
     },
     "metadata": {
      "needs_background": "light"
     },
     "output_type": "display_data"
    }
   ],
   "source": [
    "idx = 3\n",
    "img = train.loc[idx, '0':].values.reshape(28, 28).astype(int)\n",
    "digit = train.loc[idx, 'digit']\n",
    "letter = train.loc[idx, 'letter']\n",
    "\n",
    "plt.title('Index: %i, Digit: %s, Letter: %s'%(idx, digit, letter))\n",
    "plt.imshow(img)\n",
    "plt.show()"
   ]
  },
  {
   "cell_type": "code",
   "execution_count": 4,
   "metadata": {
    "ExecuteTime": {
     "end_time": "2020-08-17T07:57:52.795666Z",
     "start_time": "2020-08-17T07:57:52.766567Z"
    }
   },
   "outputs": [],
   "source": [
    "x1 = train.drop(['id', 'digit', 'letter'], axis=1).values\n",
    "x1 = x1.reshape(-1, 28, 28, 1)\n",
    "x1 = x1/255\n",
    "\n",
    "y_data1 = train['digit']\n",
    "y1 = np.zeros((len(y_data1), len(y_data1.unique())))\n",
    "for i, digit in enumerate(y_data1):\n",
    "    y1[i, digit] = 1"
   ]
  },
  {
   "cell_type": "code",
   "execution_count": 36,
   "metadata": {
    "ExecuteTime": {
     "end_time": "2020-08-17T09:16:51.055650Z",
     "start_time": "2020-08-17T09:16:51.029103Z"
    }
   },
   "outputs": [
    {
     "ename": "ValueError",
     "evalue": "Expected 2D array, got 1D array instead:\narray=['L' 'B' 'L' ... 'A' 'Z' 'Z'].\nReshape your data either using array.reshape(-1, 1) if your data has a single feature or array.reshape(1, -1) if it contains a single sample.",
     "output_type": "error",
     "traceback": [
      "\u001b[1;31m---------------------------------------------------------------------------\u001b[0m",
      "\u001b[1;31mValueError\u001b[0m                                Traceback (most recent call last)",
      "\u001b[1;32m<ipython-input-36-8c1558a91202>\u001b[0m in \u001b[0;36m<module>\u001b[1;34m\u001b[0m\n\u001b[0;32m      1\u001b[0m \u001b[0mx_letter1\u001b[0m \u001b[1;33m=\u001b[0m \u001b[0mtrain\u001b[0m\u001b[1;33m[\u001b[0m\u001b[1;34m'letter'\u001b[0m\u001b[1;33m]\u001b[0m\u001b[1;33m.\u001b[0m\u001b[0mvalues\u001b[0m\u001b[1;33m\u001b[0m\u001b[1;33m\u001b[0m\u001b[0m\n\u001b[0;32m      2\u001b[0m \u001b[0men\u001b[0m \u001b[1;33m=\u001b[0m \u001b[0mOneHotEncoder\u001b[0m\u001b[1;33m(\u001b[0m\u001b[1;33m)\u001b[0m\u001b[1;33m\u001b[0m\u001b[1;33m\u001b[0m\u001b[0m\n\u001b[1;32m----> 3\u001b[1;33m \u001b[0mx_letter1\u001b[0m \u001b[1;33m=\u001b[0m \u001b[0men\u001b[0m\u001b[1;33m.\u001b[0m\u001b[0mfit_transform\u001b[0m\u001b[1;33m(\u001b[0m\u001b[0mx_letter1\u001b[0m\u001b[1;33m)\u001b[0m\u001b[1;33m.\u001b[0m\u001b[0mtoarray\u001b[0m\u001b[1;33m(\u001b[0m\u001b[1;33m)\u001b[0m\u001b[1;33m\u001b[0m\u001b[1;33m\u001b[0m\u001b[0m\n\u001b[0m\u001b[0;32m      4\u001b[0m \u001b[0mx_letter1\u001b[0m\u001b[1;33m\u001b[0m\u001b[1;33m\u001b[0m\u001b[0m\n",
      "\u001b[1;32mc:\\users\\ilifo-028\\anaconda3\\lib\\site-packages\\sklearn\\preprocessing\\_encoders.py\u001b[0m in \u001b[0;36mfit_transform\u001b[1;34m(self, X, y)\u001b[0m\n\u001b[0;32m    370\u001b[0m         \"\"\"\n\u001b[0;32m    371\u001b[0m         \u001b[0mself\u001b[0m\u001b[1;33m.\u001b[0m\u001b[0m_validate_keywords\u001b[0m\u001b[1;33m(\u001b[0m\u001b[1;33m)\u001b[0m\u001b[1;33m\u001b[0m\u001b[1;33m\u001b[0m\u001b[0m\n\u001b[1;32m--> 372\u001b[1;33m         \u001b[1;32mreturn\u001b[0m \u001b[0msuper\u001b[0m\u001b[1;33m(\u001b[0m\u001b[1;33m)\u001b[0m\u001b[1;33m.\u001b[0m\u001b[0mfit_transform\u001b[0m\u001b[1;33m(\u001b[0m\u001b[0mX\u001b[0m\u001b[1;33m,\u001b[0m \u001b[0my\u001b[0m\u001b[1;33m)\u001b[0m\u001b[1;33m\u001b[0m\u001b[1;33m\u001b[0m\u001b[0m\n\u001b[0m\u001b[0;32m    373\u001b[0m \u001b[1;33m\u001b[0m\u001b[0m\n\u001b[0;32m    374\u001b[0m     \u001b[1;32mdef\u001b[0m \u001b[0mtransform\u001b[0m\u001b[1;33m(\u001b[0m\u001b[0mself\u001b[0m\u001b[1;33m,\u001b[0m \u001b[0mX\u001b[0m\u001b[1;33m)\u001b[0m\u001b[1;33m:\u001b[0m\u001b[1;33m\u001b[0m\u001b[1;33m\u001b[0m\u001b[0m\n",
      "\u001b[1;32mc:\\users\\ilifo-028\\anaconda3\\lib\\site-packages\\sklearn\\base.py\u001b[0m in \u001b[0;36mfit_transform\u001b[1;34m(self, X, y, **fit_params)\u001b[0m\n\u001b[0;32m    569\u001b[0m         \u001b[1;32mif\u001b[0m \u001b[0my\u001b[0m \u001b[1;32mis\u001b[0m \u001b[1;32mNone\u001b[0m\u001b[1;33m:\u001b[0m\u001b[1;33m\u001b[0m\u001b[1;33m\u001b[0m\u001b[0m\n\u001b[0;32m    570\u001b[0m             \u001b[1;31m# fit method of arity 1 (unsupervised transformation)\u001b[0m\u001b[1;33m\u001b[0m\u001b[1;33m\u001b[0m\u001b[1;33m\u001b[0m\u001b[0m\n\u001b[1;32m--> 571\u001b[1;33m             \u001b[1;32mreturn\u001b[0m \u001b[0mself\u001b[0m\u001b[1;33m.\u001b[0m\u001b[0mfit\u001b[0m\u001b[1;33m(\u001b[0m\u001b[0mX\u001b[0m\u001b[1;33m,\u001b[0m \u001b[1;33m**\u001b[0m\u001b[0mfit_params\u001b[0m\u001b[1;33m)\u001b[0m\u001b[1;33m.\u001b[0m\u001b[0mtransform\u001b[0m\u001b[1;33m(\u001b[0m\u001b[0mX\u001b[0m\u001b[1;33m)\u001b[0m\u001b[1;33m\u001b[0m\u001b[1;33m\u001b[0m\u001b[0m\n\u001b[0m\u001b[0;32m    572\u001b[0m         \u001b[1;32melse\u001b[0m\u001b[1;33m:\u001b[0m\u001b[1;33m\u001b[0m\u001b[1;33m\u001b[0m\u001b[0m\n\u001b[0;32m    573\u001b[0m             \u001b[1;31m# fit method of arity 2 (supervised transformation)\u001b[0m\u001b[1;33m\u001b[0m\u001b[1;33m\u001b[0m\u001b[1;33m\u001b[0m\u001b[0m\n",
      "\u001b[1;32mc:\\users\\ilifo-028\\anaconda3\\lib\\site-packages\\sklearn\\preprocessing\\_encoders.py\u001b[0m in \u001b[0;36mfit\u001b[1;34m(self, X, y)\u001b[0m\n\u001b[0;32m    345\u001b[0m         \"\"\"\n\u001b[0;32m    346\u001b[0m         \u001b[0mself\u001b[0m\u001b[1;33m.\u001b[0m\u001b[0m_validate_keywords\u001b[0m\u001b[1;33m(\u001b[0m\u001b[1;33m)\u001b[0m\u001b[1;33m\u001b[0m\u001b[1;33m\u001b[0m\u001b[0m\n\u001b[1;32m--> 347\u001b[1;33m         \u001b[0mself\u001b[0m\u001b[1;33m.\u001b[0m\u001b[0m_fit\u001b[0m\u001b[1;33m(\u001b[0m\u001b[0mX\u001b[0m\u001b[1;33m,\u001b[0m \u001b[0mhandle_unknown\u001b[0m\u001b[1;33m=\u001b[0m\u001b[0mself\u001b[0m\u001b[1;33m.\u001b[0m\u001b[0mhandle_unknown\u001b[0m\u001b[1;33m)\u001b[0m\u001b[1;33m\u001b[0m\u001b[1;33m\u001b[0m\u001b[0m\n\u001b[0m\u001b[0;32m    348\u001b[0m         \u001b[0mself\u001b[0m\u001b[1;33m.\u001b[0m\u001b[0mdrop_idx_\u001b[0m \u001b[1;33m=\u001b[0m \u001b[0mself\u001b[0m\u001b[1;33m.\u001b[0m\u001b[0m_compute_drop_idx\u001b[0m\u001b[1;33m(\u001b[0m\u001b[1;33m)\u001b[0m\u001b[1;33m\u001b[0m\u001b[1;33m\u001b[0m\u001b[0m\n\u001b[0;32m    349\u001b[0m         \u001b[1;32mreturn\u001b[0m \u001b[0mself\u001b[0m\u001b[1;33m\u001b[0m\u001b[1;33m\u001b[0m\u001b[0m\n",
      "\u001b[1;32mc:\\users\\ilifo-028\\anaconda3\\lib\\site-packages\\sklearn\\preprocessing\\_encoders.py\u001b[0m in \u001b[0;36m_fit\u001b[1;34m(self, X, handle_unknown)\u001b[0m\n\u001b[0;32m     72\u001b[0m \u001b[1;33m\u001b[0m\u001b[0m\n\u001b[0;32m     73\u001b[0m     \u001b[1;32mdef\u001b[0m \u001b[0m_fit\u001b[0m\u001b[1;33m(\u001b[0m\u001b[0mself\u001b[0m\u001b[1;33m,\u001b[0m \u001b[0mX\u001b[0m\u001b[1;33m,\u001b[0m \u001b[0mhandle_unknown\u001b[0m\u001b[1;33m=\u001b[0m\u001b[1;34m'error'\u001b[0m\u001b[1;33m)\u001b[0m\u001b[1;33m:\u001b[0m\u001b[1;33m\u001b[0m\u001b[1;33m\u001b[0m\u001b[0m\n\u001b[1;32m---> 74\u001b[1;33m         \u001b[0mX_list\u001b[0m\u001b[1;33m,\u001b[0m \u001b[0mn_samples\u001b[0m\u001b[1;33m,\u001b[0m \u001b[0mn_features\u001b[0m \u001b[1;33m=\u001b[0m \u001b[0mself\u001b[0m\u001b[1;33m.\u001b[0m\u001b[0m_check_X\u001b[0m\u001b[1;33m(\u001b[0m\u001b[0mX\u001b[0m\u001b[1;33m)\u001b[0m\u001b[1;33m\u001b[0m\u001b[1;33m\u001b[0m\u001b[0m\n\u001b[0m\u001b[0;32m     75\u001b[0m \u001b[1;33m\u001b[0m\u001b[0m\n\u001b[0;32m     76\u001b[0m         \u001b[1;32mif\u001b[0m \u001b[0mself\u001b[0m\u001b[1;33m.\u001b[0m\u001b[0mcategories\u001b[0m \u001b[1;33m!=\u001b[0m \u001b[1;34m'auto'\u001b[0m\u001b[1;33m:\u001b[0m\u001b[1;33m\u001b[0m\u001b[1;33m\u001b[0m\u001b[0m\n",
      "\u001b[1;32mc:\\users\\ilifo-028\\anaconda3\\lib\\site-packages\\sklearn\\preprocessing\\_encoders.py\u001b[0m in \u001b[0;36m_check_X\u001b[1;34m(self, X)\u001b[0m\n\u001b[0;32m     41\u001b[0m         \u001b[1;32mif\u001b[0m \u001b[1;32mnot\u001b[0m \u001b[1;33m(\u001b[0m\u001b[0mhasattr\u001b[0m\u001b[1;33m(\u001b[0m\u001b[0mX\u001b[0m\u001b[1;33m,\u001b[0m \u001b[1;34m'iloc'\u001b[0m\u001b[1;33m)\u001b[0m \u001b[1;32mand\u001b[0m \u001b[0mgetattr\u001b[0m\u001b[1;33m(\u001b[0m\u001b[0mX\u001b[0m\u001b[1;33m,\u001b[0m \u001b[1;34m'ndim'\u001b[0m\u001b[1;33m,\u001b[0m \u001b[1;36m0\u001b[0m\u001b[1;33m)\u001b[0m \u001b[1;33m==\u001b[0m \u001b[1;36m2\u001b[0m\u001b[1;33m)\u001b[0m\u001b[1;33m:\u001b[0m\u001b[1;33m\u001b[0m\u001b[1;33m\u001b[0m\u001b[0m\n\u001b[0;32m     42\u001b[0m             \u001b[1;31m# if not a dataframe, do normal check_array validation\u001b[0m\u001b[1;33m\u001b[0m\u001b[1;33m\u001b[0m\u001b[1;33m\u001b[0m\u001b[0m\n\u001b[1;32m---> 43\u001b[1;33m             \u001b[0mX_temp\u001b[0m \u001b[1;33m=\u001b[0m \u001b[0mcheck_array\u001b[0m\u001b[1;33m(\u001b[0m\u001b[0mX\u001b[0m\u001b[1;33m,\u001b[0m \u001b[0mdtype\u001b[0m\u001b[1;33m=\u001b[0m\u001b[1;32mNone\u001b[0m\u001b[1;33m)\u001b[0m\u001b[1;33m\u001b[0m\u001b[1;33m\u001b[0m\u001b[0m\n\u001b[0m\u001b[0;32m     44\u001b[0m             if (not hasattr(X, 'dtype')\n\u001b[0;32m     45\u001b[0m                     and np.issubdtype(X_temp.dtype, np.str_)):\n",
      "\u001b[1;32mc:\\users\\ilifo-028\\anaconda3\\lib\\site-packages\\sklearn\\utils\\validation.py\u001b[0m in \u001b[0;36mcheck_array\u001b[1;34m(array, accept_sparse, accept_large_sparse, dtype, order, copy, force_all_finite, ensure_2d, allow_nd, ensure_min_samples, ensure_min_features, warn_on_dtype, estimator)\u001b[0m\n\u001b[0;32m    554\u001b[0m                     \u001b[1;34m\"Reshape your data either using array.reshape(-1, 1) if \"\u001b[0m\u001b[1;33m\u001b[0m\u001b[1;33m\u001b[0m\u001b[0m\n\u001b[0;32m    555\u001b[0m                     \u001b[1;34m\"your data has a single feature or array.reshape(1, -1) \"\u001b[0m\u001b[1;33m\u001b[0m\u001b[1;33m\u001b[0m\u001b[0m\n\u001b[1;32m--> 556\u001b[1;33m                     \"if it contains a single sample.\".format(array))\n\u001b[0m\u001b[0;32m    557\u001b[0m \u001b[1;33m\u001b[0m\u001b[0m\n\u001b[0;32m    558\u001b[0m         \u001b[1;31m# in the future np.flexible dtypes will be handled like object dtypes\u001b[0m\u001b[1;33m\u001b[0m\u001b[1;33m\u001b[0m\u001b[1;33m\u001b[0m\u001b[0m\n",
      "\u001b[1;31mValueError\u001b[0m: Expected 2D array, got 1D array instead:\narray=['L' 'B' 'L' ... 'A' 'Z' 'Z'].\nReshape your data either using array.reshape(-1, 1) if your data has a single feature or array.reshape(1, -1) if it contains a single sample."
     ]
    }
   ],
   "source": [
    "x_letter1 = train['letter'].values\n",
    "en = OneHotEncoder()\n",
    "x_letter1 = en.fit_transform(x_letter1).toarray()\n",
    "x_letter1"
   ]
  },
  {
   "cell_type": "code",
   "execution_count": 5,
   "metadata": {
    "ExecuteTime": {
     "end_time": "2020-08-17T07:57:53.114973Z",
     "start_time": "2020-08-17T07:57:52.797566Z"
    }
   },
   "outputs": [
    {
     "name": "stdout",
     "output_type": "stream",
     "text": [
      "(1638, 28, 28, 1)\n",
      "(410, 28, 28, 1)\n",
      "(1638, 10)\n",
      "(410, 10)\n"
     ]
    }
   ],
   "source": [
    "from sklearn.model_selection import train_test_split\n",
    "x_train1, x_val1, y_train1, y_val1 = train_test_split(x1, y1, test_size=0.2, shuffle=True, stratify=y1)\n",
    "print(x_train1.shape)\n",
    "print(x_val1.shape)\n",
    "print(y_train1.shape)\n",
    "print(y_val1.shape)"
   ]
  },
  {
   "cell_type": "code",
   "execution_count": 6,
   "metadata": {
    "ExecuteTime": {
     "end_time": "2020-08-17T07:57:53.137974Z",
     "start_time": "2020-08-17T07:57:53.116966Z"
    }
   },
   "outputs": [],
   "source": [
    "x2 = train.drop(['id', 'digit', 'letter'], axis=1).values\n",
    "x2 = x2.reshape(-1, 28, 28)\n",
    "x2 = x2/255\n",
    "\n",
    "y_data2 = train['digit']\n",
    "y2 = np.zeros((len(y_data2), len(y_data2.unique())))\n",
    "for i, digit in enumerate(y_data2):\n",
    "    y2[i, digit] = 1"
   ]
  },
  {
   "cell_type": "code",
   "execution_count": 7,
   "metadata": {
    "ExecuteTime": {
     "end_time": "2020-08-17T07:57:53.192965Z",
     "start_time": "2020-08-17T07:57:53.139978Z"
    }
   },
   "outputs": [
    {
     "name": "stdout",
     "output_type": "stream",
     "text": [
      "(1638, 28, 28)\n",
      "(410, 28, 28)\n",
      "(1638, 10)\n",
      "(410, 10)\n"
     ]
    }
   ],
   "source": [
    "from sklearn.model_selection import train_test_split\n",
    "x_train2, x_val2, y_train2, y_val2 = train_test_split(x2, y2, test_size=0.2, shuffle=True, stratify=y2)\n",
    "print(x_train2.shape)\n",
    "print(x_val2.shape)\n",
    "print(y_train2.shape)\n",
    "print(y_val2.shape)"
   ]
  },
  {
   "cell_type": "code",
   "execution_count": 8,
   "metadata": {
    "ExecuteTime": {
     "end_time": "2020-08-17T07:57:53.565129Z",
     "start_time": "2020-08-17T07:57:53.193963Z"
    }
   },
   "outputs": [
    {
     "name": "stdout",
     "output_type": "stream",
     "text": [
      "Model: \"model\"\n",
      "__________________________________________________________________________________________________\n",
      "Layer (type)                    Output Shape         Param #     Connected to                     \n",
      "==================================================================================================\n",
      "input_1 (InputLayer)            [(None, 28, 28, 1)]  0                                            \n",
      "__________________________________________________________________________________________________\n",
      "conv2d (Conv2D)                 (None, 26, 26, 64)   640         input_1[0][0]                    \n",
      "__________________________________________________________________________________________________\n",
      "dropout (Dropout)               (None, 26, 26, 64)   0           conv2d[0][0]                     \n",
      "__________________________________________________________________________________________________\n",
      "max_pooling2d (MaxPooling2D)    (None, 13, 13, 64)   0           dropout[0][0]                    \n",
      "__________________________________________________________________________________________________\n",
      "conv2d_1 (Conv2D)               (None, 12, 12, 64)   16448       max_pooling2d[0][0]              \n",
      "__________________________________________________________________________________________________\n",
      "dropout_1 (Dropout)             (None, 12, 12, 64)   0           conv2d_1[0][0]                   \n",
      "__________________________________________________________________________________________________\n",
      "max_pooling2d_1 (MaxPooling2D)  (None, 6, 6, 64)     0           dropout_1[0][0]                  \n",
      "__________________________________________________________________________________________________\n",
      "conv2d_2 (Conv2D)               (None, 5, 5, 128)    32896       max_pooling2d_1[0][0]            \n",
      "__________________________________________________________________________________________________\n",
      "dropout_2 (Dropout)             (None, 5, 5, 128)    0           conv2d_2[0][0]                   \n",
      "__________________________________________________________________________________________________\n",
      "max_pooling2d_2 (MaxPooling2D)  (None, 2, 2, 128)    0           dropout_2[0][0]                  \n",
      "__________________________________________________________________________________________________\n",
      "input_2 (InputLayer)            [(None, 28, 28)]     0                                            \n",
      "__________________________________________________________________________________________________\n",
      "flatten (Flatten)               (None, 512)          0           max_pooling2d_2[0][0]            \n",
      "__________________________________________________________________________________________________\n",
      "lstm (LSTM)                     (None, 28, 256)      291840      input_2[0][0]                    \n",
      "__________________________________________________________________________________________________\n",
      "dense (Dense)                   (None, 500)          256500      flatten[0][0]                    \n",
      "__________________________________________________________________________________________________\n",
      "lstm_1 (LSTM)                   (None, 128)          197120      lstm[0][0]                       \n",
      "__________________________________________________________________________________________________\n",
      "dropout_3 (Dropout)             (None, 500)          0           dense[0][0]                      \n",
      "__________________________________________________________________________________________________\n",
      "dropout_4 (Dropout)             (None, 128)          0           lstm_1[0][0]                     \n",
      "__________________________________________________________________________________________________\n",
      "dense_1 (Dense)                 (None, 100)          50100       dropout_3[0][0]                  \n",
      "__________________________________________________________________________________________________\n",
      "dense_2 (Dense)                 (None, 100)          12900       dropout_4[0][0]                  \n",
      "__________________________________________________________________________________________________\n",
      "concatenate (Concatenate)       (None, 200)          0           dense_1[0][0]                    \n",
      "                                                                 dense_2[0][0]                    \n",
      "__________________________________________________________________________________________________\n",
      "dense_3 (Dense)                 (None, 50)           10050       concatenate[0][0]                \n",
      "__________________________________________________________________________________________________\n",
      "dense_5 (Dense)                 (None, 50)           10050       concatenate[0][0]                \n",
      "__________________________________________________________________________________________________\n",
      "dense_4 (Dense)                 (None, 10)           510         dense_3[0][0]                    \n",
      "__________________________________________________________________________________________________\n",
      "dense_6 (Dense)                 (None, 10)           510         dense_5[0][0]                    \n",
      "==================================================================================================\n",
      "Total params: 879,564\n",
      "Trainable params: 879,564\n",
      "Non-trainable params: 0\n",
      "__________________________________________________________________________________________________\n"
     ]
    }
   ],
   "source": [
    "from tensorflow.keras.models import Model\n",
    "from tensorflow.keras.layers import Input, Conv2D, MaxPooling2D, Flatten, Dense, LSTM, concatenate, Dropout\n",
    "\n",
    "input1 = Input(shape=(28,28,1))\n",
    "x1 = Conv2D(64, (3,3), activation='relu', padding='valid')(input1)\n",
    "x1 = Dropout(0.2)(x1)\n",
    "x1 = MaxPooling2D((2,2))(x1)\n",
    "x1 = Conv2D(64, (2,2), activation='relu', padding='valid')(x1)\n",
    "x1 = Dropout(0.2)(x1)\n",
    "x1 = MaxPooling2D((2,2))(x1)\n",
    "x1 = Conv2D(128, (2,2), activation='relu', padding='valid')(x1)\n",
    "x1 = Dropout(0.2)(x1)\n",
    "x1 = MaxPooling2D((2,2))(x1)\n",
    "x1 = Flatten()(x1)\n",
    "x1 = Dense(500, activation='relu')(x1)\n",
    "x1 = Dropout(0.2)(x1)\n",
    "x1 = Dense(100, activation='relu')(x1)\n",
    "\n",
    "input2 = Input(shape=(28,28))\n",
    "x2 = LSTM(256, activation='relu', return_sequences=True)(input2)\n",
    "x2 = LSTM(128, activation='relu')(x2)\n",
    "x2 = Dropout(0.2)(x2)\n",
    "x2 = Dense(100)(x2)\n",
    "\n",
    "merge = concatenate([x1, x2])\n",
    "\n",
    "x3 = Dense(50)(merge)\n",
    "output1 = Dense(10, activation='softmax')(x3)\n",
    "\n",
    "x4 = Dense(50)(merge)\n",
    "output2 = Dense(10, activation='softmax')(x4)\n",
    "\n",
    "model = Model(inputs = [input1, input2], outputs = [output1, output2])\n",
    "model.summary()"
   ]
  },
  {
   "cell_type": "code",
   "execution_count": 9,
   "metadata": {
    "ExecuteTime": {
     "end_time": "2020-08-17T08:02:00.164676Z",
     "start_time": "2020-08-17T07:57:53.567148Z"
    }
   },
   "outputs": [
    {
     "name": "stdout",
     "output_type": "stream",
     "text": [
      "Train on 1638 samples, validate on 410 samples\n",
      "Epoch 1/50\n",
      "1638/1638 [==============================] - 7s 4ms/sample - loss: 2.3029 - dense_4_loss: 2.3017 - dense_6_loss: 2.3042 - dense_4_accuracy: 0.1129 - dense_6_accuracy: 0.1056 - val_loss: 2.2916 - val_dense_4_loss: 2.2940 - val_dense_6_loss: 2.2887 - val_dense_4_accuracy: 0.1317 - val_dense_6_accuracy: 0.1122\n",
      "Epoch 2/50\n",
      "1638/1638 [==============================] - 5s 3ms/sample - loss: 2.2697 - dense_4_loss: 2.2701 - dense_6_loss: 2.2677 - dense_4_accuracy: 0.1319 - dense_6_accuracy: 0.1368 - val_loss: 2.2468 - val_dense_4_loss: 2.2373 - val_dense_6_loss: 2.2587 - val_dense_4_accuracy: 0.1585 - val_dense_6_accuracy: 0.1707\n",
      "Epoch 3/50\n",
      "1638/1638 [==============================] - 5s 3ms/sample - loss: 2.1756 - dense_4_loss: 2.1277 - dense_6_loss: 2.2227 - dense_4_accuracy: 0.2375 - dense_6_accuracy: 0.1752 - val_loss: 2.1459 - val_dense_4_loss: 2.0965 - val_dense_6_loss: 2.1956 - val_dense_4_accuracy: 0.2512 - val_dense_6_accuracy: 0.1902\n",
      "Epoch 4/50\n",
      "1638/1638 [==============================] - 5s 3ms/sample - loss: 2.0559 - dense_4_loss: 1.9387 - dense_6_loss: 2.1722 - dense_4_accuracy: 0.3004 - dense_6_accuracy: 0.1978 - val_loss: 2.0792 - val_dense_4_loss: 2.0005 - val_dense_6_loss: 2.1744 - val_dense_4_accuracy: 0.3049 - val_dense_6_accuracy: 0.1951\n",
      "Epoch 5/50\n",
      "1638/1638 [==============================] - 5s 3ms/sample - loss: 1.9530 - dense_4_loss: 1.7865 - dense_6_loss: 2.1171 - dense_4_accuracy: 0.3578 - dense_6_accuracy: 0.2039 - val_loss: 1.9425 - val_dense_4_loss: 1.8025 - val_dense_6_loss: 2.0960 - val_dense_4_accuracy: 0.4098 - val_dense_6_accuracy: 0.2463\n",
      "Epoch 6/50\n",
      "1638/1638 [==============================] - 5s 3ms/sample - loss: 1.8192 - dense_4_loss: 1.5806 - dense_6_loss: 2.0559 - dense_4_accuracy: 0.4573 - dense_6_accuracy: 0.2479 - val_loss: 1.8362 - val_dense_4_loss: 1.6232 - val_dense_6_loss: 2.0647 - val_dense_4_accuracy: 0.5073 - val_dense_6_accuracy: 0.2268\n",
      "Epoch 7/50\n",
      "1638/1638 [==============================] - 5s 3ms/sample - loss: 1.6785 - dense_4_loss: 1.3554 - dense_6_loss: 1.9983 - dense_4_accuracy: 0.5244 - dense_6_accuracy: 0.2723 - val_loss: 1.7274 - val_dense_4_loss: 1.4744 - val_dense_6_loss: 2.0032 - val_dense_4_accuracy: 0.5390 - val_dense_6_accuracy: 0.2537\n",
      "Epoch 8/50\n",
      "1638/1638 [==============================] - 5s 3ms/sample - loss: 1.5721 - dense_4_loss: 1.2247 - dense_6_loss: 1.9133 - dense_4_accuracy: 0.5855 - dense_6_accuracy: 0.3022 - val_loss: 1.6750 - val_dense_4_loss: 1.4037 - val_dense_6_loss: 1.9683 - val_dense_4_accuracy: 0.5902 - val_dense_6_accuracy: 0.2927\n",
      "Epoch 9/50\n",
      "1638/1638 [==============================] - 5s 3ms/sample - loss: 1.4851 - dense_4_loss: 1.0940 - dense_6_loss: 1.8732 - dense_4_accuracy: 0.6331 - dense_6_accuracy: 0.3278 - val_loss: 1.5588 - val_dense_4_loss: 1.2271 - val_dense_6_loss: 1.9075 - val_dense_4_accuracy: 0.6439 - val_dense_6_accuracy: 0.3244\n",
      "Epoch 10/50\n",
      "1638/1638 [==============================] - 5s 3ms/sample - loss: 1.3723 - dense_4_loss: 0.9608 - dense_6_loss: 1.7898 - dense_4_accuracy: 0.6819 - dense_6_accuracy: 0.3455 - val_loss: 1.5360 - val_dense_4_loss: 1.1795 - val_dense_6_loss: 1.8966 - val_dense_4_accuracy: 0.6561 - val_dense_6_accuracy: 0.2976\n",
      "Epoch 11/50\n",
      "1638/1638 [==============================] - 5s 3ms/sample - loss: 1.2700 - dense_4_loss: 0.8765 - dense_6_loss: 1.6606 - dense_4_accuracy: 0.6990 - dense_6_accuracy: 0.3895 - val_loss: 1.4652 - val_dense_4_loss: 1.0218 - val_dense_6_loss: 1.9238 - val_dense_4_accuracy: 0.6512 - val_dense_6_accuracy: 0.2927\n",
      "Epoch 12/50\n",
      "1638/1638 [==============================] - 5s 3ms/sample - loss: 1.1851 - dense_4_loss: 0.7723 - dense_6_loss: 1.6028 - dense_4_accuracy: 0.7357 - dense_6_accuracy: 0.4188 - val_loss: 1.4486 - val_dense_4_loss: 1.0249 - val_dense_6_loss: 1.8797 - val_dense_4_accuracy: 0.6756 - val_dense_6_accuracy: 0.3341\n",
      "Epoch 13/50\n",
      "1638/1638 [==============================] - 5s 3ms/sample - loss: 1.1852 - dense_4_loss: 0.7709 - dense_6_loss: 1.6019 - dense_4_accuracy: 0.7393 - dense_6_accuracy: 0.4255 - val_loss: 1.4195 - val_dense_4_loss: 0.9631 - val_dense_6_loss: 1.9003 - val_dense_4_accuracy: 0.7049 - val_dense_6_accuracy: 0.3390\n",
      "Epoch 14/50\n",
      "1638/1638 [==============================] - 5s 3ms/sample - loss: 1.1135 - dense_4_loss: 0.6956 - dense_6_loss: 1.5369 - dense_4_accuracy: 0.7711 - dense_6_accuracy: 0.4530 - val_loss: 1.4250 - val_dense_4_loss: 0.9525 - val_dense_6_loss: 1.9152 - val_dense_4_accuracy: 0.7146 - val_dense_6_accuracy: 0.3341\n",
      "Epoch 15/50\n",
      "1638/1638 [==============================] - 5s 3ms/sample - loss: 1.0224 - dense_4_loss: 0.6116 - dense_6_loss: 1.4336 - dense_4_accuracy: 0.7985 - dense_6_accuracy: 0.4976 - val_loss: 1.3778 - val_dense_4_loss: 0.8853 - val_dense_6_loss: 1.8894 - val_dense_4_accuracy: 0.7098 - val_dense_6_accuracy: 0.3293\n",
      "Epoch 16/50\n",
      "1638/1638 [==============================] - 5s 3ms/sample - loss: 0.9695 - dense_4_loss: 0.5482 - dense_6_loss: 1.3905 - dense_4_accuracy: 0.8132 - dense_6_accuracy: 0.5116 - val_loss: 1.3951 - val_dense_4_loss: 0.9184 - val_dense_6_loss: 1.8797 - val_dense_4_accuracy: 0.6780 - val_dense_6_accuracy: 0.3780\n",
      "Epoch 17/50\n",
      "1638/1638 [==============================] - 5s 3ms/sample - loss: 0.9387 - dense_4_loss: 0.5650 - dense_6_loss: 1.3225 - dense_4_accuracy: 0.8065 - dense_6_accuracy: 0.5379 - val_loss: 1.3557 - val_dense_4_loss: 0.8716 - val_dense_6_loss: 1.8736 - val_dense_4_accuracy: 0.7415 - val_dense_6_accuracy: 0.3610\n",
      "Epoch 18/50\n",
      "1638/1638 [==============================] - 5s 3ms/sample - loss: 0.8768 - dense_4_loss: 0.4962 - dense_6_loss: 1.2637 - dense_4_accuracy: 0.8339 - dense_6_accuracy: 0.5690 - val_loss: 1.4294 - val_dense_4_loss: 0.8535 - val_dense_6_loss: 2.0350 - val_dense_4_accuracy: 0.7366 - val_dense_6_accuracy: 0.3561\n",
      "Epoch 19/50\n",
      "1638/1638 [==============================] - 6s 4ms/sample - loss: 0.8531 - dense_4_loss: 0.4932 - dense_6_loss: 1.2132 - dense_4_accuracy: 0.8254 - dense_6_accuracy: 0.5702 - val_loss: 1.3942 - val_dense_4_loss: 0.8259 - val_dense_6_loss: 1.9840 - val_dense_4_accuracy: 0.7049 - val_dense_6_accuracy: 0.3854\n",
      "Epoch 20/50\n",
      "1638/1638 [==============================] - 5s 3ms/sample - loss: 0.7802 - dense_4_loss: 0.4588 - dense_6_loss: 1.1068 - dense_4_accuracy: 0.8315 - dense_6_accuracy: 0.6087 - val_loss: 1.3895 - val_dense_4_loss: 0.7796 - val_dense_6_loss: 2.0268 - val_dense_4_accuracy: 0.7366 - val_dense_6_accuracy: 0.3659\n",
      "Epoch 21/50\n",
      "1638/1638 [==============================] - 5s 3ms/sample - loss: 0.7554 - dense_4_loss: 0.4321 - dense_6_loss: 1.0804 - dense_4_accuracy: 0.8510 - dense_6_accuracy: 0.6160 - val_loss: 1.3902 - val_dense_4_loss: 0.7919 - val_dense_6_loss: 2.0399 - val_dense_4_accuracy: 0.7268 - val_dense_6_accuracy: 0.3512\n",
      "Epoch 22/50\n",
      "1638/1638 [==============================] - 5s 3ms/sample - loss: 0.6991 - dense_4_loss: 0.3836 - dense_6_loss: 1.0169 - dense_4_accuracy: 0.8584 - dense_6_accuracy: 0.6416 - val_loss: 1.5073 - val_dense_4_loss: 0.8682 - val_dense_6_loss: 2.1770 - val_dense_4_accuracy: 0.7220 - val_dense_6_accuracy: 0.3585\n",
      "Epoch 23/50\n",
      "1638/1638 [==============================] - 5s 3ms/sample - loss: 0.6647 - dense_4_loss: 0.3815 - dense_6_loss: 0.9508 - dense_4_accuracy: 0.8632 - dense_6_accuracy: 0.6642 - val_loss: 1.4414 - val_dense_4_loss: 0.8159 - val_dense_6_loss: 2.1064 - val_dense_4_accuracy: 0.7195 - val_dense_6_accuracy: 0.3707\n",
      "Epoch 24/50\n",
      "1638/1638 [==============================] - 5s 3ms/sample - loss: 0.6127 - dense_4_loss: 0.3567 - dense_6_loss: 0.8686 - dense_4_accuracy: 0.8742 - dense_6_accuracy: 0.6996 - val_loss: 1.4123 - val_dense_4_loss: 0.7882 - val_dense_6_loss: 2.0583 - val_dense_4_accuracy: 0.7439 - val_dense_6_accuracy: 0.3585\n",
      "Epoch 25/50\n",
      "1638/1638 [==============================] - 5s 3ms/sample - loss: 0.5502 - dense_4_loss: 0.3186 - dense_6_loss: 0.7884 - dense_4_accuracy: 0.8797 - dense_6_accuracy: 0.7326 - val_loss: 1.5132 - val_dense_4_loss: 0.7731 - val_dense_6_loss: 2.3103 - val_dense_4_accuracy: 0.7293 - val_dense_6_accuracy: 0.3585\n",
      "Epoch 26/50\n"
     ]
    },
    {
     "name": "stdout",
     "output_type": "stream",
     "text": [
      "1638/1638 [==============================] - 5s 3ms/sample - loss: 0.6105 - dense_4_loss: 0.3229 - dense_6_loss: 0.9037 - dense_4_accuracy: 0.8791 - dense_6_accuracy: 0.6801 - val_loss: 1.4393 - val_dense_4_loss: 0.7606 - val_dense_6_loss: 2.1250 - val_dense_4_accuracy: 0.7537 - val_dense_6_accuracy: 0.3756\n",
      "Epoch 27/50\n",
      "1638/1638 [==============================] - 5s 3ms/sample - loss: 0.5260 - dense_4_loss: 0.2800 - dense_6_loss: 0.7760 - dense_4_accuracy: 0.9035 - dense_6_accuracy: 0.7295 - val_loss: 1.4033 - val_dense_4_loss: 0.7276 - val_dense_6_loss: 2.1127 - val_dense_4_accuracy: 0.7415 - val_dense_6_accuracy: 0.3829\n",
      "Epoch 28/50\n",
      "1638/1638 [==============================] - 5s 3ms/sample - loss: 0.4735 - dense_4_loss: 0.2451 - dense_6_loss: 0.7006 - dense_4_accuracy: 0.9170 - dense_6_accuracy: 0.7576 - val_loss: 1.6257 - val_dense_4_loss: 0.7890 - val_dense_6_loss: 2.4828 - val_dense_4_accuracy: 0.7512 - val_dense_6_accuracy: 0.3732\n",
      "Epoch 29/50\n",
      "1638/1638 [==============================] - 5s 3ms/sample - loss: 0.4266 - dense_4_loss: 0.2633 - dense_6_loss: 0.5943 - dense_4_accuracy: 0.9054 - dense_6_accuracy: 0.8004 - val_loss: 1.7949 - val_dense_4_loss: 0.7926 - val_dense_6_loss: 2.9247 - val_dense_4_accuracy: 0.7512 - val_dense_6_accuracy: 0.3805\n",
      "Epoch 30/50\n",
      "1638/1638 [==============================] - 5s 3ms/sample - loss: 0.4119 - dense_4_loss: 0.2260 - dense_6_loss: 0.6086 - dense_4_accuracy: 0.9182 - dense_6_accuracy: 0.8010 - val_loss: 1.7934 - val_dense_4_loss: 0.7819 - val_dense_6_loss: 2.8605 - val_dense_4_accuracy: 0.7341 - val_dense_6_accuracy: 0.3780\n",
      "Epoch 31/50\n",
      "1638/1638 [==============================] - 5s 3ms/sample - loss: 0.3755 - dense_4_loss: 0.2211 - dense_6_loss: 0.5294 - dense_4_accuracy: 0.9200 - dense_6_accuracy: 0.8193 - val_loss: 1.7663 - val_dense_4_loss: 0.8206 - val_dense_6_loss: 2.7277 - val_dense_4_accuracy: 0.7415 - val_dense_6_accuracy: 0.3634\n",
      "Epoch 32/50\n",
      "1638/1638 [==============================] - 5s 3ms/sample - loss: 0.3575 - dense_4_loss: 0.2096 - dense_6_loss: 0.5050 - dense_4_accuracy: 0.9243 - dense_6_accuracy: 0.8217 - val_loss: 1.7886 - val_dense_4_loss: 0.8184 - val_dense_6_loss: 2.8769 - val_dense_4_accuracy: 0.7390 - val_dense_6_accuracy: 0.3780\n",
      "Epoch 33/50\n",
      "1638/1638 [==============================] - 5s 3ms/sample - loss: 0.3223 - dense_4_loss: 0.2012 - dense_6_loss: 0.4425 - dense_4_accuracy: 0.9353 - dense_6_accuracy: 0.8425 - val_loss: 1.6889 - val_dense_4_loss: 0.8102 - val_dense_6_loss: 2.6132 - val_dense_4_accuracy: 0.7610 - val_dense_6_accuracy: 0.3878\n",
      "Epoch 34/50\n",
      "1638/1638 [==============================] - 5s 3ms/sample - loss: 0.3206 - dense_4_loss: 0.2222 - dense_6_loss: 0.4189 - dense_4_accuracy: 0.9170 - dense_6_accuracy: 0.8614 - val_loss: 1.7917 - val_dense_4_loss: 0.7833 - val_dense_6_loss: 2.8578 - val_dense_4_accuracy: 0.7415 - val_dense_6_accuracy: 0.3634\n",
      "Epoch 35/50\n",
      "1638/1638 [==============================] - 5s 3ms/sample - loss: 0.2956 - dense_4_loss: 0.1758 - dense_6_loss: 0.4147 - dense_4_accuracy: 0.9444 - dense_6_accuracy: 0.8608 - val_loss: 1.8187 - val_dense_4_loss: 0.8006 - val_dense_6_loss: 2.9303 - val_dense_4_accuracy: 0.7341 - val_dense_6_accuracy: 0.3780\n",
      "Epoch 36/50\n",
      "1638/1638 [==============================] - 5s 3ms/sample - loss: 0.2432 - dense_4_loss: 0.1566 - dense_6_loss: 0.3340 - dense_4_accuracy: 0.9463 - dense_6_accuracy: 0.8889 - val_loss: 2.1023 - val_dense_4_loss: 0.8660 - val_dense_6_loss: 3.4516 - val_dense_4_accuracy: 0.7390 - val_dense_6_accuracy: 0.3634\n",
      "Epoch 37/50\n",
      "1638/1638 [==============================] - 5s 3ms/sample - loss: 0.2494 - dense_4_loss: 0.1705 - dense_6_loss: 0.3253 - dense_4_accuracy: 0.9414 - dense_6_accuracy: 0.8950 - val_loss: 2.0341 - val_dense_4_loss: 0.8128 - val_dense_6_loss: 3.3372 - val_dense_4_accuracy: 0.7561 - val_dense_6_accuracy: 0.3927\n",
      "Epoch 38/50\n",
      "1638/1638 [==============================] - 5s 3ms/sample - loss: 0.2681 - dense_4_loss: 0.1654 - dense_6_loss: 0.3737 - dense_4_accuracy: 0.9451 - dense_6_accuracy: 0.8675 - val_loss: 1.9006 - val_dense_4_loss: 0.8229 - val_dense_6_loss: 2.9939 - val_dense_4_accuracy: 0.7463 - val_dense_6_accuracy: 0.3585\n",
      "Epoch 39/50\n",
      "1638/1638 [==============================] - 5s 3ms/sample - loss: 0.2272 - dense_4_loss: 0.1672 - dense_6_loss: 0.2843 - dense_4_accuracy: 0.9426 - dense_6_accuracy: 0.9023 - val_loss: 1.9263 - val_dense_4_loss: 0.7663 - val_dense_6_loss: 3.1419 - val_dense_4_accuracy: 0.7341 - val_dense_6_accuracy: 0.3976\n",
      "Epoch 40/50\n",
      "1638/1638 [==============================] - 5s 3ms/sample - loss: 0.1821 - dense_4_loss: 0.1499 - dense_6_loss: 0.2107 - dense_4_accuracy: 0.9475 - dense_6_accuracy: 0.9335 - val_loss: 2.1568 - val_dense_4_loss: 0.8943 - val_dense_6_loss: 3.4587 - val_dense_4_accuracy: 0.7293 - val_dense_6_accuracy: 0.3902\n",
      "Epoch 41/50\n",
      "1638/1638 [==============================] - 5s 3ms/sample - loss: 0.2280 - dense_4_loss: 0.1786 - dense_6_loss: 0.2848 - dense_4_accuracy: 0.9316 - dense_6_accuracy: 0.9096 - val_loss: 2.0235 - val_dense_4_loss: 0.7675 - val_dense_6_loss: 3.2522 - val_dense_4_accuracy: 0.7463 - val_dense_6_accuracy: 0.3780\n",
      "Epoch 42/50\n",
      "1638/1638 [==============================] - 5s 3ms/sample - loss: 0.2112 - dense_4_loss: 0.1453 - dense_6_loss: 0.2753 - dense_4_accuracy: 0.9499 - dense_6_accuracy: 0.9042 - val_loss: 2.0171 - val_dense_4_loss: 0.7871 - val_dense_6_loss: 3.2191 - val_dense_4_accuracy: 0.7463 - val_dense_6_accuracy: 0.3805\n",
      "Epoch 43/50\n",
      "1638/1638 [==============================] - 5s 3ms/sample - loss: 0.1540 - dense_4_loss: 0.1077 - dense_6_loss: 0.2011 - dense_4_accuracy: 0.9621 - dense_6_accuracy: 0.9322 - val_loss: 2.2686 - val_dense_4_loss: 0.8102 - val_dense_6_loss: 3.7752 - val_dense_4_accuracy: 0.7415 - val_dense_6_accuracy: 0.3829\n",
      "Epoch 44/50\n",
      "1638/1638 [==============================] - 5s 3ms/sample - loss: 0.1522 - dense_4_loss: 0.1136 - dense_6_loss: 0.1902 - dense_4_accuracy: 0.9628 - dense_6_accuracy: 0.9371 - val_loss: 2.1788 - val_dense_4_loss: 0.8612 - val_dense_6_loss: 3.5379 - val_dense_4_accuracy: 0.7439 - val_dense_6_accuracy: 0.3659\n",
      "Epoch 45/50\n",
      "1638/1638 [==============================] - 5s 3ms/sample - loss: 0.1610 - dense_4_loss: 0.1144 - dense_6_loss: 0.2070 - dense_4_accuracy: 0.9621 - dense_6_accuracy: 0.9255 - val_loss: 2.3142 - val_dense_4_loss: 0.8295 - val_dense_6_loss: 3.8479 - val_dense_4_accuracy: 0.7659 - val_dense_6_accuracy: 0.3634\n",
      "Epoch 46/50\n",
      "1638/1638 [==============================] - 5s 3ms/sample - loss: 0.1602 - dense_4_loss: 0.0978 - dense_6_loss: 0.2217 - dense_4_accuracy: 0.9597 - dense_6_accuracy: 0.9237 - val_loss: 2.3342 - val_dense_4_loss: 0.8134 - val_dense_6_loss: 3.8639 - val_dense_4_accuracy: 0.7537 - val_dense_6_accuracy: 0.4073\n",
      "Epoch 47/50\n",
      "1638/1638 [==============================] - 5s 3ms/sample - loss: 0.1627 - dense_4_loss: 0.1035 - dense_6_loss: 0.2250 - dense_4_accuracy: 0.9634 - dense_6_accuracy: 0.9274 - val_loss: 2.2856 - val_dense_4_loss: 0.8790 - val_dense_6_loss: 3.7449 - val_dense_4_accuracy: 0.7366 - val_dense_6_accuracy: 0.3756\n",
      "Epoch 48/50\n",
      "1638/1638 [==============================] - 5s 3ms/sample - loss: 0.1629 - dense_4_loss: 0.0956 - dense_6_loss: 0.2288 - dense_4_accuracy: 0.9701 - dense_6_accuracy: 0.9261 - val_loss: 2.1503 - val_dense_4_loss: 0.7752 - val_dense_6_loss: 3.5859 - val_dense_4_accuracy: 0.7512 - val_dense_6_accuracy: 0.3854\n",
      "Epoch 49/50\n",
      "1638/1638 [==============================] - 5s 3ms/sample - loss: 0.1167 - dense_4_loss: 0.0928 - dense_6_loss: 0.1393 - dense_4_accuracy: 0.9658 - dense_6_accuracy: 0.9518 - val_loss: 2.2902 - val_dense_4_loss: 0.9078 - val_dense_6_loss: 3.7142 - val_dense_4_accuracy: 0.7512 - val_dense_6_accuracy: 0.3805\n",
      "Epoch 50/50\n",
      "1638/1638 [==============================] - 5s 3ms/sample - loss: 0.1008 - dense_4_loss: 0.0987 - dense_6_loss: 0.1029 - dense_4_accuracy: 0.9695 - dense_6_accuracy: 0.9719 - val_loss: 2.4046 - val_dense_4_loss: 0.8719 - val_dense_6_loss: 3.9738 - val_dense_4_accuracy: 0.7512 - val_dense_6_accuracy: 0.4171\n"
     ]
    }
   ],
   "source": [
    "model.compile(loss='categorical_crossentropy', optimizer='adam', loss_weights = [0.5, 0.5], metrics=['accuracy'])\n",
    "history = model.fit([x_train1, x_train2], [y_train1, y_train2], validation_data=([x_val1, x_val2], [y_val1, y_val2]), epochs=50, batch_size=64, verbose=1)"
   ]
  },
  {
   "cell_type": "code",
   "execution_count": 10,
   "metadata": {
    "ExecuteTime": {
     "end_time": "2020-08-17T08:02:19.148750Z",
     "start_time": "2020-08-17T08:02:00.165676Z"
    }
   },
   "outputs": [
    {
     "name": "stdout",
     "output_type": "stream",
     "text": [
      "[6 9 8 ... 6 1 0]\n",
      "[6 9 3 ... 6 1 5]\n"
     ]
    }
   ],
   "source": [
    "x_test1 = test.drop(['id', 'letter'], axis=1).values\n",
    "x_test1 = x_test1.reshape(-1, 28, 28, 1)\n",
    "x_test1 = x_test1/255\n",
    "\n",
    "x_test2 = test.drop(['id', 'letter'], axis=1).values\n",
    "x_test2 = x_test2.reshape(-1, 28, 28)\n",
    "x_test2 = x_test2/255\n",
    "\n",
    "#submission['digit'] = np.argmax(model.predict(x_test), axis=1)\n",
    "y_test1, y_test2 = model.predict([x_test1, x_test2])\n",
    "y_1 = np.argmax(y_test1, axis=1)\n",
    "y_2 = np.argmax(y_test2, axis=1)\n",
    "print(y_1)\n",
    "print(y_2)\n",
    "\n",
    "submission = pd.read_csv('data/submission.csv')\n",
    "submission['digit'] = y_1\n",
    "pd.to_csv('data/submission.csv', submission)"
   ]
  },
  {
   "cell_type": "code",
   "execution_count": 13,
   "metadata": {
    "ExecuteTime": {
     "end_time": "2020-08-17T08:51:04.809021Z",
     "start_time": "2020-08-17T08:51:04.776968Z"
    }
   },
   "outputs": [],
   "source": [
    "submission = pd.read_csv('data/submission.csv')\n",
    "submission['digit'] = y_1"
   ]
  },
  {
   "cell_type": "code",
   "execution_count": 17,
   "metadata": {
    "ExecuteTime": {
     "end_time": "2020-08-17T08:53:59.031902Z",
     "start_time": "2020-08-17T08:53:58.996855Z"
    }
   },
   "outputs": [],
   "source": [
    "submission.to_csv('data/submission1.csv', index=False)"
   ]
  },
  {
   "cell_type": "code",
   "execution_count": 12,
   "metadata": {
    "ExecuteTime": {
     "end_time": "2020-08-17T08:02:19.294794Z",
     "start_time": "2020-08-17T08:02:19.158757Z"
    }
   },
   "outputs": [
    {
     "data": {
      "image/png": "[encoded data removed]",
      "text/plain": [
       "<Figure size 432x288 with 1 Axes>"
      ]
     },
     "metadata": {
      "needs_background": "light"
     },
     "output_type": "display_data"
    }
   ],
   "source": [
    "idx = 1\n",
    "img = test.loc[idx, '0':].values.reshape(28, 28).astype(int)\n",
    "#digit = test.loc[idx, 'digit']\n",
    "letter = test.loc[idx, 'letter']\n",
    "\n",
    "plt.title('Index: %i, Letter: %s'%(idx, letter))\n",
    "plt.imshow(img)\n",
    "plt.show()"
   ]
  }
 ],
 "metadata": {
  "kernelspec": {
   "display_name": "Tensorflow",
   "language": "python",
   "name": "tensorflow"
  },
  "language_info": {
   "codemirror_mode": {
    "name": "ipython",
    "version": 3
   },
   "file_extension": ".py",
   "mimetype": "text/x-python",
   "name": "python",
   "nbconvert_exporter": "python",
   "pygments_lexer": "ipython3",
   "version": "3.7.6"
  }
 },
 "nbformat": 4,
 "nbformat_minor": 4
}
