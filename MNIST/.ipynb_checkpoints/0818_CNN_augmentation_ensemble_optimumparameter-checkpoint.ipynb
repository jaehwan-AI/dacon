{
 "cells": [
  {
   "cell_type": "code",
   "execution_count": 1,
   "metadata": {
    "ExecuteTime": {
     "end_time": "2020-08-18T05:56:47.547875Z",
     "start_time": "2020-08-18T05:56:44.775018Z"
    }
   },
   "outputs": [],
   "source": [
    "import pandas as pd\n",
    "import numpy as np\n",
    "import matplotlib.pyplot as plt\n",
    "import tensorflow as tf\n",
    "from sklearn.preprocessing import OneHotEncoder\n",
    "from sklearn.model_selection import train_test_split\n",
    "from tensorflow.keras.models import Model\n",
    "from tensorflow.keras.layers import Input, Conv2D, MaxPooling2D, Flatten, Dense, LSTM, concatenate, Dropout\n",
    "from tensorflow.keras.utils import plot_model\n",
    "from tensorflow.keras.wrappers.scikit_learn import KerasClassifier\n",
    "from sklearn.model_selection import RandomizedSearchCV\n",
    "from tensorflow.keras.preprocessing.image import ImageDataGenerator\n",
    "from tensorflow.keras.callbacks import ModelCheckpoint\n",
    "\n",
    "# seed\n",
    "import os\n",
    "seed = 123\n",
    "os.environ['PYTHONHASHSEED'] = str(seed)\n",
    "np.random.seed(seed)\n",
    "tf.random.set_seed(seed)"
   ]
  },
  {
   "cell_type": "code",
   "execution_count": 2,
   "metadata": {
    "ExecuteTime": {
     "end_time": "2020-08-18T05:56:48.515976Z",
     "start_time": "2020-08-18T05:56:47.549867Z"
    }
   },
   "outputs": [],
   "source": [
    "train = pd.read_csv('data/train.csv')\n",
    "test = pd.read_csv('data/test.csv')"
   ]
  },
  {
   "cell_type": "code",
   "execution_count": 3,
   "metadata": {
    "ExecuteTime": {
     "end_time": "2020-08-18T05:56:48.520573Z",
     "start_time": "2020-08-18T05:56:48.516904Z"
    }
   },
   "outputs": [],
   "source": [
    "image_generator = ImageDataGenerator(width_shift_range=0.2,\n",
    "                                     height_shift_range=0.2, \n",
    "                                     zoom_range=[0.75,1.25])\n",
    "                                     #brightness_range=[0.75,1.25], \n",
    "                                     #shear_range=20)"
   ]
  },
  {
   "cell_type": "code",
   "execution_count": 4,
   "metadata": {
    "ExecuteTime": {
     "end_time": "2020-08-18T05:56:49.292637Z",
     "start_time": "2020-08-18T05:56:48.521905Z"
    }
   },
   "outputs": [
    {
     "name": "stdout",
     "output_type": "stream",
     "text": [
      "(4096, 28, 28, 1)\n"
     ]
    }
   ],
   "source": [
    "x1 = train.drop(['id', 'digit', 'letter'], axis=1).values\n",
    "x1 = x1.reshape(-1, 28, 28, 1)\n",
    "x1 = x1/255\n",
    "x1_remake = []\n",
    "for i in range(x1.shape[0]):\n",
    "    num_aug = 0\n",
    "    tmp = x1[i]\n",
    "    tmp = tmp.reshape((1,) + tmp.shape)\n",
    "    for x_aug in image_generator.flow(tmp, batch_size = 1) :\n",
    "        if num_aug >= 1:\n",
    "            break\n",
    "        x1_remake.append(x_aug[0])\n",
    "        num_aug += 1\n",
    "x1_remake = np.array(x1_remake)\n",
    "\n",
    "x1_total = np.concatenate((x1, x1_remake), axis=0)\n",
    "print(x1_total.shape)"
   ]
  },
  {
   "cell_type": "code",
   "execution_count": 5,
   "metadata": {
    "ExecuteTime": {
     "end_time": "2020-08-18T05:56:49.302562Z",
     "start_time": "2020-08-18T05:56:49.294560Z"
    }
   },
   "outputs": [
    {
     "name": "stdout",
     "output_type": "stream",
     "text": [
      "(4096, 10)\n"
     ]
    }
   ],
   "source": [
    "y1_data = train['digit']\n",
    "y1 = np.zeros((len(y1_data), len(y1_data.unique())))\n",
    "for i, digit in enumerate(y1_data):\n",
    "    y1[i, digit] = 1\n",
    "\n",
    "y1_remake = y1.copy()\n",
    "y1_total = np.concatenate((y1, y1_remake), axis=0)\n",
    "print(y1_total.shape)"
   ]
  },
  {
   "cell_type": "code",
   "execution_count": 6,
   "metadata": {
    "ExecuteTime": {
     "end_time": "2020-08-18T05:56:49.326007Z",
     "start_time": "2020-08-18T05:56:49.305013Z"
    }
   },
   "outputs": [
    {
     "data": {
      "text/plain": [
       "(4096, 26)"
      ]
     },
     "execution_count": 6,
     "metadata": {},
     "output_type": "execute_result"
    }
   ],
   "source": [
    "x1_let = train['letter'].values\n",
    "x1_let = x1_let[:, np.newaxis]\n",
    "en = OneHotEncoder()\n",
    "x1_let = en.fit_transform(x1_let).toarray()\n",
    "\n",
    "x1_remake_let = x1_let.copy()\n",
    "\n",
    "x1_letter_total = np.concatenate((x1_let, x1_remake_let), axis=0)\n",
    "x1_letter_total.shape"
   ]
  },
  {
   "cell_type": "code",
   "execution_count": 7,
   "metadata": {
    "ExecuteTime": {
     "end_time": "2020-08-18T05:56:49.392015Z",
     "start_time": "2020-08-18T05:56:49.329010Z"
    }
   },
   "outputs": [
    {
     "name": "stdout",
     "output_type": "stream",
     "text": [
      "(3276, 28, 28, 1)\n",
      "(820, 28, 28, 1)\n",
      "(3276, 10)\n",
      "(820, 10)\n",
      "(3276, 26)\n",
      "(820, 26)\n"
     ]
    }
   ],
   "source": [
    "x1_train, x1_val, y1_train, y1_val = train_test_split(x1_total, y1_total, test_size=0.2, shuffle=True, stratify=y1_total)\n",
    "\n",
    "print(x1_train.shape)\n",
    "print(x1_val.shape)\n",
    "print(y1_train.shape)\n",
    "print(y1_val.shape)\n",
    "\n",
    "x1_letter_train = x1_letter_total[:x1_train.shape[0],:]\n",
    "x1_letter_val = x1_letter_total[x1_train.shape[0]:,:]\n",
    "print(x1_letter_train.shape)\n",
    "print(x1_letter_val.shape)"
   ]
  },
  {
   "cell_type": "code",
   "execution_count": 8,
   "metadata": {
    "ExecuteTime": {
     "end_time": "2020-08-18T05:56:49.402023Z",
     "start_time": "2020-08-18T05:56:49.394007Z"
    }
   },
   "outputs": [
    {
     "name": "stdout",
     "output_type": "stream",
     "text": [
      "(3276, 28, 28)\n",
      "(820, 28, 28)\n",
      "(3276, 10)\n",
      "(820, 10)\n",
      "(3276, 26)\n",
      "(820, 26)\n"
     ]
    }
   ],
   "source": [
    "x2_train = np.reshape(x1_train, (x1_train.shape[0], x1_train.shape[1], x1_train.shape[2]))\n",
    "x2_val = np.reshape(x1_val, (x1_val.shape[0], x1_val.shape[1], x1_val.shape[2]))\n",
    "y2_train = y1_train.copy()\n",
    "y2_val = y1_val.copy()\n",
    "x2_letter_train = x1_letter_train.copy()\n",
    "x2_letter_val = x1_letter_val.copy()\n",
    "\n",
    "print(x2_train.shape)\n",
    "print(x2_val.shape)\n",
    "print(y2_train.shape)\n",
    "print(y2_val.shape)\n",
    "print(x2_letter_train.shape)\n",
    "print(x2_letter_val.shape)"
   ]
  },
  {
   "cell_type": "code",
   "execution_count": 9,
   "metadata": {
    "ExecuteTime": {
     "end_time": "2020-08-18T05:56:50.013174Z",
     "start_time": "2020-08-18T05:56:49.404024Z"
    }
   },
   "outputs": [
    {
     "name": "stdout",
     "output_type": "stream",
     "text": [
      "Model: \"model\"\n",
      "__________________________________________________________________________________________________\n",
      "Layer (type)                    Output Shape         Param #     Connected to                     \n",
      "==================================================================================================\n",
      "input_1 (InputLayer)            [(None, 28, 28, 1)]  0                                            \n",
      "__________________________________________________________________________________________________\n",
      "conv2d (Conv2D)                 (None, 28, 28, 64)   640         input_1[0][0]                    \n",
      "__________________________________________________________________________________________________\n",
      "dropout (Dropout)               (None, 28, 28, 64)   0           conv2d[0][0]                     \n",
      "__________________________________________________________________________________________________\n",
      "max_pooling2d (MaxPooling2D)    (None, 14, 14, 64)   0           dropout[0][0]                    \n",
      "__________________________________________________________________________________________________\n",
      "conv2d_1 (Conv2D)               (None, 14, 14, 64)   16448       max_pooling2d[0][0]              \n",
      "__________________________________________________________________________________________________\n",
      "dropout_1 (Dropout)             (None, 14, 14, 64)   0           conv2d_1[0][0]                   \n",
      "__________________________________________________________________________________________________\n",
      "input_3 (InputLayer)            [(None, 28, 28)]     0                                            \n",
      "__________________________________________________________________________________________________\n",
      "max_pooling2d_1 (MaxPooling2D)  (None, 7, 7, 64)     0           dropout_1[0][0]                  \n",
      "__________________________________________________________________________________________________\n",
      "lstm (LSTM)                     (None, 28, 512)      1107968     input_3[0][0]                    \n",
      "__________________________________________________________________________________________________\n",
      "conv2d_2 (Conv2D)               (None, 7, 7, 128)    32896       max_pooling2d_1[0][0]            \n",
      "__________________________________________________________________________________________________\n",
      "dropout_4 (Dropout)             (None, 28, 512)      0           lstm[0][0]                       \n",
      "__________________________________________________________________________________________________\n",
      "dropout_2 (Dropout)             (None, 7, 7, 128)    0           conv2d_2[0][0]                   \n",
      "__________________________________________________________________________________________________\n",
      "lstm_1 (LSTM)                   (None, 28, 256)      787456      dropout_4[0][0]                  \n",
      "__________________________________________________________________________________________________\n",
      "max_pooling2d_2 (MaxPooling2D)  (None, 3, 3, 128)    0           dropout_2[0][0]                  \n",
      "__________________________________________________________________________________________________\n",
      "dropout_5 (Dropout)             (None, 28, 256)      0           lstm_1[0][0]                     \n",
      "__________________________________________________________________________________________________\n",
      "flatten (Flatten)               (None, 1152)         0           max_pooling2d_2[0][0]            \n",
      "__________________________________________________________________________________________________\n",
      "input_2 (InputLayer)            [(None, 26)]         0                                            \n",
      "__________________________________________________________________________________________________\n",
      "lstm_2 (LSTM)                   (None, 128)          197120      dropout_5[0][0]                  \n",
      "__________________________________________________________________________________________________\n",
      "concatenate (Concatenate)       (None, 1178)         0           flatten[0][0]                    \n",
      "                                                                 input_2[0][0]                    \n",
      "__________________________________________________________________________________________________\n",
      "dropout_6 (Dropout)             (None, 128)          0           lstm_2[0][0]                     \n",
      "__________________________________________________________________________________________________\n",
      "dense (Dense)                   (None, 500)          589500      concatenate[0][0]                \n",
      "__________________________________________________________________________________________________\n",
      "dense_2 (Dense)                 (None, 100)          12900       dropout_6[0][0]                  \n",
      "__________________________________________________________________________________________________\n",
      "input_4 (InputLayer)            [(None, 26)]         0                                            \n",
      "__________________________________________________________________________________________________\n",
      "dropout_3 (Dropout)             (None, 500)          0           dense[0][0]                      \n",
      "__________________________________________________________________________________________________\n",
      "concatenate_1 (Concatenate)     (None, 126)          0           dense_2[0][0]                    \n",
      "                                                                 input_4[0][0]                    \n",
      "__________________________________________________________________________________________________\n",
      "dense_1 (Dense)                 (None, 100)          50100       dropout_3[0][0]                  \n",
      "__________________________________________________________________________________________________\n",
      "dense_3 (Dense)                 (None, 100)          12700       concatenate_1[0][0]              \n",
      "__________________________________________________________________________________________________\n",
      "concatenate_2 (Concatenate)     (None, 200)          0           dense_1[0][0]                    \n",
      "                                                                 dense_3[0][0]                    \n",
      "__________________________________________________________________________________________________\n",
      "dense_4 (Dense)                 (None, 100)          20100       concatenate_2[0][0]              \n",
      "__________________________________________________________________________________________________\n",
      "dropout_7 (Dropout)             (None, 100)          0           dense_4[0][0]                    \n",
      "__________________________________________________________________________________________________\n",
      "dense_5 (Dense)                 (None, 50)           5050        dropout_7[0][0]                  \n",
      "__________________________________________________________________________________________________\n",
      "dropout_8 (Dropout)             (None, 50)           0           dense_5[0][0]                    \n",
      "__________________________________________________________________________________________________\n",
      "dense_7 (Dense)                 (None, 50)           2550        dropout_8[0][0]                  \n",
      "__________________________________________________________________________________________________\n",
      "dense_6 (Dense)                 (None, 10)           510         dropout_8[0][0]                  \n",
      "__________________________________________________________________________________________________\n",
      "dense_8 (Dense)                 (None, 10)           510         dense_7[0][0]                    \n",
      "==================================================================================================\n",
      "Total params: 2,836,448\n",
      "Trainable params: 2,836,448\n",
      "Non-trainable params: 0\n",
      "__________________________________________________________________________________________________\n"
     ]
    }
   ],
   "source": [
    "input1 = Input(shape=(28,28,1))\n",
    "x1 = Conv2D(64, (2,2), activation='relu', padding='same')(input1)\n",
    "x1 = Dropout(0.2)(x1)\n",
    "x1 = MaxPooling2D((2,2))(x1)\n",
    "x1 = Conv2D(64, (2,2), activation='relu', padding='same')(x1)\n",
    "x1 = Dropout(0.2)(x1)\n",
    "x1 = MaxPooling2D((2,2))(x1)\n",
    "x1 = Conv2D(128, (2,2), activation='relu', padding='same')(x1)\n",
    "x1 = Dropout(0.2)(x1)\n",
    "x1 = MaxPooling2D((2,2))(x1)\n",
    "x1 = Flatten()(x1)\n",
    "\n",
    "input2 = Input(shape=(26,))\n",
    "merge1 = concatenate([x1, input2])\n",
    "\n",
    "x2 = Dense(500, activation='relu')(merge1)\n",
    "x2 = Dropout(0.2)(x2)\n",
    "x2 = Dense(100, activation='relu')(x2)\n",
    "\n",
    "input3 = Input(shape=(28,28))\n",
    "x3 = LSTM(512, activation='relu', return_sequences=True)(input3)\n",
    "x3 = Dropout(0.2)(x3)\n",
    "x3 = LSTM(256, activation='relu', return_sequences=True)(x3)\n",
    "x3 = Dropout(0.2)(x3)\n",
    "x3 = LSTM(128, activation='relu')(x3)\n",
    "x3 = Dropout(0.2)(x3)\n",
    "x3 = Dense(100, activation='relu')(x3)\n",
    "\n",
    "input4 = Input(shape=(26,))\n",
    "merge2 = concatenate([x3, input4])\n",
    "\n",
    "x4 = Dense(100, activation='relu')(merge2)\n",
    "\n",
    "merge = concatenate([x2, x4])\n",
    "\n",
    "x5 = Dense(100, activation='relu')(merge)\n",
    "x5 = Dropout(0.2)(x5)\n",
    "x5 = Dense(50, activation='relu')(x5)\n",
    "\n",
    "x5 = Dropout(0.2)(x5)\n",
    "output1 = Dense(10, activation='softmax')(x5)\n",
    "\n",
    "x6 = Dense(50, activation='relu')(x5)\n",
    "output2 = Dense(10, activation='softmax')(x6)\n",
    "\n",
    "model = Model(inputs = [input1, input2, input3, input4], outputs = [output1, output2])\n",
    "model.summary()"
   ]
  },
  {
   "cell_type": "code",
   "execution_count": 13,
   "metadata": {
    "ExecuteTime": {
     "end_time": "2020-08-18T06:17:00.386190Z",
     "start_time": "2020-08-18T06:04:05.357234Z"
    }
   },
   "outputs": [
    {
     "name": "stdout",
     "output_type": "stream",
     "text": [
      "Train on 3276 samples, validate on 820 samples\n",
      "Epoch 1/50\n",
      "3264/3276 [============================>.] - ETA: 0s - loss: 2.2233 - dense_6_loss: 2.2115 - dense_8_loss: 2.2351 - dense_6_accuracy: 0.1789 - dense_8_accuracy: 0.1756\n",
      "Epoch 00001: dense_6_accuracy improved from -inf to 0.17918, saving model to ./models/01-0.1792.h5\n",
      "3276/3276 [==============================] - 34s 10ms/sample - loss: 2.2226 - dense_6_loss: 2.2066 - dense_8_loss: 2.2321 - dense_6_accuracy: 0.1792 - dense_8_accuracy: 0.1758 - val_loss: 2.2173 - val_dense_6_loss: 2.2061 - val_dense_8_loss: 2.2296 - val_dense_6_accuracy: 0.2061 - val_dense_8_accuracy: 0.2268\n",
      "Epoch 2/50\n",
      "3264/3276 [============================>.] - ETA: 0s - loss: 2.1332 - dense_6_loss: 2.1266 - dense_8_loss: 2.1397 - dense_6_accuracy: 0.2215 - dense_8_accuracy: 0.2089\n",
      "Epoch 00002: dense_6_accuracy improved from 0.17918 to 0.22131, saving model to ./models/02-0.2213.h5\n",
      "3276/3276 [==============================] - 31s 9ms/sample - loss: 2.1336 - dense_6_loss: 2.1297 - dense_8_loss: 2.1413 - dense_6_accuracy: 0.2213 - dense_8_accuracy: 0.2088 - val_loss: 2.2325 - val_dense_6_loss: 2.2289 - val_dense_8_loss: 2.2383 - val_dense_6_accuracy: 0.1866 - val_dense_8_accuracy: 0.1780\n",
      "Epoch 3/50\n",
      "3264/3276 [============================>.] - ETA: 0s - loss: 2.0615 - dense_6_loss: 2.0663 - dense_8_loss: 2.0567 - dense_6_accuracy: 0.2552 - dense_8_accuracy: 0.2583\n",
      "Epoch 00003: dense_6_accuracy improved from 0.22131 to 0.25519, saving model to ./models/03-0.2552.h5\n",
      "3276/3276 [==============================] - 32s 10ms/sample - loss: 2.0625 - dense_6_loss: 2.0720 - dense_8_loss: 2.0619 - dense_6_accuracy: 0.2552 - dense_8_accuracy: 0.2582 - val_loss: 2.0349 - val_dense_6_loss: 2.0334 - val_dense_8_loss: 2.0392 - val_dense_6_accuracy: 0.3341 - val_dense_8_accuracy: 0.3171\n",
      "Epoch 4/50\n",
      "3264/3276 [============================>.] - ETA: 0s - loss: 1.9188 - dense_6_loss: 1.9260 - dense_8_loss: 1.9116 - dense_6_accuracy: 0.3171 - dense_8_accuracy: 0.3146\n",
      "Epoch 00004: dense_6_accuracy improved from 0.25519 to 0.31685, saving model to ./models/04-0.3168.h5\n",
      "3276/3276 [==============================] - 33s 10ms/sample - loss: 1.9177 - dense_6_loss: 1.9196 - dense_8_loss: 1.9060 - dense_6_accuracy: 0.3168 - dense_8_accuracy: 0.3147 - val_loss: 2.0344 - val_dense_6_loss: 2.0322 - val_dense_8_loss: 2.0402 - val_dense_6_accuracy: 0.3073 - val_dense_8_accuracy: 0.2878\n",
      "Epoch 5/50\n",
      "3264/3276 [============================>.] - ETA: 0s - loss: 1.8278 - dense_6_loss: 1.8415 - dense_8_loss: 1.8141 - dense_6_accuracy: 0.3502 - dense_8_accuracy: 0.3523\n",
      "Epoch 00005: dense_6_accuracy improved from 0.31685 to 0.34982, saving model to ./models/05-0.3498.h5\n",
      "3276/3276 [==============================] - 33s 10ms/sample - loss: 1.8295 - dense_6_loss: 1.8506 - dense_8_loss: 1.8232 - dense_6_accuracy: 0.3498 - dense_8_accuracy: 0.3516 - val_loss: 1.8858 - val_dense_6_loss: 1.8914 - val_dense_8_loss: 1.8851 - val_dense_6_accuracy: 0.3634 - val_dense_8_accuracy: 0.3549\n",
      "Epoch 6/50\n",
      "3264/3276 [============================>.] - ETA: 0s - loss: 1.7354 - dense_6_loss: 1.7421 - dense_8_loss: 1.7288 - dense_6_accuracy: 0.4035 - dense_8_accuracy: 0.3848\n",
      "Epoch 00006: dense_6_accuracy improved from 0.34982 to 0.40354, saving model to ./models/06-0.4035.h5\n",
      "3276/3276 [==============================] - 36s 11ms/sample - loss: 1.7350 - dense_6_loss: 1.7402 - dense_8_loss: 1.7256 - dense_6_accuracy: 0.4035 - dense_8_accuracy: 0.3852 - val_loss: 1.9028 - val_dense_6_loss: 1.9005 - val_dense_8_loss: 1.9096 - val_dense_6_accuracy: 0.3610 - val_dense_8_accuracy: 0.3402\n",
      "Epoch 7/50\n",
      "3264/3276 [============================>.] - ETA: 0s - loss: 1.6196 - dense_6_loss: 1.6223 - dense_8_loss: 1.6169 - dense_6_accuracy: 0.4265 - dense_8_accuracy: 0.4323\n",
      "Epoch 00007: dense_6_accuracy improved from 0.40354 to 0.42521, saving model to ./models/07-0.4252.h5\n",
      "3276/3276 [==============================] - 35s 11ms/sample - loss: 1.6209 - dense_6_loss: 1.6299 - dense_8_loss: 1.6235 - dense_6_accuracy: 0.4252 - dense_8_accuracy: 0.4313 - val_loss: 1.6944 - val_dense_6_loss: 1.7046 - val_dense_8_loss: 1.6888 - val_dense_6_accuracy: 0.4305 - val_dense_8_accuracy: 0.4305\n",
      "Epoch 8/50\n",
      "3264/3276 [============================>.] - ETA: 0s - loss: 1.5502 - dense_6_loss: 1.5494 - dense_8_loss: 1.5510 - dense_6_accuracy: 0.4638 - dense_8_accuracy: 0.4556\n",
      "Epoch 00008: dense_6_accuracy improved from 0.42521 to 0.46398, saving model to ./models/08-0.4640.h5\n",
      "3276/3276 [==============================] - 37s 11ms/sample - loss: 1.5512 - dense_6_loss: 1.5570 - dense_8_loss: 1.5546 - dense_6_accuracy: 0.4640 - dense_8_accuracy: 0.4563 - val_loss: 1.7100 - val_dense_6_loss: 1.7114 - val_dense_8_loss: 1.7145 - val_dense_6_accuracy: 0.4183 - val_dense_8_accuracy: 0.4037\n",
      "Epoch 9/50\n",
      "3264/3276 [============================>.] - ETA: 0s - loss: 1.4760 - dense_6_loss: 1.4813 - dense_8_loss: 1.4708 - dense_6_accuracy: 0.4865 - dense_8_accuracy: 0.4936\n",
      "Epoch 00009: dense_6_accuracy improved from 0.46398 to 0.48565, saving model to ./models/09-0.4857.h5\n",
      "3276/3276 [==============================] - 35s 11ms/sample - loss: 1.4781 - dense_6_loss: 1.4917 - dense_8_loss: 1.4816 - dense_6_accuracy: 0.4857 - dense_8_accuracy: 0.4930 - val_loss: 1.7257 - val_dense_6_loss: 1.7306 - val_dense_8_loss: 1.7255 - val_dense_6_accuracy: 0.4159 - val_dense_8_accuracy: 0.4122\n",
      "Epoch 10/50\n",
      "3264/3276 [============================>.] - ETA: 0s - loss: 1.3843 - dense_6_loss: 1.3852 - dense_8_loss: 1.3834 - dense_6_accuracy: 0.5126 - dense_8_accuracy: 0.5159\n",
      "Epoch 00010: dense_6_accuracy improved from 0.48565 to 0.51313, saving model to ./models/10-0.5131.h5\n",
      "3276/3276 [==============================] - 38s 12ms/sample - loss: 1.3837 - dense_6_loss: 1.3815 - dense_8_loss: 1.3811 - dense_6_accuracy: 0.5131 - dense_8_accuracy: 0.5162 - val_loss: 1.5856 - val_dense_6_loss: 1.5871 - val_dense_8_loss: 1.5892 - val_dense_6_accuracy: 0.5049 - val_dense_8_accuracy: 0.4768\n",
      "Epoch 11/50\n",
      "3264/3276 [============================>.] - ETA: 0s - loss: 1.3292 - dense_6_loss: 1.3271 - dense_8_loss: 1.3313 - dense_6_accuracy: 0.5444 - dense_8_accuracy: 0.5432\n",
      "Epoch 00011: dense_6_accuracy improved from 0.51313 to 0.54426, saving model to ./models/11-0.5443.h5\n",
      "3276/3276 [==============================] - 33s 10ms/sample - loss: 1.3304 - dense_6_loss: 1.3335 - dense_8_loss: 1.3374 - dense_6_accuracy: 0.5443 - dense_8_accuracy: 0.5430 - val_loss: 1.5158 - val_dense_6_loss: 1.5274 - val_dense_8_loss: 1.5109 - val_dense_6_accuracy: 0.5171 - val_dense_8_accuracy: 0.5195\n",
      "Epoch 12/50\n",
      "3264/3276 [============================>.] - ETA: 0s - loss: 1.2446 - dense_6_loss: 1.2439 - dense_8_loss: 1.2453 - dense_6_accuracy: 0.5772 - dense_8_accuracy: 0.5836\n",
      "Epoch 00012: dense_6_accuracy improved from 0.54426 to 0.57784, saving model to ./models/12-0.5778.h5\n",
      "3276/3276 [==============================] - 35s 11ms/sample - loss: 1.2441 - dense_6_loss: 1.2415 - dense_8_loss: 1.2422 - dense_6_accuracy: 0.5778 - dense_8_accuracy: 0.5842 - val_loss: 1.4308 - val_dense_6_loss: 1.4392 - val_dense_8_loss: 1.4300 - val_dense_6_accuracy: 0.5305 - val_dense_8_accuracy: 0.5317\n",
      "Epoch 13/50\n",
      "3264/3276 [============================>.] - ETA: 0s - loss: 1.1689 - dense_6_loss: 1.1657 - dense_8_loss: 1.1721 - dense_6_accuracy: 0.6161 - dense_8_accuracy: 0.6094\n",
      "Epoch 00013: dense_6_accuracy improved from 0.57784 to 0.61661, saving model to ./models/13-0.6166.h5\n",
      "3276/3276 [==============================] - 36s 11ms/sample - loss: 1.1676 - dense_6_loss: 1.1585 - dense_8_loss: 1.1658 - dense_6_accuracy: 0.6166 - dense_8_accuracy: 0.6096 - val_loss: 1.4727 - val_dense_6_loss: 1.4797 - val_dense_8_loss: 1.4713 - val_dense_6_accuracy: 0.5195 - val_dense_8_accuracy: 0.5183\n",
      "Epoch 14/50\n",
      "3264/3276 [============================>.] - ETA: 0s - loss: 1.0959 - dense_6_loss: 1.0935 - dense_8_loss: 1.0983 - dense_6_accuracy: 0.6336 - dense_8_accuracy: 0.6278\n",
      "Epoch 00014: dense_6_accuracy improved from 0.61661 to 0.63278, saving model to ./models/14-0.6328.h5\n",
      "3276/3276 [==============================] - 34s 10ms/sample - loss: 1.0968 - dense_6_loss: 1.0986 - dense_8_loss: 1.1026 - dense_6_accuracy: 0.6328 - dense_8_accuracy: 0.6273 - val_loss: 1.4256 - val_dense_6_loss: 1.4356 - val_dense_8_loss: 1.4230 - val_dense_6_accuracy: 0.5329 - val_dense_8_accuracy: 0.5256\n"
     ]
    },
    {
     "name": "stdout",
     "output_type": "stream",
     "text": [
      "Epoch 15/50\n",
      "3264/3276 [============================>.] - ETA: 0s - loss: 1.0462 - dense_6_loss: 1.0466 - dense_8_loss: 1.0459 - dense_6_accuracy: 0.6621 - dense_8_accuracy: 0.6627\n",
      "Epoch 00015: dense_6_accuracy improved from 0.63278 to 0.66239, saving model to ./models/15-0.6624.h5\n",
      "3276/3276 [==============================] - 35s 11ms/sample - loss: 1.0465 - dense_6_loss: 1.0471 - dense_8_loss: 1.0476 - dense_6_accuracy: 0.6624 - dense_8_accuracy: 0.6630 - val_loss: 1.3633 - val_dense_6_loss: 1.3718 - val_dense_8_loss: 1.3629 - val_dense_6_accuracy: 0.5549 - val_dense_8_accuracy: 0.5549\n",
      "Epoch 16/50\n",
      "3264/3276 [============================>.] - ETA: 0s - loss: 0.9724 - dense_6_loss: 0.9702 - dense_8_loss: 0.9746 - dense_6_accuracy: 0.6795 - dense_8_accuracy: 0.6817\n",
      "Epoch 00016: dense_6_accuracy improved from 0.66239 to 0.68010, saving model to ./models/16-0.6801.h5\n",
      "3276/3276 [==============================] - 32s 10ms/sample - loss: 0.9717 - dense_6_loss: 0.9666 - dense_8_loss: 0.9715 - dense_6_accuracy: 0.6801 - dense_8_accuracy: 0.6822 - val_loss: 1.4806 - val_dense_6_loss: 1.4795 - val_dense_8_loss: 1.4887 - val_dense_6_accuracy: 0.5280 - val_dense_8_accuracy: 0.5195\n",
      "Epoch 17/50\n",
      "3264/3276 [============================>.] - ETA: 0s - loss: 0.9399 - dense_6_loss: 0.9399 - dense_8_loss: 0.9400 - dense_6_accuracy: 0.6850 - dense_8_accuracy: 0.6823\n",
      "Epoch 00017: dense_6_accuracy improved from 0.68010 to 0.68529, saving model to ./models/17-0.6853.h5\n",
      "3276/3276 [==============================] - 32s 10ms/sample - loss: 0.9389 - dense_6_loss: 0.9338 - dense_8_loss: 0.9350 - dense_6_accuracy: 0.6853 - dense_8_accuracy: 0.6822 - val_loss: 1.2200 - val_dense_6_loss: 1.2233 - val_dense_8_loss: 1.2207 - val_dense_6_accuracy: 0.6085 - val_dense_8_accuracy: 0.5988\n",
      "Epoch 18/50\n",
      "3264/3276 [============================>.] - ETA: 0s - loss: 0.8640 - dense_6_loss: 0.8672 - dense_8_loss: 0.8609 - dense_6_accuracy: 0.7224 - dense_8_accuracy: 0.7206\n",
      "Epoch 00018: dense_6_accuracy improved from 0.68529 to 0.72161, saving model to ./models/18-0.7216.h5\n",
      "3276/3276 [==============================] - 33s 10ms/sample - loss: 0.8659 - dense_6_loss: 0.8763 - dense_8_loss: 0.8713 - dense_6_accuracy: 0.7216 - dense_8_accuracy: 0.7198 - val_loss: 1.3538 - val_dense_6_loss: 1.3557 - val_dense_8_loss: 1.3588 - val_dense_6_accuracy: 0.5488 - val_dense_8_accuracy: 0.5451\n",
      "Epoch 19/50\n",
      "3264/3276 [============================>.] - ETA: 0s - loss: 0.8581 - dense_6_loss: 0.8584 - dense_8_loss: 0.8579 - dense_6_accuracy: 0.7209 - dense_8_accuracy: 0.7212\n",
      "Epoch 00019: dense_6_accuracy did not improve from 0.72161\n",
      "3276/3276 [==============================] - 34s 10ms/sample - loss: 0.8573 - dense_6_loss: 0.8537 - dense_8_loss: 0.8538 - dense_6_accuracy: 0.7210 - dense_8_accuracy: 0.7213 - val_loss: 1.2677 - val_dense_6_loss: 1.2692 - val_dense_8_loss: 1.2713 - val_dense_6_accuracy: 0.5780 - val_dense_8_accuracy: 0.5817\n",
      "Epoch 20/50\n",
      "3264/3276 [============================>.] - ETA: 0s - loss: 0.8110 - dense_6_loss: 0.8109 - dense_8_loss: 0.8112 - dense_6_accuracy: 0.7442 - dense_8_accuracy: 0.7411\n",
      "Epoch 00020: dense_6_accuracy improved from 0.72161 to 0.74451, saving model to ./models/20-0.7445.h5\n",
      "3276/3276 [==============================] - 33s 10ms/sample - loss: 0.8099 - dense_6_loss: 0.8056 - dense_8_loss: 0.8043 - dense_6_accuracy: 0.7445 - dense_8_accuracy: 0.7415 - val_loss: 1.2390 - val_dense_6_loss: 1.2330 - val_dense_8_loss: 1.2523 - val_dense_6_accuracy: 0.5841 - val_dense_8_accuracy: 0.5841\n",
      "Epoch 21/50\n",
      "3264/3276 [============================>.] - ETA: 0s - loss: 0.7728 - dense_6_loss: 0.7665 - dense_8_loss: 0.7790 - dense_6_accuracy: 0.7570 - dense_8_accuracy: 0.7482\n",
      "Epoch 00021: dense_6_accuracy improved from 0.74451 to 0.75763, saving model to ./models/21-0.7576.h5\n",
      "3276/3276 [==============================] - 33s 10ms/sample - loss: 0.7716 - dense_6_loss: 0.7612 - dense_8_loss: 0.7724 - dense_6_accuracy: 0.7576 - dense_8_accuracy: 0.7488 - val_loss: 1.1702 - val_dense_6_loss: 1.1736 - val_dense_8_loss: 1.1758 - val_dense_6_accuracy: 0.6256 - val_dense_8_accuracy: 0.6232\n",
      "Epoch 22/50\n",
      "3264/3276 [============================>.] - ETA: 0s - loss: 0.6926 - dense_6_loss: 0.6913 - dense_8_loss: 0.6939 - dense_6_accuracy: 0.7770 - dense_8_accuracy: 0.7739\n",
      "Epoch 00022: dense_6_accuracy improved from 0.75763 to 0.77656, saving model to ./models/22-0.7766.h5\n",
      "3276/3276 [==============================] - 33s 10ms/sample - loss: 0.6935 - dense_6_loss: 0.6951 - dense_8_loss: 0.6997 - dense_6_accuracy: 0.7766 - dense_8_accuracy: 0.7735 - val_loss: 1.1741 - val_dense_6_loss: 1.1727 - val_dense_8_loss: 1.1813 - val_dense_6_accuracy: 0.6195 - val_dense_8_accuracy: 0.6195\n",
      "Epoch 23/50\n",
      "2944/3276 [=========================>....] - ETA: 3s - loss: 0.6701 - dense_6_loss: 0.6658 - dense_8_loss: 0.6745 - dense_6_accuracy: 0.7847 - dense_8_accuracy: 0.7809\n",
      "Epoch 00023: dense_6_accuracy improved from 0.77656 to 0.78472, saving model to ./models/23-0.7847.h5\n",
      "2944/3276 [=========================>....] - ETA: 3s - loss: 0.6701 - dense_6_loss: 0.6658 - dense_8_loss: 0.6745 - dense_6_accuracy: 0.7847 - dense_8_accuracy: 0.7809"
     ]
    },
    {
     "ename": "KeyboardInterrupt",
     "evalue": "",
     "output_type": "error",
     "traceback": [
      "\u001b[1;31m---------------------------------------------------------------------------\u001b[0m",
      "\u001b[1;31mKeyboardInterrupt\u001b[0m                         Traceback (most recent call last)",
      "\u001b[1;32m<ipython-input-13-f579d5deb9ec>\u001b[0m in \u001b[0;36m<module>\u001b[1;34m\u001b[0m\n\u001b[0;32m      5\u001b[0m                     \u001b[0mbatch_size\u001b[0m\u001b[1;33m=\u001b[0m\u001b[1;36m64\u001b[0m\u001b[1;33m,\u001b[0m \u001b[0mepochs\u001b[0m\u001b[1;33m=\u001b[0m\u001b[1;36m50\u001b[0m\u001b[1;33m,\u001b[0m \u001b[0mverbose\u001b[0m\u001b[1;33m=\u001b[0m\u001b[1;36m1\u001b[0m\u001b[1;33m,\u001b[0m\u001b[1;33m\u001b[0m\u001b[1;33m\u001b[0m\u001b[0m\n\u001b[0;32m      6\u001b[0m                     callbacks = [ModelCheckpoint('./models/{epoch:02d}-{dense_6_accuracy:.4f}.h5',\n\u001b[1;32m----> 7\u001b[1;33m                     monitor='dense_6_accuracy', verbose=1, save_best_only=True, mode='auto')])\n\u001b[0m",
      "\u001b[1;32m~\\venv\\lib\\site-packages\\tensorflow_core\\python\\keras\\engine\\training.py\u001b[0m in \u001b[0;36mfit\u001b[1;34m(self, x, y, batch_size, epochs, verbose, callbacks, validation_split, validation_data, shuffle, class_weight, sample_weight, initial_epoch, steps_per_epoch, validation_steps, validation_freq, max_queue_size, workers, use_multiprocessing, **kwargs)\u001b[0m\n\u001b[0;32m    726\u001b[0m         \u001b[0mmax_queue_size\u001b[0m\u001b[1;33m=\u001b[0m\u001b[0mmax_queue_size\u001b[0m\u001b[1;33m,\u001b[0m\u001b[1;33m\u001b[0m\u001b[1;33m\u001b[0m\u001b[0m\n\u001b[0;32m    727\u001b[0m         \u001b[0mworkers\u001b[0m\u001b[1;33m=\u001b[0m\u001b[0mworkers\u001b[0m\u001b[1;33m,\u001b[0m\u001b[1;33m\u001b[0m\u001b[1;33m\u001b[0m\u001b[0m\n\u001b[1;32m--> 728\u001b[1;33m         use_multiprocessing=use_multiprocessing)\n\u001b[0m\u001b[0;32m    729\u001b[0m \u001b[1;33m\u001b[0m\u001b[0m\n\u001b[0;32m    730\u001b[0m   def evaluate(self,\n",
      "\u001b[1;32m~\\venv\\lib\\site-packages\\tensorflow_core\\python\\keras\\engine\\training_v2.py\u001b[0m in \u001b[0;36mfit\u001b[1;34m(self, model, x, y, batch_size, epochs, verbose, callbacks, validation_split, validation_data, shuffle, class_weight, sample_weight, initial_epoch, steps_per_epoch, validation_steps, validation_freq, **kwargs)\u001b[0m\n\u001b[0;32m    322\u001b[0m                 \u001b[0mmode\u001b[0m\u001b[1;33m=\u001b[0m\u001b[0mModeKeys\u001b[0m\u001b[1;33m.\u001b[0m\u001b[0mTRAIN\u001b[0m\u001b[1;33m,\u001b[0m\u001b[1;33m\u001b[0m\u001b[1;33m\u001b[0m\u001b[0m\n\u001b[0;32m    323\u001b[0m                 \u001b[0mtraining_context\u001b[0m\u001b[1;33m=\u001b[0m\u001b[0mtraining_context\u001b[0m\u001b[1;33m,\u001b[0m\u001b[1;33m\u001b[0m\u001b[1;33m\u001b[0m\u001b[0m\n\u001b[1;32m--> 324\u001b[1;33m                 total_epochs=epochs)\n\u001b[0m\u001b[0;32m    325\u001b[0m             \u001b[0mcbks\u001b[0m\u001b[1;33m.\u001b[0m\u001b[0mmake_logs\u001b[0m\u001b[1;33m(\u001b[0m\u001b[0mmodel\u001b[0m\u001b[1;33m,\u001b[0m \u001b[0mepoch_logs\u001b[0m\u001b[1;33m,\u001b[0m \u001b[0mtraining_result\u001b[0m\u001b[1;33m,\u001b[0m \u001b[0mModeKeys\u001b[0m\u001b[1;33m.\u001b[0m\u001b[0mTRAIN\u001b[0m\u001b[1;33m)\u001b[0m\u001b[1;33m\u001b[0m\u001b[1;33m\u001b[0m\u001b[0m\n\u001b[0;32m    326\u001b[0m \u001b[1;33m\u001b[0m\u001b[0m\n",
      "\u001b[1;32m~\\venv\\lib\\site-packages\\tensorflow_core\\python\\keras\\engine\\training_v2.py\u001b[0m in \u001b[0;36mrun_one_epoch\u001b[1;34m(model, iterator, execution_function, dataset_size, batch_size, strategy, steps_per_epoch, num_samples, mode, training_context, total_epochs)\u001b[0m\n\u001b[0;32m    121\u001b[0m         step=step, mode=mode, size=current_batch_size) as batch_logs:\n\u001b[0;32m    122\u001b[0m       \u001b[1;32mtry\u001b[0m\u001b[1;33m:\u001b[0m\u001b[1;33m\u001b[0m\u001b[1;33m\u001b[0m\u001b[0m\n\u001b[1;32m--> 123\u001b[1;33m         \u001b[0mbatch_outs\u001b[0m \u001b[1;33m=\u001b[0m \u001b[0mexecution_function\u001b[0m\u001b[1;33m(\u001b[0m\u001b[0miterator\u001b[0m\u001b[1;33m)\u001b[0m\u001b[1;33m\u001b[0m\u001b[1;33m\u001b[0m\u001b[0m\n\u001b[0m\u001b[0;32m    124\u001b[0m       \u001b[1;32mexcept\u001b[0m \u001b[1;33m(\u001b[0m\u001b[0mStopIteration\u001b[0m\u001b[1;33m,\u001b[0m \u001b[0merrors\u001b[0m\u001b[1;33m.\u001b[0m\u001b[0mOutOfRangeError\u001b[0m\u001b[1;33m)\u001b[0m\u001b[1;33m:\u001b[0m\u001b[1;33m\u001b[0m\u001b[1;33m\u001b[0m\u001b[0m\n\u001b[0;32m    125\u001b[0m         \u001b[1;31m# TODO(kaftan): File bug about tf function and errors.OutOfRangeError?\u001b[0m\u001b[1;33m\u001b[0m\u001b[1;33m\u001b[0m\u001b[1;33m\u001b[0m\u001b[0m\n",
      "\u001b[1;32m~\\venv\\lib\\site-packages\\tensorflow_core\\python\\keras\\engine\\training_v2_utils.py\u001b[0m in \u001b[0;36mexecution_function\u001b[1;34m(input_fn)\u001b[0m\n\u001b[0;32m     84\u001b[0m     \u001b[1;31m# `numpy` translates Tensors to values in Eager mode.\u001b[0m\u001b[1;33m\u001b[0m\u001b[1;33m\u001b[0m\u001b[1;33m\u001b[0m\u001b[0m\n\u001b[0;32m     85\u001b[0m     return nest.map_structure(_non_none_constant_value,\n\u001b[1;32m---> 86\u001b[1;33m                               distributed_function(input_fn))\n\u001b[0m\u001b[0;32m     87\u001b[0m \u001b[1;33m\u001b[0m\u001b[0m\n\u001b[0;32m     88\u001b[0m   \u001b[1;32mreturn\u001b[0m \u001b[0mexecution_function\u001b[0m\u001b[1;33m\u001b[0m\u001b[1;33m\u001b[0m\u001b[0m\n",
      "\u001b[1;32m~\\venv\\lib\\site-packages\\tensorflow_core\\python\\eager\\def_function.py\u001b[0m in \u001b[0;36m__call__\u001b[1;34m(self, *args, **kwds)\u001b[0m\n\u001b[0;32m    455\u001b[0m \u001b[1;33m\u001b[0m\u001b[0m\n\u001b[0;32m    456\u001b[0m     \u001b[0mtracing_count\u001b[0m \u001b[1;33m=\u001b[0m \u001b[0mself\u001b[0m\u001b[1;33m.\u001b[0m\u001b[0m_get_tracing_count\u001b[0m\u001b[1;33m(\u001b[0m\u001b[1;33m)\u001b[0m\u001b[1;33m\u001b[0m\u001b[1;33m\u001b[0m\u001b[0m\n\u001b[1;32m--> 457\u001b[1;33m     \u001b[0mresult\u001b[0m \u001b[1;33m=\u001b[0m \u001b[0mself\u001b[0m\u001b[1;33m.\u001b[0m\u001b[0m_call\u001b[0m\u001b[1;33m(\u001b[0m\u001b[1;33m*\u001b[0m\u001b[0margs\u001b[0m\u001b[1;33m,\u001b[0m \u001b[1;33m**\u001b[0m\u001b[0mkwds\u001b[0m\u001b[1;33m)\u001b[0m\u001b[1;33m\u001b[0m\u001b[1;33m\u001b[0m\u001b[0m\n\u001b[0m\u001b[0;32m    458\u001b[0m     \u001b[1;32mif\u001b[0m \u001b[0mtracing_count\u001b[0m \u001b[1;33m==\u001b[0m \u001b[0mself\u001b[0m\u001b[1;33m.\u001b[0m\u001b[0m_get_tracing_count\u001b[0m\u001b[1;33m(\u001b[0m\u001b[1;33m)\u001b[0m\u001b[1;33m:\u001b[0m\u001b[1;33m\u001b[0m\u001b[1;33m\u001b[0m\u001b[0m\n\u001b[0;32m    459\u001b[0m       \u001b[0mself\u001b[0m\u001b[1;33m.\u001b[0m\u001b[0m_call_counter\u001b[0m\u001b[1;33m.\u001b[0m\u001b[0mcalled_without_tracing\u001b[0m\u001b[1;33m(\u001b[0m\u001b[1;33m)\u001b[0m\u001b[1;33m\u001b[0m\u001b[1;33m\u001b[0m\u001b[0m\n",
      "\u001b[1;32m~\\venv\\lib\\site-packages\\tensorflow_core\\python\\eager\\def_function.py\u001b[0m in \u001b[0;36m_call\u001b[1;34m(self, *args, **kwds)\u001b[0m\n\u001b[0;32m    485\u001b[0m       \u001b[1;31m# In this case we have created variables on the first call, so we run the\u001b[0m\u001b[1;33m\u001b[0m\u001b[1;33m\u001b[0m\u001b[1;33m\u001b[0m\u001b[0m\n\u001b[0;32m    486\u001b[0m       \u001b[1;31m# defunned version which is guaranteed to never create variables.\u001b[0m\u001b[1;33m\u001b[0m\u001b[1;33m\u001b[0m\u001b[1;33m\u001b[0m\u001b[0m\n\u001b[1;32m--> 487\u001b[1;33m       \u001b[1;32mreturn\u001b[0m \u001b[0mself\u001b[0m\u001b[1;33m.\u001b[0m\u001b[0m_stateless_fn\u001b[0m\u001b[1;33m(\u001b[0m\u001b[1;33m*\u001b[0m\u001b[0margs\u001b[0m\u001b[1;33m,\u001b[0m \u001b[1;33m**\u001b[0m\u001b[0mkwds\u001b[0m\u001b[1;33m)\u001b[0m  \u001b[1;31m# pylint: disable=not-callable\u001b[0m\u001b[1;33m\u001b[0m\u001b[1;33m\u001b[0m\u001b[0m\n\u001b[0m\u001b[0;32m    488\u001b[0m     \u001b[1;32melif\u001b[0m \u001b[0mself\u001b[0m\u001b[1;33m.\u001b[0m\u001b[0m_stateful_fn\u001b[0m \u001b[1;32mis\u001b[0m \u001b[1;32mnot\u001b[0m \u001b[1;32mNone\u001b[0m\u001b[1;33m:\u001b[0m\u001b[1;33m\u001b[0m\u001b[1;33m\u001b[0m\u001b[0m\n\u001b[0;32m    489\u001b[0m       \u001b[1;31m# Release the lock early so that multiple threads can perform the call\u001b[0m\u001b[1;33m\u001b[0m\u001b[1;33m\u001b[0m\u001b[1;33m\u001b[0m\u001b[0m\n",
      "\u001b[1;32m~\\venv\\lib\\site-packages\\tensorflow_core\\python\\eager\\function.py\u001b[0m in \u001b[0;36m__call__\u001b[1;34m(self, *args, **kwargs)\u001b[0m\n\u001b[0;32m   1821\u001b[0m     \u001b[1;34m\"\"\"Calls a graph function specialized to the inputs.\"\"\"\u001b[0m\u001b[1;33m\u001b[0m\u001b[1;33m\u001b[0m\u001b[0m\n\u001b[0;32m   1822\u001b[0m     \u001b[0mgraph_function\u001b[0m\u001b[1;33m,\u001b[0m \u001b[0margs\u001b[0m\u001b[1;33m,\u001b[0m \u001b[0mkwargs\u001b[0m \u001b[1;33m=\u001b[0m \u001b[0mself\u001b[0m\u001b[1;33m.\u001b[0m\u001b[0m_maybe_define_function\u001b[0m\u001b[1;33m(\u001b[0m\u001b[0margs\u001b[0m\u001b[1;33m,\u001b[0m \u001b[0mkwargs\u001b[0m\u001b[1;33m)\u001b[0m\u001b[1;33m\u001b[0m\u001b[1;33m\u001b[0m\u001b[0m\n\u001b[1;32m-> 1823\u001b[1;33m     \u001b[1;32mreturn\u001b[0m \u001b[0mgraph_function\u001b[0m\u001b[1;33m.\u001b[0m\u001b[0m_filtered_call\u001b[0m\u001b[1;33m(\u001b[0m\u001b[0margs\u001b[0m\u001b[1;33m,\u001b[0m \u001b[0mkwargs\u001b[0m\u001b[1;33m)\u001b[0m  \u001b[1;31m# pylint: disable=protected-access\u001b[0m\u001b[1;33m\u001b[0m\u001b[1;33m\u001b[0m\u001b[0m\n\u001b[0m\u001b[0;32m   1824\u001b[0m \u001b[1;33m\u001b[0m\u001b[0m\n\u001b[0;32m   1825\u001b[0m   \u001b[1;33m@\u001b[0m\u001b[0mproperty\u001b[0m\u001b[1;33m\u001b[0m\u001b[1;33m\u001b[0m\u001b[0m\n",
      "\u001b[1;32m~\\venv\\lib\\site-packages\\tensorflow_core\\python\\eager\\function.py\u001b[0m in \u001b[0;36m_filtered_call\u001b[1;34m(self, args, kwargs)\u001b[0m\n\u001b[0;32m   1139\u001b[0m          if isinstance(t, (ops.Tensor,\n\u001b[0;32m   1140\u001b[0m                            resource_variable_ops.BaseResourceVariable))),\n\u001b[1;32m-> 1141\u001b[1;33m         self.captured_inputs)\n\u001b[0m\u001b[0;32m   1142\u001b[0m \u001b[1;33m\u001b[0m\u001b[0m\n\u001b[0;32m   1143\u001b[0m   \u001b[1;32mdef\u001b[0m \u001b[0m_call_flat\u001b[0m\u001b[1;33m(\u001b[0m\u001b[0mself\u001b[0m\u001b[1;33m,\u001b[0m \u001b[0margs\u001b[0m\u001b[1;33m,\u001b[0m \u001b[0mcaptured_inputs\u001b[0m\u001b[1;33m,\u001b[0m \u001b[0mcancellation_manager\u001b[0m\u001b[1;33m=\u001b[0m\u001b[1;32mNone\u001b[0m\u001b[1;33m)\u001b[0m\u001b[1;33m:\u001b[0m\u001b[1;33m\u001b[0m\u001b[1;33m\u001b[0m\u001b[0m\n",
      "\u001b[1;32m~\\venv\\lib\\site-packages\\tensorflow_core\\python\\eager\\function.py\u001b[0m in \u001b[0;36m_call_flat\u001b[1;34m(self, args, captured_inputs, cancellation_manager)\u001b[0m\n\u001b[0;32m   1222\u001b[0m     \u001b[1;32mif\u001b[0m \u001b[0mexecuting_eagerly\u001b[0m\u001b[1;33m:\u001b[0m\u001b[1;33m\u001b[0m\u001b[1;33m\u001b[0m\u001b[0m\n\u001b[0;32m   1223\u001b[0m       flat_outputs = forward_function.call(\n\u001b[1;32m-> 1224\u001b[1;33m           ctx, args, cancellation_manager=cancellation_manager)\n\u001b[0m\u001b[0;32m   1225\u001b[0m     \u001b[1;32melse\u001b[0m\u001b[1;33m:\u001b[0m\u001b[1;33m\u001b[0m\u001b[1;33m\u001b[0m\u001b[0m\n\u001b[0;32m   1226\u001b[0m       \u001b[0mgradient_name\u001b[0m \u001b[1;33m=\u001b[0m \u001b[0mself\u001b[0m\u001b[1;33m.\u001b[0m\u001b[0m_delayed_rewrite_functions\u001b[0m\u001b[1;33m.\u001b[0m\u001b[0mregister\u001b[0m\u001b[1;33m(\u001b[0m\u001b[1;33m)\u001b[0m\u001b[1;33m\u001b[0m\u001b[1;33m\u001b[0m\u001b[0m\n",
      "\u001b[1;32m~\\venv\\lib\\site-packages\\tensorflow_core\\python\\eager\\function.py\u001b[0m in \u001b[0;36mcall\u001b[1;34m(self, ctx, args, cancellation_manager)\u001b[0m\n\u001b[0;32m    509\u001b[0m               \u001b[0minputs\u001b[0m\u001b[1;33m=\u001b[0m\u001b[0margs\u001b[0m\u001b[1;33m,\u001b[0m\u001b[1;33m\u001b[0m\u001b[1;33m\u001b[0m\u001b[0m\n\u001b[0;32m    510\u001b[0m               \u001b[0mattrs\u001b[0m\u001b[1;33m=\u001b[0m\u001b[1;33m(\u001b[0m\u001b[1;34m\"executor_type\"\u001b[0m\u001b[1;33m,\u001b[0m \u001b[0mexecutor_type\u001b[0m\u001b[1;33m,\u001b[0m \u001b[1;34m\"config_proto\"\u001b[0m\u001b[1;33m,\u001b[0m \u001b[0mconfig\u001b[0m\u001b[1;33m)\u001b[0m\u001b[1;33m,\u001b[0m\u001b[1;33m\u001b[0m\u001b[1;33m\u001b[0m\u001b[0m\n\u001b[1;32m--> 511\u001b[1;33m               ctx=ctx)\n\u001b[0m\u001b[0;32m    512\u001b[0m         \u001b[1;32melse\u001b[0m\u001b[1;33m:\u001b[0m\u001b[1;33m\u001b[0m\u001b[1;33m\u001b[0m\u001b[0m\n\u001b[0;32m    513\u001b[0m           outputs = execute.execute_with_cancellation(\n",
      "\u001b[1;32m~\\venv\\lib\\site-packages\\tensorflow_core\\python\\eager\\execute.py\u001b[0m in \u001b[0;36mquick_execute\u001b[1;34m(op_name, num_outputs, inputs, attrs, ctx, name)\u001b[0m\n\u001b[0;32m     59\u001b[0m     tensors = pywrap_tensorflow.TFE_Py_Execute(ctx._handle, device_name,\n\u001b[0;32m     60\u001b[0m                                                \u001b[0mop_name\u001b[0m\u001b[1;33m,\u001b[0m \u001b[0minputs\u001b[0m\u001b[1;33m,\u001b[0m \u001b[0mattrs\u001b[0m\u001b[1;33m,\u001b[0m\u001b[1;33m\u001b[0m\u001b[1;33m\u001b[0m\u001b[0m\n\u001b[1;32m---> 61\u001b[1;33m                                                num_outputs)\n\u001b[0m\u001b[0;32m     62\u001b[0m   \u001b[1;32mexcept\u001b[0m \u001b[0mcore\u001b[0m\u001b[1;33m.\u001b[0m\u001b[0m_NotOkStatusException\u001b[0m \u001b[1;32mas\u001b[0m \u001b[0me\u001b[0m\u001b[1;33m:\u001b[0m\u001b[1;33m\u001b[0m\u001b[1;33m\u001b[0m\u001b[0m\n\u001b[0;32m     63\u001b[0m     \u001b[1;32mif\u001b[0m \u001b[0mname\u001b[0m \u001b[1;32mis\u001b[0m \u001b[1;32mnot\u001b[0m \u001b[1;32mNone\u001b[0m\u001b[1;33m:\u001b[0m\u001b[1;33m\u001b[0m\u001b[1;33m\u001b[0m\u001b[0m\n",
      "\u001b[1;31mKeyboardInterrupt\u001b[0m: "
     ]
    }
   ],
   "source": [
    "model.compile(optimizer = 'adadelta', metrics = ['accuracy'], loss = 'categorical_crossentropy', \n",
    "              loss_weights = [0.5, 0.5])\n",
    "history = model.fit([x1_train, x1_letter_train, x2_train, x2_letter_train], [y1_train, y2_train],\n",
    "                    validation_data=([x1_val, x1_letter_val, x2_val, x2_letter_val], [y1_val, y2_val]), \n",
    "                    batch_size=64, epochs=50, verbose=1, \n",
    "                    callbacks = [ModelCheckpoint('./models/{epoch:02d}-{dense_6_accuracy:.4f}.h5',\n",
    "                    monitor='dense_6_accuracy', verbose=1, save_best_only=True, mode='auto')])"
   ]
  },
  {
   "cell_type": "code",
   "execution_count": null,
   "metadata": {
    "ExecuteTime": {
     "end_time": "2020-08-18T05:56:50.291357Z",
     "start_time": "2020-08-18T05:56:44.786Z"
    }
   },
   "outputs": [],
   "source": [
    "x_test = test.drop(['id', 'letter'], axis=1).values\n",
    "x_test = x_test.reshape(-1, 28, 28, 1)\n",
    "x_test = x_test/255\n",
    "x_test.shape"
   ]
  },
  {
   "cell_type": "code",
   "execution_count": null,
   "metadata": {
    "ExecuteTime": {
     "end_time": "2020-08-18T05:56:50.292359Z",
     "start_time": "2020-08-18T05:56:44.787Z"
    }
   },
   "outputs": [],
   "source": [
    "#prediction = np.argmax(model.predict(x_test), axis=1)"
   ]
  },
  {
   "cell_type": "code",
   "execution_count": null,
   "metadata": {
    "ExecuteTime": {
     "end_time": "2020-08-18T05:56:50.293359Z",
     "start_time": "2020-08-18T05:56:44.789Z"
    }
   },
   "outputs": [],
   "source": [
    "#submission = pd.read_csv('data/submission.csv')\n",
    "#submission['digit'] = np.argmax(model.predict(x_test), axis=1)"
   ]
  },
  {
   "cell_type": "code",
   "execution_count": null,
   "metadata": {
    "ExecuteTime": {
     "end_time": "2020-08-18T05:56:50.294356Z",
     "start_time": "2020-08-18T05:56:44.790Z"
    }
   },
   "outputs": [],
   "source": [
    "#submission.to_csv('data/submission1.csv', index=False)"
   ]
  }
 ],
 "metadata": {
  "kernelspec": {
   "display_name": "Tensorflow",
   "language": "python",
   "name": "tensorflow"
  },
  "language_info": {
   "codemirror_mode": {
    "name": "ipython",
    "version": 3
   },
   "file_extension": ".py",
   "mimetype": "text/x-python",
   "name": "python",
   "nbconvert_exporter": "python",
   "pygments_lexer": "ipython3",
   "version": "3.7.6"
  }
 },
 "nbformat": 4,
 "nbformat_minor": 4
}
