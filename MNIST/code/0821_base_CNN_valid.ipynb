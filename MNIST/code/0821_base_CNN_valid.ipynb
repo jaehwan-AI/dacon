{
 "cells": [
  {
   "cell_type": "code",
   "execution_count": 1,
   "metadata": {
    "ExecuteTime": {
     "end_time": "2020-08-21T03:51:28.147013Z",
     "start_time": "2020-08-21T03:51:25.123023Z"
    }
   },
   "outputs": [],
   "source": [
    "import pandas as pd\n",
    "import numpy as np\n",
    "import tensorflow as tf\n",
    "from sklearn.preprocessing import OneHotEncoder\n",
    "from sklearn.model_selection import train_test_split\n",
    "from tensorflow.keras.models import Model\n",
    "from tensorflow.keras.layers import Input, Conv2D, MaxPooling2D, Flatten, Dense\n",
    "from tensorflow.keras.layers import concatenate, Dropout\n",
    "from tensorflow.keras.preprocessing.image import ImageDataGenerator\n",
    "from tensorflow.keras.callbacks import EarlyStopping, ModelCheckpoint\n",
    "\n",
    "# seed\n",
    "import os\n",
    "seed = 123\n",
    "os.environ['PYTHONHASHSEED'] = str(seed)\n",
    "np.random.seed(seed)\n",
    "tf.set_random_seed(seed)"
   ]
  },
  {
   "cell_type": "code",
   "execution_count": 2,
   "metadata": {
    "ExecuteTime": {
     "end_time": "2020-08-21T03:51:30.067724Z",
     "start_time": "2020-08-21T03:51:28.149009Z"
    }
   },
   "outputs": [],
   "source": [
    "train = np.load('data/train.npy', allow_pickle = 'True')\n",
    "test = np.load('data/test.npy', allow_pickle = 'True')"
   ]
  },
  {
   "cell_type": "code",
   "execution_count": 3,
   "metadata": {
    "ExecuteTime": {
     "end_time": "2020-08-21T03:51:30.099586Z",
     "start_time": "2020-08-21T03:51:30.072702Z"
    }
   },
   "outputs": [
    {
     "name": "stdout",
     "output_type": "stream",
     "text": [
      "(2048, 28, 28, 1)\n",
      "(2048, 26)\n",
      "(2048, 10)\n"
     ]
    }
   ],
   "source": [
    "x = train[:,2:]\n",
    "x = np.reshape(x, (-1, 28, 28, 1))\n",
    "\n",
    "x_letter = train[:,1]\n",
    "x_letter = np.reshape(x_letter, (-1, 1))\n",
    "en = OneHotEncoder()\n",
    "x_letter = en.fit_transform(x_letter).toarray()\n",
    "\n",
    "y = train[:,0]\n",
    "y = np.reshape(y, (-1, 1))\n",
    "en = OneHotEncoder()\n",
    "y = en.fit_transform(y).toarray()\n",
    "\n",
    "print(x.shape)\n",
    "print(x_letter.shape)\n",
    "print(y.shape)"
   ]
  },
  {
   "cell_type": "code",
   "execution_count": 4,
   "metadata": {
    "ExecuteTime": {
     "end_time": "2020-08-21T03:51:30.130454Z",
     "start_time": "2020-08-21T03:51:30.104564Z"
    }
   },
   "outputs": [
    {
     "name": "stdout",
     "output_type": "stream",
     "text": [
      "(2000, 28, 28, 1)\n",
      "(48, 28, 28, 1)\n",
      "(2000, 26)\n",
      "(48, 26)\n",
      "(2000, 10)\n",
      "(48, 10)\n"
     ]
    }
   ],
   "source": [
    "valid_size = 48\n",
    "valid_x = x[-valid_size:]\n",
    "x = x[:-48]\n",
    "\n",
    "valid_x_letter = x_letter[-valid_size:]\n",
    "x_letter = x_letter[:-48]\n",
    "\n",
    "valid_y = y[-valid_size:]\n",
    "y = y[:-48]\n",
    "\n",
    "print(x.shape)\n",
    "print(valid_x.shape)\n",
    "print(x_letter.shape)\n",
    "print(valid_x_letter.shape)\n",
    "print(y.shape)\n",
    "print(valid_y.shape)"
   ]
  },
  {
   "cell_type": "code",
   "execution_count": 5,
   "metadata": {
    "ExecuteTime": {
     "end_time": "2020-08-21T03:51:30.146389Z",
     "start_time": "2020-08-21T03:51:30.134437Z"
    }
   },
   "outputs": [],
   "source": [
    "image_generator = ImageDataGenerator(width_shift_range=0.1,\n",
    "                                     height_shift_range=0.1, \n",
    "                                     zoom_range=[0.8,1.2],\n",
    "                                     shear_range=10)"
   ]
  },
  {
   "cell_type": "code",
   "execution_count": 6,
   "metadata": {
    "ExecuteTime": {
     "end_time": "2020-08-21T03:51:32.625402Z",
     "start_time": "2020-08-21T03:51:30.149374Z"
    }
   },
   "outputs": [
    {
     "name": "stdout",
     "output_type": "stream",
     "text": [
      "(6000, 28, 28, 1)\n"
     ]
    }
   ],
   "source": [
    "x_total = x.copy()\n",
    "def augment(x):\n",
    "    aug_list = []\n",
    "    for i in range(x.shape[0]):\n",
    "        num_aug = 0\n",
    "        tmp = x[i]\n",
    "        tmp = tmp.reshape((1,) + tmp.shape)\n",
    "        for x_aug in image_generator.flow(tmp, batch_size = 1) :\n",
    "            if num_aug >= 1:\n",
    "                break\n",
    "            aug_list.append(x_aug[0])\n",
    "            num_aug += 1\n",
    "    aug_list = np.array(aug_list)\n",
    "    return aug_list\n",
    "\n",
    "n = 2\n",
    "for i in range(n):\n",
    "    arr = augment(x)\n",
    "    x_total = np.concatenate((x_total, arr), axis=0)\n",
    "    if i > n:\n",
    "        break\n",
    "\n",
    "print(x_total.shape)"
   ]
  },
  {
   "cell_type": "code",
   "execution_count": 7,
   "metadata": {
    "ExecuteTime": {
     "end_time": "2020-08-21T03:51:32.642738Z",
     "start_time": "2020-08-21T03:51:32.627074Z"
    }
   },
   "outputs": [
    {
     "name": "stdout",
     "output_type": "stream",
     "text": [
      "(6000, 10)\n"
     ]
    }
   ],
   "source": [
    "y_total = y.copy()\n",
    "for i in range(n):\n",
    "    arr = y.copy()\n",
    "    y_total = np.concatenate((y_total, arr), axis=0)\n",
    "\n",
    "print(y_total.shape)"
   ]
  },
  {
   "cell_type": "code",
   "execution_count": 8,
   "metadata": {
    "ExecuteTime": {
     "end_time": "2020-08-21T03:51:32.663312Z",
     "start_time": "2020-08-21T03:51:32.642738Z"
    }
   },
   "outputs": [
    {
     "name": "stdout",
     "output_type": "stream",
     "text": [
      "(6000, 26)\n"
     ]
    }
   ],
   "source": [
    "x_letter_total = x_letter.copy()\n",
    "for i in range(n):\n",
    "    arr = x_letter.copy()\n",
    "    x_letter_total = np.concatenate((x_letter_total, arr), axis=0)\n",
    "    \n",
    "print(x_letter_total.shape)"
   ]
  },
  {
   "cell_type": "code",
   "execution_count": 9,
   "metadata": {
    "ExecuteTime": {
     "end_time": "2020-08-21T03:51:32.703897Z",
     "start_time": "2020-08-21T03:51:32.666082Z"
    }
   },
   "outputs": [
    {
     "name": "stdout",
     "output_type": "stream",
     "text": [
      "(4800, 28, 28, 1)\n",
      "(1200, 28, 28, 1)\n",
      "(4800, 10)\n",
      "(1200, 10)\n",
      "(4800, 26)\n",
      "(1200, 26)\n"
     ]
    }
   ],
   "source": [
    "x_train, x_val, y_train, y_val = train_test_split(x_total, y_total, test_size=0.2, shuffle=True)#, stratify=y_total)\n",
    "x_letter_train = x_letter_total[:x_train.shape[0],:]\n",
    "x_letter_val = x_letter_total[x_train.shape[0]:,:]\n",
    "\n",
    "print(x_train.shape)\n",
    "print(x_val.shape)\n",
    "print(y_train.shape)\n",
    "print(y_val.shape)\n",
    "print(x_letter_train.shape)\n",
    "print(x_letter_val.shape)"
   ]
  },
  {
   "cell_type": "code",
   "execution_count": 10,
   "metadata": {
    "ExecuteTime": {
     "end_time": "2020-08-21T03:51:33.066453Z",
     "start_time": "2020-08-21T03:51:32.705888Z"
    }
   },
   "outputs": [
    {
     "name": "stdout",
     "output_type": "stream",
     "text": [
      "__________________________________________________________________________________________________\n",
      "Layer (type)                    Output Shape         Param #     Connected to                     \n",
      "==================================================================================================\n",
      "input_1 (InputLayer)            (None, 28, 28, 1)    0                                            \n",
      "__________________________________________________________________________________________________\n",
      "conv2d (Conv2D)                 (None, 28, 28, 64)   640         input_1[0][0]                    \n",
      "__________________________________________________________________________________________________\n",
      "max_pooling2d (MaxPooling2D)    (None, 14, 14, 64)   0           conv2d[0][0]                     \n",
      "__________________________________________________________________________________________________\n",
      "conv2d_1 (Conv2D)               (None, 14, 14, 64)   16448       max_pooling2d[0][0]              \n",
      "__________________________________________________________________________________________________\n",
      "max_pooling2d_1 (MaxPooling2D)  (None, 7, 7, 64)     0           conv2d_1[0][0]                   \n",
      "__________________________________________________________________________________________________\n",
      "conv2d_2 (Conv2D)               (None, 7, 7, 128)    32896       max_pooling2d_1[0][0]            \n",
      "__________________________________________________________________________________________________\n",
      "max_pooling2d_2 (MaxPooling2D)  (None, 3, 3, 128)    0           conv2d_2[0][0]                   \n",
      "__________________________________________________________________________________________________\n",
      "flatten (Flatten)               (None, 1152)         0           max_pooling2d_2[0][0]            \n",
      "__________________________________________________________________________________________________\n",
      "input_2 (InputLayer)            (None, 26)           0                                            \n",
      "__________________________________________________________________________________________________\n",
      "concatenate (Concatenate)       (None, 1178)         0           flatten[0][0]                    \n",
      "                                                                 input_2[0][0]                    \n",
      "__________________________________________________________________________________________________\n",
      "dense (Dense)                   (None, 500)          589500      concatenate[0][0]                \n",
      "__________________________________________________________________________________________________\n",
      "dropout (Dropout)               (None, 500)          0           dense[0][0]                      \n",
      "__________________________________________________________________________________________________\n",
      "dense_1 (Dense)                 (None, 100)          50100       dropout[0][0]                    \n",
      "__________________________________________________________________________________________________\n",
      "dropout_1 (Dropout)             (None, 100)          0           dense_1[0][0]                    \n",
      "__________________________________________________________________________________________________\n",
      "dense_2 (Dense)                 (None, 50)           5050        dropout_1[0][0]                  \n",
      "__________________________________________________________________________________________________\n",
      "dense_3 (Dense)                 (None, 10)           510         dense_2[0][0]                    \n",
      "==================================================================================================\n",
      "Total params: 695,144\n",
      "Trainable params: 695,144\n",
      "Non-trainable params: 0\n",
      "__________________________________________________________________________________________________\n"
     ]
    }
   ],
   "source": [
    "input1 = Input(shape=(28,28,1))\n",
    "x1 = Conv2D(64, (3,3), activation='relu', padding='same')(input1)\n",
    "#x1 = Dropout(0.3)(x1)\n",
    "x1 = MaxPooling2D((2,2))(x1)\n",
    "x1 = Conv2D(64, (2,2), activation='relu', padding='same')(x1)\n",
    "#x1 = Dropout(0.3)(x1)\n",
    "x1 = MaxPooling2D((2,2))(x1)\n",
    "x1 = Conv2D(128, (2,2), activation='relu', padding='same')(x1)\n",
    "#x1 = Dropout(0.3)(x1)\n",
    "x1 = MaxPooling2D((2,2))(x1)\n",
    "x1 = Flatten()(x1)\n",
    "\n",
    "input2 = Input(shape=(26,))\n",
    "merge = concatenate([x1, input2])\n",
    "\n",
    "x2 = Dense(500, activation='relu')(merge)\n",
    "x2 = Dropout(0.3)(x2)\n",
    "x2 = Dense(100, activation='relu')(x2)\n",
    "x2 = Dropout(0.3)(x2)\n",
    "x2 = Dense(50, activation='relu')(x2)\n",
    "outputs = Dense(10, activation='softmax')(x2)\n",
    "\n",
    "model = Model(inputs = [input1, input2], outputs = outputs)\n",
    "\n",
    "model.summary()"
   ]
  },
  {
   "cell_type": "code",
   "execution_count": 11,
   "metadata": {
    "ExecuteTime": {
     "end_time": "2020-08-21T03:53:55.922907Z",
     "start_time": "2020-08-21T03:51:33.070437Z"
    }
   },
   "outputs": [
    {
     "name": "stdout",
     "output_type": "stream",
     "text": [
      "Train on 4800 samples, validate on 1200 samples\n",
      "Epoch 1/100\n",
      "4800/4800 [==============================] - 5s 1ms/step - loss: 2.7785 - acc: 0.1235 - val_loss: 2.2556 - val_acc: 0.1567\n",
      "Epoch 2/100\n",
      "4800/4800 [==============================] - 1s 303us/step - loss: 2.2431 - acc: 0.1635 - val_loss: 2.1315 - val_acc: 0.2117\n",
      "Epoch 3/100\n",
      "4800/4800 [==============================] - 1s 287us/step - loss: 2.1621 - acc: 0.2023 - val_loss: 2.0048 - val_acc: 0.2933\n",
      "Epoch 4/100\n",
      "4800/4800 [==============================] - 1s 279us/step - loss: 2.0204 - acc: 0.2646 - val_loss: 1.8902 - val_acc: 0.3283\n",
      "Epoch 5/100\n",
      "4800/4800 [==============================] - 1s 296us/step - loss: 1.8774 - acc: 0.3210 - val_loss: 1.7638 - val_acc: 0.3850\n",
      "Epoch 6/100\n",
      "4800/4800 [==============================] - 1s 281us/step - loss: 1.7131 - acc: 0.3996 - val_loss: 1.5578 - val_acc: 0.4700\n",
      "Epoch 7/100\n",
      "4800/4800 [==============================] - 1s 285us/step - loss: 1.5532 - acc: 0.4637 - val_loss: 1.3730 - val_acc: 0.5292\n",
      "Epoch 8/100\n",
      "4800/4800 [==============================] - 1s 279us/step - loss: 1.4065 - acc: 0.5223 - val_loss: 1.3664 - val_acc: 0.5150\n",
      "Epoch 9/100\n",
      "4800/4800 [==============================] - 1s 278us/step - loss: 1.2587 - acc: 0.5675 - val_loss: 1.3198 - val_acc: 0.5383\n",
      "Epoch 10/100\n",
      "4800/4800 [==============================] - 1s 280us/step - loss: 1.1167 - acc: 0.6148 - val_loss: 1.1851 - val_acc: 0.5983\n",
      "Epoch 11/100\n",
      "4800/4800 [==============================] - 1s 290us/step - loss: 0.9707 - acc: 0.6667 - val_loss: 1.2150 - val_acc: 0.5925\n",
      "Epoch 12/100\n",
      "4800/4800 [==============================] - 1s 286us/step - loss: 0.8705 - acc: 0.7010 - val_loss: 1.0783 - val_acc: 0.6292\n",
      "Epoch 13/100\n",
      "4800/4800 [==============================] - 1s 287us/step - loss: 0.7680 - acc: 0.7292 - val_loss: 1.1077 - val_acc: 0.6292\n",
      "Epoch 14/100\n",
      "4800/4800 [==============================] - 1s 284us/step - loss: 0.6718 - acc: 0.7700 - val_loss: 1.0924 - val_acc: 0.6442\n",
      "Epoch 15/100\n",
      "4800/4800 [==============================] - 1s 267us/step - loss: 0.5602 - acc: 0.8102 - val_loss: 1.1233 - val_acc: 0.6550\n",
      "Epoch 16/100\n",
      "4800/4800 [==============================] - 1s 287us/step - loss: 0.5067 - acc: 0.8258 - val_loss: 1.0794 - val_acc: 0.6717\n",
      "Epoch 17/100\n",
      "4800/4800 [==============================] - 1s 276us/step - loss: 0.4308 - acc: 0.8502 - val_loss: 1.2401 - val_acc: 0.6433\n",
      "Epoch 18/100\n",
      "4800/4800 [==============================] - 1s 286us/step - loss: 0.3832 - acc: 0.8744 - val_loss: 1.1825 - val_acc: 0.6725\n",
      "Epoch 19/100\n",
      "4800/4800 [==============================] - 1s 280us/step - loss: 0.3214 - acc: 0.8896 - val_loss: 1.2872 - val_acc: 0.6542\n",
      "Epoch 20/100\n",
      "4800/4800 [==============================] - 1s 270us/step - loss: 0.3091 - acc: 0.8950 - val_loss: 1.2882 - val_acc: 0.6583\n",
      "Epoch 21/100\n",
      "4800/4800 [==============================] - 1s 286us/step - loss: 0.2777 - acc: 0.9119 - val_loss: 1.2522 - val_acc: 0.6533\n",
      "Epoch 22/100\n",
      "4800/4800 [==============================] - 1s 270us/step - loss: 0.2422 - acc: 0.9200 - val_loss: 1.3403 - val_acc: 0.6417\n",
      "Epoch 23/100\n",
      "4800/4800 [==============================] - 1s 277us/step - loss: 0.2179 - acc: 0.9325 - val_loss: 1.3043 - val_acc: 0.6667\n",
      "Epoch 24/100\n",
      "4800/4800 [==============================] - 1s 287us/step - loss: 0.2320 - acc: 0.9217 - val_loss: 1.3596 - val_acc: 0.6842\n",
      "Epoch 25/100\n",
      "4800/4800 [==============================] - 1s 283us/step - loss: 0.1931 - acc: 0.9398 - val_loss: 1.4005 - val_acc: 0.6683\n",
      "Epoch 26/100\n",
      "4800/4800 [==============================] - 1s 290us/step - loss: 0.2006 - acc: 0.9327 - val_loss: 1.3910 - val_acc: 0.6700\n",
      "Epoch 27/100\n",
      "4800/4800 [==============================] - 1s 277us/step - loss: 0.1350 - acc: 0.9552 - val_loss: 1.4239 - val_acc: 0.6842\n",
      "Epoch 28/100\n",
      "4800/4800 [==============================] - 1s 283us/step - loss: 0.1336 - acc: 0.9567 - val_loss: 1.5778 - val_acc: 0.6608\n",
      "Epoch 29/100\n",
      "4800/4800 [==============================] - 1s 273us/step - loss: 0.1560 - acc: 0.9498 - val_loss: 1.4101 - val_acc: 0.6925\n",
      "Epoch 30/100\n",
      "4800/4800 [==============================] - 1s 273us/step - loss: 0.1333 - acc: 0.9552 - val_loss: 1.4303 - val_acc: 0.6675\n",
      "Epoch 31/100\n",
      "4800/4800 [==============================] - 1s 280us/step - loss: 0.1091 - acc: 0.9688 - val_loss: 1.6062 - val_acc: 0.6925\n",
      "Epoch 32/100\n",
      "4800/4800 [==============================] - 1s 277us/step - loss: 0.1361 - acc: 0.9556 - val_loss: 1.4422 - val_acc: 0.6967\n",
      "Epoch 33/100\n",
      "4800/4800 [==============================] - 1s 286us/step - loss: 0.1137 - acc: 0.9654 - val_loss: 1.5916 - val_acc: 0.6708\n",
      "Epoch 34/100\n",
      "4800/4800 [==============================] - 1s 293us/step - loss: 0.1013 - acc: 0.9675 - val_loss: 1.4032 - val_acc: 0.6933\n",
      "Epoch 35/100\n",
      "4800/4800 [==============================] - 1s 277us/step - loss: 0.1280 - acc: 0.9556 - val_loss: 1.6597 - val_acc: 0.6708\n",
      "Epoch 36/100\n",
      "4800/4800 [==============================] - 1s 283us/step - loss: 0.1255 - acc: 0.9590 - val_loss: 1.6662 - val_acc: 0.6675\n",
      "Epoch 37/100\n",
      "4800/4800 [==============================] - 1s 280us/step - loss: 0.1098 - acc: 0.9658 - val_loss: 1.7705 - val_acc: 0.6708\n",
      "Epoch 38/100\n",
      "4800/4800 [==============================] - 1s 280us/step - loss: 0.1166 - acc: 0.9617 - val_loss: 1.5467 - val_acc: 0.6783\n",
      "Epoch 39/100\n",
      "4800/4800 [==============================] - 1s 273us/step - loss: 0.1316 - acc: 0.9573 - val_loss: 1.5309 - val_acc: 0.6900\n",
      "Epoch 40/100\n",
      "4800/4800 [==============================] - 1s 290us/step - loss: 0.1005 - acc: 0.9708 - val_loss: 1.5764 - val_acc: 0.6758\n",
      "Epoch 41/100\n",
      "4800/4800 [==============================] - 1s 303us/step - loss: 0.1122 - acc: 0.9660 - val_loss: 1.5783 - val_acc: 0.6850\n",
      "Epoch 42/100\n",
      "4800/4800 [==============================] - 1s 286us/step - loss: 0.0904 - acc: 0.9731 - val_loss: 1.6918 - val_acc: 0.6758\n",
      "Epoch 43/100\n",
      "4800/4800 [==============================] - 1s 286us/step - loss: 0.0781 - acc: 0.9754 - val_loss: 1.5743 - val_acc: 0.6792\n",
      "Epoch 44/100\n",
      "4800/4800 [==============================] - 1s 283us/step - loss: 0.0667 - acc: 0.9788 - val_loss: 1.6588 - val_acc: 0.6842\n",
      "Epoch 45/100\n",
      "4800/4800 [==============================] - 1s 277us/step - loss: 0.0949 - acc: 0.9719 - val_loss: 1.6916 - val_acc: 0.6717\n",
      "Epoch 46/100\n",
      "4800/4800 [==============================] - 1s 290us/step - loss: 0.1134 - acc: 0.9644 - val_loss: 1.5607 - val_acc: 0.6850\n",
      "Epoch 47/100\n",
      "4800/4800 [==============================] - 1s 280us/step - loss: 0.0728 - acc: 0.9771 - val_loss: 1.5417 - val_acc: 0.6883\n",
      "Epoch 48/100\n",
      "4800/4800 [==============================] - 1s 277us/step - loss: 0.0734 - acc: 0.9771 - val_loss: 1.7333 - val_acc: 0.6892\n",
      "Epoch 49/100\n",
      "4800/4800 [==============================] - 1s 296us/step - loss: 0.0996 - acc: 0.9704 - val_loss: 1.7166 - val_acc: 0.6692\n",
      "Epoch 50/100\n",
      "4800/4800 [==============================] - 1s 299us/step - loss: 0.1157 - acc: 0.9602 - val_loss: 1.6807 - val_acc: 0.6767\n",
      "Epoch 51/100\n",
      "4800/4800 [==============================] - 1s 283us/step - loss: 0.0935 - acc: 0.9746 - val_loss: 1.5113 - val_acc: 0.7025\n",
      "Epoch 52/100\n",
      "4800/4800 [==============================] - 1s 290us/step - loss: 0.1047 - acc: 0.9698 - val_loss: 1.7505 - val_acc: 0.6392\n",
      "Epoch 53/100\n",
      "4800/4800 [==============================] - 1s 270us/step - loss: 0.0855 - acc: 0.9750 - val_loss: 1.9374 - val_acc: 0.6375\n",
      "Epoch 54/100\n",
      "4800/4800 [==============================] - 1s 277us/step - loss: 0.0811 - acc: 0.9756 - val_loss: 1.6188 - val_acc: 0.6758\n",
      "Epoch 55/100\n",
      "4800/4800 [==============================] - 1s 280us/step - loss: 0.0800 - acc: 0.9740 - val_loss: 1.5449 - val_acc: 0.6883\n",
      "Epoch 56/100\n",
      "4800/4800 [==============================] - 1s 274us/step - loss: 0.0779 - acc: 0.9777 - val_loss: 1.7482 - val_acc: 0.6792\n",
      "Epoch 57/100\n",
      "4800/4800 [==============================] - 1s 273us/step - loss: 0.0683 - acc: 0.9808 - val_loss: 1.6678 - val_acc: 0.7033\n",
      "Epoch 58/100\n",
      "4800/4800 [==============================] - 1s 273us/step - loss: 0.0567 - acc: 0.9823 - val_loss: 1.9107 - val_acc: 0.6767\n",
      "Epoch 59/100\n",
      "4800/4800 [==============================] - 1s 280us/step - loss: 0.0796 - acc: 0.9767 - val_loss: 1.5532 - val_acc: 0.6983\n",
      "Epoch 60/100\n"
     ]
    },
    {
     "name": "stdout",
     "output_type": "stream",
     "text": [
      "4800/4800 [==============================] - 1s 286us/step - loss: 0.0475 - acc: 0.9850 - val_loss: 1.7342 - val_acc: 0.6933\n",
      "Epoch 61/100\n",
      "4800/4800 [==============================] - 1s 283us/step - loss: 0.0742 - acc: 0.9777 - val_loss: 1.7246 - val_acc: 0.6875\n",
      "Epoch 62/100\n",
      "4800/4800 [==============================] - 1s 287us/step - loss: 0.0734 - acc: 0.9771 - val_loss: 1.8353 - val_acc: 0.6725\n",
      "Epoch 63/100\n",
      "4800/4800 [==============================] - 1s 293us/step - loss: 0.0795 - acc: 0.9727 - val_loss: 1.9690 - val_acc: 0.6692\n",
      "Epoch 64/100\n",
      "4800/4800 [==============================] - ETA: 0s - loss: 0.1012 - acc: 0.969 - 1s 283us/step - loss: 0.1018 - acc: 0.9696 - val_loss: 1.7517 - val_acc: 0.6850\n",
      "Epoch 65/100\n",
      "4800/4800 [==============================] - 1s 293us/step - loss: 0.0639 - acc: 0.9817 - val_loss: 1.7895 - val_acc: 0.6867\n",
      "Epoch 66/100\n",
      "4800/4800 [==============================] - 1s 293us/step - loss: 0.0746 - acc: 0.9788 - val_loss: 1.7113 - val_acc: 0.6808\n",
      "Epoch 67/100\n",
      "4800/4800 [==============================] - 1s 286us/step - loss: 0.1043 - acc: 0.9712 - val_loss: 1.7973 - val_acc: 0.6717\n",
      "Epoch 68/100\n",
      "4800/4800 [==============================] - 1s 283us/step - loss: 0.0864 - acc: 0.9708 - val_loss: 1.5966 - val_acc: 0.7025\n",
      "Epoch 69/100\n",
      "4800/4800 [==============================] - 1s 270us/step - loss: 0.0633 - acc: 0.9813 - val_loss: 1.7583 - val_acc: 0.6750\n",
      "Epoch 70/100\n",
      "4800/4800 [==============================] - 1s 293us/step - loss: 0.0531 - acc: 0.9865 - val_loss: 1.7769 - val_acc: 0.6933\n",
      "Epoch 71/100\n",
      "4800/4800 [==============================] - 1s 280us/step - loss: 0.0529 - acc: 0.9840 - val_loss: 1.6790 - val_acc: 0.6833\n",
      "Epoch 72/100\n",
      "4800/4800 [==============================] - 1s 290us/step - loss: 0.0913 - acc: 0.9748 - val_loss: 1.5634 - val_acc: 0.6925\n",
      "Epoch 73/100\n",
      "4800/4800 [==============================] - 1s 290us/step - loss: 0.0770 - acc: 0.9756 - val_loss: 1.7171 - val_acc: 0.6625\n",
      "Epoch 74/100\n",
      "4800/4800 [==============================] - 1s 280us/step - loss: 0.0628 - acc: 0.9808 - val_loss: 1.6961 - val_acc: 0.6933\n",
      "Epoch 75/100\n",
      "4800/4800 [==============================] - 1s 286us/step - loss: 0.0535 - acc: 0.9848 - val_loss: 1.7431 - val_acc: 0.6850\n",
      "Epoch 76/100\n",
      "4800/4800 [==============================] - 1s 293us/step - loss: 0.0755 - acc: 0.9794 - val_loss: 1.8664 - val_acc: 0.6650\n",
      "Epoch 77/100\n",
      "4800/4800 [==============================] - 1s 283us/step - loss: 0.0966 - acc: 0.9735 - val_loss: 1.6906 - val_acc: 0.6975\n",
      "Epoch 78/100\n",
      "4800/4800 [==============================] - 1s 283us/step - loss: 0.0766 - acc: 0.9781 - val_loss: 1.6879 - val_acc: 0.6942\n",
      "Epoch 79/100\n",
      "4800/4800 [==============================] - 1s 283us/step - loss: 0.0788 - acc: 0.9792 - val_loss: 1.5074 - val_acc: 0.7042\n",
      "Epoch 80/100\n",
      "4800/4800 [==============================] - 1s 277us/step - loss: 0.0362 - acc: 0.9915 - val_loss: 1.7322 - val_acc: 0.7000\n",
      "Epoch 81/100\n",
      "4800/4800 [==============================] - 1s 299us/step - loss: 0.0618 - acc: 0.9829 - val_loss: 2.0134 - val_acc: 0.6608\n",
      "Epoch 82/100\n",
      "4800/4800 [==============================] - 1s 287us/step - loss: 0.0552 - acc: 0.9829 - val_loss: 1.7551 - val_acc: 0.7000\n",
      "Epoch 83/100\n",
      "4800/4800 [==============================] - 1s 290us/step - loss: 0.0433 - acc: 0.9867 - val_loss: 1.8656 - val_acc: 0.6858\n",
      "Epoch 84/100\n",
      "4800/4800 [==============================] - 1s 283us/step - loss: 0.0508 - acc: 0.9844 - val_loss: 1.7067 - val_acc: 0.7017\n",
      "Epoch 85/100\n",
      "4800/4800 [==============================] - 1s 280us/step - loss: 0.0567 - acc: 0.9842 - val_loss: 1.7261 - val_acc: 0.6850\n",
      "Epoch 86/100\n",
      "4800/4800 [==============================] - 1s 286us/step - loss: 0.0285 - acc: 0.9898 - val_loss: 1.7947 - val_acc: 0.7058\n",
      "Epoch 87/100\n",
      "4800/4800 [==============================] - 1s 286us/step - loss: 0.0366 - acc: 0.9919 - val_loss: 1.9066 - val_acc: 0.7000\n",
      "Epoch 88/100\n",
      "4800/4800 [==============================] - 1s 283us/step - loss: 0.0961 - acc: 0.9735 - val_loss: 1.8135 - val_acc: 0.6883\n",
      "Epoch 89/100\n",
      "4800/4800 [==============================] - 1s 286us/step - loss: 0.1096 - acc: 0.9690 - val_loss: 1.7755 - val_acc: 0.6725\n",
      "Epoch 90/100\n",
      "4800/4800 [==============================] - 1s 290us/step - loss: 0.0581 - acc: 0.9804 - val_loss: 1.7589 - val_acc: 0.6792\n",
      "Epoch 91/100\n",
      "4800/4800 [==============================] - 1s 280us/step - loss: 0.0476 - acc: 0.9850 - val_loss: 1.8972 - val_acc: 0.6958\n",
      "Epoch 92/100\n",
      "4800/4800 [==============================] - 1s 293us/step - loss: 0.0547 - acc: 0.9846 - val_loss: 1.8780 - val_acc: 0.6858\n",
      "Epoch 93/100\n",
      "4800/4800 [==============================] - 1s 283us/step - loss: 0.0291 - acc: 0.9912 - val_loss: 1.7374 - val_acc: 0.7025\n",
      "Epoch 94/100\n",
      "4800/4800 [==============================] - 1s 287us/step - loss: 0.0554 - acc: 0.9835 - val_loss: 2.0620 - val_acc: 0.6975\n",
      "Epoch 95/100\n",
      "4800/4800 [==============================] - 1s 293us/step - loss: 0.0926 - acc: 0.9748 - val_loss: 1.6852 - val_acc: 0.6983\n",
      "Epoch 96/100\n",
      "4800/4800 [==============================] - 1s 290us/step - loss: 0.0525 - acc: 0.9829 - val_loss: 1.8599 - val_acc: 0.6850\n",
      "Epoch 97/100\n",
      "4800/4800 [==============================] - 1s 296us/step - loss: 0.0631 - acc: 0.9817 - val_loss: 1.9690 - val_acc: 0.6733\n",
      "Epoch 98/100\n",
      "4800/4800 [==============================] - 1s 306us/step - loss: 0.0484 - acc: 0.9850 - val_loss: 1.9456 - val_acc: 0.6892\n",
      "Epoch 99/100\n",
      "4800/4800 [==============================] - 1s 293us/step - loss: 0.0425 - acc: 0.9879 - val_loss: 1.9038 - val_acc: 0.6775\n",
      "Epoch 100/100\n",
      "4800/4800 [==============================] - 1s 283us/step - loss: 0.0528 - acc: 0.9840 - val_loss: 1.8383 - val_acc: 0.6833\n"
     ]
    }
   ],
   "source": [
    "model.compile(optimizer = 'adam', metrics = ['accuracy'], loss = 'categorical_crossentropy')\n",
    "\n",
    "#es = EarlyStopping(monitor='val_loss', patience=20, mode='min', verbose=1)\n",
    "cp = ModelCheckpoint('./models/{epoch:02d}-{val_acc:.4f}.h5', monitor='val_loss',\n",
    "                     save_best_only=True, mode='min')\n",
    "\n",
    "history = model.fit([x_train, x_letter_train], y_train,\n",
    "                    validation_data=([x_val, x_letter_val], y_val), \n",
    "                    batch_size=64, epochs=100, verbose=1, callbacks = [cp])"
   ]
  },
  {
   "cell_type": "code",
   "execution_count": 12,
   "metadata": {
    "ExecuteTime": {
     "end_time": "2020-08-21T03:53:58.172819Z",
     "start_time": "2020-08-21T03:53:55.927844Z"
    }
   },
   "outputs": [],
   "source": [
    "from tensorflow.keras.models import load_model\n",
    "best_model = load_model('models/base.h5')"
   ]
  },
  {
   "cell_type": "code",
   "execution_count": 13,
   "metadata": {
    "ExecuteTime": {
     "end_time": "2020-08-21T03:53:58.343795Z",
     "start_time": "2020-08-21T03:53:58.172819Z"
    }
   },
   "outputs": [
    {
     "name": "stdout",
     "output_type": "stream",
     "text": [
      "48/48 [==============================] - 0s 3ms/step\n"
     ]
    },
    {
     "data": {
      "text/plain": [
       "[1.1084407567977905, 0.6041666666666666]"
      ]
     },
     "execution_count": 13,
     "metadata": {},
     "output_type": "execute_result"
    }
   ],
   "source": [
    "evaluate = best_model.evaluate([valid_x, valid_x_letter], valid_y)\n",
    "evaluate"
   ]
  },
  {
   "cell_type": "code",
   "execution_count": 14,
   "metadata": {
    "ExecuteTime": {
     "end_time": "2020-08-21T03:53:58.359499Z",
     "start_time": "2020-08-21T03:53:58.345519Z"
    }
   },
   "outputs": [],
   "source": [
    "#submission = pd.read_csv('data/val.csv')\n",
    "#submission['digit'] = np.argmax(best_model.predict([x_test, x_letter_test]), axis=1)\n",
    "#submission.to_csv('data/val(CNN).csv', index=False)"
   ]
  },
  {
   "cell_type": "code",
   "execution_count": null,
   "metadata": {},
   "outputs": [],
   "source": []
  }
 ],
 "metadata": {
  "kernelspec": {
   "display_name": "Python 3",
   "language": "python",
   "name": "python3"
  },
  "language_info": {
   "codemirror_mode": {
    "name": "ipython",
    "version": 3
   },
   "file_extension": ".py",
   "mimetype": "text/x-python",
   "name": "python",
   "nbconvert_exporter": "python",
   "pygments_lexer": "ipython3",
   "version": "3.6.10"
  }
 },
 "nbformat": 4,
 "nbformat_minor": 4
}
