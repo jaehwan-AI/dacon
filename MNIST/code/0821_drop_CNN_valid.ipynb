{
 "cells": [
  {
   "cell_type": "code",
   "execution_count": 1,
   "metadata": {
    "ExecuteTime": {
     "end_time": "2020-08-21T03:01:05.097670Z",
     "start_time": "2020-08-21T03:01:02.396528Z"
    }
   },
   "outputs": [],
   "source": [
    "import pandas as pd\n",
    "import numpy as np\n",
    "import tensorflow as tf\n",
    "from sklearn.preprocessing import OneHotEncoder\n",
    "from sklearn.model_selection import train_test_split\n",
    "from tensorflow.keras.models import Model\n",
    "from tensorflow.keras.layers import Input, Conv2D, MaxPooling2D, Flatten, Dense\n",
    "from tensorflow.keras.layers import concatenate, Dropout\n",
    "from tensorflow.keras.preprocessing.image import ImageDataGenerator\n",
    "from tensorflow.keras.callbacks import EarlyStopping, ModelCheckpoint\n",
    "\n",
    "# seed\n",
    "import os\n",
    "seed = 123\n",
    "os.environ['PYTHONHASHSEED'] = str(seed)\n",
    "np.random.seed(seed)\n",
    "tf.set_random_seed(seed)"
   ]
  },
  {
   "cell_type": "code",
   "execution_count": 2,
   "metadata": {
    "ExecuteTime": {
     "end_time": "2020-08-21T03:01:06.768764Z",
     "start_time": "2020-08-21T03:01:05.101653Z"
    }
   },
   "outputs": [],
   "source": [
    "train = np.load('data/train.npy', allow_pickle = 'True')\n",
    "test = np.load('data/test.npy', allow_pickle = 'True')"
   ]
  },
  {
   "cell_type": "code",
   "execution_count": 3,
   "metadata": {
    "ExecuteTime": {
     "end_time": "2020-08-21T03:01:06.800695Z",
     "start_time": "2020-08-21T03:01:06.768764Z"
    }
   },
   "outputs": [
    {
     "name": "stdout",
     "output_type": "stream",
     "text": [
      "(2048, 28, 28, 1)\n",
      "(2048, 26)\n",
      "(2048, 10)\n"
     ]
    }
   ],
   "source": [
    "x = train[:,2:]\n",
    "x = np.reshape(x, (-1, 28, 28, 1))\n",
    "\n",
    "x_letter = train[:,1]\n",
    "x_letter = np.reshape(x_letter, (-1, 1))\n",
    "en = OneHotEncoder()\n",
    "x_letter = en.fit_transform(x_letter).toarray()\n",
    "\n",
    "y = train[:,0]\n",
    "y = np.reshape(y, (-1, 1))\n",
    "en = OneHotEncoder()\n",
    "y = en.fit_transform(y).toarray()\n",
    "\n",
    "print(x.shape)\n",
    "print(x_letter.shape)\n",
    "print(y.shape)"
   ]
  },
  {
   "cell_type": "code",
   "execution_count": 4,
   "metadata": {
    "ExecuteTime": {
     "end_time": "2020-08-21T03:01:06.816628Z",
     "start_time": "2020-08-21T03:01:06.803722Z"
    }
   },
   "outputs": [
    {
     "name": "stdout",
     "output_type": "stream",
     "text": [
      "(2000, 28, 28, 1)\n",
      "(48, 28, 28, 1)\n",
      "(2000, 26)\n",
      "(48, 26)\n",
      "(2000, 10)\n",
      "(48, 10)\n"
     ]
    }
   ],
   "source": [
    "valid_size = 48\n",
    "valid_x = x[-valid_size:]\n",
    "x = x[:-48]\n",
    "\n",
    "valid_x_letter = x_letter[-valid_size:]\n",
    "x_letter = x_letter[:-48]\n",
    "\n",
    "valid_y = y[-valid_size:]\n",
    "y = y[:-48]\n",
    "\n",
    "print(x.shape)\n",
    "print(valid_x.shape)\n",
    "print(x_letter.shape)\n",
    "print(valid_x_letter.shape)\n",
    "print(y.shape)\n",
    "print(valid_y.shape)"
   ]
  },
  {
   "cell_type": "code",
   "execution_count": 5,
   "metadata": {
    "ExecuteTime": {
     "end_time": "2020-08-21T03:01:06.831567Z",
     "start_time": "2020-08-21T03:01:06.819616Z"
    }
   },
   "outputs": [],
   "source": [
    "image_generator = ImageDataGenerator(width_shift_range=0.1,\n",
    "                                     height_shift_range=0.1, \n",
    "                                     zoom_range=[0.8,1.2],\n",
    "                                     shear_range=10)"
   ]
  },
  {
   "cell_type": "code",
   "execution_count": 6,
   "metadata": {
    "ExecuteTime": {
     "end_time": "2020-08-21T03:01:09.204402Z",
     "start_time": "2020-08-21T03:01:06.833554Z"
    }
   },
   "outputs": [
    {
     "name": "stdout",
     "output_type": "stream",
     "text": [
      "(6000, 28, 28, 1)\n"
     ]
    }
   ],
   "source": [
    "x_total = x.copy()\n",
    "def augment(x):\n",
    "    aug_list = []\n",
    "    for i in range(x.shape[0]):\n",
    "        num_aug = 0\n",
    "        tmp = x[i]\n",
    "        tmp = tmp.reshape((1,) + tmp.shape)\n",
    "        for x_aug in image_generator.flow(tmp, batch_size = 1) :\n",
    "            if num_aug >= 1:\n",
    "                break\n",
    "            aug_list.append(x_aug[0])\n",
    "            num_aug += 1\n",
    "    aug_list = np.array(aug_list)\n",
    "    return aug_list\n",
    "\n",
    "n = 2\n",
    "for i in range(n):\n",
    "    arr = augment(x)\n",
    "    x_total = np.concatenate((x_total, arr), axis=0)\n",
    "    if i > n:\n",
    "        break\n",
    "\n",
    "print(x_total.shape)"
   ]
  },
  {
   "cell_type": "code",
   "execution_count": 7,
   "metadata": {
    "ExecuteTime": {
     "end_time": "2020-08-21T03:01:09.220333Z",
     "start_time": "2020-08-21T03:01:09.205398Z"
    }
   },
   "outputs": [
    {
     "name": "stdout",
     "output_type": "stream",
     "text": [
      "(6000, 10)\n"
     ]
    }
   ],
   "source": [
    "y_total = y.copy()\n",
    "for i in range(n):\n",
    "    arr = y.copy()\n",
    "    y_total = np.concatenate((y_total, arr), axis=0)\n",
    "\n",
    "print(y_total.shape)"
   ]
  },
  {
   "cell_type": "code",
   "execution_count": 8,
   "metadata": {
    "ExecuteTime": {
     "end_time": "2020-08-21T03:01:09.236266Z",
     "start_time": "2020-08-21T03:01:09.225313Z"
    }
   },
   "outputs": [
    {
     "name": "stdout",
     "output_type": "stream",
     "text": [
      "(6000, 26)\n"
     ]
    }
   ],
   "source": [
    "x_letter_total = x_letter.copy()\n",
    "for i in range(n):\n",
    "    arr = x_letter.copy()\n",
    "    x_letter_total = np.concatenate((x_letter_total, arr), axis=0)\n",
    "    \n",
    "print(x_letter_total.shape)"
   ]
  },
  {
   "cell_type": "code",
   "execution_count": 9,
   "metadata": {
    "ExecuteTime": {
     "end_time": "2020-08-21T03:01:09.284173Z",
     "start_time": "2020-08-21T03:01:09.239252Z"
    }
   },
   "outputs": [
    {
     "name": "stdout",
     "output_type": "stream",
     "text": [
      "(4800, 28, 28, 1)\n",
      "(1200, 28, 28, 1)\n",
      "(4800, 10)\n",
      "(1200, 10)\n",
      "(4800, 26)\n",
      "(1200, 26)\n"
     ]
    }
   ],
   "source": [
    "x_train, x_val, y_train, y_val = train_test_split(x_total, y_total, test_size=0.2, shuffle=True)#, stratify=y_total)\n",
    "x_letter_train = x_letter_total[:x_train.shape[0],:]\n",
    "x_letter_val = x_letter_total[x_train.shape[0]:,:]\n",
    "\n",
    "print(x_train.shape)\n",
    "print(x_val.shape)\n",
    "print(y_train.shape)\n",
    "print(y_val.shape)\n",
    "print(x_letter_train.shape)\n",
    "print(x_letter_val.shape)"
   ]
  },
  {
   "cell_type": "code",
   "execution_count": 10,
   "metadata": {
    "ExecuteTime": {
     "end_time": "2020-08-21T03:01:09.651366Z",
     "start_time": "2020-08-21T03:01:09.287160Z"
    }
   },
   "outputs": [
    {
     "name": "stdout",
     "output_type": "stream",
     "text": [
      "__________________________________________________________________________________________________\n",
      "Layer (type)                    Output Shape         Param #     Connected to                     \n",
      "==================================================================================================\n",
      "input_1 (InputLayer)            (None, 28, 28, 1)    0                                            \n",
      "__________________________________________________________________________________________________\n",
      "conv2d (Conv2D)                 (None, 28, 28, 64)   640         input_1[0][0]                    \n",
      "__________________________________________________________________________________________________\n",
      "dropout (Dropout)               (None, 28, 28, 64)   0           conv2d[0][0]                     \n",
      "__________________________________________________________________________________________________\n",
      "max_pooling2d (MaxPooling2D)    (None, 14, 14, 64)   0           dropout[0][0]                    \n",
      "__________________________________________________________________________________________________\n",
      "conv2d_1 (Conv2D)               (None, 14, 14, 64)   16448       max_pooling2d[0][0]              \n",
      "__________________________________________________________________________________________________\n",
      "dropout_1 (Dropout)             (None, 14, 14, 64)   0           conv2d_1[0][0]                   \n",
      "__________________________________________________________________________________________________\n",
      "max_pooling2d_1 (MaxPooling2D)  (None, 7, 7, 64)     0           dropout_1[0][0]                  \n",
      "__________________________________________________________________________________________________\n",
      "conv2d_2 (Conv2D)               (None, 7, 7, 128)    32896       max_pooling2d_1[0][0]            \n",
      "__________________________________________________________________________________________________\n",
      "dropout_2 (Dropout)             (None, 7, 7, 128)    0           conv2d_2[0][0]                   \n",
      "__________________________________________________________________________________________________\n",
      "max_pooling2d_2 (MaxPooling2D)  (None, 3, 3, 128)    0           dropout_2[0][0]                  \n",
      "__________________________________________________________________________________________________\n",
      "flatten (Flatten)               (None, 1152)         0           max_pooling2d_2[0][0]            \n",
      "__________________________________________________________________________________________________\n",
      "input_2 (InputLayer)            (None, 26)           0                                            \n",
      "__________________________________________________________________________________________________\n",
      "concatenate (Concatenate)       (None, 1178)         0           flatten[0][0]                    \n",
      "                                                                 input_2[0][0]                    \n",
      "__________________________________________________________________________________________________\n",
      "dense (Dense)                   (None, 500)          589500      concatenate[0][0]                \n",
      "__________________________________________________________________________________________________\n",
      "dropout_3 (Dropout)             (None, 500)          0           dense[0][0]                      \n",
      "__________________________________________________________________________________________________\n",
      "dense_1 (Dense)                 (None, 100)          50100       dropout_3[0][0]                  \n",
      "__________________________________________________________________________________________________\n",
      "dropout_4 (Dropout)             (None, 100)          0           dense_1[0][0]                    \n",
      "__________________________________________________________________________________________________\n",
      "dense_2 (Dense)                 (None, 50)           5050        dropout_4[0][0]                  \n",
      "__________________________________________________________________________________________________\n",
      "dense_3 (Dense)                 (None, 10)           510         dense_2[0][0]                    \n",
      "==================================================================================================\n",
      "Total params: 695,144\n",
      "Trainable params: 695,144\n",
      "Non-trainable params: 0\n",
      "__________________________________________________________________________________________________\n"
     ]
    }
   ],
   "source": [
    "input1 = Input(shape=(28,28,1))\n",
    "x1 = Conv2D(64, (3,3), activation='relu', padding='same')(input1)\n",
    "x1 = Dropout(0.3)(x1)\n",
    "x1 = MaxPooling2D((2,2))(x1)\n",
    "x1 = Conv2D(64, (2,2), activation='relu', padding='same')(x1)\n",
    "x1 = Dropout(0.3)(x1)\n",
    "x1 = MaxPooling2D((2,2))(x1)\n",
    "x1 = Conv2D(128, (2,2), activation='relu', padding='same')(x1)\n",
    "x1 = Dropout(0.3)(x1)\n",
    "x1 = MaxPooling2D((2,2))(x1)\n",
    "x1 = Flatten()(x1)\n",
    "\n",
    "input2 = Input(shape=(26,))\n",
    "merge = concatenate([x1, input2])\n",
    "\n",
    "x2 = Dense(500, activation='relu')(merge)\n",
    "x2 = Dropout(0.3)(x2)\n",
    "x2 = Dense(100, activation='relu')(x2)\n",
    "x2 = Dropout(0.3)(x2)\n",
    "x2 = Dense(50, activation='relu')(x2)\n",
    "outputs = Dense(10, activation='softmax')(x2)\n",
    "\n",
    "model = Model(inputs = [input1, input2], outputs = outputs)\n",
    "\n",
    "model.summary()"
   ]
  },
  {
   "cell_type": "code",
   "execution_count": 11,
   "metadata": {
    "ExecuteTime": {
     "end_time": "2020-08-21T03:04:02.094739Z",
     "start_time": "2020-08-21T03:01:09.653358Z"
    }
   },
   "outputs": [
    {
     "name": "stdout",
     "output_type": "stream",
     "text": [
      "Train on 4800 samples, validate on 1200 samples\n",
      "Epoch 1/100\n",
      "4800/4800 [==============================] - 5s 1ms/step - loss: 4.9813 - acc: 0.0983 - val_loss: 2.3009 - val_acc: 0.1042\n",
      "Epoch 2/100\n",
      "4800/4800 [==============================] - 2s 339us/step - loss: 2.3051 - acc: 0.1102 - val_loss: 2.2972 - val_acc: 0.1008\n",
      "Epoch 3/100\n",
      "4800/4800 [==============================] - 2s 340us/step - loss: 2.2909 - acc: 0.1185 - val_loss: 2.2914 - val_acc: 0.1175\n",
      "Epoch 4/100\n",
      "4800/4800 [==============================] - 2s 347us/step - loss: 2.2803 - acc: 0.1377 - val_loss: 2.2748 - val_acc: 0.1500\n",
      "Epoch 5/100\n",
      "4800/4800 [==============================] - 2s 342us/step - loss: 2.2569 - acc: 0.1508 - val_loss: 2.2516 - val_acc: 0.1767\n",
      "Epoch 6/100\n",
      "4800/4800 [==============================] - 2s 338us/step - loss: 2.2346 - acc: 0.1667 - val_loss: 2.1894 - val_acc: 0.2217\n",
      "Epoch 7/100\n",
      "4800/4800 [==============================] - 2s 331us/step - loss: 2.1705 - acc: 0.2015 - val_loss: 2.1365 - val_acc: 0.2592\n",
      "Epoch 8/100\n",
      "4800/4800 [==============================] - 2s 340us/step - loss: 2.1245 - acc: 0.2188 - val_loss: 2.0819 - val_acc: 0.3200\n",
      "Epoch 9/100\n",
      "4800/4800 [==============================] - 2s 336us/step - loss: 2.0533 - acc: 0.2592 - val_loss: 2.0983 - val_acc: 0.2875\n",
      "Epoch 10/100\n",
      "4800/4800 [==============================] - 2s 336us/step - loss: 2.0077 - acc: 0.2858 - val_loss: 2.0250 - val_acc: 0.3517\n",
      "Epoch 11/100\n",
      "4800/4800 [==============================] - 2s 338us/step - loss: 1.9439 - acc: 0.3125 - val_loss: 1.9399 - val_acc: 0.3817\n",
      "Epoch 12/100\n",
      "4800/4800 [==============================] - 2s 342us/step - loss: 1.8905 - acc: 0.3263 - val_loss: 1.8804 - val_acc: 0.4158\n",
      "Epoch 13/100\n",
      "4800/4800 [==============================] - 2s 328us/step - loss: 1.8259 - acc: 0.3631 - val_loss: 1.8663 - val_acc: 0.3942\n",
      "Epoch 14/100\n",
      "4800/4800 [==============================] - 2s 335us/step - loss: 1.7665 - acc: 0.3702 - val_loss: 1.8096 - val_acc: 0.4483\n",
      "Epoch 15/100\n",
      "4800/4800 [==============================] - 2s 342us/step - loss: 1.7076 - acc: 0.4012 - val_loss: 1.7115 - val_acc: 0.4667\n",
      "Epoch 16/100\n",
      "4800/4800 [==============================] - 2s 335us/step - loss: 1.6622 - acc: 0.4265 - val_loss: 1.7346 - val_acc: 0.4675\n",
      "Epoch 17/100\n",
      "4800/4800 [==============================] - 2s 345us/step - loss: 1.6009 - acc: 0.4521 - val_loss: 1.6572 - val_acc: 0.4950\n",
      "Epoch 18/100\n",
      "4800/4800 [==============================] - 2s 338us/step - loss: 1.5597 - acc: 0.4688 - val_loss: 1.6186 - val_acc: 0.4983\n",
      "Epoch 19/100\n",
      "4800/4800 [==============================] - 2s 345us/step - loss: 1.5116 - acc: 0.4825 - val_loss: 1.5830 - val_acc: 0.5133\n",
      "Epoch 20/100\n",
      "4800/4800 [==============================] - 2s 343us/step - loss: 1.4501 - acc: 0.5027 - val_loss: 1.5534 - val_acc: 0.5017\n",
      "Epoch 21/100\n",
      "4800/4800 [==============================] - 2s 339us/step - loss: 1.4024 - acc: 0.5304 - val_loss: 1.5860 - val_acc: 0.4967\n",
      "Epoch 22/100\n",
      "4800/4800 [==============================] - 2s 335us/step - loss: 1.3371 - acc: 0.5448 - val_loss: 1.4537 - val_acc: 0.5808\n",
      "Epoch 23/100\n",
      "4800/4800 [==============================] - 2s 334us/step - loss: 1.3210 - acc: 0.5537 - val_loss: 1.4750 - val_acc: 0.5300\n",
      "Epoch 24/100\n",
      "4800/4800 [==============================] - 2s 325us/step - loss: 1.2607 - acc: 0.5796 - val_loss: 1.4310 - val_acc: 0.5525\n",
      "Epoch 25/100\n",
      "4800/4800 [==============================] - 2s 336us/step - loss: 1.2193 - acc: 0.5925 - val_loss: 1.2439 - val_acc: 0.6325\n",
      "Epoch 26/100\n",
      "4800/4800 [==============================] - 2s 338us/step - loss: 1.1769 - acc: 0.6033 - val_loss: 1.3496 - val_acc: 0.5958\n",
      "Epoch 27/100\n",
      "4800/4800 [==============================] - 2s 342us/step - loss: 1.1633 - acc: 0.6102 - val_loss: 1.3467 - val_acc: 0.5817\n",
      "Epoch 28/100\n",
      "4800/4800 [==============================] - 2s 339us/step - loss: 1.1303 - acc: 0.6127 - val_loss: 1.2989 - val_acc: 0.6042\n",
      "Epoch 29/100\n",
      "4800/4800 [==============================] - 2s 342us/step - loss: 1.0484 - acc: 0.6502 - val_loss: 1.2615 - val_acc: 0.6258\n",
      "Epoch 30/100\n",
      "4800/4800 [==============================] - 2s 332us/step - loss: 1.0455 - acc: 0.6460 - val_loss: 1.2409 - val_acc: 0.6117\n",
      "Epoch 31/100\n",
      "4800/4800 [==============================] - 2s 320us/step - loss: 0.9801 - acc: 0.6767 - val_loss: 1.1517 - val_acc: 0.6500\n",
      "Epoch 32/100\n",
      "4800/4800 [==============================] - 2s 341us/step - loss: 0.9585 - acc: 0.6763 - val_loss: 1.1949 - val_acc: 0.6333\n",
      "Epoch 33/100\n",
      "4800/4800 [==============================] - 2s 345us/step - loss: 0.9301 - acc: 0.6894 - val_loss: 1.1245 - val_acc: 0.6592\n",
      "Epoch 34/100\n",
      "4800/4800 [==============================] - 2s 326us/step - loss: 0.9020 - acc: 0.7004 - val_loss: 1.1304 - val_acc: 0.6308\n",
      "Epoch 35/100\n",
      "4800/4800 [==============================] - 2s 336us/step - loss: 0.8813 - acc: 0.7000 - val_loss: 1.0741 - val_acc: 0.6658\n",
      "Epoch 36/100\n",
      "4800/4800 [==============================] - 2s 340us/step - loss: 0.8647 - acc: 0.7096 - val_loss: 1.0459 - val_acc: 0.6758\n",
      "Epoch 37/100\n",
      "4800/4800 [==============================] - 2s 340us/step - loss: 0.8344 - acc: 0.7144 - val_loss: 1.0855 - val_acc: 0.6642\n",
      "Epoch 38/100\n",
      "4800/4800 [==============================] - 2s 339us/step - loss: 0.7796 - acc: 0.7438 - val_loss: 1.0519 - val_acc: 0.6683\n",
      "Epoch 39/100\n",
      "4800/4800 [==============================] - 2s 342us/step - loss: 0.7706 - acc: 0.7454 - val_loss: 1.0011 - val_acc: 0.7083\n",
      "Epoch 40/100\n",
      "4800/4800 [==============================] - 2s 337us/step - loss: 0.7604 - acc: 0.7469 - val_loss: 1.0020 - val_acc: 0.6783\n",
      "Epoch 41/100\n",
      "4800/4800 [==============================] - 2s 341us/step - loss: 0.7207 - acc: 0.7606 - val_loss: 0.9751 - val_acc: 0.6867\n",
      "Epoch 42/100\n",
      "4800/4800 [==============================] - 2s 345us/step - loss: 0.7041 - acc: 0.7608 - val_loss: 1.0697 - val_acc: 0.6575\n",
      "Epoch 43/100\n",
      "4800/4800 [==============================] - 2s 358us/step - loss: 0.6677 - acc: 0.7794 - val_loss: 0.9699 - val_acc: 0.6925\n",
      "Epoch 44/100\n",
      "4800/4800 [==============================] - 1s 308us/step - loss: 0.7033 - acc: 0.7762 - val_loss: 0.9881 - val_acc: 0.7050\n",
      "Epoch 45/100\n",
      "4800/4800 [==============================] - 2s 338us/step - loss: 0.6503 - acc: 0.7835 - val_loss: 0.9225 - val_acc: 0.7267\n",
      "Epoch 46/100\n",
      "4800/4800 [==============================] - 2s 336us/step - loss: 0.6147 - acc: 0.7944 - val_loss: 1.0101 - val_acc: 0.6667\n",
      "Epoch 47/100\n",
      "4800/4800 [==============================] - 2s 345us/step - loss: 0.6341 - acc: 0.7917 - val_loss: 0.9497 - val_acc: 0.7117\n",
      "Epoch 48/100\n",
      "4800/4800 [==============================] - 2s 337us/step - loss: 0.5652 - acc: 0.8071 - val_loss: 0.9068 - val_acc: 0.7092\n",
      "Epoch 49/100\n",
      "4800/4800 [==============================] - 2s 344us/step - loss: 0.5786 - acc: 0.8131 - val_loss: 0.9503 - val_acc: 0.6858\n",
      "Epoch 50/100\n",
      "4800/4800 [==============================] - 2s 345us/step - loss: 0.5526 - acc: 0.8154 - val_loss: 0.8796 - val_acc: 0.7217\n",
      "Epoch 51/100\n",
      "4800/4800 [==============================] - 2s 332us/step - loss: 0.5478 - acc: 0.8162 - val_loss: 0.9114 - val_acc: 0.7117\n",
      "Epoch 52/100\n",
      "4800/4800 [==============================] - 2s 338us/step - loss: 0.5289 - acc: 0.8263 - val_loss: 0.9077 - val_acc: 0.7175\n",
      "Epoch 53/100\n",
      "4800/4800 [==============================] - 2s 341us/step - loss: 0.5197 - acc: 0.8271 - val_loss: 0.8569 - val_acc: 0.7283\n",
      "Epoch 54/100\n",
      "4800/4800 [==============================] - 2s 343us/step - loss: 0.4590 - acc: 0.8490 - val_loss: 0.8175 - val_acc: 0.7358\n",
      "Epoch 55/100\n",
      "4800/4800 [==============================] - 2s 337us/step - loss: 0.4833 - acc: 0.8360 - val_loss: 0.8316 - val_acc: 0.7383\n",
      "Epoch 56/100\n",
      "4800/4800 [==============================] - 2s 339us/step - loss: 0.4472 - acc: 0.8521 - val_loss: 0.8448 - val_acc: 0.7175\n",
      "Epoch 57/100\n",
      "4800/4800 [==============================] - 2s 337us/step - loss: 0.4692 - acc: 0.8498 - val_loss: 0.8512 - val_acc: 0.7225\n",
      "Epoch 58/100\n",
      "4800/4800 [==============================] - 2s 323us/step - loss: 0.4525 - acc: 0.8531 - val_loss: 0.7932 - val_acc: 0.7417\n",
      "Epoch 59/100\n",
      "4800/4800 [==============================] - 2s 344us/step - loss: 0.4768 - acc: 0.8477 - val_loss: 0.8022 - val_acc: 0.7442\n",
      "Epoch 60/100\n"
     ]
    },
    {
     "name": "stdout",
     "output_type": "stream",
     "text": [
      "4800/4800 [==============================] - 2s 344us/step - loss: 0.4567 - acc: 0.8458 - val_loss: 0.7537 - val_acc: 0.7675\n",
      "Epoch 61/100\n",
      "4800/4800 [==============================] - ETA: 0s - loss: 0.4337 - acc: 0.856 - 2s 342us/step - loss: 0.4326 - acc: 0.8567 - val_loss: 0.8615 - val_acc: 0.7142\n",
      "Epoch 62/100\n",
      "4800/4800 [==============================] - 2s 338us/step - loss: 0.4163 - acc: 0.8637 - val_loss: 0.7764 - val_acc: 0.7550\n",
      "Epoch 63/100\n",
      "4800/4800 [==============================] - 2s 345us/step - loss: 0.3891 - acc: 0.8754 - val_loss: 0.8170 - val_acc: 0.7225\n",
      "Epoch 64/100\n",
      "4800/4800 [==============================] - 2s 345us/step - loss: 0.3914 - acc: 0.8748 - val_loss: 0.7278 - val_acc: 0.7808\n",
      "Epoch 65/100\n",
      "4800/4800 [==============================] - 2s 338us/step - loss: 0.3983 - acc: 0.8708 - val_loss: 0.7112 - val_acc: 0.7825\n",
      "Epoch 66/100\n",
      "4800/4800 [==============================] - 2s 317us/step - loss: 0.3844 - acc: 0.8754 - val_loss: 0.7279 - val_acc: 0.7733\n",
      "Epoch 67/100\n",
      "4800/4800 [==============================] - 2s 336us/step - loss: 0.3778 - acc: 0.8754 - val_loss: 0.6997 - val_acc: 0.7733\n",
      "Epoch 68/100\n",
      "4800/4800 [==============================] - 2s 343us/step - loss: 0.3834 - acc: 0.8787 - val_loss: 0.7025 - val_acc: 0.7675\n",
      "Epoch 69/100\n",
      "4800/4800 [==============================] - 2s 345us/step - loss: 0.3675 - acc: 0.8777 - val_loss: 0.6978 - val_acc: 0.7792\n",
      "Epoch 70/100\n",
      "4800/4800 [==============================] - 2s 343us/step - loss: 0.3545 - acc: 0.8852 - val_loss: 0.7149 - val_acc: 0.7750\n",
      "Epoch 71/100\n",
      "4800/4800 [==============================] - 2s 349us/step - loss: 0.3524 - acc: 0.8854 - val_loss: 0.7081 - val_acc: 0.7858\n",
      "Epoch 72/100\n",
      "4800/4800 [==============================] - 2s 343us/step - loss: 0.3655 - acc: 0.8846 - val_loss: 0.7412 - val_acc: 0.7683\n",
      "Epoch 73/100\n",
      "4800/4800 [==============================] - 2s 351us/step - loss: 0.3505 - acc: 0.8935 - val_loss: 0.7271 - val_acc: 0.7767\n",
      "Epoch 74/100\n",
      "4800/4800 [==============================] - 2s 342us/step - loss: 0.3223 - acc: 0.8973 - val_loss: 0.7078 - val_acc: 0.7692\n",
      "Epoch 75/100\n",
      "4800/4800 [==============================] - 2s 338us/step - loss: 0.3339 - acc: 0.8875 - val_loss: 0.7426 - val_acc: 0.7625\n",
      "Epoch 76/100\n",
      "4800/4800 [==============================] - 2s 345us/step - loss: 0.3134 - acc: 0.8962 - val_loss: 0.7690 - val_acc: 0.7617\n",
      "Epoch 77/100\n",
      "4800/4800 [==============================] - 2s 345us/step - loss: 0.3311 - acc: 0.8921 - val_loss: 0.6994 - val_acc: 0.7708\n",
      "Epoch 78/100\n",
      "4800/4800 [==============================] - 2s 352us/step - loss: 0.3087 - acc: 0.9019 - val_loss: 0.7021 - val_acc: 0.7792\n",
      "Epoch 79/100\n",
      "4800/4800 [==============================] - 2s 348us/step - loss: 0.2783 - acc: 0.9150 - val_loss: 0.6836 - val_acc: 0.7842\n",
      "Epoch 80/100\n",
      "4800/4800 [==============================] - 2s 350us/step - loss: 0.3073 - acc: 0.8992 - val_loss: 0.7026 - val_acc: 0.7817\n",
      "Epoch 81/100\n",
      "4800/4800 [==============================] - 2s 348us/step - loss: 0.3127 - acc: 0.8981 - val_loss: 0.7347 - val_acc: 0.7650\n",
      "Epoch 82/100\n",
      "4800/4800 [==============================] - 2s 345us/step - loss: 0.2855 - acc: 0.9077 - val_loss: 0.7367 - val_acc: 0.7550\n",
      "Epoch 83/100\n",
      "4800/4800 [==============================] - 2s 345us/step - loss: 0.3067 - acc: 0.8998 - val_loss: 0.7274 - val_acc: 0.7650\n",
      "Epoch 84/100\n",
      "4800/4800 [==============================] - 2s 339us/step - loss: 0.2743 - acc: 0.9165 - val_loss: 0.7445 - val_acc: 0.7592\n",
      "Epoch 85/100\n",
      "4800/4800 [==============================] - 2s 345us/step - loss: 0.2875 - acc: 0.9104 - val_loss: 0.6849 - val_acc: 0.7783\n",
      "Epoch 86/100\n",
      "4800/4800 [==============================] - 2s 347us/step - loss: 0.2952 - acc: 0.9040 - val_loss: 0.7008 - val_acc: 0.7742\n",
      "Epoch 87/100\n",
      "4800/4800 [==============================] - 2s 359us/step - loss: 0.2698 - acc: 0.9215 - val_loss: 0.7972 - val_acc: 0.7450\n",
      "Epoch 88/100\n",
      "4800/4800 [==============================] - 2s 348us/step - loss: 0.2416 - acc: 0.9163 - val_loss: 0.6904 - val_acc: 0.7800\n",
      "Epoch 89/100\n",
      "4800/4800 [==============================] - 2s 345us/step - loss: 0.2886 - acc: 0.9090 - val_loss: 0.7547 - val_acc: 0.7683\n",
      "Epoch 90/100\n",
      "4800/4800 [==============================] - 2s 342us/step - loss: 0.2565 - acc: 0.9206 - val_loss: 0.6810 - val_acc: 0.7867\n",
      "Epoch 91/100\n",
      "4800/4800 [==============================] - 2s 338us/step - loss: 0.2618 - acc: 0.9154 - val_loss: 0.6474 - val_acc: 0.7992\n",
      "Epoch 92/100\n",
      "4800/4800 [==============================] - 2s 346us/step - loss: 0.2720 - acc: 0.9117 - val_loss: 0.7391 - val_acc: 0.7667\n",
      "Epoch 93/100\n",
      "4800/4800 [==============================] - 2s 345us/step - loss: 0.2608 - acc: 0.9177 - val_loss: 0.6921 - val_acc: 0.7833\n",
      "Epoch 94/100\n",
      "4800/4800 [==============================] - 2s 342us/step - loss: 0.2850 - acc: 0.9133 - val_loss: 0.6814 - val_acc: 0.7767\n",
      "Epoch 95/100\n",
      "4800/4800 [==============================] - 2s 345us/step - loss: 0.2166 - acc: 0.9306 - val_loss: 0.7031 - val_acc: 0.7833\n",
      "Epoch 96/100\n",
      "4800/4800 [==============================] - 2s 348us/step - loss: 0.2277 - acc: 0.9265 - val_loss: 0.6802 - val_acc: 0.7892\n",
      "Epoch 97/100\n",
      "4800/4800 [==============================] - 2s 345us/step - loss: 0.2601 - acc: 0.9175 - val_loss: 0.7340 - val_acc: 0.7658\n",
      "Epoch 98/100\n",
      "4800/4800 [==============================] - 2s 352us/step - loss: 0.2637 - acc: 0.9175 - val_loss: 0.7009 - val_acc: 0.7758\n",
      "Epoch 99/100\n",
      "4800/4800 [==============================] - 2s 352us/step - loss: 0.2336 - acc: 0.9254 - val_loss: 0.6905 - val_acc: 0.7800\n",
      "Epoch 100/100\n",
      "4800/4800 [==============================] - 2s 348us/step - loss: 0.2485 - acc: 0.9269 - val_loss: 0.7283 - val_acc: 0.7583\n"
     ]
    }
   ],
   "source": [
    "model.compile(optimizer = 'adam', metrics = ['accuracy'], loss = 'categorical_crossentropy')\n",
    "\n",
    "#es = EarlyStopping(monitor='val_loss', patience=20, mode='min', verbose=1)\n",
    "cp = ModelCheckpoint('./models/{epoch:02d}-{val_acc:.4f}.h5', monitor='val_loss',\n",
    "                     save_best_only=True, mode='min')\n",
    "\n",
    "history = model.fit([x_train, x_letter_train], y_train,\n",
    "                    validation_data=([x_val, x_letter_val], y_val), \n",
    "                    batch_size=64, epochs=100, verbose=1, callbacks = [cp])"
   ]
  },
  {
   "cell_type": "code",
   "execution_count": 15,
   "metadata": {
    "ExecuteTime": {
     "end_time": "2020-08-21T03:04:41.765537Z",
     "start_time": "2020-08-21T03:04:38.682375Z"
    }
   },
   "outputs": [],
   "source": [
    "from tensorflow.keras.models import load_model\n",
    "best_model = load_model('models/base_dropout.h5')"
   ]
  },
  {
   "cell_type": "code",
   "execution_count": 16,
   "metadata": {
    "ExecuteTime": {
     "end_time": "2020-08-21T03:04:42.031899Z",
     "start_time": "2020-08-21T03:04:41.770564Z"
    }
   },
   "outputs": [
    {
     "name": "stdout",
     "output_type": "stream",
     "text": [
      "48/48 [==============================] - 0s 5ms/step\n"
     ]
    },
    {
     "data": {
      "text/plain": [
       "[0.854184110959371, 0.7083333333333334]"
      ]
     },
     "execution_count": 16,
     "metadata": {},
     "output_type": "execute_result"
    }
   ],
   "source": [
    "evaluate = best_model.evaluate([valid_x, valid_x_letter], valid_y)\n",
    "evaluate"
   ]
  },
  {
   "cell_type": "code",
   "execution_count": 14,
   "metadata": {
    "ExecuteTime": {
     "end_time": "2020-08-21T03:04:04.766219Z",
     "start_time": "2020-08-21T03:04:04.752279Z"
    }
   },
   "outputs": [],
   "source": [
    "#submission = pd.read_csv('data/val.csv')\n",
    "#submission['digit'] = np.argmax(best_model.predict([x_test, x_letter_test]), axis=1)\n",
    "#submission.to_csv('data/val(CNN).csv', index=False)"
   ]
  },
  {
   "cell_type": "code",
   "execution_count": null,
   "metadata": {},
   "outputs": [],
   "source": []
  }
 ],
 "metadata": {
  "kernelspec": {
   "display_name": "Python 3",
   "language": "python",
   "name": "python3"
  },
  "language_info": {
   "codemirror_mode": {
    "name": "ipython",
    "version": 3
   },
   "file_extension": ".py",
   "mimetype": "text/x-python",
   "name": "python",
   "nbconvert_exporter": "python",
   "pygments_lexer": "ipython3",
   "version": "3.6.10"
  }
 },
 "nbformat": 4,
 "nbformat_minor": 4
}
