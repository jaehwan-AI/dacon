{
 "cells": [
  {
   "cell_type": "code",
   "execution_count": 1,
   "metadata": {
    "ExecuteTime": {
     "end_time": "2020-08-21T04:09:51.391600Z",
     "start_time": "2020-08-21T04:09:48.578132Z"
    }
   },
   "outputs": [],
   "source": [
    "import pandas as pd\n",
    "import numpy as np\n",
    "import tensorflow as tf\n",
    "from sklearn.preprocessing import OneHotEncoder\n",
    "from sklearn.model_selection import train_test_split\n",
    "from tensorflow.keras.models import Model\n",
    "from tensorflow.keras.layers import Input, Conv2D, MaxPooling2D, Flatten, Dense\n",
    "from tensorflow.keras.layers import concatenate, Dropout\n",
    "from tensorflow.keras.preprocessing.image import ImageDataGenerator\n",
    "from tensorflow.keras.callbacks import EarlyStopping, ModelCheckpoint\n",
    "\n",
    "# seed\n",
    "import os\n",
    "seed = 123\n",
    "os.environ['PYTHONHASHSEED'] = str(seed)\n",
    "np.random.seed(seed)\n",
    "tf.set_random_seed(seed)"
   ]
  },
  {
   "cell_type": "code",
   "execution_count": 2,
   "metadata": {
    "ExecuteTime": {
     "end_time": "2020-08-21T04:09:53.141598Z",
     "start_time": "2020-08-21T04:09:51.391600Z"
    }
   },
   "outputs": [],
   "source": [
    "train = np.load('data/train.npy', allow_pickle = 'True')\n",
    "test = np.load('data/test.npy', allow_pickle = 'True')"
   ]
  },
  {
   "cell_type": "code",
   "execution_count": 3,
   "metadata": {
    "ExecuteTime": {
     "end_time": "2020-08-21T04:09:53.157329Z",
     "start_time": "2020-08-21T04:09:53.141598Z"
    }
   },
   "outputs": [
    {
     "name": "stdout",
     "output_type": "stream",
     "text": [
      "(2048, 28, 28, 1)\n",
      "(2048, 26)\n",
      "(2048, 10)\n"
     ]
    }
   ],
   "source": [
    "x = train[:,2:]\n",
    "x = np.reshape(x, (-1, 28, 28, 1))\n",
    "\n",
    "x_letter = train[:,1]\n",
    "x_letter = np.reshape(x_letter, (-1, 1))\n",
    "en = OneHotEncoder()\n",
    "x_letter = en.fit_transform(x_letter).toarray()\n",
    "\n",
    "y = train[:,0]\n",
    "y = np.reshape(y, (-1, 1))\n",
    "en = OneHotEncoder()\n",
    "y = en.fit_transform(y).toarray()\n",
    "\n",
    "print(x.shape)\n",
    "print(x_letter.shape)\n",
    "print(y.shape)"
   ]
  },
  {
   "cell_type": "code",
   "execution_count": 4,
   "metadata": {
    "ExecuteTime": {
     "end_time": "2020-08-21T04:09:53.173261Z",
     "start_time": "2020-08-21T04:09:53.158325Z"
    }
   },
   "outputs": [
    {
     "name": "stdout",
     "output_type": "stream",
     "text": [
      "(2000, 28, 28, 1)\n",
      "(48, 28, 28, 1)\n",
      "(2000, 26)\n",
      "(48, 26)\n",
      "(2000, 10)\n",
      "(48, 10)\n"
     ]
    }
   ],
   "source": [
    "valid_size = 48\n",
    "valid_x = x[-valid_size:]\n",
    "x = x[:-48]\n",
    "\n",
    "valid_x_letter = x_letter[-valid_size:]\n",
    "x_letter = x_letter[:-48]\n",
    "\n",
    "valid_y = y[-valid_size:]\n",
    "y = y[:-48]\n",
    "\n",
    "print(x.shape)\n",
    "print(valid_x.shape)\n",
    "print(x_letter.shape)\n",
    "print(valid_x_letter.shape)\n",
    "print(y.shape)\n",
    "print(valid_y.shape)"
   ]
  },
  {
   "cell_type": "code",
   "execution_count": 5,
   "metadata": {
    "ExecuteTime": {
     "end_time": "2020-08-21T04:09:53.189392Z",
     "start_time": "2020-08-21T04:09:53.174257Z"
    }
   },
   "outputs": [],
   "source": [
    "image_generator = ImageDataGenerator(width_shift_range=0.1,\n",
    "                                     height_shift_range=0.1, \n",
    "                                     zoom_range=[0.8,1.2],\n",
    "                                     shear_range=10)"
   ]
  },
  {
   "cell_type": "code",
   "execution_count": 6,
   "metadata": {
    "ExecuteTime": {
     "end_time": "2020-08-21T04:09:55.609939Z",
     "start_time": "2020-08-21T04:09:53.191551Z"
    }
   },
   "outputs": [
    {
     "name": "stdout",
     "output_type": "stream",
     "text": [
      "(6000, 28, 28, 1)\n"
     ]
    }
   ],
   "source": [
    "x_total = x.copy()\n",
    "def augment(x):\n",
    "    aug_list = []\n",
    "    for i in range(x.shape[0]):\n",
    "        num_aug = 0\n",
    "        tmp = x[i]\n",
    "        tmp = tmp.reshape((1,) + tmp.shape)\n",
    "        for x_aug in image_generator.flow(tmp, batch_size = 1) :\n",
    "            if num_aug >= 1:\n",
    "                break\n",
    "            aug_list.append(x_aug[0])\n",
    "            num_aug += 1\n",
    "    aug_list = np.array(aug_list)\n",
    "    return aug_list\n",
    "\n",
    "n = 2\n",
    "for i in range(n):\n",
    "    arr = augment(x)\n",
    "    x_total = np.concatenate((x_total, arr), axis=0)\n",
    "    if i > n:\n",
    "        break\n",
    "\n",
    "print(x_total.shape)"
   ]
  },
  {
   "cell_type": "code",
   "execution_count": 7,
   "metadata": {
    "ExecuteTime": {
     "end_time": "2020-08-21T04:09:55.641525Z",
     "start_time": "2020-08-21T04:09:55.613914Z"
    }
   },
   "outputs": [
    {
     "name": "stdout",
     "output_type": "stream",
     "text": [
      "(6000, 10)\n"
     ]
    }
   ],
   "source": [
    "y_total = y.copy()\n",
    "for i in range(n):\n",
    "    arr = y.copy()\n",
    "    y_total = np.concatenate((y_total, arr), axis=0)\n",
    "\n",
    "print(y_total.shape)"
   ]
  },
  {
   "cell_type": "code",
   "execution_count": 8,
   "metadata": {
    "ExecuteTime": {
     "end_time": "2020-08-21T04:09:55.673439Z",
     "start_time": "2020-08-21T04:09:55.647560Z"
    }
   },
   "outputs": [
    {
     "name": "stdout",
     "output_type": "stream",
     "text": [
      "(6000, 26)\n"
     ]
    }
   ],
   "source": [
    "x_letter_total = x_letter.copy()\n",
    "for i in range(n):\n",
    "    arr = x_letter.copy()\n",
    "    x_letter_total = np.concatenate((x_letter_total, arr), axis=0)\n",
    "    \n",
    "print(x_letter_total.shape)"
   ]
  },
  {
   "cell_type": "code",
   "execution_count": 9,
   "metadata": {
    "ExecuteTime": {
     "end_time": "2020-08-21T04:09:55.720006Z",
     "start_time": "2020-08-21T04:09:55.677430Z"
    }
   },
   "outputs": [
    {
     "name": "stdout",
     "output_type": "stream",
     "text": [
      "(4800, 28, 28, 1)\n",
      "(1200, 28, 28, 1)\n",
      "(4800, 10)\n",
      "(1200, 10)\n",
      "(4800, 26)\n",
      "(1200, 26)\n"
     ]
    }
   ],
   "source": [
    "x_train, x_val, y_train, y_val = train_test_split(x_total, y_total, test_size=0.2, shuffle=True)#, stratify=y_total)\n",
    "x_letter_train = x_letter_total[:x_train.shape[0],:]\n",
    "x_letter_val = x_letter_total[x_train.shape[0]:,:]\n",
    "\n",
    "print(x_train.shape)\n",
    "print(x_val.shape)\n",
    "print(y_train.shape)\n",
    "print(y_val.shape)\n",
    "print(x_letter_train.shape)\n",
    "print(x_letter_val.shape)"
   ]
  },
  {
   "cell_type": "code",
   "execution_count": 10,
   "metadata": {
    "ExecuteTime": {
     "end_time": "2020-08-21T04:09:56.098284Z",
     "start_time": "2020-08-21T04:09:55.721998Z"
    }
   },
   "outputs": [
    {
     "name": "stdout",
     "output_type": "stream",
     "text": [
      "_________________________________________________________________\n",
      "Layer (type)                 Output Shape              Param #   \n",
      "=================================================================\n",
      "input_1 (InputLayer)         (None, 28, 28, 1)         0         \n",
      "_________________________________________________________________\n",
      "conv2d (Conv2D)              (None, 28, 28, 64)        640       \n",
      "_________________________________________________________________\n",
      "conv2d_1 (Conv2D)            (None, 28, 28, 64)        36928     \n",
      "_________________________________________________________________\n",
      "max_pooling2d (MaxPooling2D) (None, 14, 14, 64)        0         \n",
      "_________________________________________________________________\n",
      "conv2d_2 (Conv2D)            (None, 14, 14, 64)        16448     \n",
      "_________________________________________________________________\n",
      "conv2d_3 (Conv2D)            (None, 14, 14, 64)        16448     \n",
      "_________________________________________________________________\n",
      "max_pooling2d_1 (MaxPooling2 (None, 7, 7, 64)          0         \n",
      "_________________________________________________________________\n",
      "conv2d_4 (Conv2D)            (None, 7, 7, 128)         32896     \n",
      "_________________________________________________________________\n",
      "conv2d_5 (Conv2D)            (None, 7, 7, 64)          32832     \n",
      "_________________________________________________________________\n",
      "max_pooling2d_2 (MaxPooling2 (None, 3, 3, 64)          0         \n",
      "_________________________________________________________________\n",
      "flatten (Flatten)            (None, 576)               0         \n",
      "_________________________________________________________________\n",
      "dense (Dense)                (None, 100)               57700     \n",
      "_________________________________________________________________\n",
      "dropout (Dropout)            (None, 100)               0         \n",
      "_________________________________________________________________\n",
      "dense_1 (Dense)              (None, 50)                5050      \n",
      "_________________________________________________________________\n",
      "dropout_1 (Dropout)          (None, 50)                0         \n",
      "_________________________________________________________________\n",
      "dense_2 (Dense)              (None, 10)                510       \n",
      "=================================================================\n",
      "Total params: 199,452\n",
      "Trainable params: 199,452\n",
      "Non-trainable params: 0\n",
      "_________________________________________________________________\n"
     ]
    }
   ],
   "source": [
    "input1 = Input(shape=(28,28,1))\n",
    "x1 = Conv2D(64, (3,3), activation='relu', padding='same')(input1)\n",
    "x1 = Conv2D(64, (3,3), activation='relu', padding='same')(x1)\n",
    "#x1 = Dropout(0.3)(x1)\n",
    "x1 = MaxPooling2D((2,2))(x1)\n",
    "x1 = Conv2D(64, (2,2), activation='relu', padding='same')(x1)\n",
    "x1 = Conv2D(64, (2,2), activation='relu', padding='same')(x1)\n",
    "#x1 = Dropout(0.3)(x1)\n",
    "x1 = MaxPooling2D((2,2))(x1)\n",
    "x1 = Conv2D(128, (2,2), activation='relu', padding='same')(x1)\n",
    "x1 = Conv2D(64, (2,2), activation='relu', padding='same')(x1)\n",
    "#x1 = Dropout(0.3)(x1)\n",
    "x1 = MaxPooling2D((2,2))(x1)\n",
    "x1 = Flatten()(x1)\n",
    "\n",
    "#input2 = Input(shape=(26,))\n",
    "#x2 = Dense(50, activation='relu')(input2)\n",
    "#x2 = Dropout(0.3)(x2)\n",
    "\n",
    "#merge = concatenate([x1, input2])\n",
    "\n",
    "#x2 = Dense(500, activation='relu')(merge)\n",
    "#x2 = Dropout(0.3)(x2)\n",
    "x2 = Dense(100, activation='relu')(x1)\n",
    "x2 = Dropout(0.3)(x2)\n",
    "x2 = Dense(50, activation='relu')(x2)\n",
    "x2 = Dropout(0.3)(x2)\n",
    "outputs = Dense(10, activation='softmax')(x2)\n",
    "\n",
    "model = Model(inputs = input1, outputs = outputs)\n",
    "\n",
    "model.summary()"
   ]
  },
  {
   "cell_type": "code",
   "execution_count": 11,
   "metadata": {
    "ExecuteTime": {
     "end_time": "2020-08-21T04:12:59.766735Z",
     "start_time": "2020-08-21T04:09:56.100276Z"
    }
   },
   "outputs": [
    {
     "name": "stdout",
     "output_type": "stream",
     "text": [
      "Train on 4800 samples, validate on 1200 samples\n",
      "Epoch 1/100\n",
      "4800/4800 [==============================] - 5s 1ms/step - loss: 2.3885 - acc: 0.1169 - val_loss: 2.2811 - val_acc: 0.1600\n",
      "Epoch 2/100\n",
      "4800/4800 [==============================] - 2s 368us/step - loss: 2.2657 - acc: 0.1388 - val_loss: 2.1939 - val_acc: 0.1867\n",
      "Epoch 3/100\n",
      "4800/4800 [==============================] - 2s 345us/step - loss: 2.1920 - acc: 0.1875 - val_loss: 2.0901 - val_acc: 0.2592\n",
      "Epoch 4/100\n",
      "4800/4800 [==============================] - 2s 372us/step - loss: 2.0789 - acc: 0.2279 - val_loss: 1.8578 - val_acc: 0.3883\n",
      "Epoch 5/100\n",
      "4800/4800 [==============================] - 2s 364us/step - loss: 1.9198 - acc: 0.3225 - val_loss: 1.6798 - val_acc: 0.4150\n",
      "Epoch 6/100\n",
      "4800/4800 [==============================] - 2s 368us/step - loss: 1.7600 - acc: 0.3869 - val_loss: 1.5936 - val_acc: 0.4692\n",
      "Epoch 7/100\n",
      "4800/4800 [==============================] - 2s 364us/step - loss: 1.5708 - acc: 0.4617 - val_loss: 1.3751 - val_acc: 0.5492\n",
      "Epoch 8/100\n",
      "4800/4800 [==============================] - 2s 360us/step - loss: 1.4293 - acc: 0.5079 - val_loss: 1.2497 - val_acc: 0.5883\n",
      "Epoch 9/100\n",
      "4800/4800 [==============================] - 2s 359us/step - loss: 1.3267 - acc: 0.5525 - val_loss: 1.1608 - val_acc: 0.6308\n",
      "Epoch 10/100\n",
      "4800/4800 [==============================] - 2s 362us/step - loss: 1.2075 - acc: 0.5973 - val_loss: 1.0623 - val_acc: 0.6383\n",
      "Epoch 11/100\n",
      "4800/4800 [==============================] - 2s 362us/step - loss: 1.0573 - acc: 0.6506 - val_loss: 0.9703 - val_acc: 0.6758\n",
      "Epoch 12/100\n",
      "4800/4800 [==============================] - 2s 366us/step - loss: 0.9655 - acc: 0.6773 - val_loss: 0.9914 - val_acc: 0.6683\n",
      "Epoch 13/100\n",
      "4800/4800 [==============================] - 2s 369us/step - loss: 0.9057 - acc: 0.7013 - val_loss: 0.9482 - val_acc: 0.6767\n",
      "Epoch 14/100\n",
      "4800/4800 [==============================] - 2s 356us/step - loss: 0.8203 - acc: 0.7283 - val_loss: 0.8938 - val_acc: 0.7100\n",
      "Epoch 15/100\n",
      "4800/4800 [==============================] - 2s 362us/step - loss: 0.7289 - acc: 0.7594 - val_loss: 0.9268 - val_acc: 0.6958\n",
      "Epoch 16/100\n",
      "4800/4800 [==============================] - 2s 365us/step - loss: 0.6699 - acc: 0.7727 - val_loss: 0.8558 - val_acc: 0.7225\n",
      "Epoch 17/100\n",
      "4800/4800 [==============================] - 2s 358us/step - loss: 0.6281 - acc: 0.7873 - val_loss: 0.8496 - val_acc: 0.7208\n",
      "Epoch 18/100\n",
      "4800/4800 [==============================] - 2s 370us/step - loss: 0.5622 - acc: 0.8127 - val_loss: 0.8205 - val_acc: 0.7400\n",
      "Epoch 19/100\n",
      "4800/4800 [==============================] - 2s 364us/step - loss: 0.4798 - acc: 0.8419 - val_loss: 0.8353 - val_acc: 0.7208\n",
      "Epoch 20/100\n",
      "4800/4800 [==============================] - 2s 361us/step - loss: 0.4736 - acc: 0.8354 - val_loss: 0.8473 - val_acc: 0.7583\n",
      "Epoch 21/100\n",
      "4800/4800 [==============================] - 2s 374us/step - loss: 0.4054 - acc: 0.8608 - val_loss: 0.8406 - val_acc: 0.7525\n",
      "Epoch 22/100\n",
      "4800/4800 [==============================] - 2s 365us/step - loss: 0.3989 - acc: 0.8696 - val_loss: 0.9107 - val_acc: 0.7367\n",
      "Epoch 23/100\n",
      "4800/4800 [==============================] - 2s 358us/step - loss: 0.3612 - acc: 0.8762 - val_loss: 0.9553 - val_acc: 0.7350\n",
      "Epoch 24/100\n",
      "4800/4800 [==============================] - 2s 365us/step - loss: 0.3945 - acc: 0.8713 - val_loss: 0.9158 - val_acc: 0.7400\n",
      "Epoch 25/100\n",
      "4800/4800 [==============================] - 2s 368us/step - loss: 0.2969 - acc: 0.9058 - val_loss: 0.9805 - val_acc: 0.7675\n",
      "Epoch 26/100\n",
      "4800/4800 [==============================] - 2s 368us/step - loss: 0.3313 - acc: 0.8883 - val_loss: 0.8944 - val_acc: 0.7492\n",
      "Epoch 27/100\n",
      "4800/4800 [==============================] - 2s 371us/step - loss: 0.2615 - acc: 0.9158 - val_loss: 0.9815 - val_acc: 0.7550\n",
      "Epoch 28/100\n",
      "4800/4800 [==============================] - 2s 371us/step - loss: 0.2492 - acc: 0.9146 - val_loss: 0.9367 - val_acc: 0.7700\n",
      "Epoch 29/100\n",
      "4800/4800 [==============================] - 2s 368us/step - loss: 0.2498 - acc: 0.9231 - val_loss: 0.9248 - val_acc: 0.7708\n",
      "Epoch 30/100\n",
      "4800/4800 [==============================] - 2s 371us/step - loss: 0.2252 - acc: 0.9267 - val_loss: 0.9740 - val_acc: 0.7617\n",
      "Epoch 31/100\n",
      "4800/4800 [==============================] - 2s 348us/step - loss: 0.2353 - acc: 0.9254 - val_loss: 0.9508 - val_acc: 0.7650\n",
      "Epoch 32/100\n",
      "4800/4800 [==============================] - 2s 365us/step - loss: 0.2060 - acc: 0.9321 - val_loss: 1.1001 - val_acc: 0.7658\n",
      "Epoch 33/100\n",
      "4800/4800 [==============================] - 2s 361us/step - loss: 0.2315 - acc: 0.9229 - val_loss: 1.1022 - val_acc: 0.7558\n",
      "Epoch 34/100\n",
      "4800/4800 [==============================] - 2s 371us/step - loss: 0.1796 - acc: 0.9398 - val_loss: 1.0925 - val_acc: 0.7558\n",
      "Epoch 35/100\n",
      "4800/4800 [==============================] - 2s 358us/step - loss: 0.1925 - acc: 0.9350 - val_loss: 1.0961 - val_acc: 0.7575\n",
      "Epoch 36/100\n",
      "4800/4800 [==============================] - 2s 365us/step - loss: 0.1702 - acc: 0.9450 - val_loss: 1.0542 - val_acc: 0.7617\n",
      "Epoch 37/100\n",
      "4800/4800 [==============================] - 2s 371us/step - loss: 0.2274 - acc: 0.9300 - val_loss: 1.1798 - val_acc: 0.7425\n",
      "Epoch 38/100\n",
      "4800/4800 [==============================] - 2s 378us/step - loss: 0.1851 - acc: 0.9417 - val_loss: 1.0605 - val_acc: 0.7625\n",
      "Epoch 39/100\n",
      "4800/4800 [==============================] - 2s 371us/step - loss: 0.1556 - acc: 0.9513 - val_loss: 1.1523 - val_acc: 0.7583\n",
      "Epoch 40/100\n",
      "4800/4800 [==============================] - 2s 374us/step - loss: 0.1471 - acc: 0.9531 - val_loss: 1.1045 - val_acc: 0.7600\n",
      "Epoch 41/100\n",
      "4800/4800 [==============================] - 2s 371us/step - loss: 0.1316 - acc: 0.9581 - val_loss: 1.1938 - val_acc: 0.7642\n",
      "Epoch 42/100\n",
      "4800/4800 [==============================] - 2s 361us/step - loss: 0.1281 - acc: 0.9602 - val_loss: 1.2557 - val_acc: 0.7658\n",
      "Epoch 43/100\n",
      "4800/4800 [==============================] - 2s 368us/step - loss: 0.1706 - acc: 0.9508 - val_loss: 1.2433 - val_acc: 0.7600\n",
      "Epoch 44/100\n",
      "4800/4800 [==============================] - 2s 378us/step - loss: 0.1505 - acc: 0.9535 - val_loss: 1.2609 - val_acc: 0.7733\n",
      "Epoch 45/100\n",
      "4800/4800 [==============================] - 2s 371us/step - loss: 0.1440 - acc: 0.9573 - val_loss: 1.1341 - val_acc: 0.7533\n",
      "Epoch 46/100\n",
      "4800/4800 [==============================] - 2s 368us/step - loss: 0.1607 - acc: 0.9562 - val_loss: 1.1177 - val_acc: 0.7758\n",
      "Epoch 47/100\n",
      "4800/4800 [==============================] - 2s 368us/step - loss: 0.1415 - acc: 0.9567 - val_loss: 1.3202 - val_acc: 0.7575\n",
      "Epoch 48/100\n",
      "4800/4800 [==============================] - 2s 371us/step - loss: 0.1262 - acc: 0.9596 - val_loss: 1.1842 - val_acc: 0.7725\n",
      "Epoch 49/100\n",
      "4800/4800 [==============================] - 2s 365us/step - loss: 0.1414 - acc: 0.9508 - val_loss: 1.1371 - val_acc: 0.7742\n",
      "Epoch 50/100\n",
      "4800/4800 [==============================] - 2s 371us/step - loss: 0.1193 - acc: 0.9650 - val_loss: 1.2129 - val_acc: 0.7692\n",
      "Epoch 51/100\n",
      "4800/4800 [==============================] - 2s 378us/step - loss: 0.0919 - acc: 0.9706 - val_loss: 1.3329 - val_acc: 0.7750\n",
      "Epoch 52/100\n",
      "4800/4800 [==============================] - 2s 378us/step - loss: 0.0937 - acc: 0.9719 - val_loss: 1.1401 - val_acc: 0.7917\n",
      "Epoch 53/100\n",
      "4800/4800 [==============================] - 2s 378us/step - loss: 0.0754 - acc: 0.9790 - val_loss: 1.3771 - val_acc: 0.7792\n",
      "Epoch 54/100\n",
      "4800/4800 [==============================] - 2s 371us/step - loss: 0.1435 - acc: 0.9567 - val_loss: 1.2722 - val_acc: 0.7458\n",
      "Epoch 55/100\n",
      "4800/4800 [==============================] - 2s 371us/step - loss: 0.1340 - acc: 0.9577 - val_loss: 1.3387 - val_acc: 0.7617\n",
      "Epoch 56/100\n",
      "4800/4800 [==============================] - 2s 370us/step - loss: 0.1473 - acc: 0.9540 - val_loss: 1.3235 - val_acc: 0.7642\n",
      "Epoch 57/100\n",
      "4800/4800 [==============================] - 2s 359us/step - loss: 0.1367 - acc: 0.9550 - val_loss: 1.1958 - val_acc: 0.7725\n",
      "Epoch 58/100\n",
      "4800/4800 [==============================] - 2s 374us/step - loss: 0.1064 - acc: 0.9679 - val_loss: 1.3147 - val_acc: 0.7542\n",
      "Epoch 59/100\n",
      "4800/4800 [==============================] - 2s 367us/step - loss: 0.1208 - acc: 0.9625 - val_loss: 1.2324 - val_acc: 0.7700\n",
      "Epoch 60/100\n"
     ]
    },
    {
     "name": "stdout",
     "output_type": "stream",
     "text": [
      "4800/4800 [==============================] - 2s 371us/step - loss: 0.1041 - acc: 0.9706 - val_loss: 1.1748 - val_acc: 0.7733\n",
      "Epoch 61/100\n",
      "4800/4800 [==============================] - 2s 371us/step - loss: 0.0806 - acc: 0.9746 - val_loss: 1.2404 - val_acc: 0.7967\n",
      "Epoch 62/100\n",
      "4800/4800 [==============================] - 2s 364us/step - loss: 0.0792 - acc: 0.9744 - val_loss: 1.2408 - val_acc: 0.7850\n",
      "Epoch 63/100\n",
      "4800/4800 [==============================] - 2s 358us/step - loss: 0.1062 - acc: 0.9663 - val_loss: 1.2911 - val_acc: 0.7608\n",
      "Epoch 64/100\n",
      "4800/4800 [==============================] - 2s 368us/step - loss: 0.1601 - acc: 0.9525 - val_loss: 1.3380 - val_acc: 0.7550\n",
      "Epoch 65/100\n",
      "4800/4800 [==============================] - 2s 365us/step - loss: 0.1176 - acc: 0.9623 - val_loss: 1.2906 - val_acc: 0.7650\n",
      "Epoch 66/100\n",
      "4800/4800 [==============================] - 2s 374us/step - loss: 0.0880 - acc: 0.9737 - val_loss: 1.2516 - val_acc: 0.7708\n",
      "Epoch 67/100\n",
      "4800/4800 [==============================] - 2s 378us/step - loss: 0.0921 - acc: 0.9737 - val_loss: 1.3470 - val_acc: 0.7617\n",
      "Epoch 68/100\n",
      "4800/4800 [==============================] - 2s 371us/step - loss: 0.1045 - acc: 0.9704 - val_loss: 1.3223 - val_acc: 0.7692\n",
      "Epoch 69/100\n",
      "4800/4800 [==============================] - 2s 372us/step - loss: 0.1067 - acc: 0.9692 - val_loss: 1.2795 - val_acc: 0.7592\n",
      "Epoch 70/100\n",
      "4800/4800 [==============================] - 2s 367us/step - loss: 0.0615 - acc: 0.9831 - val_loss: 1.4884 - val_acc: 0.7675\n",
      "Epoch 71/100\n",
      "4800/4800 [==============================] - 2s 368us/step - loss: 0.1338 - acc: 0.9581 - val_loss: 1.2744 - val_acc: 0.7517\n",
      "Epoch 72/100\n",
      "4800/4800 [==============================] - 2s 371us/step - loss: 0.1042 - acc: 0.9700 - val_loss: 1.2186 - val_acc: 0.7767\n",
      "Epoch 73/100\n",
      "4800/4800 [==============================] - 2s 371us/step - loss: 0.0690 - acc: 0.9781 - val_loss: 1.1775 - val_acc: 0.7850\n",
      "Epoch 74/100\n",
      "4800/4800 [==============================] - 2s 371us/step - loss: 0.0721 - acc: 0.9788 - val_loss: 1.2594 - val_acc: 0.7700\n",
      "Epoch 75/100\n",
      "4800/4800 [==============================] - 2s 381us/step - loss: 0.0832 - acc: 0.9779 - val_loss: 1.3594 - val_acc: 0.7725\n",
      "Epoch 76/100\n",
      "4800/4800 [==============================] - 2s 381us/step - loss: 0.1425 - acc: 0.9602 - val_loss: 1.3793 - val_acc: 0.7333\n",
      "Epoch 77/100\n",
      "4800/4800 [==============================] - 2s 371us/step - loss: 0.0888 - acc: 0.9754 - val_loss: 1.2335 - val_acc: 0.7608\n",
      "Epoch 78/100\n",
      "4800/4800 [==============================] - 2s 368us/step - loss: 0.0466 - acc: 0.9852 - val_loss: 1.4646 - val_acc: 0.7800\n",
      "Epoch 79/100\n",
      "4800/4800 [==============================] - 2s 371us/step - loss: 0.0754 - acc: 0.9788 - val_loss: 1.4949 - val_acc: 0.7383\n",
      "Epoch 80/100\n",
      "4800/4800 [==============================] - 2s 374us/step - loss: 0.1456 - acc: 0.9592 - val_loss: 1.3054 - val_acc: 0.7558\n",
      "Epoch 81/100\n",
      "4800/4800 [==============================] - 2s 355us/step - loss: 0.1001 - acc: 0.9704 - val_loss: 1.7219 - val_acc: 0.7392\n",
      "Epoch 82/100\n",
      "4800/4800 [==============================] - 2s 365us/step - loss: 0.0929 - acc: 0.9731 - val_loss: 1.3241 - val_acc: 0.7675\n",
      "Epoch 83/100\n",
      "4800/4800 [==============================] - 2s 374us/step - loss: 0.0814 - acc: 0.9742 - val_loss: 1.4178 - val_acc: 0.7667\n",
      "Epoch 84/100\n",
      "4800/4800 [==============================] - 2s 368us/step - loss: 0.0684 - acc: 0.9808 - val_loss: 1.3202 - val_acc: 0.7742\n",
      "Epoch 85/100\n",
      "4800/4800 [==============================] - ETA: 0s - loss: 0.0795 - acc: 0.977 - 2s 378us/step - loss: 0.0789 - acc: 0.9777 - val_loss: 1.4021 - val_acc: 0.7833\n",
      "Epoch 86/100\n",
      "4800/4800 [==============================] - 2s 361us/step - loss: 0.0522 - acc: 0.9846 - val_loss: 1.3949 - val_acc: 0.7767\n",
      "Epoch 87/100\n",
      "4800/4800 [==============================] - 2s 374us/step - loss: 0.0516 - acc: 0.9860 - val_loss: 1.3950 - val_acc: 0.7917\n",
      "Epoch 88/100\n",
      "4800/4800 [==============================] - 2s 374us/step - loss: 0.0653 - acc: 0.9790 - val_loss: 1.3892 - val_acc: 0.7892\n",
      "Epoch 89/100\n",
      "4800/4800 [==============================] - 2s 371us/step - loss: 0.0944 - acc: 0.9737 - val_loss: 1.4145 - val_acc: 0.7850\n",
      "Epoch 90/100\n",
      "4800/4800 [==============================] - 2s 365us/step - loss: 0.1194 - acc: 0.9631 - val_loss: 1.3515 - val_acc: 0.7683\n",
      "Epoch 91/100\n",
      "4800/4800 [==============================] - 2s 371us/step - loss: 0.0713 - acc: 0.9790 - val_loss: 1.4935 - val_acc: 0.7500\n",
      "Epoch 92/100\n",
      "4800/4800 [==============================] - 2s 374us/step - loss: 0.1189 - acc: 0.9667 - val_loss: 1.3261 - val_acc: 0.7450\n",
      "Epoch 93/100\n",
      "4800/4800 [==============================] - 2s 368us/step - loss: 0.0794 - acc: 0.9765 - val_loss: 1.3527 - val_acc: 0.7542\n",
      "Epoch 94/100\n",
      "4800/4800 [==============================] - 2s 371us/step - loss: 0.0544 - acc: 0.9829 - val_loss: 1.4347 - val_acc: 0.7600\n",
      "Epoch 95/100\n",
      "4800/4800 [==============================] - 2s 371us/step - loss: 0.0729 - acc: 0.9794 - val_loss: 1.4168 - val_acc: 0.7633\n",
      "Epoch 96/100\n",
      "4800/4800 [==============================] - 2s 378us/step - loss: 0.0740 - acc: 0.9804 - val_loss: 1.2279 - val_acc: 0.7775\n",
      "Epoch 97/100\n",
      "4800/4800 [==============================] - 2s 371us/step - loss: 0.0395 - acc: 0.9896 - val_loss: 1.4072 - val_acc: 0.7808\n",
      "Epoch 98/100\n",
      "4800/4800 [==============================] - 2s 374us/step - loss: 0.0571 - acc: 0.9835 - val_loss: 1.3089 - val_acc: 0.7692\n",
      "Epoch 99/100\n",
      "4800/4800 [==============================] - 2s 371us/step - loss: 0.0605 - acc: 0.9817 - val_loss: 1.5560 - val_acc: 0.7733\n",
      "Epoch 100/100\n",
      "4800/4800 [==============================] - 2s 358us/step - loss: 0.0976 - acc: 0.9742 - val_loss: 1.4342 - val_acc: 0.7633\n"
     ]
    }
   ],
   "source": [
    "model.compile(optimizer = 'adam', metrics = ['accuracy'], loss = 'categorical_crossentropy')\n",
    "\n",
    "#es = EarlyStopping(monitor='val_loss', patience=20, mode='min', verbose=1)\n",
    "cp = ModelCheckpoint('./models/{epoch:02d}-{val_acc:.4f}.h5', monitor='val_loss',\n",
    "                     save_best_only=True, mode='min')\n",
    "\n",
    "history = model.fit(x_train, y_train,\n",
    "                    validation_data=(x_val, y_val), \n",
    "                    batch_size=64, epochs=100, verbose=1, callbacks = [cp])"
   ]
  },
  {
   "cell_type": "code",
   "execution_count": 14,
   "metadata": {
    "ExecuteTime": {
     "end_time": "2020-08-21T04:16:18.766616Z",
     "start_time": "2020-08-21T04:16:15.658670Z"
    }
   },
   "outputs": [],
   "source": [
    "from tensorflow.keras.models import load_model\n",
    "best_model = load_model('models/noskipCNN.h5')"
   ]
  },
  {
   "cell_type": "code",
   "execution_count": 15,
   "metadata": {
    "ExecuteTime": {
     "end_time": "2020-08-21T04:16:19.047505Z",
     "start_time": "2020-08-21T04:16:18.766616Z"
    }
   },
   "outputs": [
    {
     "name": "stdout",
     "output_type": "stream",
     "text": [
      "48/48 [==============================] - 0s 5ms/step\n"
     ]
    },
    {
     "data": {
      "text/plain": [
       "[0.6278854608535767, 0.75]"
      ]
     },
     "execution_count": 15,
     "metadata": {},
     "output_type": "execute_result"
    }
   ],
   "source": [
    "evaluate = best_model.evaluate(valid_x, valid_y)\n",
    "evaluate"
   ]
  },
  {
   "cell_type": "code",
   "execution_count": null,
   "metadata": {
    "ExecuteTime": {
     "end_time": "2020-08-21T04:13:02.913503Z",
     "start_time": "2020-08-21T04:09:48.592Z"
    }
   },
   "outputs": [],
   "source": [
    "#submission = pd.read_csv('data/val.csv')\n",
    "#submission['digit'] = np.argmax(best_model.predict([x_test, x_letter_test]), axis=1)\n",
    "#submission.to_csv('data/val(CNN).csv', index=False)"
   ]
  },
  {
   "cell_type": "code",
   "execution_count": null,
   "metadata": {},
   "outputs": [],
   "source": []
  }
 ],
 "metadata": {
  "kernelspec": {
   "display_name": "Python 3",
   "language": "python",
   "name": "python3"
  },
  "language_info": {
   "codemirror_mode": {
    "name": "ipython",
    "version": 3
   },
   "file_extension": ".py",
   "mimetype": "text/x-python",
   "name": "python",
   "nbconvert_exporter": "python",
   "pygments_lexer": "ipython3",
   "version": "3.6.10"
  }
 },
 "nbformat": 4,
 "nbformat_minor": 4
}
