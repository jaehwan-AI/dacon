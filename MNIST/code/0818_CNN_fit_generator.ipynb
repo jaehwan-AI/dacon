{
 "cells": [
  {
   "cell_type": "code",
   "execution_count": 7,
   "metadata": {
    "ExecuteTime": {
     "end_time": "2020-08-18T01:48:32.614745Z",
     "start_time": "2020-08-18T01:48:32.609684Z"
    }
   },
   "outputs": [],
   "source": [
    "import pandas as pd\n",
    "import numpy as np\n",
    "import matplotlib.pyplot as plt\n",
    "import tensorflow as tf\n",
    "from sklearn.preprocessing import OneHotEncoder\n",
    "from sklearn.model_selection import train_test_split\n",
    "from tensorflow.keras.models import Model\n",
    "from tensorflow.keras.layers import Input, Conv2D, MaxPooling2D, Flatten, Dense, LSTM, concatenate, Dropout\n",
    "from tensorflow.keras.utils import plot_model\n",
    "from tensorflow.keras.wrappers.scikit_learn import KerasClassifier\n",
    "from sklearn.model_selection import RandomizedSearchCV\n",
    "from tensorflow.keras.preprocessing.image import ImageDataGenerator"
   ]
  },
  {
   "cell_type": "code",
   "execution_count": 8,
   "metadata": {
    "ExecuteTime": {
     "end_time": "2020-08-18T01:48:34.067481Z",
     "start_time": "2020-08-18T01:48:33.127703Z"
    }
   },
   "outputs": [],
   "source": [
    "train = pd.read_csv('data/train.csv')\n",
    "test = pd.read_csv('data/test.csv')"
   ]
  },
  {
   "cell_type": "code",
   "execution_count": 9,
   "metadata": {
    "ExecuteTime": {
     "end_time": "2020-08-18T01:48:34.093571Z",
     "start_time": "2020-08-18T01:48:34.068447Z"
    }
   },
   "outputs": [],
   "source": [
    "x = train.drop(['id', 'digit', 'letter'], axis=1).values\n",
    "x = x.reshape(-1, 28, 28, 1)\n",
    "x = x/255\n",
    "\n",
    "y_data = train['digit']\n",
    "y = np.zeros((len(y_data), len(y_data.unique())))\n",
    "for i, digit in enumerate(y_data):\n",
    "    y[i, digit] = 1"
   ]
  },
  {
   "cell_type": "code",
   "execution_count": 10,
   "metadata": {
    "ExecuteTime": {
     "end_time": "2020-08-18T01:48:34.413678Z",
     "start_time": "2020-08-18T01:48:34.354261Z"
    }
   },
   "outputs": [
    {
     "name": "stdout",
     "output_type": "stream",
     "text": [
      "(1638, 28, 28, 1)\n",
      "(410, 28, 28, 1)\n",
      "(1638, 10)\n",
      "(410, 10)\n"
     ]
    }
   ],
   "source": [
    "x_train, x_val, y_train, y_val = train_test_split(x, y, test_size=0.2, shuffle=True, stratify=y)\n",
    "\n",
    "print(x_train.shape)\n",
    "print(x_val.shape)\n",
    "print(y_train.shape)\n",
    "print(y_val.shape)"
   ]
  },
  {
   "cell_type": "code",
   "execution_count": 11,
   "metadata": {
    "ExecuteTime": {
     "end_time": "2020-08-18T01:48:35.461558Z",
     "start_time": "2020-08-18T01:48:35.457559Z"
    }
   },
   "outputs": [],
   "source": [
    "image_generator = ImageDataGenerator(width_shift_range=0.2, height_shift_range=0.2, \n",
    "                                     zoom_range=[0.75,1.25], brightness_range=[0.75,1.25], \n",
    "                                     shear_range=20)"
   ]
  },
  {
   "cell_type": "code",
   "execution_count": 12,
   "metadata": {
    "ExecuteTime": {
     "end_time": "2020-08-18T01:48:36.370216Z",
     "start_time": "2020-08-18T01:48:36.359151Z"
    }
   },
   "outputs": [],
   "source": [
    "def create_model(drop=0.2, optimizer='adam', padding='valid'):\n",
    "    inputs = Input(shape=(28,28,1), name='input1')\n",
    "    x1 = Conv2D(64, (3,3), activation='relu', padding=padding, name='conv1')(inputs)\n",
    "    x1 = Dropout(drop)(x1)\n",
    "    x1 = MaxPooling2D((2,2), name='pool1')(x1)\n",
    "    x1 = Conv2D(64, (2,2), activation='relu', padding=padding, name='conv2')(x1)\n",
    "    x1 = Dropout(drop)(x1)\n",
    "    x1 = MaxPooling2D((2,2), name='pool2')(x1)\n",
    "    x1 = Conv2D(128, (2,2), activation='relu', padding=padding, name='conv3')(x1)\n",
    "    x1 = Dropout(drop)(x1)\n",
    "    x1 = MaxPooling2D((2,2), name='pool3')(x1)\n",
    "    x1 = Flatten(name='flat1')(x1)\n",
    "    x2 = Dense(500, activation='relu', name='hidden1')(x1)\n",
    "    x2 = Dropout(drop)(x2)\n",
    "    x2 = Dense(100, activation='relu', name='hidden2')(x2)\n",
    "    x2 = Dropout(drop)(x2)\n",
    "    x2 = Dense(50, activation='relu', name='hidden3')(x2)\n",
    "    outputs = Dense(10, activation='softmax', name='output')(x2)\n",
    "    \n",
    "    model = Model(inputs = inputs, outputs = outputs)\n",
    "    model.compile(optimizer = optimizer, metrics = ['accuracy'], \n",
    "                  loss = 'categorical_crossentropy')\n",
    "    \n",
    "    return model"
   ]
  },
  {
   "cell_type": "code",
   "execution_count": 13,
   "metadata": {
    "ExecuteTime": {
     "end_time": "2020-08-18T01:48:37.034484Z",
     "start_time": "2020-08-18T01:48:36.899989Z"
    }
   },
   "outputs": [],
   "source": [
    "model = create_model(0.2, 'adam', 'same')"
   ]
  },
  {
   "cell_type": "code",
   "execution_count": 20,
   "metadata": {
    "ExecuteTime": {
     "end_time": "2020-08-18T01:58:05.361700Z",
     "start_time": "2020-08-18T01:58:04.945154Z"
    }
   },
   "outputs": [],
   "source": [
    "image_generator.fit(x_train, augment=True)"
   ]
  },
  {
   "cell_type": "code",
   "execution_count": 21,
   "metadata": {
    "ExecuteTime": {
     "end_time": "2020-08-18T01:58:05.366918Z",
     "start_time": "2020-08-18T01:58:05.363712Z"
    }
   },
   "outputs": [
    {
     "name": "stdout",
     "output_type": "stream",
     "text": [
      "(1638, 28, 28, 1)\n"
     ]
    }
   ],
   "source": [
    "print(x_train.shape)"
   ]
  },
  {
   "cell_type": "code",
   "execution_count": 22,
   "metadata": {
    "ExecuteTime": {
     "end_time": "2020-08-18T02:08:12.111503Z",
     "start_time": "2020-08-18T02:03:30.545527Z"
    }
   },
   "outputs": [
    {
     "name": "stdout",
     "output_type": "stream",
     "text": [
      "Epoch 1/50\n",
      "26/25 [==============================] - 5s 202ms/step - loss: 2.1171 - accuracy: 0.2277 - val_loss: 2.0883 - val_accuracy: 0.2489\n",
      "Epoch 2/50\n",
      "26/25 [==============================] - 5s 195ms/step - loss: 2.0884 - accuracy: 0.2411 - val_loss: 2.0721 - val_accuracy: 0.2711\n",
      "Epoch 3/50\n",
      "26/25 [==============================] - 5s 195ms/step - loss: 2.0743 - accuracy: 0.2454 - val_loss: 2.1206 - val_accuracy: 0.2437\n",
      "Epoch 4/50\n",
      "26/25 [==============================] - 5s 194ms/step - loss: 2.1267 - accuracy: 0.2100 - val_loss: 2.1012 - val_accuracy: 0.2584\n",
      "Epoch 5/50\n",
      "26/25 [==============================] - 5s 199ms/step - loss: 2.0614 - accuracy: 0.2381 - val_loss: 2.0448 - val_accuracy: 0.2753\n",
      "Epoch 6/50\n",
      "26/25 [==============================] - 5s 199ms/step - loss: 2.0674 - accuracy: 0.2442 - val_loss: 2.0472 - val_accuracy: 0.2848\n",
      "Epoch 7/50\n",
      "26/25 [==============================] - 6s 224ms/step - loss: 2.0244 - accuracy: 0.2546 - val_loss: 2.0599 - val_accuracy: 0.2901\n",
      "Epoch 8/50\n",
      "26/25 [==============================] - 5s 206ms/step - loss: 2.0364 - accuracy: 0.2619 - val_loss: 2.0713 - val_accuracy: 0.2774\n",
      "Epoch 9/50\n",
      "26/25 [==============================] - 5s 211ms/step - loss: 2.0440 - accuracy: 0.2680 - val_loss: 2.0786 - val_accuracy: 0.2395\n",
      "Epoch 10/50\n",
      "26/25 [==============================] - 5s 211ms/step - loss: 2.0241 - accuracy: 0.2643 - val_loss: 2.0049 - val_accuracy: 0.2732\n",
      "Epoch 11/50\n",
      "26/25 [==============================] - 6s 216ms/step - loss: 1.9863 - accuracy: 0.2882 - val_loss: 1.9954 - val_accuracy: 0.3059\n",
      "Epoch 12/50\n",
      "26/25 [==============================] - 6s 241ms/step - loss: 1.9902 - accuracy: 0.2937 - val_loss: 2.0418 - val_accuracy: 0.2764\n",
      "Epoch 13/50\n",
      "26/25 [==============================] - 7s 258ms/step - loss: 1.9702 - accuracy: 0.2985 - val_loss: 1.9595 - val_accuracy: 0.3249\n",
      "Epoch 14/50\n",
      "26/25 [==============================] - 6s 247ms/step - loss: 1.9493 - accuracy: 0.3046 - val_loss: 2.0122 - val_accuracy: 0.2975\n",
      "Epoch 15/50\n",
      "26/25 [==============================] - 6s 218ms/step - loss: 1.9647 - accuracy: 0.2979 - val_loss: 2.0228 - val_accuracy: 0.2964\n",
      "Epoch 16/50\n",
      "26/25 [==============================] - 6s 216ms/step - loss: 1.9343 - accuracy: 0.3181 - val_loss: 1.8782 - val_accuracy: 0.3776\n",
      "Epoch 17/50\n",
      "26/25 [==============================] - 6s 215ms/step - loss: 1.9303 - accuracy: 0.3034 - val_loss: 1.9679 - val_accuracy: 0.3365\n",
      "Epoch 18/50\n",
      "26/25 [==============================] - 6s 222ms/step - loss: 1.8861 - accuracy: 0.3266 - val_loss: 1.9511 - val_accuracy: 0.3270\n",
      "Epoch 19/50\n",
      "26/25 [==============================] - 6s 220ms/step - loss: 1.8797 - accuracy: 0.3339 - val_loss: 1.9081 - val_accuracy: 0.3302\n",
      "Epoch 20/50\n",
      "26/25 [==============================] - 6s 224ms/step - loss: 1.8672 - accuracy: 0.3248 - val_loss: 1.8935 - val_accuracy: 0.3840\n",
      "Epoch 21/50\n",
      "26/25 [==============================] - 5s 211ms/step - loss: 1.8150 - accuracy: 0.3535 - val_loss: 1.9001 - val_accuracy: 0.3618\n",
      "Epoch 22/50\n",
      "26/25 [==============================] - 6s 227ms/step - loss: 1.8373 - accuracy: 0.3529 - val_loss: 1.9348 - val_accuracy: 0.3376\n",
      "Epoch 23/50\n",
      "26/25 [==============================] - 7s 251ms/step - loss: 1.8534 - accuracy: 0.3639 - val_loss: 1.8759 - val_accuracy: 0.3639\n",
      "Epoch 24/50\n",
      "26/25 [==============================] - 6s 244ms/step - loss: 1.8154 - accuracy: 0.3510 - val_loss: 1.7864 - val_accuracy: 0.3966\n",
      "Epoch 25/50\n",
      "26/25 [==============================] - 6s 224ms/step - loss: 1.8325 - accuracy: 0.3620 - val_loss: 1.8224 - val_accuracy: 0.3892\n",
      "Epoch 26/50\n",
      "26/25 [==============================] - 5s 202ms/step - loss: 1.7981 - accuracy: 0.3675 - val_loss: 1.8321 - val_accuracy: 0.3819\n",
      "Epoch 27/50\n",
      "26/25 [==============================] - 5s 209ms/step - loss: 1.8200 - accuracy: 0.3571 - val_loss: 1.7373 - val_accuracy: 0.4357\n",
      "Epoch 28/50\n",
      "26/25 [==============================] - 5s 207ms/step - loss: 1.7544 - accuracy: 0.3730 - val_loss: 1.8038 - val_accuracy: 0.4019\n",
      "Epoch 29/50\n",
      "26/25 [==============================] - 6s 217ms/step - loss: 1.7456 - accuracy: 0.3803 - val_loss: 1.7975 - val_accuracy: 0.3977\n",
      "Epoch 30/50\n",
      "26/25 [==============================] - 5s 209ms/step - loss: 1.7222 - accuracy: 0.3980 - val_loss: 1.7208 - val_accuracy: 0.4283\n",
      "Epoch 31/50\n",
      "26/25 [==============================] - 5s 208ms/step - loss: 1.7187 - accuracy: 0.3816 - val_loss: 1.7780 - val_accuracy: 0.4335\n",
      "Epoch 32/50\n",
      "26/25 [==============================] - 5s 206ms/step - loss: 1.7313 - accuracy: 0.3901 - val_loss: 1.7887 - val_accuracy: 0.3998\n",
      "Epoch 33/50\n",
      "26/25 [==============================] - 6s 220ms/step - loss: 1.7134 - accuracy: 0.3932 - val_loss: 1.7842 - val_accuracy: 0.4114\n",
      "Epoch 34/50\n",
      "26/25 [==============================] - 6s 218ms/step - loss: 1.7058 - accuracy: 0.4017 - val_loss: 1.7033 - val_accuracy: 0.4357\n",
      "Epoch 35/50\n",
      "26/25 [==============================] - 5s 207ms/step - loss: 1.7007 - accuracy: 0.4084 - val_loss: 1.7256 - val_accuracy: 0.4430\n",
      "Epoch 36/50\n",
      "26/25 [==============================] - 5s 207ms/step - loss: 1.7136 - accuracy: 0.4200 - val_loss: 1.7170 - val_accuracy: 0.4219\n",
      "Epoch 37/50\n",
      "26/25 [==============================] - 6s 219ms/step - loss: 1.6399 - accuracy: 0.4328 - val_loss: 1.7428 - val_accuracy: 0.4114\n",
      "Epoch 38/50\n",
      "26/25 [==============================] - 6s 217ms/step - loss: 1.6347 - accuracy: 0.4292 - val_loss: 1.6388 - val_accuracy: 0.4705\n",
      "Epoch 39/50\n",
      "26/25 [==============================] - 5s 203ms/step - loss: 1.6666 - accuracy: 0.4237 - val_loss: 1.7277 - val_accuracy: 0.4230\n",
      "Epoch 40/50\n",
      "26/25 [==============================] - 5s 211ms/step - loss: 1.6673 - accuracy: 0.4280 - val_loss: 1.7045 - val_accuracy: 0.4673\n",
      "Epoch 41/50\n",
      "26/25 [==============================] - 6s 235ms/step - loss: 1.6350 - accuracy: 0.4322 - val_loss: 1.6299 - val_accuracy: 0.4610\n",
      "Epoch 42/50\n",
      "26/25 [==============================] - 6s 225ms/step - loss: 1.5528 - accuracy: 0.4701 - val_loss: 1.6277 - val_accuracy: 0.4578\n",
      "Epoch 43/50\n",
      "26/25 [==============================] - 6s 227ms/step - loss: 1.6393 - accuracy: 0.4231 - val_loss: 1.6598 - val_accuracy: 0.4620\n",
      "Epoch 44/50\n",
      "26/25 [==============================] - 5s 209ms/step - loss: 1.5844 - accuracy: 0.4603 - val_loss: 1.6354 - val_accuracy: 0.4726\n",
      "Epoch 45/50\n",
      "26/25 [==============================] - 6s 213ms/step - loss: 1.5846 - accuracy: 0.4475 - val_loss: 1.6258 - val_accuracy: 0.4821\n",
      "Epoch 46/50\n",
      "26/25 [==============================] - 6s 213ms/step - loss: 1.6061 - accuracy: 0.4518 - val_loss: 1.7020 - val_accuracy: 0.4399\n",
      "Epoch 47/50\n",
      "26/25 [==============================] - 6s 224ms/step - loss: 1.5686 - accuracy: 0.4536 - val_loss: 1.6150 - val_accuracy: 0.4842\n",
      "Epoch 48/50\n",
      "26/25 [==============================] - 6s 215ms/step - loss: 1.5847 - accuracy: 0.4554 - val_loss: 1.6236 - val_accuracy: 0.4652\n",
      "Epoch 49/50\n",
      "26/25 [==============================] - 6s 221ms/step - loss: 1.5638 - accuracy: 0.4420 - val_loss: 1.5668 - val_accuracy: 0.4800\n",
      "Epoch 50/50\n",
      "26/25 [==============================] - 5s 211ms/step - loss: 1.5292 - accuracy: 0.4701 - val_loss: 1.5880 - val_accuracy: 0.4757\n"
     ]
    }
   ],
   "source": [
    "history = model.fit_generator(image_generator.flow(x_train, y_train, batch_size=64), \n",
    "                              steps_per_epoch=x_train.shape[0]/64, epochs=50, verbose=1, \n",
    "                              validation_data=image_generator.flow(x_val, y_val, batch_size=64), \n",
    "                              validation_steps=16)"
   ]
  },
  {
   "cell_type": "code",
   "execution_count": null,
   "metadata": {
    "ExecuteTime": {
     "end_time": "2020-08-18T00:23:31.338471Z",
     "start_time": "2020-08-18T00:23:31.217456Z"
    }
   },
   "outputs": [],
   "source": [
    "x_test = test.drop(['id', 'letter'], axis=1).values\n",
    "x_test = x_test.reshape(-1, 28, 28, 1)\n",
    "x_test = x_test/255\n",
    "x_test.shape"
   ]
  },
  {
   "cell_type": "code",
   "execution_count": null,
   "metadata": {},
   "outputs": [],
   "source": [
    "prediction = np.argmax(model.predict(x_test), axis=1)"
   ]
  },
  {
   "cell_type": "code",
   "execution_count": null,
   "metadata": {
    "ExecuteTime": {
     "end_time": "2020-08-17T15:26:04.791115Z",
     "start_time": "2020-08-17T15:25:56.693274Z"
    }
   },
   "outputs": [],
   "source": [
    "submission = pd.read_csv('data/submission.csv')\n",
    "submission['digit'] = np.argmax(model.predict(x_test), axis=1)"
   ]
  },
  {
   "cell_type": "code",
   "execution_count": null,
   "metadata": {
    "ExecuteTime": {
     "end_time": "2020-08-17T15:26:39.798419Z",
     "start_time": "2020-08-17T15:26:39.743900Z"
    }
   },
   "outputs": [],
   "source": [
    "submission.to_csv('data/submission1.csv', index=False)"
   ]
  }
 ],
 "metadata": {
  "kernelspec": {
   "display_name": "Tensorflow",
   "language": "python",
   "name": "tensorflow"
  },
  "language_info": {
   "codemirror_mode": {
    "name": "ipython",
    "version": 3
   },
   "file_extension": ".py",
   "mimetype": "text/x-python",
   "name": "python",
   "nbconvert_exporter": "python",
   "pygments_lexer": "ipython3",
   "version": "3.7.6"
  }
 },
 "nbformat": 4,
 "nbformat_minor": 4
}
