{
 "cells": [
  {
   "cell_type": "code",
<<<<<<< HEAD
   "execution_count": 1,
   "metadata": {
    "ExecuteTime": {
     "end_time": "2020-08-25T02:05:48.169752Z",
     "start_time": "2020-08-25T02:05:41.660778Z"
=======
   "execution_count": 57,
   "metadata": {
    "ExecuteTime": {
     "end_time": "2020-08-25T08:13:45.819920Z",
     "start_time": "2020-08-25T08:13:45.806979Z"
>>>>>>> 44193f9cdfb61d9eabf93038cc5053bc1f266dd8
    }
   },
   "outputs": [],
   "source": [
    "import pandas as pd\n",
    "import numpy as np\n",
    "import tensorflow as tf\n",
    "from sklearn.preprocessing import OneHotEncoder\n",
    "from sklearn.model_selection import KFold\n",
    "from tensorflow.keras.models import Model\n",
    "from tensorflow.keras.layers import Input, Conv2D, MaxPooling2D, Flatten, Dense\n",
    "from tensorflow.keras.layers import concatenate, Dropout, GlobalAveragePooling2D\n",
    "from tensorflow.keras.layers import BatchNormalization, Activation, AveragePooling2D\n",
    "from tensorflow.keras.preprocessing.image import ImageDataGenerator\n",
    "from tensorflow.keras.callbacks import EarlyStopping, ModelCheckpoint\n",
    "from tensorflow.keras.wrappers.scikit_learn import KerasClassifier\n",
    "from sklearn.metrics import accuracy_score\n",
<<<<<<< HEAD
    "\n",
    "import lightgbm as lgb\n",
=======
    "from scipy.stats import mode\n",
    "\n",
    "import lightgbm as lgb\n",
    "from lightgbm import LGBMClassifier\n",
>>>>>>> 44193f9cdfb61d9eabf93038cc5053bc1f266dd8
    "\n",
    "# seed\n",
    "import os\n",
    "seed = 123\n",
    "os.environ['PYTHONHASHSEED'] = str(seed)\n",
    "np.random.seed(seed)\n",
<<<<<<< HEAD
    "#tf.set_random_seed(seed)"
=======
    "tf.set_random_seed(seed)"
>>>>>>> 44193f9cdfb61d9eabf93038cc5053bc1f266dd8
   ]
  },
  {
   "cell_type": "code",
   "execution_count": 2,
   "metadata": {
    "ExecuteTime": {
<<<<<<< HEAD
     "end_time": "2020-08-25T02:05:49.528665Z",
     "start_time": "2020-08-25T02:05:48.171759Z"
=======
     "end_time": "2020-08-25T06:36:15.889468Z",
     "start_time": "2020-08-25T06:36:14.311006Z"
>>>>>>> 44193f9cdfb61d9eabf93038cc5053bc1f266dd8
    }
   },
   "outputs": [],
   "source": [
    "train = np.load('data/train.npy', allow_pickle = 'True')\n",
    "test = np.load('data/test.npy', allow_pickle = 'True')"
   ]
  },
  {
   "cell_type": "code",
   "execution_count": 3,
   "metadata": {
    "ExecuteTime": {
<<<<<<< HEAD
     "end_time": "2020-08-25T02:05:49.545418Z",
     "start_time": "2020-08-25T02:05:49.530590Z"
=======
     "end_time": "2020-08-25T06:36:15.920954Z",
     "start_time": "2020-08-25T06:36:15.889468Z"
>>>>>>> 44193f9cdfb61d9eabf93038cc5053bc1f266dd8
    }
   },
   "outputs": [
    {
     "name": "stdout",
     "output_type": "stream",
     "text": [
      "(2048, 28, 28, 1)\n",
<<<<<<< HEAD
      "(2048, 26)\n",
=======
>>>>>>> 44193f9cdfb61d9eabf93038cc5053bc1f266dd8
      "(2048, 10)\n"
     ]
    }
   ],
   "source": [
    "x = train[:,2:]\n",
    "x = np.reshape(x, (-1, 28, 28, 1))\n",
    "\n",
<<<<<<< HEAD
    "x_letter = train[:,1]\n",
    "x_letter = np.reshape(x_letter, (-1, 1))\n",
    "en = OneHotEncoder()\n",
    "x_letter = en.fit_transform(x_letter).toarray()\n",
    "\n",
=======
>>>>>>> 44193f9cdfb61d9eabf93038cc5053bc1f266dd8
    "y = train[:,0]\n",
    "y = np.reshape(y, (-1, 1))\n",
    "en = OneHotEncoder()\n",
    "y = en.fit_transform(y).toarray()\n",
    "\n",
    "print(x.shape)\n",
<<<<<<< HEAD
    "print(x_letter.shape)\n",
=======
>>>>>>> 44193f9cdfb61d9eabf93038cc5053bc1f266dd8
    "print(y.shape)"
   ]
  },
  {
   "cell_type": "code",
   "execution_count": 4,
   "metadata": {
    "ExecuteTime": {
<<<<<<< HEAD
     "end_time": "2020-08-25T02:05:49.559510Z",
     "start_time": "2020-08-25T02:05:49.547427Z"
=======
     "end_time": "2020-08-25T06:36:15.936926Z",
     "start_time": "2020-08-25T06:36:15.925973Z"
>>>>>>> 44193f9cdfb61d9eabf93038cc5053bc1f266dd8
    }
   },
   "outputs": [
    {
     "name": "stdout",
     "output_type": "stream",
     "text": [
      "(2000, 28, 28, 1)\n",
      "(48, 28, 28, 1)\n",
      "(2000, 10)\n",
      "(48, 10)\n"
     ]
    }
   ],
   "source": [
    "test_size = 48\n",
    "x_test = x[-test_size:]\n",
    "x = x[:-48]\n",
    "\n",
    "y_test = y[-test_size:]\n",
    "y = y[:-48]\n",
    "\n",
    "print(x.shape)\n",
    "print(x_test.shape)\n",
    "print(y.shape)\n",
    "print(y_test.shape)"
   ]
  },
  {
   "cell_type": "code",
   "execution_count": 5,
   "metadata": {
    "ExecuteTime": {
<<<<<<< HEAD
     "end_time": "2020-08-25T02:05:49.568425Z",
     "start_time": "2020-08-25T02:05:49.561424Z"
=======
     "end_time": "2020-08-25T06:36:15.952859Z",
     "start_time": "2020-08-25T06:36:15.940909Z"
>>>>>>> 44193f9cdfb61d9eabf93038cc5053bc1f266dd8
    }
   },
   "outputs": [],
   "source": [
    "image_generator = ImageDataGenerator(width_shift_range=0.1,\n",
    "                                     height_shift_range=0.1, \n",
    "                                     zoom_range=[0.8,1.2],\n",
    "                                     shear_range=10)"
   ]
  },
  {
   "cell_type": "code",
   "execution_count": 6,
   "metadata": {
    "ExecuteTime": {
<<<<<<< HEAD
     "end_time": "2020-08-25T02:05:51.339515Z",
     "start_time": "2020-08-25T02:05:49.571424Z"
=======
     "end_time": "2020-08-25T06:36:18.185820Z",
     "start_time": "2020-08-25T06:36:15.957839Z"
>>>>>>> 44193f9cdfb61d9eabf93038cc5053bc1f266dd8
    }
   },
   "outputs": [
    {
     "name": "stdout",
     "output_type": "stream",
     "text": [
      "(6000, 28, 28, 1)\n"
     ]
    }
   ],
   "source": [
    "x_total = x.copy()\n",
    "def augment(x):\n",
    "    aug_list = []\n",
    "    for i in range(x.shape[0]):\n",
    "        num_aug = 0\n",
    "        tmp = x[i]\n",
    "        tmp = tmp.reshape((1,) + tmp.shape)\n",
    "        for x_aug in image_generator.flow(tmp, batch_size = 1) :\n",
    "            if num_aug >= 1:\n",
    "                break\n",
    "            aug_list.append(x_aug[0])\n",
    "            num_aug += 1\n",
    "    aug_list = np.array(aug_list)\n",
    "    return aug_list\n",
    "\n",
    "n = 2\n",
    "for i in range(n):\n",
    "    arr = augment(x)\n",
    "    x_total = np.concatenate((x_total, arr), axis=0)\n",
    "    if i > n:\n",
    "        break\n",
    "\n",
    "print(x_total.shape)"
   ]
  },
  {
   "cell_type": "code",
   "execution_count": 7,
   "metadata": {
    "ExecuteTime": {
<<<<<<< HEAD
     "end_time": "2020-08-25T02:05:51.347514Z",
     "start_time": "2020-08-25T02:05:51.340513Z"
=======
     "end_time": "2020-08-25T06:36:18.201713Z",
     "start_time": "2020-08-25T06:36:18.188810Z"
>>>>>>> 44193f9cdfb61d9eabf93038cc5053bc1f266dd8
    }
   },
   "outputs": [
    {
     "name": "stdout",
     "output_type": "stream",
     "text": [
      "(6000, 10)\n"
     ]
    }
   ],
   "source": [
    "y_total = y.copy()\n",
    "for i in range(n):\n",
    "    arr = y.copy()\n",
    "    y_total = np.concatenate((y_total, arr), axis=0)\n",
    "\n",
    "print(y_total.shape)"
   ]
  },
  {
   "cell_type": "code",
   "execution_count": 8,
   "metadata": {
    "ExecuteTime": {
<<<<<<< HEAD
     "end_time": "2020-08-25T02:05:51.370919Z",
     "start_time": "2020-08-25T02:05:51.349514Z"
=======
     "end_time": "2020-08-25T06:36:18.233801Z",
     "start_time": "2020-08-25T06:36:18.203751Z"
>>>>>>> 44193f9cdfb61d9eabf93038cc5053bc1f266dd8
    }
   },
   "outputs": [],
   "source": [
    "def Conv_block(x, growth_rate, activation='relu'):\n",
    "    x_l = BatchNormalization()(x)\n",
    "    x_l = Activation(activation)(x_l)\n",
    "    x_l = Conv2D(growth_rate*4, (1,1), padding='same', kernel_initializer='he_normal')(x_l)\n",
    "    \n",
    "    x_l = BatchNormalization()(x_l)\n",
    "    x_l = Activation(activation)(x_l)\n",
    "    x_l = Conv2D(growth_rate, (3,3), padding='same', kernel_initializer='he_normal')(x_l)\n",
    "    \n",
    "    x = concatenate([x, x_l])\n",
    "    return x\n",
    "\n",
    "def Dense_block(x, layers, growth_rate=32):\n",
    "    for i in range(layers):\n",
    "        x = Conv_block(x, growth_rate)\n",
    "    return x\n",
    "\n",
    "def Transition_layer(x, compression_factor=0.5, activation='relu'):\n",
    "    reduced_filters = int(tf.keras.backend.int_shape(x)[-1] * compression_factor)\n",
    "    \n",
    "    x = BatchNormalization()(x)\n",
    "    x = Activation(activation)(x)\n",
    "    x = Conv2D(reduced_filters, (1,1), padding='same', kernel_initializer='he_normal')(x)\n",
    "    \n",
    "    x = AveragePooling2D((2,2), padding='same', strides=2)(x)\n",
    "    return x\n",
    "\n",
    "def DenseNet(densenet_type='DenseNet-121', base_growth_rate = 32):\n",
    "    model_input = Input(shape=(28,28,1))\n",
    "    x = Conv2D(base_growth_rate*2, (5,5), padding='same', strides=1,\n",
    "               kernel_initializer='he_normal')(model_input)\n",
    "    x = BatchNormalization()(x)\n",
    "    x = Activation('relu')(x)\n",
    "    \n",
    "    x = MaxPooling2D((2,2), padding='same', strides=1)(x)\n",
    "    \n",
    "    x = Dense_block(x, layers_in_block[densenet_type][0], base_growth_rate)\n",
    "    x = Transition_layer(x, compression_factor=0.5)\n",
    "    x = Dense_block(x, layers_in_block[densenet_type][1], base_growth_rate)\n",
    "    x = Transition_layer(x, compression_factor=0.5)\n",
    "    x = Dense_block(x, layers_in_block[densenet_type][2], base_growth_rate)\n",
    "    #x = Transition_layer(x, compression_factor=0.5)\n",
    "    #x = Dense_block(x, layers_in_block[densenet_type][3], base_growth_rate)\n",
    "    \n",
    "    x = GlobalAveragePooling2D()(x)\n",
    "    \n",
    "    model_output = Dense(10, activation='softmax', kernel_initializer='he_normal')(x)\n",
    "    \n",
    "    model = Model(model_input, model_output, name=densenet_type)\n",
    "    model.compile(optimizer = 'adam', metrics = ['accuracy'], loss = 'categorical_crossentropy')\n",
    "    \n",
    "    return model"
   ]
  },
  {
   "cell_type": "code",
   "execution_count": 9,
   "metadata": {
    "ExecuteTime": {
<<<<<<< HEAD
     "end_time": "2020-08-25T02:05:51.383871Z",
     "start_time": "2020-08-25T02:05:51.374891Z"
=======
     "end_time": "2020-08-25T06:36:18.265670Z",
     "start_time": "2020-08-25T06:36:18.236784Z"
>>>>>>> 44193f9cdfb61d9eabf93038cc5053bc1f266dd8
    }
   },
   "outputs": [],
   "source": [
    "def CNN():\n",
    "    inputs = Input(shape=(28,28,1))\n",
    "    x = Conv2D(64, (3,3), activation='relu', padding='same')(inputs)\n",
    "    x = Conv2D(64, (3,3), activation='relu', padding='same')(x)\n",
    "    x = Dropout(0.3)(x)\n",
    "    x = MaxPooling2D((2,2))(x)\n",
    "    x = Conv2D(64, (3,3), activation='relu', padding='same')(x)\n",
    "    x = Conv2D(64, (3,3), activation='relu', padding='same')(x)\n",
    "    x = Dropout(0.3)(x)\n",
    "    x = MaxPooling2D((2,2))(x)\n",
    "    x = Conv2D(128, (3,3), activation='relu', padding='same')(x)\n",
    "    x = Conv2D(128, (3,3), activation='relu', padding='same')(x)\n",
    "    x = Dropout(0.3)(x)\n",
    "    x = GlobalAveragePooling2D()(x)\n",
    "    outputs = Dense(10, activation='softmax')(x)\n",
    "    \n",
    "    model = Model(inputs = inputs, outputs = outputs)\n",
    "    model.compile(optimizer = 'adam', metrics = ['accuracy'], loss = 'categorical_crossentropy')\n",
    "    \n",
    "    return model"
   ]
  },
  {
   "cell_type": "code",
   "execution_count": 10,
   "metadata": {
    "ExecuteTime": {
<<<<<<< HEAD
     "end_time": "2020-08-25T02:05:54.665586Z",
     "start_time": "2020-08-25T02:05:51.385797Z"
=======
     "end_time": "2020-08-25T06:36:25.607559Z",
     "start_time": "2020-08-25T06:36:18.268652Z"
>>>>>>> 44193f9cdfb61d9eabf93038cc5053bc1f266dd8
    }
   },
   "outputs": [],
   "source": [
    "layers_in_block = {'DenseNet-121':[6, 12, 24, 16],\n",
    "                   'DenseNet-169':[6, 12, 32, 32],\n",
    "                   'DenseNet-201':[6, 12, 48, 32],\n",
    "                   'DenseNet-265':[6, 12, 64, 48]}\n",
    "\n",
    "DN_model = DenseNet('DenseNet-121', 32)\n",
    "CNN_model = CNN()"
   ]
  },
  {
   "cell_type": "code",
<<<<<<< HEAD
   "execution_count": 13,
   "metadata": {
    "ExecuteTime": {
     "end_time": "2020-08-25T02:08:12.253528Z",
     "start_time": "2020-08-25T02:08:12.243527Z"
=======
   "execution_count": 11,
   "metadata": {
    "ExecuteTime": {
     "end_time": "2020-08-25T06:36:25.638054Z",
     "start_time": "2020-08-25T06:36:25.607559Z"
>>>>>>> 44193f9cdfb61d9eabf93038cc5053bc1f266dd8
    }
   },
   "outputs": [],
   "source": [
    "def get_stacking_data(model, x_train, y_train, x_test, n_folds=5):\n",
    "    kfold = KFold(n_splits = n_folds)\n",
    "    \n",
    "    # 최종 모델에서 사용할 데이터셋 셋팅(0 값으로)\n",
    "    # 만약 shape가 (100, 10) 이었으면 폴드의 검증 과정에서 저장할 데이터는 (100, 1)\n",
    "    # 모양을 갖게 한다.\n",
<<<<<<< HEAD
    "    train_fold_predict = np.zeros((x_train.shape[0], 1))\n",
=======
    "    train_fold_predict = np.zeros((x_train.shape[0],1))\n",
>>>>>>> 44193f9cdfb61d9eabf93038cc5053bc1f266dd8
    "    \n",
    "    # test는 x_test 값을 이용해서 매 폴드마다 예측을 하기 때문에 (100, fold개수)\n",
    "    # 만큼의 shape를 갖게 된다.\n",
    "    # 그래서 해당 폴드마다 x_test의 예측 값을 해당 fold에 해당되는 열에 넣는다.\n",
    "    test_predict = np.zeros((x_test.shape[0], n_folds))\n",
    "    print(\"model : \", model.__class__.__name__)\n",
    "    \n",
    "    for cnt, (train_index, valid_index) in enumerate(kfold.split(x_train)):\n",
    "        x_train_ = x_train[train_index]\n",
    "        y_train_ = y_train[train_index]\n",
    "        x_validation = x_train[valid_index]\n",
    "        \n",
<<<<<<< HEAD
    "        x_train_ = x_train_.astype(np.float32)\n",
    "        y_train_ = y_train_.astype(np.float32)\n",
    "        x_validation = x_validation.astype(np.float32)\n",
=======
>>>>>>> 44193f9cdfb61d9eabf93038cc5053bc1f266dd8
    "        # 학습\n",
    "        model.fit(x_train_, y_train_, batch_size=64, epochs=30)\n",
    "        \n",
    "        # 해당 폴드에서 학습된 모델에다가 검증 데이터(x_validation)로 예측 후 저장\n",
<<<<<<< HEAD
    "        train_fold_predict[valid_index, :] = model.predict(x_validation).reshape(-1,1)\n",
    "        \n",
    "        # 해당 폴드에서 생성된 모델에게 원본 테스트 데이터(x_test)를 이용해서 예측을 수행하고 저장\n",
    "        test_predict[:, cnt] = model.predict(x_test)\n",
    "    \n",
    "    # for문이 끝나면 test_pred는 평균을 내서 하나로 합친다.\n",
    "    test_predict_mean = np.mean(test_predict, axis=1).reshape(-1,1)\n",
    "    \n",
    "    return train_fold_predict, test_predict_mean"
=======
    "        train_fold_predict[valid_index, :] = np.argmax(model.predict(x_validation), axis=1).reshape(-1,1)\n",
    "        \n",
    "        # 해당 폴드에서 생성된 모델에게 원본 테스트 데이터(x_test)를 이용해서 예측을 수행하고 저장\n",
    "        test_predict[:, cnt] = np.argmax(model.predict(x_test), axis=1)\n",
    "        print(test_predict)\n",
    "    \n",
    "    # for문이 끝나면 test_pred는 가장 많이 나온 값으로 한다.\n",
    "    test_predict_freq = []\n",
    "    for i in range(len(test_predict)):\n",
    "        test_predict_freq.append(int(mode(test_predict[i])[0]))\n",
    "    test_predict_freq = np.array(test_predict_freq).reshape(-1,1)\n",
    "    return train_fold_predict, test_predict_freq"
>>>>>>> 44193f9cdfb61d9eabf93038cc5053bc1f266dd8
   ]
  },
  {
   "cell_type": "code",
<<<<<<< HEAD
   "execution_count": 14,
   "metadata": {
    "ExecuteTime": {
     "end_time": "2020-08-25T02:19:40.291278Z",
     "start_time": "2020-08-25T02:08:15.012413Z"
=======
   "execution_count": 12,
   "metadata": {
    "ExecuteTime": {
     "end_time": "2020-08-25T07:48:08.483026Z",
     "start_time": "2020-08-25T06:36:25.642003Z"
>>>>>>> 44193f9cdfb61d9eabf93038cc5053bc1f266dd8
    }
   },
   "outputs": [
    {
     "name": "stdout",
     "output_type": "stream",
     "text": [
      "model :  Model\n",
<<<<<<< HEAD
      "Train on 4800 samples\n",
      "Epoch 1/30\n",
      "4800/4800 [==============================] - 570s 119ms/sample - loss: 2.2648 - accuracy: 0.2775\n",
      "Epoch 2/30\n",
      " 896/4800 [====>.........................] - ETA: 8:22 - loss: 1.4211 - accuracy: 0.5012"
     ]
    },
    {
     "ename": "KeyboardInterrupt",
     "evalue": "",
     "output_type": "error",
     "traceback": [
      "\u001b[1;31m---------------------------------------------------------------------------\u001b[0m",
      "\u001b[1;31mKeyboardInterrupt\u001b[0m                         Traceback (most recent call last)",
      "\u001b[1;32m<ipython-input-14-ff5ac29bf289>\u001b[0m in \u001b[0;36m<module>\u001b[1;34m\u001b[0m\n\u001b[1;32m----> 1\u001b[1;33m \u001b[0mDN_train\u001b[0m\u001b[1;33m,\u001b[0m \u001b[0mDN_test\u001b[0m \u001b[1;33m=\u001b[0m \u001b[0mget_stacking_data\u001b[0m\u001b[1;33m(\u001b[0m\u001b[0mDN_model\u001b[0m\u001b[1;33m,\u001b[0m \u001b[0mx_total\u001b[0m\u001b[1;33m,\u001b[0m \u001b[0my_total\u001b[0m\u001b[1;33m,\u001b[0m \u001b[0mx_test\u001b[0m\u001b[1;33m)\u001b[0m\u001b[1;33m\u001b[0m\u001b[1;33m\u001b[0m\u001b[0m\n\u001b[0m\u001b[0;32m      2\u001b[0m \u001b[0mCNN_train\u001b[0m\u001b[1;33m,\u001b[0m \u001b[0mCNN_test\u001b[0m \u001b[1;33m=\u001b[0m \u001b[0mget_stacking_data\u001b[0m\u001b[1;33m(\u001b[0m\u001b[0mCNN_model\u001b[0m\u001b[1;33m,\u001b[0m \u001b[0mx_total\u001b[0m\u001b[1;33m,\u001b[0m \u001b[0my_total\u001b[0m\u001b[1;33m,\u001b[0m \u001b[0mx_test\u001b[0m\u001b[1;33m)\u001b[0m\u001b[1;33m\u001b[0m\u001b[1;33m\u001b[0m\u001b[0m\n",
      "\u001b[1;32m<ipython-input-13-a84b4604d7f9>\u001b[0m in \u001b[0;36mget_stacking_data\u001b[1;34m(model, x_train, y_train, x_test, n_folds)\u001b[0m\n\u001b[0;32m     22\u001b[0m         \u001b[0mx_validation\u001b[0m \u001b[1;33m=\u001b[0m \u001b[0mx_validation\u001b[0m\u001b[1;33m.\u001b[0m\u001b[0mastype\u001b[0m\u001b[1;33m(\u001b[0m\u001b[0mnp\u001b[0m\u001b[1;33m.\u001b[0m\u001b[0mfloat32\u001b[0m\u001b[1;33m)\u001b[0m\u001b[1;33m\u001b[0m\u001b[1;33m\u001b[0m\u001b[0m\n\u001b[0;32m     23\u001b[0m         \u001b[1;31m# 학습\u001b[0m\u001b[1;33m\u001b[0m\u001b[1;33m\u001b[0m\u001b[1;33m\u001b[0m\u001b[0m\n\u001b[1;32m---> 24\u001b[1;33m         \u001b[0mmodel\u001b[0m\u001b[1;33m.\u001b[0m\u001b[0mfit\u001b[0m\u001b[1;33m(\u001b[0m\u001b[0mx_train_\u001b[0m\u001b[1;33m,\u001b[0m \u001b[0my_train_\u001b[0m\u001b[1;33m,\u001b[0m \u001b[0mbatch_size\u001b[0m\u001b[1;33m=\u001b[0m\u001b[1;36m64\u001b[0m\u001b[1;33m,\u001b[0m \u001b[0mepochs\u001b[0m\u001b[1;33m=\u001b[0m\u001b[1;36m30\u001b[0m\u001b[1;33m)\u001b[0m\u001b[1;33m\u001b[0m\u001b[1;33m\u001b[0m\u001b[0m\n\u001b[0m\u001b[0;32m     25\u001b[0m \u001b[1;33m\u001b[0m\u001b[0m\n\u001b[0;32m     26\u001b[0m         \u001b[1;31m# 해당 폴드에서 학습된 모델에다가 검증 데이터(x_validation)로 예측 후 저장\u001b[0m\u001b[1;33m\u001b[0m\u001b[1;33m\u001b[0m\u001b[1;33m\u001b[0m\u001b[0m\n",
      "\u001b[1;32m~\\venv\\lib\\site-packages\\tensorflow_core\\python\\keras\\engine\\training.py\u001b[0m in \u001b[0;36mfit\u001b[1;34m(self, x, y, batch_size, epochs, verbose, callbacks, validation_split, validation_data, shuffle, class_weight, sample_weight, initial_epoch, steps_per_epoch, validation_steps, validation_freq, max_queue_size, workers, use_multiprocessing, **kwargs)\u001b[0m\n\u001b[0;32m    726\u001b[0m         \u001b[0mmax_queue_size\u001b[0m\u001b[1;33m=\u001b[0m\u001b[0mmax_queue_size\u001b[0m\u001b[1;33m,\u001b[0m\u001b[1;33m\u001b[0m\u001b[1;33m\u001b[0m\u001b[0m\n\u001b[0;32m    727\u001b[0m         \u001b[0mworkers\u001b[0m\u001b[1;33m=\u001b[0m\u001b[0mworkers\u001b[0m\u001b[1;33m,\u001b[0m\u001b[1;33m\u001b[0m\u001b[1;33m\u001b[0m\u001b[0m\n\u001b[1;32m--> 728\u001b[1;33m         use_multiprocessing=use_multiprocessing)\n\u001b[0m\u001b[0;32m    729\u001b[0m \u001b[1;33m\u001b[0m\u001b[0m\n\u001b[0;32m    730\u001b[0m   def evaluate(self,\n",
      "\u001b[1;32m~\\venv\\lib\\site-packages\\tensorflow_core\\python\\keras\\engine\\training_v2.py\u001b[0m in \u001b[0;36mfit\u001b[1;34m(self, model, x, y, batch_size, epochs, verbose, callbacks, validation_split, validation_data, shuffle, class_weight, sample_weight, initial_epoch, steps_per_epoch, validation_steps, validation_freq, **kwargs)\u001b[0m\n\u001b[0;32m    322\u001b[0m                 \u001b[0mmode\u001b[0m\u001b[1;33m=\u001b[0m\u001b[0mModeKeys\u001b[0m\u001b[1;33m.\u001b[0m\u001b[0mTRAIN\u001b[0m\u001b[1;33m,\u001b[0m\u001b[1;33m\u001b[0m\u001b[1;33m\u001b[0m\u001b[0m\n\u001b[0;32m    323\u001b[0m                 \u001b[0mtraining_context\u001b[0m\u001b[1;33m=\u001b[0m\u001b[0mtraining_context\u001b[0m\u001b[1;33m,\u001b[0m\u001b[1;33m\u001b[0m\u001b[1;33m\u001b[0m\u001b[0m\n\u001b[1;32m--> 324\u001b[1;33m                 total_epochs=epochs)\n\u001b[0m\u001b[0;32m    325\u001b[0m             \u001b[0mcbks\u001b[0m\u001b[1;33m.\u001b[0m\u001b[0mmake_logs\u001b[0m\u001b[1;33m(\u001b[0m\u001b[0mmodel\u001b[0m\u001b[1;33m,\u001b[0m \u001b[0mepoch_logs\u001b[0m\u001b[1;33m,\u001b[0m \u001b[0mtraining_result\u001b[0m\u001b[1;33m,\u001b[0m \u001b[0mModeKeys\u001b[0m\u001b[1;33m.\u001b[0m\u001b[0mTRAIN\u001b[0m\u001b[1;33m)\u001b[0m\u001b[1;33m\u001b[0m\u001b[1;33m\u001b[0m\u001b[0m\n\u001b[0;32m    326\u001b[0m \u001b[1;33m\u001b[0m\u001b[0m\n",
      "\u001b[1;32m~\\venv\\lib\\site-packages\\tensorflow_core\\python\\keras\\engine\\training_v2.py\u001b[0m in \u001b[0;36mrun_one_epoch\u001b[1;34m(model, iterator, execution_function, dataset_size, batch_size, strategy, steps_per_epoch, num_samples, mode, training_context, total_epochs)\u001b[0m\n\u001b[0;32m    121\u001b[0m         step=step, mode=mode, size=current_batch_size) as batch_logs:\n\u001b[0;32m    122\u001b[0m       \u001b[1;32mtry\u001b[0m\u001b[1;33m:\u001b[0m\u001b[1;33m\u001b[0m\u001b[1;33m\u001b[0m\u001b[0m\n\u001b[1;32m--> 123\u001b[1;33m         \u001b[0mbatch_outs\u001b[0m \u001b[1;33m=\u001b[0m \u001b[0mexecution_function\u001b[0m\u001b[1;33m(\u001b[0m\u001b[0miterator\u001b[0m\u001b[1;33m)\u001b[0m\u001b[1;33m\u001b[0m\u001b[1;33m\u001b[0m\u001b[0m\n\u001b[0m\u001b[0;32m    124\u001b[0m       \u001b[1;32mexcept\u001b[0m \u001b[1;33m(\u001b[0m\u001b[0mStopIteration\u001b[0m\u001b[1;33m,\u001b[0m \u001b[0merrors\u001b[0m\u001b[1;33m.\u001b[0m\u001b[0mOutOfRangeError\u001b[0m\u001b[1;33m)\u001b[0m\u001b[1;33m:\u001b[0m\u001b[1;33m\u001b[0m\u001b[1;33m\u001b[0m\u001b[0m\n\u001b[0;32m    125\u001b[0m         \u001b[1;31m# TODO(kaftan): File bug about tf function and errors.OutOfRangeError?\u001b[0m\u001b[1;33m\u001b[0m\u001b[1;33m\u001b[0m\u001b[1;33m\u001b[0m\u001b[0m\n",
      "\u001b[1;32m~\\venv\\lib\\site-packages\\tensorflow_core\\python\\keras\\engine\\training_v2_utils.py\u001b[0m in \u001b[0;36mexecution_function\u001b[1;34m(input_fn)\u001b[0m\n\u001b[0;32m     84\u001b[0m     \u001b[1;31m# `numpy` translates Tensors to values in Eager mode.\u001b[0m\u001b[1;33m\u001b[0m\u001b[1;33m\u001b[0m\u001b[1;33m\u001b[0m\u001b[0m\n\u001b[0;32m     85\u001b[0m     return nest.map_structure(_non_none_constant_value,\n\u001b[1;32m---> 86\u001b[1;33m                               distributed_function(input_fn))\n\u001b[0m\u001b[0;32m     87\u001b[0m \u001b[1;33m\u001b[0m\u001b[0m\n\u001b[0;32m     88\u001b[0m   \u001b[1;32mreturn\u001b[0m \u001b[0mexecution_function\u001b[0m\u001b[1;33m\u001b[0m\u001b[1;33m\u001b[0m\u001b[0m\n",
      "\u001b[1;32m~\\venv\\lib\\site-packages\\tensorflow_core\\python\\eager\\def_function.py\u001b[0m in \u001b[0;36m__call__\u001b[1;34m(self, *args, **kwds)\u001b[0m\n\u001b[0;32m    455\u001b[0m \u001b[1;33m\u001b[0m\u001b[0m\n\u001b[0;32m    456\u001b[0m     \u001b[0mtracing_count\u001b[0m \u001b[1;33m=\u001b[0m \u001b[0mself\u001b[0m\u001b[1;33m.\u001b[0m\u001b[0m_get_tracing_count\u001b[0m\u001b[1;33m(\u001b[0m\u001b[1;33m)\u001b[0m\u001b[1;33m\u001b[0m\u001b[1;33m\u001b[0m\u001b[0m\n\u001b[1;32m--> 457\u001b[1;33m     \u001b[0mresult\u001b[0m \u001b[1;33m=\u001b[0m \u001b[0mself\u001b[0m\u001b[1;33m.\u001b[0m\u001b[0m_call\u001b[0m\u001b[1;33m(\u001b[0m\u001b[1;33m*\u001b[0m\u001b[0margs\u001b[0m\u001b[1;33m,\u001b[0m \u001b[1;33m**\u001b[0m\u001b[0mkwds\u001b[0m\u001b[1;33m)\u001b[0m\u001b[1;33m\u001b[0m\u001b[1;33m\u001b[0m\u001b[0m\n\u001b[0m\u001b[0;32m    458\u001b[0m     \u001b[1;32mif\u001b[0m \u001b[0mtracing_count\u001b[0m \u001b[1;33m==\u001b[0m \u001b[0mself\u001b[0m\u001b[1;33m.\u001b[0m\u001b[0m_get_tracing_count\u001b[0m\u001b[1;33m(\u001b[0m\u001b[1;33m)\u001b[0m\u001b[1;33m:\u001b[0m\u001b[1;33m\u001b[0m\u001b[1;33m\u001b[0m\u001b[0m\n\u001b[0;32m    459\u001b[0m       \u001b[0mself\u001b[0m\u001b[1;33m.\u001b[0m\u001b[0m_call_counter\u001b[0m\u001b[1;33m.\u001b[0m\u001b[0mcalled_without_tracing\u001b[0m\u001b[1;33m(\u001b[0m\u001b[1;33m)\u001b[0m\u001b[1;33m\u001b[0m\u001b[1;33m\u001b[0m\u001b[0m\n",
      "\u001b[1;32m~\\venv\\lib\\site-packages\\tensorflow_core\\python\\eager\\def_function.py\u001b[0m in \u001b[0;36m_call\u001b[1;34m(self, *args, **kwds)\u001b[0m\n\u001b[0;32m    485\u001b[0m       \u001b[1;31m# In this case we have created variables on the first call, so we run the\u001b[0m\u001b[1;33m\u001b[0m\u001b[1;33m\u001b[0m\u001b[1;33m\u001b[0m\u001b[0m\n\u001b[0;32m    486\u001b[0m       \u001b[1;31m# defunned version which is guaranteed to never create variables.\u001b[0m\u001b[1;33m\u001b[0m\u001b[1;33m\u001b[0m\u001b[1;33m\u001b[0m\u001b[0m\n\u001b[1;32m--> 487\u001b[1;33m       \u001b[1;32mreturn\u001b[0m \u001b[0mself\u001b[0m\u001b[1;33m.\u001b[0m\u001b[0m_stateless_fn\u001b[0m\u001b[1;33m(\u001b[0m\u001b[1;33m*\u001b[0m\u001b[0margs\u001b[0m\u001b[1;33m,\u001b[0m \u001b[1;33m**\u001b[0m\u001b[0mkwds\u001b[0m\u001b[1;33m)\u001b[0m  \u001b[1;31m# pylint: disable=not-callable\u001b[0m\u001b[1;33m\u001b[0m\u001b[1;33m\u001b[0m\u001b[0m\n\u001b[0m\u001b[0;32m    488\u001b[0m     \u001b[1;32melif\u001b[0m \u001b[0mself\u001b[0m\u001b[1;33m.\u001b[0m\u001b[0m_stateful_fn\u001b[0m \u001b[1;32mis\u001b[0m \u001b[1;32mnot\u001b[0m \u001b[1;32mNone\u001b[0m\u001b[1;33m:\u001b[0m\u001b[1;33m\u001b[0m\u001b[1;33m\u001b[0m\u001b[0m\n\u001b[0;32m    489\u001b[0m       \u001b[1;31m# Release the lock early so that multiple threads can perform the call\u001b[0m\u001b[1;33m\u001b[0m\u001b[1;33m\u001b[0m\u001b[1;33m\u001b[0m\u001b[0m\n",
      "\u001b[1;32m~\\venv\\lib\\site-packages\\tensorflow_core\\python\\eager\\function.py\u001b[0m in \u001b[0;36m__call__\u001b[1;34m(self, *args, **kwargs)\u001b[0m\n\u001b[0;32m   1821\u001b[0m     \u001b[1;34m\"\"\"Calls a graph function specialized to the inputs.\"\"\"\u001b[0m\u001b[1;33m\u001b[0m\u001b[1;33m\u001b[0m\u001b[0m\n\u001b[0;32m   1822\u001b[0m     \u001b[0mgraph_function\u001b[0m\u001b[1;33m,\u001b[0m \u001b[0margs\u001b[0m\u001b[1;33m,\u001b[0m \u001b[0mkwargs\u001b[0m \u001b[1;33m=\u001b[0m \u001b[0mself\u001b[0m\u001b[1;33m.\u001b[0m\u001b[0m_maybe_define_function\u001b[0m\u001b[1;33m(\u001b[0m\u001b[0margs\u001b[0m\u001b[1;33m,\u001b[0m \u001b[0mkwargs\u001b[0m\u001b[1;33m)\u001b[0m\u001b[1;33m\u001b[0m\u001b[1;33m\u001b[0m\u001b[0m\n\u001b[1;32m-> 1823\u001b[1;33m     \u001b[1;32mreturn\u001b[0m \u001b[0mgraph_function\u001b[0m\u001b[1;33m.\u001b[0m\u001b[0m_filtered_call\u001b[0m\u001b[1;33m(\u001b[0m\u001b[0margs\u001b[0m\u001b[1;33m,\u001b[0m \u001b[0mkwargs\u001b[0m\u001b[1;33m)\u001b[0m  \u001b[1;31m# pylint: disable=protected-access\u001b[0m\u001b[1;33m\u001b[0m\u001b[1;33m\u001b[0m\u001b[0m\n\u001b[0m\u001b[0;32m   1824\u001b[0m \u001b[1;33m\u001b[0m\u001b[0m\n\u001b[0;32m   1825\u001b[0m   \u001b[1;33m@\u001b[0m\u001b[0mproperty\u001b[0m\u001b[1;33m\u001b[0m\u001b[1;33m\u001b[0m\u001b[0m\n",
      "\u001b[1;32m~\\venv\\lib\\site-packages\\tensorflow_core\\python\\eager\\function.py\u001b[0m in \u001b[0;36m_filtered_call\u001b[1;34m(self, args, kwargs)\u001b[0m\n\u001b[0;32m   1139\u001b[0m          if isinstance(t, (ops.Tensor,\n\u001b[0;32m   1140\u001b[0m                            resource_variable_ops.BaseResourceVariable))),\n\u001b[1;32m-> 1141\u001b[1;33m         self.captured_inputs)\n\u001b[0m\u001b[0;32m   1142\u001b[0m \u001b[1;33m\u001b[0m\u001b[0m\n\u001b[0;32m   1143\u001b[0m   \u001b[1;32mdef\u001b[0m \u001b[0m_call_flat\u001b[0m\u001b[1;33m(\u001b[0m\u001b[0mself\u001b[0m\u001b[1;33m,\u001b[0m \u001b[0margs\u001b[0m\u001b[1;33m,\u001b[0m \u001b[0mcaptured_inputs\u001b[0m\u001b[1;33m,\u001b[0m \u001b[0mcancellation_manager\u001b[0m\u001b[1;33m=\u001b[0m\u001b[1;32mNone\u001b[0m\u001b[1;33m)\u001b[0m\u001b[1;33m:\u001b[0m\u001b[1;33m\u001b[0m\u001b[1;33m\u001b[0m\u001b[0m\n",
      "\u001b[1;32m~\\venv\\lib\\site-packages\\tensorflow_core\\python\\eager\\function.py\u001b[0m in \u001b[0;36m_call_flat\u001b[1;34m(self, args, captured_inputs, cancellation_manager)\u001b[0m\n\u001b[0;32m   1222\u001b[0m     \u001b[1;32mif\u001b[0m \u001b[0mexecuting_eagerly\u001b[0m\u001b[1;33m:\u001b[0m\u001b[1;33m\u001b[0m\u001b[1;33m\u001b[0m\u001b[0m\n\u001b[0;32m   1223\u001b[0m       flat_outputs = forward_function.call(\n\u001b[1;32m-> 1224\u001b[1;33m           ctx, args, cancellation_manager=cancellation_manager)\n\u001b[0m\u001b[0;32m   1225\u001b[0m     \u001b[1;32melse\u001b[0m\u001b[1;33m:\u001b[0m\u001b[1;33m\u001b[0m\u001b[1;33m\u001b[0m\u001b[0m\n\u001b[0;32m   1226\u001b[0m       \u001b[0mgradient_name\u001b[0m \u001b[1;33m=\u001b[0m \u001b[0mself\u001b[0m\u001b[1;33m.\u001b[0m\u001b[0m_delayed_rewrite_functions\u001b[0m\u001b[1;33m.\u001b[0m\u001b[0mregister\u001b[0m\u001b[1;33m(\u001b[0m\u001b[1;33m)\u001b[0m\u001b[1;33m\u001b[0m\u001b[1;33m\u001b[0m\u001b[0m\n",
      "\u001b[1;32m~\\venv\\lib\\site-packages\\tensorflow_core\\python\\eager\\function.py\u001b[0m in \u001b[0;36mcall\u001b[1;34m(self, ctx, args, cancellation_manager)\u001b[0m\n\u001b[0;32m    509\u001b[0m               \u001b[0minputs\u001b[0m\u001b[1;33m=\u001b[0m\u001b[0margs\u001b[0m\u001b[1;33m,\u001b[0m\u001b[1;33m\u001b[0m\u001b[1;33m\u001b[0m\u001b[0m\n\u001b[0;32m    510\u001b[0m               \u001b[0mattrs\u001b[0m\u001b[1;33m=\u001b[0m\u001b[1;33m(\u001b[0m\u001b[1;34m\"executor_type\"\u001b[0m\u001b[1;33m,\u001b[0m \u001b[0mexecutor_type\u001b[0m\u001b[1;33m,\u001b[0m \u001b[1;34m\"config_proto\"\u001b[0m\u001b[1;33m,\u001b[0m \u001b[0mconfig\u001b[0m\u001b[1;33m)\u001b[0m\u001b[1;33m,\u001b[0m\u001b[1;33m\u001b[0m\u001b[1;33m\u001b[0m\u001b[0m\n\u001b[1;32m--> 511\u001b[1;33m               ctx=ctx)\n\u001b[0m\u001b[0;32m    512\u001b[0m         \u001b[1;32melse\u001b[0m\u001b[1;33m:\u001b[0m\u001b[1;33m\u001b[0m\u001b[1;33m\u001b[0m\u001b[0m\n\u001b[0;32m    513\u001b[0m           outputs = execute.execute_with_cancellation(\n",
      "\u001b[1;32m~\\venv\\lib\\site-packages\\tensorflow_core\\python\\eager\\execute.py\u001b[0m in \u001b[0;36mquick_execute\u001b[1;34m(op_name, num_outputs, inputs, attrs, ctx, name)\u001b[0m\n\u001b[0;32m     59\u001b[0m     tensors = pywrap_tensorflow.TFE_Py_Execute(ctx._handle, device_name,\n\u001b[0;32m     60\u001b[0m                                                \u001b[0mop_name\u001b[0m\u001b[1;33m,\u001b[0m \u001b[0minputs\u001b[0m\u001b[1;33m,\u001b[0m \u001b[0mattrs\u001b[0m\u001b[1;33m,\u001b[0m\u001b[1;33m\u001b[0m\u001b[1;33m\u001b[0m\u001b[0m\n\u001b[1;32m---> 61\u001b[1;33m                                                num_outputs)\n\u001b[0m\u001b[0;32m     62\u001b[0m   \u001b[1;32mexcept\u001b[0m \u001b[0mcore\u001b[0m\u001b[1;33m.\u001b[0m\u001b[0m_NotOkStatusException\u001b[0m \u001b[1;32mas\u001b[0m \u001b[0me\u001b[0m\u001b[1;33m:\u001b[0m\u001b[1;33m\u001b[0m\u001b[1;33m\u001b[0m\u001b[0m\n\u001b[0;32m     63\u001b[0m     \u001b[1;32mif\u001b[0m \u001b[0mname\u001b[0m \u001b[1;32mis\u001b[0m \u001b[1;32mnot\u001b[0m \u001b[1;32mNone\u001b[0m\u001b[1;33m:\u001b[0m\u001b[1;33m\u001b[0m\u001b[1;33m\u001b[0m\u001b[0m\n",
      "\u001b[1;31mKeyboardInterrupt\u001b[0m: "
=======
      "Epoch 1/30\n",
      "4800/4800 [==============================] - 52s 11ms/step - loss: 2.3114 - acc: 0.2650\n",
      "Epoch 2/30\n",
      "4800/4800 [==============================] - 27s 6ms/step - loss: 1.3253 - acc: 0.5369\n",
      "Epoch 3/30\n",
      "4800/4800 [==============================] - 27s 6ms/step - loss: 0.9036 - acc: 0.6846\n",
      "Epoch 4/30\n",
      "4800/4800 [==============================] - 27s 6ms/step - loss: 0.6360 - acc: 0.7835\n",
      "Epoch 5/30\n",
      "4800/4800 [==============================] - 27s 6ms/step - loss: 0.4959 - acc: 0.8317\n",
      "Epoch 6/30\n",
      "4800/4800 [==============================] - 27s 6ms/step - loss: 0.4099 - acc: 0.8575\n",
      "Epoch 7/30\n",
      "4800/4800 [==============================] - 27s 6ms/step - loss: 0.3509 - acc: 0.8796\n",
      "Epoch 8/30\n",
      "4800/4800 [==============================] - 27s 6ms/step - loss: 0.3162 - acc: 0.8906\n",
      "Epoch 9/30\n",
      "4800/4800 [==============================] - 27s 6ms/step - loss: 0.2761 - acc: 0.9087\n",
      "Epoch 10/30\n",
      "4800/4800 [==============================] - 27s 6ms/step - loss: 0.1907 - acc: 0.9323\n",
      "Epoch 11/30\n",
      "4800/4800 [==============================] - 27s 6ms/step - loss: 0.1727 - acc: 0.9363\n",
      "Epoch 12/30\n",
      "4800/4800 [==============================] - 27s 6ms/step - loss: 0.1365 - acc: 0.9544\n",
      "Epoch 13/30\n",
      "4800/4800 [==============================] - 27s 6ms/step - loss: 0.1840 - acc: 0.9356\n",
      "Epoch 14/30\n",
      "4800/4800 [==============================] - 27s 6ms/step - loss: 0.1099 - acc: 0.9602\n",
      "Epoch 15/30\n",
      "4800/4800 [==============================] - 27s 6ms/step - loss: 0.1544 - acc: 0.9540\n",
      "Epoch 16/30\n",
      "4800/4800 [==============================] - 27s 6ms/step - loss: 0.1363 - acc: 0.9531\n",
      "Epoch 17/30\n",
      "4800/4800 [==============================] - 27s 6ms/step - loss: 0.0990 - acc: 0.9665\n",
      "Epoch 18/30\n",
      "4800/4800 [==============================] - 27s 6ms/step - loss: 0.1050 - acc: 0.9619\n",
      "Epoch 19/30\n",
      "4800/4800 [==============================] - 27s 6ms/step - loss: 0.1306 - acc: 0.9571\n",
      "Epoch 20/30\n",
      "4800/4800 [==============================] - 27s 6ms/step - loss: 0.0922 - acc: 0.9675\n",
      "Epoch 21/30\n",
      "4800/4800 [==============================] - 27s 6ms/step - loss: 0.0599 - acc: 0.9790\n",
      "Epoch 22/30\n",
      "4800/4800 [==============================] - 27s 6ms/step - loss: 0.0589 - acc: 0.9808\n",
      "Epoch 23/30\n",
      "4800/4800 [==============================] - 27s 6ms/step - loss: 0.0950 - acc: 0.9692\n",
      "Epoch 24/30\n",
      "4800/4800 [==============================] - 27s 6ms/step - loss: 0.0522 - acc: 0.9848\n",
      "Epoch 25/30\n",
      "4800/4800 [==============================] - 27s 6ms/step - loss: 0.0558 - acc: 0.9823\n",
      "Epoch 26/30\n",
      "4800/4800 [==============================] - 27s 6ms/step - loss: 0.0660 - acc: 0.9775\n",
      "Epoch 27/30\n",
      "4800/4800 [==============================] - 27s 6ms/step - loss: 0.1044 - acc: 0.9683\n",
      "Epoch 28/30\n",
      "4800/4800 [==============================] - 27s 6ms/step - loss: 0.0722 - acc: 0.9758\n",
      "Epoch 29/30\n",
      "4800/4800 [==============================] - 27s 6ms/step - loss: 0.0499 - acc: 0.9831\n",
      "Epoch 30/30\n",
      "4800/4800 [==============================] - 27s 6ms/step - loss: 0.0250 - acc: 0.9931\n",
      "[[9. 0. 0. 0. 0.]\n",
      " [2. 0. 0. 0. 0.]\n",
      " [9. 0. 0. 0. 0.]\n",
      " [3. 0. 0. 0. 0.]\n",
      " [6. 0. 0. 0. 0.]\n",
      " [3. 0. 0. 0. 0.]\n",
      " [3. 0. 0. 0. 0.]\n",
      " [9. 0. 0. 0. 0.]\n",
      " [7. 0. 0. 0. 0.]\n",
      " [3. 0. 0. 0. 0.]\n",
      " [9. 0. 0. 0. 0.]\n",
      " [9. 0. 0. 0. 0.]\n",
      " [1. 0. 0. 0. 0.]\n",
      " [2. 0. 0. 0. 0.]\n",
      " [5. 0. 0. 0. 0.]\n",
      " [1. 0. 0. 0. 0.]\n",
      " [3. 0. 0. 0. 0.]\n",
      " [4. 0. 0. 0. 0.]\n",
      " [6. 0. 0. 0. 0.]\n",
      " [0. 0. 0. 0. 0.]\n",
      " [8. 0. 0. 0. 0.]\n",
      " [5. 0. 0. 0. 0.]\n",
      " [7. 0. 0. 0. 0.]\n",
      " [7. 0. 0. 0. 0.]\n",
      " [9. 0. 0. 0. 0.]\n",
      " [7. 0. 0. 0. 0.]\n",
      " [5. 0. 0. 0. 0.]\n",
      " [9. 0. 0. 0. 0.]\n",
      " [6. 0. 0. 0. 0.]\n",
      " [8. 0. 0. 0. 0.]\n",
      " [4. 0. 0. 0. 0.]\n",
      " [3. 0. 0. 0. 0.]\n",
      " [6. 0. 0. 0. 0.]\n",
      " [2. 0. 0. 0. 0.]\n",
      " [9. 0. 0. 0. 0.]\n",
      " [8. 0. 0. 0. 0.]\n",
      " [9. 0. 0. 0. 0.]\n",
      " [6. 0. 0. 0. 0.]\n",
      " [4. 0. 0. 0. 0.]\n",
      " [3. 0. 0. 0. 0.]\n",
      " [6. 0. 0. 0. 0.]\n",
      " [3. 0. 0. 0. 0.]\n",
      " [6. 0. 0. 0. 0.]\n",
      " [5. 0. 0. 0. 0.]\n",
      " [1. 0. 0. 0. 0.]\n",
      " [9. 0. 0. 0. 0.]\n",
      " [0. 0. 0. 0. 0.]\n",
      " [5. 0. 0. 0. 0.]]\n",
      "Epoch 1/30\n",
      "4800/4800 [==============================] - 27s 6ms/step - loss: 0.1599 - acc: 0.9552\n",
      "Epoch 2/30\n",
      "4800/4800 [==============================] - 27s 6ms/step - loss: 0.0956 - acc: 0.9708\n",
      "Epoch 3/30\n",
      "4800/4800 [==============================] - 27s 6ms/step - loss: 0.0404 - acc: 0.9856\n",
      "Epoch 4/30\n",
      "4800/4800 [==============================] - 27s 6ms/step - loss: 0.0713 - acc: 0.9783\n",
      "Epoch 5/30\n",
      "4800/4800 [==============================] - 27s 6ms/step - loss: 0.0803 - acc: 0.9737\n",
      "Epoch 6/30\n",
      "4800/4800 [==============================] - 26s 6ms/step - loss: 0.0677 - acc: 0.9783\n",
      "Epoch 7/30\n",
      "4800/4800 [==============================] - 27s 6ms/step - loss: 0.0659 - acc: 0.9798\n",
      "Epoch 8/30\n",
      "4800/4800 [==============================] - 27s 6ms/step - loss: 0.0426 - acc: 0.9877\n",
      "Epoch 9/30\n",
      "4800/4800 [==============================] - 27s 6ms/step - loss: 0.0184 - acc: 0.9952\n",
      "Epoch 10/30\n",
      "4800/4800 [==============================] - 27s 6ms/step - loss: 0.0236 - acc: 0.9915\n",
      "Epoch 11/30\n",
      "4800/4800 [==============================] - 27s 6ms/step - loss: 0.0487 - acc: 0.9862\n",
      "Epoch 12/30\n",
      "4800/4800 [==============================] - 26s 6ms/step - loss: 0.1045 - acc: 0.9669\n",
      "Epoch 13/30\n",
      "4800/4800 [==============================] - 27s 6ms/step - loss: 0.1123 - acc: 0.9650\n",
      "Epoch 14/30\n",
      "4800/4800 [==============================] - 26s 6ms/step - loss: 0.0817 - acc: 0.9760\n",
      "Epoch 15/30\n",
      "4800/4800 [==============================] - 26s 6ms/step - loss: 0.0206 - acc: 0.9925\n",
      "Epoch 16/30\n",
      "4800/4800 [==============================] - 26s 6ms/step - loss: 0.0116 - acc: 0.9965\n",
      "Epoch 17/30\n",
      "4800/4800 [==============================] - 27s 6ms/step - loss: 0.0070 - acc: 0.9975\n",
      "Epoch 18/30\n",
      "4800/4800 [==============================] - 27s 6ms/step - loss: 0.0036 - acc: 0.9985\n",
      "Epoch 19/30\n",
      "4800/4800 [==============================] - 26s 6ms/step - loss: 0.0029 - acc: 0.9992\n",
      "Epoch 20/30\n",
      "4800/4800 [==============================] - 26s 6ms/step - loss: 0.0147 - acc: 0.9956\n",
      "Epoch 21/30\n",
      "4800/4800 [==============================] - 27s 6ms/step - loss: 0.0878 - acc: 0.9748\n",
      "Epoch 22/30\n",
      "4800/4800 [==============================] - 27s 6ms/step - loss: 0.1349 - acc: 0.9610\n",
      "Epoch 23/30\n",
      "4800/4800 [==============================] - 26s 6ms/step - loss: 0.0955 - acc: 0.9704\n",
      "Epoch 24/30\n",
      "4800/4800 [==============================] - 27s 6ms/step - loss: 0.0695 - acc: 0.9794\n",
      "Epoch 25/30\n",
      "4800/4800 [==============================] - 27s 6ms/step - loss: 0.0284 - acc: 0.9898\n",
      "Epoch 26/30\n",
      "4800/4800 [==============================] - 26s 6ms/step - loss: 0.0173 - acc: 0.9944\n",
      "Epoch 27/30\n",
      "4800/4800 [==============================] - 26s 6ms/step - loss: 0.0065 - acc: 0.9981\n",
      "Epoch 28/30\n",
      "4800/4800 [==============================] - 27s 6ms/step - loss: 0.0072 - acc: 0.9979\n",
      "Epoch 29/30\n",
      "4800/4800 [==============================] - 26s 6ms/step - loss: 0.0168 - acc: 0.9954\n",
      "Epoch 30/30\n",
      "4800/4800 [==============================] - 27s 6ms/step - loss: 0.0357 - acc: 0.9890\n",
      "[[9. 9. 0. 0. 0.]\n",
      " [2. 2. 0. 0. 0.]\n",
      " [9. 9. 0. 0. 0.]\n",
      " [3. 8. 0. 0. 0.]\n",
      " [6. 6. 0. 0. 0.]\n",
      " [3. 3. 0. 0. 0.]\n",
      " [3. 3. 0. 0. 0.]\n",
      " [9. 4. 0. 0. 0.]\n",
      " [7. 7. 0. 0. 0.]\n",
      " [3. 8. 0. 0. 0.]\n",
      " [9. 9. 0. 0. 0.]\n",
      " [9. 9. 0. 0. 0.]\n",
      " [1. 1. 0. 0. 0.]\n",
      " [2. 2. 0. 0. 0.]\n",
      " [5. 5. 0. 0. 0.]\n",
      " [1. 1. 0. 0. 0.]\n",
      " [3. 2. 0. 0. 0.]\n",
      " [4. 1. 0. 0. 0.]\n",
      " [6. 6. 0. 0. 0.]\n",
      " [0. 0. 0. 0. 0.]\n",
      " [8. 8. 0. 0. 0.]\n",
      " [5. 3. 0. 0. 0.]\n",
      " [7. 7. 0. 0. 0.]\n",
      " [7. 7. 0. 0. 0.]\n",
      " [9. 9. 0. 0. 0.]\n",
      " [7. 7. 0. 0. 0.]\n",
      " [5. 5. 0. 0. 0.]\n",
      " [9. 9. 0. 0. 0.]\n",
      " [6. 6. 0. 0. 0.]\n",
      " [8. 8. 0. 0. 0.]\n",
      " [4. 4. 0. 0. 0.]\n",
      " [3. 2. 0. 0. 0.]\n",
      " [6. 2. 0. 0. 0.]\n",
      " [2. 0. 0. 0. 0.]\n",
      " [9. 2. 0. 0. 0.]\n",
      " [8. 8. 0. 0. 0.]\n",
      " [9. 4. 0. 0. 0.]\n",
      " [6. 6. 0. 0. 0.]\n",
      " [4. 2. 0. 0. 0.]\n",
      " [3. 3. 0. 0. 0.]\n",
      " [6. 2. 0. 0. 0.]\n",
      " [3. 2. 0. 0. 0.]\n",
      " [6. 2. 0. 0. 0.]\n",
      " [5. 6. 0. 0. 0.]\n",
      " [1. 7. 0. 0. 0.]\n",
      " [9. 9. 0. 0. 0.]\n",
      " [0. 0. 0. 0. 0.]\n",
      " [5. 5. 0. 0. 0.]]\n",
      "Epoch 1/30\n",
      "4800/4800 [==============================] - 26s 6ms/step - loss: 0.0984 - acc: 0.9700\n",
      "Epoch 2/30\n",
      "4800/4800 [==============================] - 26s 5ms/step - loss: 0.0916 - acc: 0.9737\n",
      "Epoch 3/30\n",
      "4800/4800 [==============================] - 26s 6ms/step - loss: 0.0487 - acc: 0.9831\n",
      "Epoch 4/30\n",
      "4800/4800 [==============================] - 26s 6ms/step - loss: 0.0198 - acc: 0.9944\n",
      "Epoch 5/30\n",
      "4800/4800 [==============================] - 26s 5ms/step - loss: 0.0200 - acc: 0.9929\n",
      "Epoch 6/30\n"
     ]
    },
    {
     "name": "stdout",
     "output_type": "stream",
     "text": [
      "4800/4800 [==============================] - 27s 6ms/step - loss: 0.0239 - acc: 0.9908\n",
      "Epoch 7/30\n",
      "4800/4800 [==============================] - 28s 6ms/step - loss: 0.0279 - acc: 0.9919\n",
      "Epoch 8/30\n",
      "4800/4800 [==============================] - 27s 6ms/step - loss: 0.0206 - acc: 0.9927\n",
      "Epoch 9/30\n",
      "4800/4800 [==============================] - 27s 6ms/step - loss: 0.0385 - acc: 0.9871\n",
      "Epoch 10/30\n",
      "4800/4800 [==============================] - 27s 6ms/step - loss: 0.0737 - acc: 0.9783\n",
      "Epoch 11/30\n",
      "4800/4800 [==============================] - 27s 6ms/step - loss: 0.0429 - acc: 0.9860\n",
      "Epoch 12/30\n",
      "4800/4800 [==============================] - 27s 6ms/step - loss: 0.0362 - acc: 0.9877\n",
      "Epoch 13/30\n",
      "4800/4800 [==============================] - 27s 6ms/step - loss: 0.0469 - acc: 0.9862\n",
      "Epoch 14/30\n",
      "4800/4800 [==============================] - 27s 6ms/step - loss: 0.0536 - acc: 0.9827\n",
      "Epoch 15/30\n",
      "4800/4800 [==============================] - 27s 6ms/step - loss: 0.0442 - acc: 0.9869\n",
      "Epoch 16/30\n",
      "4800/4800 [==============================] - 27s 6ms/step - loss: 0.0280 - acc: 0.9917\n",
      "Epoch 17/30\n",
      "4800/4800 [==============================] - 27s 6ms/step - loss: 0.0261 - acc: 0.9919\n",
      "Epoch 18/30\n",
      "4800/4800 [==============================] - 27s 6ms/step - loss: 0.0482 - acc: 0.9871\n",
      "Epoch 19/30\n",
      "4800/4800 [==============================] - 27s 6ms/step - loss: 0.0440 - acc: 0.9867\n",
      "Epoch 20/30\n",
      "4800/4800 [==============================] - 27s 6ms/step - loss: 0.0456 - acc: 0.9862\n",
      "Epoch 21/30\n",
      "4800/4800 [==============================] - 27s 6ms/step - loss: 0.0289 - acc: 0.9906\n",
      "Epoch 22/30\n",
      "4800/4800 [==============================] - 27s 6ms/step - loss: 0.0265 - acc: 0.9908\n",
      "Epoch 23/30\n",
      "4800/4800 [==============================] - 27s 6ms/step - loss: 0.0192 - acc: 0.9938\n",
      "Epoch 24/30\n",
      "4800/4800 [==============================] - 27s 6ms/step - loss: 0.0018 - acc: 0.9998\n",
      "Epoch 25/30\n",
      "4800/4800 [==============================] - 27s 6ms/step - loss: 0.0013 - acc: 0.9996\n",
      "Epoch 26/30\n",
      "4800/4800 [==============================] - 27s 6ms/step - loss: 7.0463e-04 - acc: 0.9998\n",
      "Epoch 27/30\n",
      "4800/4800 [==============================] - 27s 6ms/step - loss: 3.0860e-04 - acc: 1.0000\n",
      "Epoch 28/30\n",
      "4800/4800 [==============================] - 27s 6ms/step - loss: 2.0128e-04 - acc: 1.0000\n",
      "Epoch 29/30\n",
      "4800/4800 [==============================] - 27s 6ms/step - loss: 1.2892e-04 - acc: 1.0000\n",
      "Epoch 30/30\n",
      "4800/4800 [==============================] - 27s 6ms/step - loss: 6.9258e-05 - acc: 1.0000\n",
      "[[9. 9. 9. 0. 0.]\n",
      " [2. 2. 2. 0. 0.]\n",
      " [9. 9. 9. 0. 0.]\n",
      " [3. 8. 8. 0. 0.]\n",
      " [6. 6. 6. 0. 0.]\n",
      " [3. 3. 3. 0. 0.]\n",
      " [3. 3. 3. 0. 0.]\n",
      " [9. 4. 4. 0. 0.]\n",
      " [7. 7. 7. 0. 0.]\n",
      " [3. 8. 8. 0. 0.]\n",
      " [9. 9. 9. 0. 0.]\n",
      " [9. 9. 9. 0. 0.]\n",
      " [1. 1. 1. 0. 0.]\n",
      " [2. 2. 2. 0. 0.]\n",
      " [5. 5. 5. 0. 0.]\n",
      " [1. 1. 1. 0. 0.]\n",
      " [3. 2. 2. 0. 0.]\n",
      " [4. 1. 6. 0. 0.]\n",
      " [6. 6. 6. 0. 0.]\n",
      " [0. 0. 0. 0. 0.]\n",
      " [8. 8. 8. 0. 0.]\n",
      " [5. 3. 5. 0. 0.]\n",
      " [7. 7. 7. 0. 0.]\n",
      " [7. 7. 7. 0. 0.]\n",
      " [9. 9. 9. 0. 0.]\n",
      " [7. 7. 7. 0. 0.]\n",
      " [5. 5. 5. 0. 0.]\n",
      " [9. 9. 9. 0. 0.]\n",
      " [6. 6. 6. 0. 0.]\n",
      " [8. 8. 8. 0. 0.]\n",
      " [4. 4. 4. 0. 0.]\n",
      " [3. 2. 2. 0. 0.]\n",
      " [6. 2. 6. 0. 0.]\n",
      " [2. 0. 0. 0. 0.]\n",
      " [9. 2. 2. 0. 0.]\n",
      " [8. 8. 8. 0. 0.]\n",
      " [9. 4. 0. 0. 0.]\n",
      " [6. 6. 6. 0. 0.]\n",
      " [4. 2. 4. 0. 0.]\n",
      " [3. 3. 3. 0. 0.]\n",
      " [6. 2. 2. 0. 0.]\n",
      " [3. 2. 2. 0. 0.]\n",
      " [6. 2. 6. 0. 0.]\n",
      " [5. 6. 6. 0. 0.]\n",
      " [1. 7. 1. 0. 0.]\n",
      " [9. 9. 9. 0. 0.]\n",
      " [0. 0. 0. 0. 0.]\n",
      " [5. 5. 5. 0. 0.]]\n",
      "Epoch 1/30\n",
      "4800/4800 [==============================] - 27s 6ms/step - loss: 0.0075 - acc: 0.9979\n",
      "Epoch 2/30\n",
      "4800/4800 [==============================] - 27s 6ms/step - loss: 0.0882 - acc: 0.9771\n",
      "Epoch 3/30\n",
      "4800/4800 [==============================] - 26s 6ms/step - loss: 0.2198 - acc: 0.9458\n",
      "Epoch 4/30\n",
      "4800/4800 [==============================] - 27s 6ms/step - loss: 0.1166 - acc: 0.9673\n",
      "Epoch 5/30\n",
      "4800/4800 [==============================] - 27s 6ms/step - loss: 0.0348 - acc: 0.9890\n",
      "Epoch 6/30\n",
      "4800/4800 [==============================] - 27s 6ms/step - loss: 0.0192 - acc: 0.9950\n",
      "Epoch 7/30\n",
      "4800/4800 [==============================] - 27s 6ms/step - loss: 0.0177 - acc: 0.9946\n",
      "Epoch 8/30\n",
      "4800/4800 [==============================] - 27s 6ms/step - loss: 0.0078 - acc: 0.9971\n",
      "Epoch 9/30\n",
      "4800/4800 [==============================] - 27s 6ms/step - loss: 0.0096 - acc: 0.9965\n",
      "Epoch 10/30\n",
      "4800/4800 [==============================] - 27s 6ms/step - loss: 0.0012 - acc: 0.9996\n",
      "Epoch 11/30\n",
      "4800/4800 [==============================] - 27s 6ms/step - loss: 0.0289 - acc: 0.9923\n",
      "Epoch 12/30\n",
      "4800/4800 [==============================] - 27s 6ms/step - loss: 0.0189 - acc: 0.9942\n",
      "Epoch 13/30\n",
      "4800/4800 [==============================] - 27s 6ms/step - loss: 0.0097 - acc: 0.9971\n",
      "Epoch 14/30\n",
      "4800/4800 [==============================] - 27s 6ms/step - loss: 0.0030 - acc: 0.9990\n",
      "Epoch 15/30\n",
      "4800/4800 [==============================] - 27s 6ms/step - loss: 0.0075 - acc: 0.9985\n",
      "Epoch 16/30\n",
      "4800/4800 [==============================] - 27s 6ms/step - loss: 9.1696e-04 - acc: 0.9998\n",
      "Epoch 17/30\n",
      "4800/4800 [==============================] - 27s 6ms/step - loss: 0.0042 - acc: 0.9983\n",
      "Epoch 18/30\n",
      "4800/4800 [==============================] - 27s 6ms/step - loss: 0.0179 - acc: 0.9952\n",
      "Epoch 19/30\n",
      "4800/4800 [==============================] - 27s 6ms/step - loss: 0.0296 - acc: 0.9921\n",
      "Epoch 20/30\n",
      "4800/4800 [==============================] - 27s 6ms/step - loss: 0.0736 - acc: 0.9802\n",
      "Epoch 21/30\n",
      "4800/4800 [==============================] - 27s 6ms/step - loss: 0.1689 - acc: 0.9606\n",
      "Epoch 22/30\n",
      "4800/4800 [==============================] - 26s 6ms/step - loss: 0.0305 - acc: 0.9904\n",
      "Epoch 23/30\n",
      "4800/4800 [==============================] - 27s 6ms/step - loss: 0.0227 - acc: 0.9927\n",
      "Epoch 24/30\n",
      "4800/4800 [==============================] - 27s 6ms/step - loss: 0.0054 - acc: 0.9985\n",
      "Epoch 25/30\n",
      "4800/4800 [==============================] - 27s 6ms/step - loss: 0.0036 - acc: 0.9990\n",
      "Epoch 26/30\n",
      "4800/4800 [==============================] - 27s 6ms/step - loss: 0.0037 - acc: 0.9990\n",
      "Epoch 27/30\n",
      "4800/4800 [==============================] - 27s 6ms/step - loss: 4.0073e-04 - acc: 0.9998\n",
      "Epoch 28/30\n",
      "4800/4800 [==============================] - 27s 6ms/step - loss: 2.7764e-04 - acc: 0.9998\n",
      "Epoch 29/30\n",
      "4800/4800 [==============================] - 27s 6ms/step - loss: 3.1986e-04 - acc: 1.0000\n",
      "Epoch 30/30\n",
      "4800/4800 [==============================] - 27s 6ms/step - loss: 4.2028e-04 - acc: 1.0000\n",
      "[[9. 9. 9. 9. 0.]\n",
      " [2. 2. 2. 2. 0.]\n",
      " [9. 9. 9. 9. 0.]\n",
      " [3. 8. 8. 8. 0.]\n",
      " [6. 6. 6. 6. 0.]\n",
      " [3. 3. 3. 3. 0.]\n",
      " [3. 3. 3. 3. 0.]\n",
      " [9. 4. 4. 4. 0.]\n",
      " [7. 7. 7. 7. 0.]\n",
      " [3. 8. 8. 8. 0.]\n",
      " [9. 9. 9. 9. 0.]\n",
      " [9. 9. 9. 9. 0.]\n",
      " [1. 1. 1. 1. 0.]\n",
      " [2. 2. 2. 2. 0.]\n",
      " [5. 5. 5. 5. 0.]\n",
      " [1. 1. 1. 1. 0.]\n",
      " [3. 2. 2. 2. 0.]\n",
      " [4. 1. 6. 1. 0.]\n",
      " [6. 6. 6. 6. 0.]\n",
      " [0. 0. 0. 0. 0.]\n",
      " [8. 8. 8. 8. 0.]\n",
      " [5. 3. 5. 5. 0.]\n",
      " [7. 7. 7. 7. 0.]\n",
      " [7. 7. 7. 7. 0.]\n",
      " [9. 9. 9. 9. 0.]\n",
      " [7. 7. 7. 7. 0.]\n",
      " [5. 5. 5. 5. 0.]\n",
      " [9. 9. 9. 9. 0.]\n",
      " [6. 6. 6. 6. 0.]\n",
      " [8. 8. 8. 8. 0.]\n",
      " [4. 4. 4. 4. 0.]\n",
      " [3. 2. 2. 2. 0.]\n",
      " [6. 2. 6. 6. 0.]\n",
      " [2. 0. 0. 0. 0.]\n",
      " [9. 2. 2. 7. 0.]\n",
      " [8. 8. 8. 8. 0.]\n",
      " [9. 4. 0. 4. 0.]\n",
      " [6. 6. 6. 6. 0.]\n",
      " [4. 2. 4. 4. 0.]\n",
      " [3. 3. 3. 3. 0.]\n",
      " [6. 2. 2. 2. 0.]\n",
      " [3. 2. 2. 2. 0.]\n",
      " [6. 2. 6. 6. 0.]\n",
      " [5. 6. 6. 6. 0.]\n",
      " [1. 7. 1. 1. 0.]\n",
      " [9. 9. 9. 9. 0.]\n",
      " [0. 0. 0. 0. 0.]\n",
      " [5. 5. 5. 5. 0.]]\n",
      "Epoch 1/30\n",
      "4800/4800 [==============================] - 27s 6ms/step - loss: 0.0025 - acc: 0.9992\n",
      "Epoch 2/30\n",
      "4800/4800 [==============================] - 26s 5ms/step - loss: 0.0233 - acc: 0.9942\n",
      "Epoch 3/30\n",
      "4800/4800 [==============================] - 27s 6ms/step - loss: 0.0621 - acc: 0.9842\n",
      "Epoch 4/30\n",
      "4800/4800 [==============================] - 26s 6ms/step - loss: 0.1018 - acc: 0.9731\n",
      "Epoch 5/30\n",
      "4800/4800 [==============================] - 26s 6ms/step - loss: 0.0682 - acc: 0.9798\n",
      "Epoch 6/30\n",
      "4800/4800 [==============================] - 26s 6ms/step - loss: 0.0514 - acc: 0.9858\n",
      "Epoch 7/30\n",
      "4800/4800 [==============================] - 27s 6ms/step - loss: 0.0485 - acc: 0.9860\n",
      "Epoch 8/30\n",
      "4800/4800 [==============================] - 26s 5ms/step - loss: 0.0136 - acc: 0.9948\n",
      "Epoch 9/30\n",
      "4800/4800 [==============================] - 27s 6ms/step - loss: 0.0031 - acc: 0.9990\n",
      "Epoch 10/30\n",
      "4800/4800 [==============================] - 26s 6ms/step - loss: 7.2108e-04 - acc: 0.9998\n",
      "Epoch 11/30\n"
     ]
    },
    {
     "name": "stdout",
     "output_type": "stream",
     "text": [
      "4800/4800 [==============================] - 27s 6ms/step - loss: 5.2368e-04 - acc: 0.9998\n",
      "Epoch 12/30\n",
      "4800/4800 [==============================] - 27s 6ms/step - loss: 2.3320e-04 - acc: 1.0000\n",
      "Epoch 13/30\n",
      "4800/4800 [==============================] - 27s 6ms/step - loss: 8.1822e-05 - acc: 1.0000\n",
      "Epoch 14/30\n",
      "4800/4800 [==============================] - 27s 6ms/step - loss: 1.0505e-04 - acc: 1.0000\n",
      "Epoch 15/30\n",
      "4800/4800 [==============================] - 27s 6ms/step - loss: 6.0789e-05 - acc: 1.0000\n",
      "Epoch 16/30\n",
      "4800/4800 [==============================] - 27s 6ms/step - loss: 1.0539e-04 - acc: 1.0000\n",
      "Epoch 17/30\n",
      "4800/4800 [==============================] - 27s 6ms/step - loss: 3.7342e-05 - acc: 1.0000\n",
      "Epoch 18/30\n",
      "4800/4800 [==============================] - 27s 6ms/step - loss: 5.4144e-05 - acc: 1.0000\n",
      "Epoch 19/30\n",
      "4800/4800 [==============================] - 27s 6ms/step - loss: 8.7628e-05 - acc: 1.0000\n",
      "Epoch 20/30\n",
      "4800/4800 [==============================] - 27s 6ms/step - loss: 4.0624e-05 - acc: 1.0000\n",
      "Epoch 21/30\n",
      "4800/4800 [==============================] - 27s 6ms/step - loss: 3.5738e-05 - acc: 1.0000\n",
      "Epoch 22/30\n",
      "4800/4800 [==============================] - 27s 6ms/step - loss: 3.6573e-05 - acc: 1.0000\n",
      "Epoch 23/30\n",
      "4800/4800 [==============================] - 27s 6ms/step - loss: 8.9887e-05 - acc: 1.0000\n",
      "Epoch 24/30\n",
      "4800/4800 [==============================] - 27s 6ms/step - loss: 3.4321e-05 - acc: 1.0000\n",
      "Epoch 25/30\n",
      "4800/4800 [==============================] - 27s 6ms/step - loss: 2.5398e-05 - acc: 1.0000\n",
      "Epoch 26/30\n",
      "4800/4800 [==============================] - 27s 6ms/step - loss: 4.1450e-05 - acc: 1.0000\n",
      "Epoch 27/30\n",
      "4800/4800 [==============================] - 27s 6ms/step - loss: 2.5332e-05 - acc: 1.0000\n",
      "Epoch 28/30\n",
      "4800/4800 [==============================] - 27s 6ms/step - loss: 2.7905e-05 - acc: 1.0000\n",
      "Epoch 29/30\n",
      "4800/4800 [==============================] - 27s 6ms/step - loss: 1.9498e-05 - acc: 1.0000\n",
      "Epoch 30/30\n",
      "4800/4800 [==============================] - 27s 6ms/step - loss: 1.7314e-05 - acc: 1.0000\n",
      "[[9. 9. 9. 9. 9.]\n",
      " [2. 2. 2. 2. 2.]\n",
      " [9. 9. 9. 9. 9.]\n",
      " [3. 8. 8. 8. 8.]\n",
      " [6. 6. 6. 6. 6.]\n",
      " [3. 3. 3. 3. 3.]\n",
      " [3. 3. 3. 3. 3.]\n",
      " [9. 4. 4. 4. 4.]\n",
      " [7. 7. 7. 7. 7.]\n",
      " [3. 8. 8. 8. 8.]\n",
      " [9. 9. 9. 9. 9.]\n",
      " [9. 9. 9. 9. 9.]\n",
      " [1. 1. 1. 1. 1.]\n",
      " [2. 2. 2. 2. 2.]\n",
      " [5. 5. 5. 5. 5.]\n",
      " [1. 1. 1. 1. 1.]\n",
      " [3. 2. 2. 2. 2.]\n",
      " [4. 1. 6. 1. 1.]\n",
      " [6. 6. 6. 6. 6.]\n",
      " [0. 0. 0. 0. 0.]\n",
      " [8. 8. 8. 8. 8.]\n",
      " [5. 3. 5. 5. 5.]\n",
      " [7. 7. 7. 7. 7.]\n",
      " [7. 7. 7. 7. 7.]\n",
      " [9. 9. 9. 9. 9.]\n",
      " [7. 7. 7. 7. 7.]\n",
      " [5. 5. 5. 5. 5.]\n",
      " [9. 9. 9. 9. 9.]\n",
      " [6. 6. 6. 6. 6.]\n",
      " [8. 8. 8. 8. 8.]\n",
      " [4. 4. 4. 4. 4.]\n",
      " [3. 2. 2. 2. 2.]\n",
      " [6. 2. 6. 6. 6.]\n",
      " [2. 0. 0. 0. 0.]\n",
      " [9. 2. 2. 7. 7.]\n",
      " [8. 8. 8. 8. 8.]\n",
      " [9. 4. 0. 4. 4.]\n",
      " [6. 6. 6. 6. 6.]\n",
      " [4. 2. 4. 4. 4.]\n",
      " [3. 3. 3. 3. 3.]\n",
      " [6. 2. 2. 2. 2.]\n",
      " [3. 2. 2. 2. 2.]\n",
      " [6. 2. 6. 6. 6.]\n",
      " [5. 6. 6. 6. 6.]\n",
      " [1. 7. 1. 1. 1.]\n",
      " [9. 9. 9. 9. 9.]\n",
      " [0. 0. 0. 0. 0.]\n",
      " [5. 5. 5. 5. 5.]]\n",
      "model :  Model\n",
      "Epoch 1/30\n",
      "4800/4800 [==============================] - 4s 901us/step - loss: 2.4245 - acc: 0.1046\n",
      "Epoch 2/30\n",
      "4800/4800 [==============================] - 2s 322us/step - loss: 2.2962 - acc: 0.1188\n",
      "Epoch 3/30\n",
      "4800/4800 [==============================] - 1s 312us/step - loss: 2.2263 - acc: 0.1635\n",
      "Epoch 4/30\n",
      "4800/4800 [==============================] - 1s 309us/step - loss: 1.9816 - acc: 0.2919\n",
      "Epoch 5/30\n",
      "4800/4800 [==============================] - 2s 329us/step - loss: 1.6453 - acc: 0.4231\n",
      "Epoch 6/30\n",
      "4800/4800 [==============================] - 1s 304us/step - loss: 1.3616 - acc: 0.5304\n",
      "Epoch 7/30\n",
      "4800/4800 [==============================] - 2s 315us/step - loss: 1.1535 - acc: 0.5969\n",
      "Epoch 8/30\n",
      "4800/4800 [==============================] - 1s 309us/step - loss: 0.9981 - acc: 0.6550\n",
      "Epoch 9/30\n",
      "4800/4800 [==============================] - 2s 327us/step - loss: 0.8773 - acc: 0.6994\n",
      "Epoch 10/30\n",
      "4800/4800 [==============================] - 2s 325us/step - loss: 0.7876 - acc: 0.7281\n",
      "Epoch 11/30\n",
      "4800/4800 [==============================] - 1s 312us/step - loss: 0.6737 - acc: 0.7640\n",
      "Epoch 12/30\n",
      "4800/4800 [==============================] - 2s 316us/step - loss: 0.5844 - acc: 0.7992\n",
      "Epoch 13/30\n",
      "4800/4800 [==============================] - 1s 306us/step - loss: 0.5357 - acc: 0.8185\n",
      "Epoch 14/30\n",
      "4800/4800 [==============================] - 2s 320us/step - loss: 0.4846 - acc: 0.8337\n",
      "Epoch 15/30\n",
      "4800/4800 [==============================] - 2s 322us/step - loss: 0.4289 - acc: 0.8515\n",
      "Epoch 16/30\n",
      "4800/4800 [==============================] - 2s 320us/step - loss: 0.3840 - acc: 0.8621\n",
      "Epoch 17/30\n",
      "4800/4800 [==============================] - 2s 318us/step - loss: 0.3283 - acc: 0.8821\n",
      "Epoch 18/30\n",
      "4800/4800 [==============================] - 1s 308us/step - loss: 0.3094 - acc: 0.8896\n",
      "Epoch 19/30\n",
      "4800/4800 [==============================] - 2s 315us/step - loss: 0.2633 - acc: 0.9046\n",
      "Epoch 20/30\n",
      "4800/4800 [==============================] - 2s 316us/step - loss: 0.2269 - acc: 0.9165\n",
      "Epoch 21/30\n",
      "4800/4800 [==============================] - 1s 307us/step - loss: 0.2215 - acc: 0.9217\n",
      "Epoch 22/30\n",
      "4800/4800 [==============================] - 1s 311us/step - loss: 0.1682 - acc: 0.9373\n",
      "Epoch 23/30\n",
      "4800/4800 [==============================] - 1s 312us/step - loss: 0.1467 - acc: 0.9510\n",
      "Epoch 24/30\n",
      "4800/4800 [==============================] - 1s 306us/step - loss: 0.1829 - acc: 0.9387\n",
      "Epoch 25/30\n",
      "4800/4800 [==============================] - 2s 323us/step - loss: 0.1846 - acc: 0.9390\n",
      "Epoch 26/30\n",
      "4800/4800 [==============================] - 1s 305us/step - loss: 0.1203 - acc: 0.9571\n",
      "Epoch 27/30\n",
      "4800/4800 [==============================] - 1s 307us/step - loss: 0.1370 - acc: 0.9533\n",
      "Epoch 28/30\n",
      "4800/4800 [==============================] - 2s 322us/step - loss: 0.1376 - acc: 0.9527\n",
      "Epoch 29/30\n",
      "4800/4800 [==============================] - 1s 308us/step - loss: 0.1182 - acc: 0.9579\n",
      "Epoch 30/30\n",
      "4800/4800 [==============================] - 2s 313us/step - loss: 0.1276 - acc: 0.9562\n",
      "[[9. 0. 0. 0. 0.]\n",
      " [2. 0. 0. 0. 0.]\n",
      " [9. 0. 0. 0. 0.]\n",
      " [5. 0. 0. 0. 0.]\n",
      " [6. 0. 0. 0. 0.]\n",
      " [3. 0. 0. 0. 0.]\n",
      " [3. 0. 0. 0. 0.]\n",
      " [4. 0. 0. 0. 0.]\n",
      " [7. 0. 0. 0. 0.]\n",
      " [5. 0. 0. 0. 0.]\n",
      " [9. 0. 0. 0. 0.]\n",
      " [9. 0. 0. 0. 0.]\n",
      " [1. 0. 0. 0. 0.]\n",
      " [2. 0. 0. 0. 0.]\n",
      " [5. 0. 0. 0. 0.]\n",
      " [1. 0. 0. 0. 0.]\n",
      " [2. 0. 0. 0. 0.]\n",
      " [1. 0. 0. 0. 0.]\n",
      " [6. 0. 0. 0. 0.]\n",
      " [0. 0. 0. 0. 0.]\n",
      " [8. 0. 0. 0. 0.]\n",
      " [3. 0. 0. 0. 0.]\n",
      " [7. 0. 0. 0. 0.]\n",
      " [7. 0. 0. 0. 0.]\n",
      " [9. 0. 0. 0. 0.]\n",
      " [7. 0. 0. 0. 0.]\n",
      " [5. 0. 0. 0. 0.]\n",
      " [9. 0. 0. 0. 0.]\n",
      " [6. 0. 0. 0. 0.]\n",
      " [8. 0. 0. 0. 0.]\n",
      " [4. 0. 0. 0. 0.]\n",
      " [2. 0. 0. 0. 0.]\n",
      " [6. 0. 0. 0. 0.]\n",
      " [0. 0. 0. 0. 0.]\n",
      " [9. 0. 0. 0. 0.]\n",
      " [8. 0. 0. 0. 0.]\n",
      " [6. 0. 0. 0. 0.]\n",
      " [6. 0. 0. 0. 0.]\n",
      " [4. 0. 0. 0. 0.]\n",
      " [3. 0. 0. 0. 0.]\n",
      " [6. 0. 0. 0. 0.]\n",
      " [2. 0. 0. 0. 0.]\n",
      " [2. 0. 0. 0. 0.]\n",
      " [6. 0. 0. 0. 0.]\n",
      " [7. 0. 0. 0. 0.]\n",
      " [9. 0. 0. 0. 0.]\n",
      " [5. 0. 0. 0. 0.]\n",
      " [5. 0. 0. 0. 0.]]\n",
      "Epoch 1/30\n",
      "4800/4800 [==============================] - 1s 298us/step - loss: 0.2636 - acc: 0.9192\n",
      "Epoch 2/30\n",
      "4800/4800 [==============================] - 1s 311us/step - loss: 0.1696 - acc: 0.9427\n",
      "Epoch 3/30\n",
      "4800/4800 [==============================] - 1s 297us/step - loss: 0.1375 - acc: 0.9540\n",
      "Epoch 4/30\n",
      "4800/4800 [==============================] - 2s 318us/step - loss: 0.1179 - acc: 0.9627\n",
      "Epoch 5/30\n",
      "4800/4800 [==============================] - 1s 308us/step - loss: 0.1032 - acc: 0.9658\n",
      "Epoch 6/30\n",
      "4800/4800 [==============================] - 1s 312us/step - loss: 0.0862 - acc: 0.9698\n",
      "Epoch 7/30\n",
      "4800/4800 [==============================] - 2s 313us/step - loss: 0.1082 - acc: 0.9633\n",
      "Epoch 8/30\n",
      "4800/4800 [==============================] - 1s 310us/step - loss: 0.0924 - acc: 0.9688\n",
      "Epoch 9/30\n",
      "4800/4800 [==============================] - 2s 316us/step - loss: 0.0970 - acc: 0.9652\n",
      "Epoch 10/30\n",
      "4800/4800 [==============================] - 2s 314us/step - loss: 0.0779 - acc: 0.9758\n",
      "Epoch 11/30\n",
      "4800/4800 [==============================] - 1s 306us/step - loss: 0.0782 - acc: 0.9740\n",
      "Epoch 12/30\n",
      "4800/4800 [==============================] - 1s 304us/step - loss: 0.1140 - acc: 0.9606 0s - loss: 0.1296 - a\n",
      "Epoch 13/30\n",
      "4800/4800 [==============================] - 1s 304us/step - loss: 0.0532 - acc: 0.9813\n",
      "Epoch 14/30\n",
      "4800/4800 [==============================] - 1s 302us/step - loss: 0.0660 - acc: 0.9777\n"
     ]
    },
    {
     "name": "stdout",
     "output_type": "stream",
     "text": [
      "Epoch 15/30\n",
      "4800/4800 [==============================] - 2s 325us/step - loss: 0.0788 - acc: 0.9731\n",
      "Epoch 16/30\n",
      "4800/4800 [==============================] - 2s 321us/step - loss: 0.0669 - acc: 0.9792\n",
      "Epoch 17/30\n",
      "4800/4800 [==============================] - 2s 323us/step - loss: 0.0783 - acc: 0.9725\n",
      "Epoch 18/30\n",
      "4800/4800 [==============================] - 2s 326us/step - loss: 0.0727 - acc: 0.9760\n",
      "Epoch 19/30\n",
      "4800/4800 [==============================] - 2s 326us/step - loss: 0.0623 - acc: 0.9806\n",
      "Epoch 20/30\n",
      "4800/4800 [==============================] - 2s 332us/step - loss: 0.0446 - acc: 0.9862 0s - loss: 0.0446 - acc: \n",
      "Epoch 21/30\n",
      "4800/4800 [==============================] - 2s 321us/step - loss: 0.0889 - acc: 0.9715\n",
      "Epoch 22/30\n",
      "4800/4800 [==============================] - 2s 318us/step - loss: 0.0474 - acc: 0.9846\n",
      "Epoch 23/30\n",
      "4800/4800 [==============================] - 2s 328us/step - loss: 0.0738 - acc: 0.9765\n",
      "Epoch 24/30\n",
      "4800/4800 [==============================] - 2s 325us/step - loss: 0.0536 - acc: 0.9817\n",
      "Epoch 25/30\n",
      "4800/4800 [==============================] - 2s 330us/step - loss: 0.0651 - acc: 0.9783\n",
      "Epoch 26/30\n",
      "4800/4800 [==============================] - 2s 329us/step - loss: 0.0717 - acc: 0.9775\n",
      "Epoch 27/30\n",
      "4800/4800 [==============================] - 2s 329us/step - loss: 0.0535 - acc: 0.9810\n",
      "Epoch 28/30\n",
      "4800/4800 [==============================] - 2s 323us/step - loss: 0.0687 - acc: 0.9783\n",
      "Epoch 29/30\n",
      "4800/4800 [==============================] - 2s 326us/step - loss: 0.0510 - acc: 0.9846\n",
      "Epoch 30/30\n",
      "4800/4800 [==============================] - 2s 330us/step - loss: 0.0501 - acc: 0.9821\n",
      "[[9. 4. 0. 0. 0.]\n",
      " [2. 2. 0. 0. 0.]\n",
      " [9. 9. 0. 0. 0.]\n",
      " [5. 8. 0. 0. 0.]\n",
      " [6. 6. 0. 0. 0.]\n",
      " [3. 3. 0. 0. 0.]\n",
      " [3. 3. 0. 0. 0.]\n",
      " [4. 9. 0. 0. 0.]\n",
      " [7. 7. 0. 0. 0.]\n",
      " [5. 8. 0. 0. 0.]\n",
      " [9. 9. 0. 0. 0.]\n",
      " [9. 9. 0. 0. 0.]\n",
      " [1. 1. 0. 0. 0.]\n",
      " [2. 2. 0. 0. 0.]\n",
      " [5. 8. 0. 0. 0.]\n",
      " [1. 1. 0. 0. 0.]\n",
      " [2. 8. 0. 0. 0.]\n",
      " [1. 1. 0. 0. 0.]\n",
      " [6. 1. 0. 0. 0.]\n",
      " [0. 0. 0. 0. 0.]\n",
      " [8. 8. 0. 0. 0.]\n",
      " [3. 5. 0. 0. 0.]\n",
      " [7. 7. 0. 0. 0.]\n",
      " [7. 2. 0. 0. 0.]\n",
      " [9. 9. 0. 0. 0.]\n",
      " [7. 7. 0. 0. 0.]\n",
      " [5. 5. 0. 0. 0.]\n",
      " [9. 9. 0. 0. 0.]\n",
      " [6. 6. 0. 0. 0.]\n",
      " [8. 8. 0. 0. 0.]\n",
      " [4. 4. 0. 0. 0.]\n",
      " [2. 2. 0. 0. 0.]\n",
      " [6. 6. 0. 0. 0.]\n",
      " [0. 0. 0. 0. 0.]\n",
      " [9. 2. 0. 0. 0.]\n",
      " [8. 8. 0. 0. 0.]\n",
      " [6. 0. 0. 0. 0.]\n",
      " [6. 6. 0. 0. 0.]\n",
      " [4. 4. 0. 0. 0.]\n",
      " [3. 8. 0. 0. 0.]\n",
      " [6. 6. 0. 0. 0.]\n",
      " [2. 8. 0. 0. 0.]\n",
      " [2. 2. 0. 0. 0.]\n",
      " [6. 6. 0. 0. 0.]\n",
      " [7. 8. 0. 0. 0.]\n",
      " [9. 9. 0. 0. 0.]\n",
      " [5. 0. 0. 0. 0.]\n",
      " [5. 5. 0. 0. 0.]]\n",
      "Epoch 1/30\n",
      "4800/4800 [==============================] - 2s 323us/step - loss: 0.1224 - acc: 0.9600\n",
      "Epoch 2/30\n",
      "4800/4800 [==============================] - 2s 320us/step - loss: 0.0820 - acc: 0.9708\n",
      "Epoch 3/30\n",
      "4800/4800 [==============================] - 2s 321us/step - loss: 0.0654 - acc: 0.9758\n",
      "Epoch 4/30\n",
      "4800/4800 [==============================] - 2s 328us/step - loss: 0.0807 - acc: 0.9737\n",
      "Epoch 5/30\n",
      "4800/4800 [==============================] - 2s 328us/step - loss: 0.0611 - acc: 0.9779\n",
      "Epoch 6/30\n",
      "4800/4800 [==============================] - 2s 317us/step - loss: 0.0665 - acc: 0.9769\n",
      "Epoch 7/30\n",
      "4800/4800 [==============================] - 2s 327us/step - loss: 0.0530 - acc: 0.9850\n",
      "Epoch 8/30\n",
      "4800/4800 [==============================] - 2s 318us/step - loss: 0.0421 - acc: 0.9873\n",
      "Epoch 9/30\n",
      "4800/4800 [==============================] - 2s 334us/step - loss: 0.0592 - acc: 0.9798\n",
      "Epoch 10/30\n",
      "4800/4800 [==============================] - 2s 323us/step - loss: 0.0651 - acc: 0.9783\n",
      "Epoch 11/30\n",
      "4800/4800 [==============================] - 2s 314us/step - loss: 0.0441 - acc: 0.9840\n",
      "Epoch 12/30\n",
      "4800/4800 [==============================] - 2s 321us/step - loss: 0.0814 - acc: 0.9756\n",
      "Epoch 13/30\n",
      "4800/4800 [==============================] - 2s 322us/step - loss: 0.0516 - acc: 0.9827\n",
      "Epoch 14/30\n",
      "4800/4800 [==============================] - 2s 319us/step - loss: 0.0450 - acc: 0.9850\n",
      "Epoch 15/30\n",
      "4800/4800 [==============================] - 2s 325us/step - loss: 0.0522 - acc: 0.9831\n",
      "Epoch 16/30\n",
      "4800/4800 [==============================] - 2s 328us/step - loss: 0.0364 - acc: 0.9883\n",
      "Epoch 17/30\n",
      "4800/4800 [==============================] - 2s 319us/step - loss: 0.0605 - acc: 0.9808\n",
      "Epoch 18/30\n",
      "4800/4800 [==============================] - 2s 323us/step - loss: 0.0471 - acc: 0.9838\n",
      "Epoch 19/30\n",
      "4800/4800 [==============================] - 2s 327us/step - loss: 0.0498 - acc: 0.9854\n",
      "Epoch 20/30\n",
      "4800/4800 [==============================] - 2s 317us/step - loss: 0.0594 - acc: 0.9798\n",
      "Epoch 21/30\n",
      "4800/4800 [==============================] - 2s 327us/step - loss: 0.0577 - acc: 0.9817\n",
      "Epoch 22/30\n",
      "4800/4800 [==============================] - 2s 318us/step - loss: 0.0680 - acc: 0.9815\n",
      "Epoch 23/30\n",
      "4800/4800 [==============================] - 2s 317us/step - loss: 0.0360 - acc: 0.9879\n",
      "Epoch 24/30\n",
      "4800/4800 [==============================] - 2s 328us/step - loss: 0.0373 - acc: 0.9879\n",
      "Epoch 25/30\n",
      "4800/4800 [==============================] - 2s 324us/step - loss: 0.0597 - acc: 0.9785\n",
      "Epoch 26/30\n",
      "4800/4800 [==============================] - 2s 323us/step - loss: 0.0411 - acc: 0.9879\n",
      "Epoch 27/30\n",
      "4800/4800 [==============================] - 2s 329us/step - loss: 0.0304 - acc: 0.9902\n",
      "Epoch 28/30\n",
      "4800/4800 [==============================] - 2s 316us/step - loss: 0.0328 - acc: 0.9896\n",
      "Epoch 29/30\n",
      "4800/4800 [==============================] - 1s 307us/step - loss: 0.0385 - acc: 0.9879\n",
      "Epoch 30/30\n",
      "4800/4800 [==============================] - 2s 317us/step - loss: 0.0204 - acc: 0.9921\n",
      "[[9. 4. 4. 0. 0.]\n",
      " [2. 2. 2. 0. 0.]\n",
      " [9. 9. 9. 0. 0.]\n",
      " [5. 8. 8. 0. 0.]\n",
      " [6. 6. 6. 0. 0.]\n",
      " [3. 3. 3. 0. 0.]\n",
      " [3. 3. 3. 0. 0.]\n",
      " [4. 9. 4. 0. 0.]\n",
      " [7. 7. 7. 0. 0.]\n",
      " [5. 8. 3. 0. 0.]\n",
      " [9. 9. 9. 0. 0.]\n",
      " [9. 9. 9. 0. 0.]\n",
      " [1. 1. 1. 0. 0.]\n",
      " [2. 2. 2. 0. 0.]\n",
      " [5. 8. 5. 0. 0.]\n",
      " [1. 1. 1. 0. 0.]\n",
      " [2. 8. 2. 0. 0.]\n",
      " [1. 1. 1. 0. 0.]\n",
      " [6. 1. 1. 0. 0.]\n",
      " [0. 0. 0. 0. 0.]\n",
      " [8. 8. 8. 0. 0.]\n",
      " [3. 5. 3. 0. 0.]\n",
      " [7. 7. 7. 0. 0.]\n",
      " [7. 2. 7. 0. 0.]\n",
      " [9. 9. 9. 0. 0.]\n",
      " [7. 7. 7. 0. 0.]\n",
      " [5. 5. 5. 0. 0.]\n",
      " [9. 9. 9. 0. 0.]\n",
      " [6. 6. 6. 0. 0.]\n",
      " [8. 8. 8. 0. 0.]\n",
      " [4. 4. 4. 0. 0.]\n",
      " [2. 2. 2. 0. 0.]\n",
      " [6. 6. 6. 0. 0.]\n",
      " [0. 0. 0. 0. 0.]\n",
      " [9. 2. 2. 0. 0.]\n",
      " [8. 8. 8. 0. 0.]\n",
      " [6. 0. 0. 0. 0.]\n",
      " [6. 6. 6. 0. 0.]\n",
      " [4. 4. 4. 0. 0.]\n",
      " [3. 8. 3. 0. 0.]\n",
      " [6. 6. 2. 0. 0.]\n",
      " [2. 8. 8. 0. 0.]\n",
      " [2. 2. 2. 0. 0.]\n",
      " [6. 6. 6. 0. 0.]\n",
      " [7. 8. 7. 0. 0.]\n",
      " [9. 9. 9. 0. 0.]\n",
      " [5. 0. 0. 0. 0.]\n",
      " [5. 5. 5. 0. 0.]]\n",
      "Epoch 1/30\n",
      "4800/4800 [==============================] - 2s 319us/step - loss: 0.0926 - acc: 0.9715\n",
      "Epoch 2/30\n",
      "4800/4800 [==============================] - 2s 315us/step - loss: 0.0799 - acc: 0.9746\n",
      "Epoch 3/30\n",
      "4800/4800 [==============================] - 1s 312us/step - loss: 0.0668 - acc: 0.9779\n",
      "Epoch 4/30\n",
      "4800/4800 [==============================] - 1s 302us/step - loss: 0.0494 - acc: 0.9827\n",
      "Epoch 5/30\n",
      "4800/4800 [==============================] - 1s 305us/step - loss: 0.0798 - acc: 0.9737\n",
      "Epoch 6/30\n",
      "4800/4800 [==============================] - 1s 305us/step - loss: 0.0722 - acc: 0.9765\n",
      "Epoch 7/30\n",
      "4800/4800 [==============================] - 1s 307us/step - loss: 0.0393 - acc: 0.9869\n",
      "Epoch 8/30\n",
      "4800/4800 [==============================] - 1s 312us/step - loss: 0.0391 - acc: 0.9881\n",
      "Epoch 9/30\n",
      "4800/4800 [==============================] - 1s 311us/step - loss: 0.0182 - acc: 0.9942\n",
      "Epoch 10/30\n",
      "4800/4800 [==============================] - 1s 311us/step - loss: 0.0344 - acc: 0.9900\n",
      "Epoch 11/30\n",
      "4800/4800 [==============================] - 1s 309us/step - loss: 0.0482 - acc: 0.9852\n",
      "Epoch 12/30\n",
      "4800/4800 [==============================] - 1s 310us/step - loss: 0.0486 - acc: 0.9815\n",
      "Epoch 13/30\n",
      "4800/4800 [==============================] - 2s 319us/step - loss: 0.0501 - acc: 0.9829\n",
      "Epoch 14/30\n",
      "4800/4800 [==============================] - 1s 312us/step - loss: 0.0567 - acc: 0.9808\n",
      "Epoch 15/30\n",
      "4800/4800 [==============================] - 2s 316us/step - loss: 0.0511 - acc: 0.9850\n",
      "Epoch 16/30\n",
      "4800/4800 [==============================] - 2s 322us/step - loss: 0.0310 - acc: 0.9887\n",
      "Epoch 17/30\n",
      "4800/4800 [==============================] - 2s 322us/step - loss: 0.0298 - acc: 0.9881\n",
      "Epoch 18/30\n",
      "4800/4800 [==============================] - 2s 317us/step - loss: 0.0401 - acc: 0.9881\n",
      "Epoch 19/30\n"
     ]
    },
    {
     "name": "stdout",
     "output_type": "stream",
     "text": [
      "4800/4800 [==============================] - 2s 328us/step - loss: 0.0502 - acc: 0.9835\n",
      "Epoch 20/30\n",
      "4800/4800 [==============================] - 2s 316us/step - loss: 0.0578 - acc: 0.9819 1s - loss\n",
      "Epoch 21/30\n",
      "4800/4800 [==============================] - 2s 323us/step - loss: 0.0402 - acc: 0.9860\n",
      "Epoch 22/30\n",
      "4800/4800 [==============================] - 2s 327us/step - loss: 0.0310 - acc: 0.9904\n",
      "Epoch 23/30\n",
      "4800/4800 [==============================] - 2s 330us/step - loss: 0.0286 - acc: 0.9904\n",
      "Epoch 24/30\n",
      "4800/4800 [==============================] - 2s 329us/step - loss: 0.0446 - acc: 0.9858\n",
      "Epoch 25/30\n",
      "4800/4800 [==============================] - 2s 328us/step - loss: 0.0387 - acc: 0.9887\n",
      "Epoch 26/30\n",
      "4800/4800 [==============================] - 2s 335us/step - loss: 0.0537 - acc: 0.9827\n",
      "Epoch 27/30\n",
      "4800/4800 [==============================] - 2s 335us/step - loss: 0.0286 - acc: 0.9919\n",
      "Epoch 28/30\n",
      "4800/4800 [==============================] - 2s 334us/step - loss: 0.0219 - acc: 0.9927\n",
      "Epoch 29/30\n",
      "4800/4800 [==============================] - 2s 318us/step - loss: 0.0349 - acc: 0.9912\n",
      "Epoch 30/30\n",
      "4800/4800 [==============================] - 2s 325us/step - loss: 0.0342 - acc: 0.9896\n",
      "[[9. 4. 4. 4. 0.]\n",
      " [2. 2. 2. 2. 0.]\n",
      " [9. 9. 9. 9. 0.]\n",
      " [5. 8. 8. 0. 0.]\n",
      " [6. 6. 6. 6. 0.]\n",
      " [3. 3. 3. 0. 0.]\n",
      " [3. 3. 3. 3. 0.]\n",
      " [4. 9. 4. 4. 0.]\n",
      " [7. 7. 7. 7. 0.]\n",
      " [5. 8. 3. 8. 0.]\n",
      " [9. 9. 9. 4. 0.]\n",
      " [9. 9. 9. 9. 0.]\n",
      " [1. 1. 1. 1. 0.]\n",
      " [2. 2. 2. 2. 0.]\n",
      " [5. 8. 5. 5. 0.]\n",
      " [1. 1. 1. 1. 0.]\n",
      " [2. 8. 2. 2. 0.]\n",
      " [1. 1. 1. 1. 0.]\n",
      " [6. 1. 1. 1. 0.]\n",
      " [0. 0. 0. 0. 0.]\n",
      " [8. 8. 8. 8. 0.]\n",
      " [3. 5. 3. 5. 0.]\n",
      " [7. 7. 7. 7. 0.]\n",
      " [7. 2. 7. 7. 0.]\n",
      " [9. 9. 9. 9. 0.]\n",
      " [7. 7. 7. 7. 0.]\n",
      " [5. 5. 5. 5. 0.]\n",
      " [9. 9. 9. 7. 0.]\n",
      " [6. 6. 6. 6. 0.]\n",
      " [8. 8. 8. 8. 0.]\n",
      " [4. 4. 4. 4. 0.]\n",
      " [2. 2. 2. 2. 0.]\n",
      " [6. 6. 6. 2. 0.]\n",
      " [0. 0. 0. 0. 0.]\n",
      " [9. 2. 2. 7. 0.]\n",
      " [8. 8. 8. 8. 0.]\n",
      " [6. 0. 0. 3. 0.]\n",
      " [6. 6. 6. 6. 0.]\n",
      " [4. 4. 4. 2. 0.]\n",
      " [3. 8. 3. 8. 0.]\n",
      " [6. 6. 2. 2. 0.]\n",
      " [2. 8. 8. 2. 0.]\n",
      " [2. 2. 2. 2. 0.]\n",
      " [6. 6. 6. 6. 0.]\n",
      " [7. 8. 7. 7. 0.]\n",
      " [9. 9. 9. 4. 0.]\n",
      " [5. 0. 0. 0. 0.]\n",
      " [5. 5. 5. 5. 0.]]\n",
      "Epoch 1/30\n",
      "4800/4800 [==============================] - 2s 318us/step - loss: 0.0812 - acc: 0.9727\n",
      "Epoch 2/30\n",
      "4800/4800 [==============================] - 2s 331us/step - loss: 0.0554 - acc: 0.9823\n",
      "Epoch 3/30\n",
      "4800/4800 [==============================] - 2s 319us/step - loss: 0.0447 - acc: 0.9848\n",
      "Epoch 4/30\n",
      "4800/4800 [==============================] - 2s 318us/step - loss: 0.0614 - acc: 0.9815\n",
      "Epoch 5/30\n",
      "4800/4800 [==============================] - 2s 321us/step - loss: 0.0510 - acc: 0.9838\n",
      "Epoch 6/30\n",
      "4800/4800 [==============================] - 2s 313us/step - loss: 0.0351 - acc: 0.9871\n",
      "Epoch 7/30\n",
      "4800/4800 [==============================] - 2s 326us/step - loss: 0.0225 - acc: 0.9917\n",
      "Epoch 8/30\n",
      "4800/4800 [==============================] - 2s 322us/step - loss: 0.0318 - acc: 0.9906\n",
      "Epoch 9/30\n",
      "4800/4800 [==============================] - 2s 325us/step - loss: 0.0384 - acc: 0.9873\n",
      "Epoch 10/30\n",
      "4800/4800 [==============================] - 2s 319us/step - loss: 0.0361 - acc: 0.9869\n",
      "Epoch 11/30\n",
      "4800/4800 [==============================] - 2s 330us/step - loss: 0.0406 - acc: 0.9875\n",
      "Epoch 12/30\n",
      "4800/4800 [==============================] - 2s 324us/step - loss: 0.0409 - acc: 0.9854\n",
      "Epoch 13/30\n",
      "4800/4800 [==============================] - 2s 320us/step - loss: 0.0337 - acc: 0.9881\n",
      "Epoch 14/30\n",
      "4800/4800 [==============================] - 2s 328us/step - loss: 0.0198 - acc: 0.9940 0s - loss: 0.01\n",
      "Epoch 15/30\n",
      "4800/4800 [==============================] - 2s 324us/step - loss: 0.0334 - acc: 0.9881\n",
      "Epoch 16/30\n",
      "4800/4800 [==============================] - 2s 330us/step - loss: 0.0334 - acc: 0.9917\n",
      "Epoch 17/30\n",
      "4800/4800 [==============================] - 1s 311us/step - loss: 0.0748 - acc: 0.9775\n",
      "Epoch 18/30\n",
      "4800/4800 [==============================] - 2s 321us/step - loss: 0.0244 - acc: 0.9894\n",
      "Epoch 19/30\n",
      "4800/4800 [==============================] - 1s 304us/step - loss: 0.0308 - acc: 0.9902\n",
      "Epoch 20/30\n",
      "4800/4800 [==============================] - 2s 316us/step - loss: 0.0292 - acc: 0.9898\n",
      "Epoch 21/30\n",
      "4800/4800 [==============================] - 2s 313us/step - loss: 0.0394 - acc: 0.9865\n",
      "Epoch 22/30\n",
      "4800/4800 [==============================] - 1s 312us/step - loss: 0.0424 - acc: 0.9881\n",
      "Epoch 23/30\n",
      "4800/4800 [==============================] - 2s 323us/step - loss: 0.0432 - acc: 0.9854\n",
      "Epoch 24/30\n",
      "4800/4800 [==============================] - 2s 313us/step - loss: 0.0648 - acc: 0.9827\n",
      "Epoch 25/30\n",
      "4800/4800 [==============================] - 2s 324us/step - loss: 0.0465 - acc: 0.9823\n",
      "Epoch 26/30\n",
      "4800/4800 [==============================] - 2s 322us/step - loss: 0.0366 - acc: 0.9871 0s - loss: 0.0385 - acc: 0.\n",
      "Epoch 27/30\n",
      "4800/4800 [==============================] - 1s 311us/step - loss: 0.0462 - acc: 0.9854\n",
      "Epoch 28/30\n",
      "4800/4800 [==============================] - 2s 313us/step - loss: 0.0321 - acc: 0.9898 0s - loss: 0.0309 - acc: 0.9\n",
      "Epoch 29/30\n",
      "4800/4800 [==============================] - 1s 309us/step - loss: 0.0360 - acc: 0.9892\n",
      "Epoch 30/30\n",
      "4800/4800 [==============================] - 2s 317us/step - loss: 0.0183 - acc: 0.9935\n",
      "[[9. 4. 4. 4. 9.]\n",
      " [2. 2. 2. 2. 2.]\n",
      " [9. 9. 9. 9. 9.]\n",
      " [5. 8. 8. 0. 0.]\n",
      " [6. 6. 6. 6. 6.]\n",
      " [3. 3. 3. 0. 3.]\n",
      " [3. 3. 3. 3. 3.]\n",
      " [4. 9. 4. 4. 4.]\n",
      " [7. 7. 7. 7. 7.]\n",
      " [5. 8. 3. 8. 5.]\n",
      " [9. 9. 9. 4. 9.]\n",
      " [9. 9. 9. 9. 9.]\n",
      " [1. 1. 1. 1. 1.]\n",
      " [2. 2. 2. 2. 2.]\n",
      " [5. 8. 5. 5. 5.]\n",
      " [1. 1. 1. 1. 1.]\n",
      " [2. 8. 2. 2. 2.]\n",
      " [1. 1. 1. 1. 1.]\n",
      " [6. 1. 1. 1. 1.]\n",
      " [0. 0. 0. 0. 0.]\n",
      " [8. 8. 8. 8. 8.]\n",
      " [3. 5. 3. 5. 5.]\n",
      " [7. 7. 7. 7. 7.]\n",
      " [7. 2. 7. 7. 7.]\n",
      " [9. 9. 9. 9. 7.]\n",
      " [7. 7. 7. 7. 7.]\n",
      " [5. 5. 5. 5. 5.]\n",
      " [9. 9. 9. 7. 9.]\n",
      " [6. 6. 6. 6. 6.]\n",
      " [8. 8. 8. 8. 8.]\n",
      " [4. 4. 4. 4. 4.]\n",
      " [2. 2. 2. 2. 2.]\n",
      " [6. 6. 6. 2. 6.]\n",
      " [0. 0. 0. 0. 0.]\n",
      " [9. 2. 2. 7. 2.]\n",
      " [8. 8. 8. 8. 8.]\n",
      " [6. 0. 0. 3. 7.]\n",
      " [6. 6. 6. 6. 6.]\n",
      " [4. 4. 4. 2. 4.]\n",
      " [3. 8. 3. 8. 8.]\n",
      " [6. 6. 2. 2. 6.]\n",
      " [2. 8. 8. 2. 8.]\n",
      " [2. 2. 2. 2. 6.]\n",
      " [6. 6. 6. 6. 6.]\n",
      " [7. 8. 7. 7. 1.]\n",
      " [9. 9. 9. 4. 4.]\n",
      " [5. 0. 0. 0. 0.]\n",
      " [5. 5. 5. 5. 5.]]\n"
>>>>>>> 44193f9cdfb61d9eabf93038cc5053bc1f266dd8
     ]
    }
   ],
   "source": [
    "DN_train, DN_test = get_stacking_data(DN_model, x_total, y_total, x_test)\n",
    "CNN_train, CNN_test = get_stacking_data(CNN_model, x_total, y_total, x_test)"
   ]
  },
  {
   "cell_type": "code",
<<<<<<< HEAD
   "execution_count": null,
   "metadata": {},
   "outputs": [],
=======
   "execution_count": 15,
   "metadata": {
    "ExecuteTime": {
     "end_time": "2020-08-25T07:48:42.936293Z",
     "start_time": "2020-08-25T07:48:42.920360Z"
    }
   },
   "outputs": [
    {
     "data": {
      "text/plain": [
       "(6000, 1)"
      ]
     },
     "execution_count": 15,
     "metadata": {},
     "output_type": "execute_result"
    }
   ],
   "source": [
    "DN_train.shape"
   ]
  },
  {
   "cell_type": "code",
   "execution_count": 18,
   "metadata": {
    "ExecuteTime": {
     "end_time": "2020-08-25T07:49:34.421906Z",
     "start_time": "2020-08-25T07:49:34.390168Z"
    }
   },
   "outputs": [
    {
     "data": {
      "text/plain": [
       "(48, 1)"
      ]
     },
     "execution_count": 18,
     "metadata": {},
     "output_type": "execute_result"
    }
   ],
   "source": [
    "DN_test = np.array(DN_test).reshape(-1,1)\n",
    "DN_test.shape"
   ]
  },
  {
   "cell_type": "code",
   "execution_count": 19,
   "metadata": {
    "ExecuteTime": {
     "end_time": "2020-08-25T07:50:17.904680Z",
     "start_time": "2020-08-25T07:50:17.887412Z"
    }
   },
   "outputs": [
    {
     "data": {
      "text/plain": [
       "(6000, 1)"
      ]
     },
     "execution_count": 19,
     "metadata": {},
     "output_type": "execute_result"
    }
   ],
   "source": [
    "CNN_train.shape"
   ]
  },
  {
   "cell_type": "code",
   "execution_count": 21,
   "metadata": {
    "ExecuteTime": {
     "end_time": "2020-08-25T07:50:38.248828Z",
     "start_time": "2020-08-25T07:50:38.229944Z"
    }
   },
   "outputs": [
    {
     "data": {
      "text/plain": [
       "(48, 1)"
      ]
     },
     "execution_count": 21,
     "metadata": {},
     "output_type": "execute_result"
    }
   ],
   "source": [
    "CNN_test = np.array(CNN_test).reshape(-1,1)\n",
    "CNN_test.shape"
   ]
  },
  {
   "cell_type": "code",
   "execution_count": 22,
   "metadata": {
    "ExecuteTime": {
     "end_time": "2020-08-25T07:50:41.513370Z",
     "start_time": "2020-08-25T07:50:41.494488Z"
    }
   },
   "outputs": [
    {
     "name": "stdout",
     "output_type": "stream",
     "text": [
      "원본 :  (6000, 28, 28, 1) (48, 28, 28, 1)\n",
      "새로운 :  (6000, 2) (48, 2)\n"
     ]
    }
   ],
>>>>>>> 44193f9cdfb61d9eabf93038cc5053bc1f266dd8
   "source": [
    "new_x_train = np.concatenate((DN_train, CNN_train), axis=1)\n",
    "new_x_test = np.concatenate((DN_test, CNN_test), axis=1)\n",
    "\n",
    "print(\"원본 : \", x_total.shape, x_test.shape)\n",
    "print(\"새로운 : \", new_x_train.shape, new_x_test.shape)"
   ]
  },
  {
   "cell_type": "code",
<<<<<<< HEAD
   "execution_count": null,
   "metadata": {
    "code_folding": [
     0
    ]
   },
   "outputs": [],
   "source": [
    "#train_lgb = lgb.Dataset(new_x_train, label=y_total)\n",
    "#params = {'random_seed':seed, 'bagging_seed':seed,\n",
    "#          'feature_fraction_seed':seed, 'data_random_seed':seed,\n",
    "#          'drop_seed':seed,\n",
    "#          'num_iterations':400,\n",
    "#          'boosting_type':'gbdt', 'objective':'regression_l1',\n",
    "#          'learning_rate':0.05, 'num_leaves':100, 'max_depth':-1,\n",
    "#          'bagging_fraction':0.1, 'feature_fraction':0.8,\n",
    "#          'lambda_l1':0.0, 'lambda_l2':15.0, 'max_bin':300}\n",
    "\n",
    "#lgbm = lgb.train(params, train_lgb, num_boost_round=2000, early_stopping_rounds=100,\n",
    "                 verbose_eval=200)"
=======
   "execution_count": 46,
   "metadata": {
    "ExecuteTime": {
     "end_time": "2020-08-25T08:03:32.420997Z",
     "start_time": "2020-08-25T08:03:32.403076Z"
    }
   },
   "outputs": [
    {
     "data": {
      "text/plain": [
       "array([5, 0, 4, ..., 0, 3, 7], dtype=int64)"
      ]
     },
     "execution_count": 46,
     "metadata": {},
     "output_type": "execute_result"
    }
   ],
   "source": [
    "y_arg = np.argmax(y, axis=1)\n",
    "y_arg"
>>>>>>> 44193f9cdfb61d9eabf93038cc5053bc1f266dd8
   ]
  },
  {
   "cell_type": "code",
<<<<<<< HEAD
   "execution_count": null,
   "metadata": {},
   "outputs": [],
   "source": [
    "cp = ModelCheckpoint('./models/{epoch:02d}-{val_acc:.4f}.h5', monitor='val_loss',\n",
    "                     save_best_only=True, mode='min')\n",
    "\n",
    "history = lgb.fit(new_x_train, y_train, callbacks=[cp])\n",
=======
   "execution_count": 58,
   "metadata": {
    "ExecuteTime": {
     "end_time": "2020-08-25T08:13:53.626842Z",
     "start_time": "2020-08-25T08:13:52.027173Z"
    },
    "code_folding": []
   },
   "outputs": [],
   "source": [
    "y_train = np.argmax(y_total, axis=1)\n",
    "cp = ModelCheckpoint('./models/{epoch:02d}-{val_acc:.4f}.h5', monitor='val_loss',\n",
    "                     save_best_only=True, mode='min')\n",
    "lgbm = LGBMClassifier()\n",
    "model = lgbm.fit(X = new_x_train, y = y_train)"
   ]
  },
  {
   "cell_type": "code",
   "execution_count": 59,
   "metadata": {
    "ExecuteTime": {
     "end_time": "2020-08-25T08:14:01.371953Z",
     "start_time": "2020-08-25T08:14:01.348101Z"
    }
   },
   "outputs": [
    {
     "name": "stdout",
     "output_type": "stream",
     "text": [
      "[4 2 9 8 6 3 3 4 7 8 9 9 1 2 5 1 2 1 6 0 8 5 7 7 9 7 5 9 6 8 4 2 6 0 2 8 0\n",
      " 6 4 8 2 2 6 6 1 9 0 5]\n"
     ]
    }
   ],
   "source": [
>>>>>>> 44193f9cdfb61d9eabf93038cc5053bc1f266dd8
    "stack_pred = lgbm.predict(new_x_test)\n",
    "\n",
    "print(stack_pred)"
   ]
  },
  {
   "cell_type": "code",
<<<<<<< HEAD
   "execution_count": null,
   "metadata": {
    "ExecuteTime": {
     "end_time": "2020-08-21T09:54:52.861734Z",
     "start_time": "2020-08-21T09:53:42.944440Z"
=======
   "execution_count": 62,
   "metadata": {
    "ExecuteTime": {
     "end_time": "2020-08-25T08:16:06.591830Z",
     "start_time": "2020-08-25T08:16:06.581871Z"
    }
   },
   "outputs": [],
   "source": [
    "label_test = np.argmax(y_test, axis=1)"
   ]
  },
  {
   "cell_type": "code",
   "execution_count": 63,
   "metadata": {
    "ExecuteTime": {
     "end_time": "2020-08-25T08:16:10.717138Z",
     "start_time": "2020-08-25T08:16:10.707195Z"
    }
   },
   "outputs": [
    {
     "name": "stdout",
     "output_type": "stream",
     "text": [
      "정확도 : 0.8958\n"
     ]
    }
   ],
   "source": [
    "print(\"정확도 : {0:.4f}\".format(accuracy_score(stack_pred, label_test)))"
   ]
  },
  {
   "cell_type": "code",
   "execution_count": null,
   "metadata": {
    "ExecuteTime": {
     "end_time": "2020-08-25T07:48:08.658853Z",
     "start_time": "2020-08-25T06:36:11.092Z"
>>>>>>> 44193f9cdfb61d9eabf93038cc5053bc1f266dd8
    },
    "code_folding": [
     0
    ]
   },
   "outputs": [],
   "source": [
    "#from tensorflow.keras.models import load_model\n",
    "#best_model = load_model('models/DenseNet121_submit.h5')"
   ]
  },
  {
   "cell_type": "code",
   "execution_count": null,
   "metadata": {
<<<<<<< HEAD
=======
    "ExecuteTime": {
     "end_time": "2020-08-25T07:48:08.658853Z",
     "start_time": "2020-08-25T06:36:11.094Z"
    },
>>>>>>> 44193f9cdfb61d9eabf93038cc5053bc1f266dd8
    "code_folding": [
     0
    ]
   },
   "outputs": [],
   "source": [
    "#x_test = test[:,1:]\n",
    "#x_test = np.reshape(x_test, (-1, 28, 28, 1))\n",
    "#print(x_test.shape)"
   ]
  },
  {
   "cell_type": "code",
   "execution_count": null,
   "metadata": {
    "ExecuteTime": {
<<<<<<< HEAD
     "end_time": "2020-08-21T09:59:47.586280Z",
     "start_time": "2020-08-21T09:58:44.284891Z"
=======
     "end_time": "2020-08-25T07:48:08.659842Z",
     "start_time": "2020-08-25T06:36:11.095Z"
>>>>>>> 44193f9cdfb61d9eabf93038cc5053bc1f266dd8
    },
    "code_folding": [
     0
    ]
   },
   "outputs": [],
   "source": [
    "#submission = pd.read_csv('data/submission.csv')\n",
    "#submission['digit'] = np.argmax(best_model.predict(x_test), axis=1)\n",
    "#submission.to_csv('data/submission_densenet(0821).csv', index=False)"
   ]
  },
  {
   "cell_type": "code",
   "execution_count": null,
   "metadata": {},
   "outputs": [],
   "source": []
  }
 ],
 "metadata": {
  "kernelspec": {
<<<<<<< HEAD
   "display_name": "Tensorflow",
   "language": "python",
   "name": "tensorflow"
=======
   "display_name": "Python 3",
   "language": "python",
   "name": "python3"
>>>>>>> 44193f9cdfb61d9eabf93038cc5053bc1f266dd8
  },
  "language_info": {
   "codemirror_mode": {
    "name": "ipython",
    "version": 3
   },
   "file_extension": ".py",
   "mimetype": "text/x-python",
   "name": "python",
   "nbconvert_exporter": "python",
   "pygments_lexer": "ipython3",
<<<<<<< HEAD
   "version": "3.7.6"
=======
   "version": "3.6.10"
>>>>>>> 44193f9cdfb61d9eabf93038cc5053bc1f266dd8
  }
 },
 "nbformat": 4,
 "nbformat_minor": 4
}
