{
 "cells": [
  {
   "cell_type": "code",
   "execution_count": 1,
   "metadata": {
    "ExecuteTime": {
     "end_time": "2020-08-21T04:20:06.641615Z",
     "start_time": "2020-08-21T04:20:03.630979Z"
    }
   },
   "outputs": [],
   "source": [
    "import pandas as pd\n",
    "import numpy as np\n",
    "import tensorflow as tf\n",
    "from sklearn.preprocessing import OneHotEncoder\n",
    "from sklearn.model_selection import train_test_split\n",
    "from tensorflow.keras.models import Model\n",
    "from tensorflow.keras.layers import Input, Conv2D, MaxPooling2D, Flatten, Dense\n",
    "from tensorflow.keras.layers import concatenate, Dropout\n",
    "from tensorflow.keras.preprocessing.image import ImageDataGenerator\n",
    "from tensorflow.keras.callbacks import EarlyStopping, ModelCheckpoint\n",
    "\n",
    "# seed\n",
    "import os\n",
    "seed = 123\n",
    "os.environ['PYTHONHASHSEED'] = str(seed)\n",
    "np.random.seed(seed)\n",
    "tf.set_random_seed(seed)"
   ]
  },
  {
   "cell_type": "code",
   "execution_count": 2,
   "metadata": {
    "ExecuteTime": {
     "end_time": "2020-08-21T04:20:08.329250Z",
     "start_time": "2020-08-21T04:20:06.641615Z"
    }
   },
   "outputs": [],
   "source": [
    "train = np.load('data/train.npy', allow_pickle = 'True')\n",
    "test = np.load('data/test.npy', allow_pickle = 'True')"
   ]
  },
  {
   "cell_type": "code",
   "execution_count": 3,
   "metadata": {
    "ExecuteTime": {
     "end_time": "2020-08-21T04:20:08.359944Z",
     "start_time": "2020-08-21T04:20:08.329250Z"
    }
   },
   "outputs": [
    {
     "name": "stdout",
     "output_type": "stream",
     "text": [
      "(2048, 28, 28, 1)\n",
      "(2048, 26)\n",
      "(2048, 10)\n"
     ]
    }
   ],
   "source": [
    "x = train[:,2:]\n",
    "x = np.reshape(x, (-1, 28, 28, 1))\n",
    "\n",
    "x_letter = train[:,1]\n",
    "x_letter = np.reshape(x_letter, (-1, 1))\n",
    "en = OneHotEncoder()\n",
    "x_letter = en.fit_transform(x_letter).toarray()\n",
    "\n",
    "y = train[:,0]\n",
    "y = np.reshape(y, (-1, 1))\n",
    "en = OneHotEncoder()\n",
    "y = en.fit_transform(y).toarray()\n",
    "\n",
    "print(x.shape)\n",
    "print(x_letter.shape)\n",
    "print(y.shape)"
   ]
  },
  {
   "cell_type": "code",
   "execution_count": 4,
   "metadata": {
    "ExecuteTime": {
     "end_time": "2020-08-21T04:20:08.375870Z",
     "start_time": "2020-08-21T04:20:08.362883Z"
    }
   },
   "outputs": [
    {
     "name": "stdout",
     "output_type": "stream",
     "text": [
      "(2000, 28, 28, 1)\n",
      "(48, 28, 28, 1)\n",
      "(2000, 26)\n",
      "(48, 26)\n",
      "(2000, 10)\n",
      "(48, 10)\n"
     ]
    }
   ],
   "source": [
    "valid_size = 48\n",
    "valid_x = x[-valid_size:]\n",
    "x = x[:-48]\n",
    "\n",
    "valid_x_letter = x_letter[-valid_size:]\n",
    "x_letter = x_letter[:-48]\n",
    "\n",
    "valid_y = y[-valid_size:]\n",
    "y = y[:-48]\n",
    "\n",
    "print(x.shape)\n",
    "print(valid_x.shape)\n",
    "print(x_letter.shape)\n",
    "print(valid_x_letter.shape)\n",
    "print(y.shape)\n",
    "print(valid_y.shape)"
   ]
  },
  {
   "cell_type": "code",
   "execution_count": 5,
   "metadata": {
    "ExecuteTime": {
     "end_time": "2020-08-21T04:20:08.391810Z",
     "start_time": "2020-08-21T04:20:08.377821Z"
    }
   },
   "outputs": [],
   "source": [
    "image_generator = ImageDataGenerator(width_shift_range=0.1,\n",
    "                                     height_shift_range=0.1, \n",
    "                                     zoom_range=[0.8,1.2],\n",
    "                                     shear_range=10)"
   ]
  },
  {
   "cell_type": "code",
   "execution_count": 6,
   "metadata": {
    "ExecuteTime": {
     "end_time": "2020-08-21T04:20:10.799122Z",
     "start_time": "2020-08-21T04:20:08.392805Z"
    }
   },
   "outputs": [
    {
     "name": "stdout",
     "output_type": "stream",
     "text": [
      "(6000, 28, 28, 1)\n"
     ]
    }
   ],
   "source": [
    "x_total = x.copy()\n",
    "def augment(x):\n",
    "    aug_list = []\n",
    "    for i in range(x.shape[0]):\n",
    "        num_aug = 0\n",
    "        tmp = x[i]\n",
    "        tmp = tmp.reshape((1,) + tmp.shape)\n",
    "        for x_aug in image_generator.flow(tmp, batch_size = 1) :\n",
    "            if num_aug >= 1:\n",
    "                break\n",
    "            aug_list.append(x_aug[0])\n",
    "            num_aug += 1\n",
    "    aug_list = np.array(aug_list)\n",
    "    return aug_list\n",
    "\n",
    "n = 2\n",
    "for i in range(n):\n",
    "    arr = augment(x)\n",
    "    x_total = np.concatenate((x_total, arr), axis=0)\n",
    "    if i > n:\n",
    "        break\n",
    "\n",
    "print(x_total.shape)"
   ]
  },
  {
   "cell_type": "code",
   "execution_count": 7,
   "metadata": {
    "ExecuteTime": {
     "end_time": "2020-08-21T04:20:10.829343Z",
     "start_time": "2020-08-21T04:20:10.803105Z"
    }
   },
   "outputs": [
    {
     "name": "stdout",
     "output_type": "stream",
     "text": [
      "(6000, 10)\n"
     ]
    }
   ],
   "source": [
    "y_total = y.copy()\n",
    "for i in range(n):\n",
    "    arr = y.copy()\n",
    "    y_total = np.concatenate((y_total, arr), axis=0)\n",
    "\n",
    "print(y_total.shape)"
   ]
  },
  {
   "cell_type": "code",
   "execution_count": 8,
   "metadata": {
    "ExecuteTime": {
     "end_time": "2020-08-21T04:20:10.845277Z",
     "start_time": "2020-08-21T04:20:10.833324Z"
    }
   },
   "outputs": [
    {
     "name": "stdout",
     "output_type": "stream",
     "text": [
      "(6000, 26)\n"
     ]
    }
   ],
   "source": [
    "x_letter_total = x_letter.copy()\n",
    "for i in range(n):\n",
    "    arr = x_letter.copy()\n",
    "    x_letter_total = np.concatenate((x_letter_total, arr), axis=0)\n",
    "    \n",
    "print(x_letter_total.shape)"
   ]
  },
  {
   "cell_type": "code",
   "execution_count": 9,
   "metadata": {
    "ExecuteTime": {
     "end_time": "2020-08-21T04:20:10.908125Z",
     "start_time": "2020-08-21T04:20:10.849256Z"
    }
   },
   "outputs": [
    {
     "name": "stdout",
     "output_type": "stream",
     "text": [
      "(4800, 28, 28, 1)\n",
      "(1200, 28, 28, 1)\n",
      "(4800, 10)\n",
      "(1200, 10)\n",
      "(4800, 26)\n",
      "(1200, 26)\n"
     ]
    }
   ],
   "source": [
    "x_train, x_val, y_train, y_val = train_test_split(x_total, y_total, test_size=0.2, shuffle=True)#, stratify=y_total)\n",
    "x_letter_train = x_letter_total[:x_train.shape[0],:]\n",
    "x_letter_val = x_letter_total[x_train.shape[0]:,:]\n",
    "\n",
    "print(x_train.shape)\n",
    "print(x_val.shape)\n",
    "print(y_train.shape)\n",
    "print(y_val.shape)\n",
    "print(x_letter_train.shape)\n",
    "print(x_letter_val.shape)"
   ]
  },
  {
   "cell_type": "code",
   "execution_count": 10,
   "metadata": {
    "ExecuteTime": {
     "end_time": "2020-08-21T04:20:11.271890Z",
     "start_time": "2020-08-21T04:20:10.911334Z"
    }
   },
   "outputs": [
    {
     "name": "stdout",
     "output_type": "stream",
     "text": [
      "_________________________________________________________________\n",
      "Layer (type)                 Output Shape              Param #   \n",
      "=================================================================\n",
      "input_1 (InputLayer)         (None, 28, 28, 1)         0         \n",
      "_________________________________________________________________\n",
      "conv2d (Conv2D)              (None, 28, 28, 64)        640       \n",
      "_________________________________________________________________\n",
      "conv2d_1 (Conv2D)            (None, 28, 28, 64)        36928     \n",
      "_________________________________________________________________\n",
      "dropout (Dropout)            (None, 28, 28, 64)        0         \n",
      "_________________________________________________________________\n",
      "max_pooling2d (MaxPooling2D) (None, 14, 14, 64)        0         \n",
      "_________________________________________________________________\n",
      "conv2d_2 (Conv2D)            (None, 14, 14, 64)        16448     \n",
      "_________________________________________________________________\n",
      "conv2d_3 (Conv2D)            (None, 14, 14, 64)        16448     \n",
      "_________________________________________________________________\n",
      "dropout_1 (Dropout)          (None, 14, 14, 64)        0         \n",
      "_________________________________________________________________\n",
      "max_pooling2d_1 (MaxPooling2 (None, 7, 7, 64)          0         \n",
      "_________________________________________________________________\n",
      "conv2d_4 (Conv2D)            (None, 7, 7, 128)         32896     \n",
      "_________________________________________________________________\n",
      "conv2d_5 (Conv2D)            (None, 7, 7, 64)          32832     \n",
      "_________________________________________________________________\n",
      "dropout_2 (Dropout)          (None, 7, 7, 64)          0         \n",
      "_________________________________________________________________\n",
      "max_pooling2d_2 (MaxPooling2 (None, 3, 3, 64)          0         \n",
      "_________________________________________________________________\n",
      "flatten (Flatten)            (None, 576)               0         \n",
      "_________________________________________________________________\n",
      "dense (Dense)                (None, 100)               57700     \n",
      "_________________________________________________________________\n",
      "dropout_3 (Dropout)          (None, 100)               0         \n",
      "_________________________________________________________________\n",
      "dense_1 (Dense)              (None, 50)                5050      \n",
      "_________________________________________________________________\n",
      "dropout_4 (Dropout)          (None, 50)                0         \n",
      "_________________________________________________________________\n",
      "dense_2 (Dense)              (None, 10)                510       \n",
      "=================================================================\n",
      "Total params: 199,452\n",
      "Trainable params: 199,452\n",
      "Non-trainable params: 0\n",
      "_________________________________________________________________\n"
     ]
    }
   ],
   "source": [
    "input1 = Input(shape=(28,28,1))\n",
    "x1 = Conv2D(64, (3,3), activation='relu', padding='same')(input1)\n",
    "x1 = Conv2D(64, (3,3), activation='relu', padding='same')(x1)\n",
    "x1 = Dropout(0.3)(x1)\n",
    "x1 = MaxPooling2D((2,2))(x1)\n",
    "x1 = Conv2D(64, (2,2), activation='relu', padding='same')(x1)\n",
    "x1 = Conv2D(64, (2,2), activation='relu', padding='same')(x1)\n",
    "x1 = Dropout(0.3)(x1)\n",
    "x1 = MaxPooling2D((2,2))(x1)\n",
    "x1 = Conv2D(128, (2,2), activation='relu', padding='same')(x1)\n",
    "x1 = Conv2D(64, (2,2), activation='relu', padding='same')(x1)\n",
    "x1 = Dropout(0.3)(x1)\n",
    "x1 = MaxPooling2D((2,2))(x1)\n",
    "x1 = Flatten()(x1)\n",
    "\n",
    "#input2 = Input(shape=(26,))\n",
    "#x2 = Dense(50, activation='relu')(input2)\n",
    "#x2 = Dropout(0.3)(x2)\n",
    "\n",
    "#merge = concatenate([x1, input2])\n",
    "\n",
    "#x2 = Dense(500, activation='relu')(merge)\n",
    "#x2 = Dropout(0.3)(x2)\n",
    "x2 = Dense(100, activation='relu')(x1)\n",
    "x2 = Dropout(0.3)(x2)\n",
    "x2 = Dense(50, activation='relu')(x2)\n",
    "x2 = Dropout(0.3)(x2)\n",
    "outputs = Dense(10, activation='softmax')(x2)\n",
    "\n",
    "model = Model(inputs = input1, outputs = outputs)\n",
    "\n",
    "model.summary()"
   ]
  },
  {
   "cell_type": "code",
   "execution_count": 11,
   "metadata": {
    "ExecuteTime": {
     "end_time": "2020-08-21T04:23:25.907308Z",
     "start_time": "2020-08-21T04:20:11.273878Z"
    }
   },
   "outputs": [
    {
     "name": "stdout",
     "output_type": "stream",
     "text": [
      "Train on 4800 samples, validate on 1200 samples\n",
      "Epoch 1/100\n",
      "4800/4800 [==============================] - 6s 1ms/step - loss: 2.7378 - acc: 0.1100 - val_loss: 2.2980 - val_acc: 0.1508\n",
      "Epoch 2/100\n",
      "4800/4800 [==============================] - 2s 391us/step - loss: 2.2918 - acc: 0.1300 - val_loss: 2.2845 - val_acc: 0.1367\n",
      "Epoch 3/100\n",
      "4800/4800 [==============================] - 2s 387us/step - loss: 2.2792 - acc: 0.1390 - val_loss: 2.2750 - val_acc: 0.1700\n",
      "Epoch 4/100\n",
      "4800/4800 [==============================] - 2s 389us/step - loss: 2.2619 - acc: 0.1473 - val_loss: 2.2633 - val_acc: 0.1633\n",
      "Epoch 5/100\n",
      "4800/4800 [==============================] - 2s 378us/step - loss: 2.2373 - acc: 0.1663 - val_loss: 2.2304 - val_acc: 0.1817\n",
      "Epoch 6/100\n",
      "4800/4800 [==============================] - 2s 392us/step - loss: 2.1851 - acc: 0.1871 - val_loss: 2.1531 - val_acc: 0.2425\n",
      "Epoch 7/100\n",
      "4800/4800 [==============================] - 2s 382us/step - loss: 2.1290 - acc: 0.2115 - val_loss: 2.1164 - val_acc: 0.2933\n",
      "Epoch 8/100\n",
      "4800/4800 [==============================] - 2s 397us/step - loss: 2.0441 - acc: 0.2483 - val_loss: 2.0796 - val_acc: 0.3225\n",
      "Epoch 9/100\n",
      "4800/4800 [==============================] - 2s 394us/step - loss: 1.9621 - acc: 0.2996 - val_loss: 1.9863 - val_acc: 0.3942\n",
      "Epoch 10/100\n",
      "4800/4800 [==============================] - 2s 390us/step - loss: 1.9011 - acc: 0.3229 - val_loss: 1.9662 - val_acc: 0.4433\n",
      "Epoch 11/100\n",
      "4800/4800 [==============================] - 2s 396us/step - loss: 1.7990 - acc: 0.3729 - val_loss: 1.8098 - val_acc: 0.4742\n",
      "Epoch 12/100\n",
      "4800/4800 [==============================] - 2s 374us/step - loss: 1.6558 - acc: 0.4296 - val_loss: 1.6907 - val_acc: 0.5233\n",
      "Epoch 13/100\n",
      "4800/4800 [==============================] - 2s 387us/step - loss: 1.5276 - acc: 0.4821 - val_loss: 1.5487 - val_acc: 0.5700\n",
      "Epoch 14/100\n",
      "4800/4800 [==============================] - 2s 381us/step - loss: 1.4966 - acc: 0.4971 - val_loss: 1.4925 - val_acc: 0.5933\n",
      "Epoch 15/100\n",
      "4800/4800 [==============================] - 2s 379us/step - loss: 1.3683 - acc: 0.5371 - val_loss: 1.4458 - val_acc: 0.6050\n",
      "Epoch 16/100\n",
      "4800/4800 [==============================] - 2s 376us/step - loss: 1.3038 - acc: 0.5608 - val_loss: 1.2884 - val_acc: 0.6400\n",
      "Epoch 17/100\n",
      "4800/4800 [==============================] - 2s 378us/step - loss: 1.2265 - acc: 0.5879 - val_loss: 1.3508 - val_acc: 0.6275\n",
      "Epoch 18/100\n",
      "4800/4800 [==============================] - 2s 391us/step - loss: 1.1793 - acc: 0.6167 - val_loss: 1.1368 - val_acc: 0.6700\n",
      "Epoch 19/100\n",
      "4800/4800 [==============================] - 2s 364us/step - loss: 1.1586 - acc: 0.6233 - val_loss: 1.2356 - val_acc: 0.6525\n",
      "Epoch 20/100\n",
      "4800/4800 [==============================] - 2s 384us/step - loss: 1.0342 - acc: 0.6575 - val_loss: 1.1110 - val_acc: 0.6850\n",
      "Epoch 21/100\n",
      "4800/4800 [==============================] - 2s 382us/step - loss: 1.0340 - acc: 0.6623 - val_loss: 1.1542 - val_acc: 0.6633\n",
      "Epoch 22/100\n",
      "4800/4800 [==============================] - 2s 375us/step - loss: 0.9631 - acc: 0.6852 - val_loss: 1.0388 - val_acc: 0.7133\n",
      "Epoch 23/100\n",
      "4800/4800 [==============================] - 2s 372us/step - loss: 0.9691 - acc: 0.6804 - val_loss: 1.0209 - val_acc: 0.7158\n",
      "Epoch 24/100\n",
      "4800/4800 [==============================] - 2s 392us/step - loss: 0.9223 - acc: 0.6981 - val_loss: 0.9747 - val_acc: 0.7225\n",
      "Epoch 25/100\n",
      "4800/4800 [==============================] - 2s 376us/step - loss: 0.8668 - acc: 0.7175 - val_loss: 0.8829 - val_acc: 0.7458\n",
      "Epoch 26/100\n",
      "4800/4800 [==============================] - 2s 385us/step - loss: 0.8421 - acc: 0.7154 - val_loss: 0.9618 - val_acc: 0.7208\n",
      "Epoch 27/100\n",
      "4800/4800 [==============================] - 2s 378us/step - loss: 0.7818 - acc: 0.7396 - val_loss: 0.8793 - val_acc: 0.7342\n",
      "Epoch 28/100\n",
      "4800/4800 [==============================] - 2s 372us/step - loss: 0.7784 - acc: 0.7512 - val_loss: 0.8859 - val_acc: 0.7392\n",
      "Epoch 29/100\n",
      "4800/4800 [==============================] - 2s 384us/step - loss: 0.7396 - acc: 0.7567 - val_loss: 0.8514 - val_acc: 0.7525\n",
      "Epoch 30/100\n",
      "4800/4800 [==============================] - 2s 383us/step - loss: 0.7011 - acc: 0.7773 - val_loss: 0.8080 - val_acc: 0.7558\n",
      "Epoch 31/100\n",
      "4800/4800 [==============================] - 2s 363us/step - loss: 0.6802 - acc: 0.7835 - val_loss: 0.7636 - val_acc: 0.7758\n",
      "Epoch 32/100\n",
      "4800/4800 [==============================] - 2s 373us/step - loss: 0.6943 - acc: 0.7760 - val_loss: 0.7556 - val_acc: 0.7642\n",
      "Epoch 33/100\n",
      "4800/4800 [==============================] - 2s 369us/step - loss: 0.6787 - acc: 0.7825 - val_loss: 0.8257 - val_acc: 0.7550\n",
      "Epoch 34/100\n",
      "4800/4800 [==============================] - 2s 371us/step - loss: 0.6123 - acc: 0.8004 - val_loss: 0.7481 - val_acc: 0.7883\n",
      "Epoch 35/100\n",
      "4800/4800 [==============================] - 2s 373us/step - loss: 0.6107 - acc: 0.8035 - val_loss: 0.7129 - val_acc: 0.7967\n",
      "Epoch 36/100\n",
      "4800/4800 [==============================] - 2s 371us/step - loss: 0.6291 - acc: 0.8019 - val_loss: 0.7391 - val_acc: 0.7825\n",
      "Epoch 37/100\n",
      "4800/4800 [==============================] - 2s 384us/step - loss: 0.5669 - acc: 0.8160 - val_loss: 0.6407 - val_acc: 0.7867\n",
      "Epoch 38/100\n",
      "4800/4800 [==============================] - 2s 374us/step - loss: 0.5854 - acc: 0.8127 - val_loss: 0.6638 - val_acc: 0.8008\n",
      "Epoch 39/100\n",
      "4800/4800 [==============================] - 2s 365us/step - loss: 0.5385 - acc: 0.8215 - val_loss: 0.6113 - val_acc: 0.8142\n",
      "Epoch 40/100\n",
      "4800/4800 [==============================] - 2s 382us/step - loss: 0.5151 - acc: 0.8329 - val_loss: 0.7357 - val_acc: 0.7675\n",
      "Epoch 41/100\n",
      "4800/4800 [==============================] - 2s 365us/step - loss: 0.4964 - acc: 0.8458 - val_loss: 0.5821 - val_acc: 0.8258\n",
      "Epoch 42/100\n",
      "4800/4800 [==============================] - 2s 357us/step - loss: 0.4915 - acc: 0.8415 - val_loss: 0.6551 - val_acc: 0.7833\n",
      "Epoch 43/100\n",
      "4800/4800 [==============================] - 2s 381us/step - loss: 0.4723 - acc: 0.8490 - val_loss: 0.6189 - val_acc: 0.8125\n",
      "Epoch 44/100\n",
      "4800/4800 [==============================] - 2s 384us/step - loss: 0.4600 - acc: 0.8550 - val_loss: 0.6281 - val_acc: 0.8075\n",
      "Epoch 45/100\n",
      "4800/4800 [==============================] - 2s 387us/step - loss: 0.4348 - acc: 0.8594 - val_loss: 0.6239 - val_acc: 0.7975\n",
      "Epoch 46/100\n",
      "4800/4800 [==============================] - 2s 368us/step - loss: 0.4326 - acc: 0.8573 - val_loss: 0.6227 - val_acc: 0.8042\n",
      "Epoch 47/100\n",
      "4800/4800 [==============================] - 2s 371us/step - loss: 0.4469 - acc: 0.8575 - val_loss: 0.6603 - val_acc: 0.7933\n",
      "Epoch 48/100\n",
      "4800/4800 [==============================] - 2s 384us/step - loss: 0.4031 - acc: 0.8723 - val_loss: 0.5900 - val_acc: 0.8092\n",
      "Epoch 49/100\n",
      "4800/4800 [==============================] - 2s 374us/step - loss: 0.4192 - acc: 0.8679 - val_loss: 0.7743 - val_acc: 0.7583\n",
      "Epoch 50/100\n",
      "4800/4800 [==============================] - 2s 378us/step - loss: 0.4410 - acc: 0.8637 - val_loss: 0.7245 - val_acc: 0.7775\n",
      "Epoch 51/100\n",
      "4800/4800 [==============================] - 2s 368us/step - loss: 0.3875 - acc: 0.8704 - val_loss: 0.5839 - val_acc: 0.8167\n",
      "Epoch 52/100\n",
      "4800/4800 [==============================] - 2s 387us/step - loss: 0.3597 - acc: 0.8875 - val_loss: 0.5851 - val_acc: 0.8075\n",
      "Epoch 53/100\n",
      "4800/4800 [==============================] - 2s 374us/step - loss: 0.3937 - acc: 0.8792 - val_loss: 0.5710 - val_acc: 0.8150\n",
      "Epoch 54/100\n",
      "4800/4800 [==============================] - 2s 367us/step - loss: 0.3584 - acc: 0.8812 - val_loss: 0.5341 - val_acc: 0.8333\n",
      "Epoch 55/100\n",
      "4800/4800 [==============================] - 2s 393us/step - loss: 0.3384 - acc: 0.8910 - val_loss: 0.5869 - val_acc: 0.8075\n",
      "Epoch 56/100\n",
      "4800/4800 [==============================] - 2s 394us/step - loss: 0.3263 - acc: 0.8988 - val_loss: 0.5997 - val_acc: 0.8033\n",
      "Epoch 57/100\n",
      "4800/4800 [==============================] - 2s 384us/step - loss: 0.3459 - acc: 0.8875 - val_loss: 0.5982 - val_acc: 0.7983\n",
      "Epoch 58/100\n",
      "4800/4800 [==============================] - 2s 384us/step - loss: 0.3384 - acc: 0.8910 - val_loss: 0.5596 - val_acc: 0.8292\n",
      "Epoch 59/100\n",
      "4800/4800 [==============================] - 2s 378us/step - loss: 0.3238 - acc: 0.8960 - val_loss: 0.5689 - val_acc: 0.8133\n",
      "Epoch 60/100\n"
     ]
    },
    {
     "name": "stdout",
     "output_type": "stream",
     "text": [
      "4800/4800 [==============================] - 2s 397us/step - loss: 0.3200 - acc: 0.9013 - val_loss: 0.5902 - val_acc: 0.8150\n",
      "Epoch 61/100\n",
      "4800/4800 [==============================] - 2s 397us/step - loss: 0.3202 - acc: 0.8948 - val_loss: 0.5740 - val_acc: 0.8217\n",
      "Epoch 62/100\n",
      "4800/4800 [==============================] - 2s 394us/step - loss: 0.2987 - acc: 0.9058 - val_loss: 0.5428 - val_acc: 0.8217\n",
      "Epoch 63/100\n",
      "4800/4800 [==============================] - 2s 391us/step - loss: 0.3138 - acc: 0.9033 - val_loss: 0.5474 - val_acc: 0.8183\n",
      "Epoch 64/100\n",
      "4800/4800 [==============================] - 2s 394us/step - loss: 0.3014 - acc: 0.9042 - val_loss: 0.5792 - val_acc: 0.8150\n",
      "Epoch 65/100\n",
      "4800/4800 [==============================] - 2s 394us/step - loss: 0.3190 - acc: 0.8981 - val_loss: 0.5622 - val_acc: 0.8150\n",
      "Epoch 66/100\n",
      "4800/4800 [==============================] - 2s 394us/step - loss: 0.2779 - acc: 0.9106 - val_loss: 0.5369 - val_acc: 0.8258\n",
      "Epoch 67/100\n",
      "4800/4800 [==============================] - 2s 400us/step - loss: 0.2976 - acc: 0.9062 - val_loss: 0.5285 - val_acc: 0.8292\n",
      "Epoch 68/100\n",
      "4800/4800 [==============================] - 2s 397us/step - loss: 0.2938 - acc: 0.9104 - val_loss: 0.5694 - val_acc: 0.8175\n",
      "Epoch 69/100\n",
      "4800/4800 [==============================] - 2s 400us/step - loss: 0.2754 - acc: 0.9160 - val_loss: 0.5250 - val_acc: 0.8375\n",
      "Epoch 70/100\n",
      "4800/4800 [==============================] - 2s 395us/step - loss: 0.2759 - acc: 0.9135 - val_loss: 0.5369 - val_acc: 0.8308\n",
      "Epoch 71/100\n",
      "4800/4800 [==============================] - 2s 400us/step - loss: 0.2597 - acc: 0.9227 - val_loss: 0.5907 - val_acc: 0.8100\n",
      "Epoch 72/100\n",
      "4800/4800 [==============================] - 2s 397us/step - loss: 0.2419 - acc: 0.9265 - val_loss: 0.5223 - val_acc: 0.8400\n",
      "Epoch 73/100\n",
      "4800/4800 [==============================] - 2s 395us/step - loss: 0.2599 - acc: 0.9167 - val_loss: 0.5687 - val_acc: 0.8158\n",
      "Epoch 74/100\n",
      "4800/4800 [==============================] - 2s 394us/step - loss: 0.2680 - acc: 0.9158 - val_loss: 0.5146 - val_acc: 0.8467\n",
      "Epoch 75/100\n",
      "4800/4800 [==============================] - 2s 396us/step - loss: 0.2624 - acc: 0.9206 - val_loss: 0.5176 - val_acc: 0.8425\n",
      "Epoch 76/100\n",
      "4800/4800 [==============================] - 2s 394us/step - loss: 0.2674 - acc: 0.9150 - val_loss: 0.4979 - val_acc: 0.8517\n",
      "Epoch 77/100\n",
      "4800/4800 [==============================] - 2s 390us/step - loss: 0.2359 - acc: 0.9306 - val_loss: 0.5167 - val_acc: 0.8367\n",
      "Epoch 78/100\n",
      "4800/4800 [==============================] - 2s 387us/step - loss: 0.2186 - acc: 0.9310 - val_loss: 0.5214 - val_acc: 0.8475\n",
      "Epoch 79/100\n",
      "4800/4800 [==============================] - 2s 387us/step - loss: 0.2548 - acc: 0.9188 - val_loss: 0.5164 - val_acc: 0.8333\n",
      "Epoch 80/100\n",
      "4800/4800 [==============================] - 2s 378us/step - loss: 0.2158 - acc: 0.9348 - val_loss: 0.5011 - val_acc: 0.8467\n",
      "Epoch 81/100\n",
      "4800/4800 [==============================] - 2s 384us/step - loss: 0.2257 - acc: 0.9335 - val_loss: 0.5490 - val_acc: 0.8342\n",
      "Epoch 82/100\n",
      "4800/4800 [==============================] - 2s 384us/step - loss: 0.2467 - acc: 0.9256 - val_loss: 0.5423 - val_acc: 0.8367\n",
      "Epoch 83/100\n",
      "4800/4800 [==============================] - 2s 387us/step - loss: 0.2447 - acc: 0.9250 - val_loss: 0.4893 - val_acc: 0.8442\n",
      "Epoch 84/100\n",
      "4800/4800 [==============================] - 2s 384us/step - loss: 0.2419 - acc: 0.9256 - val_loss: 0.4859 - val_acc: 0.8400\n",
      "Epoch 85/100\n",
      "4800/4800 [==============================] - 2s 384us/step - loss: 0.2176 - acc: 0.9331 - val_loss: 0.5323 - val_acc: 0.8275\n",
      "Epoch 86/100\n",
      "4800/4800 [==============================] - 2s 397us/step - loss: 0.2046 - acc: 0.9360 - val_loss: 0.5086 - val_acc: 0.8367\n",
      "Epoch 87/100\n",
      "4800/4800 [==============================] - 2s 394us/step - loss: 0.2271 - acc: 0.9319 - val_loss: 0.4860 - val_acc: 0.8408\n",
      "Epoch 88/100\n",
      "4800/4800 [==============================] - 2s 391us/step - loss: 0.2256 - acc: 0.9333 - val_loss: 0.4857 - val_acc: 0.8425\n",
      "Epoch 89/100\n",
      "4800/4800 [==============================] - 2s 373us/step - loss: 0.2278 - acc: 0.9323 - val_loss: 0.5718 - val_acc: 0.8250\n",
      "Epoch 90/100\n",
      "4800/4800 [==============================] - 2s 371us/step - loss: 0.2063 - acc: 0.9367 - val_loss: 0.5193 - val_acc: 0.8350\n",
      "Epoch 91/100\n",
      "4800/4800 [==============================] - 2s 394us/step - loss: 0.1981 - acc: 0.9363 - val_loss: 0.5411 - val_acc: 0.8417\n",
      "Epoch 92/100\n",
      "4800/4800 [==============================] - 2s 387us/step - loss: 0.2364 - acc: 0.9285 - val_loss: 0.5517 - val_acc: 0.8342\n",
      "Epoch 93/100\n",
      "4800/4800 [==============================] - 2s 378us/step - loss: 0.2098 - acc: 0.9381 - val_loss: 0.5493 - val_acc: 0.8275\n",
      "Epoch 94/100\n",
      "4800/4800 [==============================] - 2s 378us/step - loss: 0.2266 - acc: 0.9298 - val_loss: 0.5091 - val_acc: 0.8450\n",
      "Epoch 95/100\n",
      "4800/4800 [==============================] - 2s 384us/step - loss: 0.1856 - acc: 0.9412 - val_loss: 0.4946 - val_acc: 0.8458\n",
      "Epoch 96/100\n",
      "4800/4800 [==============================] - 2s 384us/step - loss: 0.2034 - acc: 0.9363 - val_loss: 0.5022 - val_acc: 0.8417\n",
      "Epoch 97/100\n",
      "4800/4800 [==============================] - 2s 391us/step - loss: 0.2093 - acc: 0.9371 - val_loss: 0.5275 - val_acc: 0.8408\n",
      "Epoch 98/100\n",
      "4800/4800 [==============================] - 2s 383us/step - loss: 0.2162 - acc: 0.9335 - val_loss: 0.4856 - val_acc: 0.8433\n",
      "Epoch 99/100\n",
      "4800/4800 [==============================] - 2s 385us/step - loss: 0.1781 - acc: 0.9435 - val_loss: 0.5127 - val_acc: 0.8333\n",
      "Epoch 100/100\n",
      "4800/4800 [==============================] - 2s 384us/step - loss: 0.1955 - acc: 0.9410 - val_loss: 0.5135 - val_acc: 0.8442\n"
     ]
    }
   ],
   "source": [
    "model.compile(optimizer = 'adam', metrics = ['accuracy'], loss = 'categorical_crossentropy')\n",
    "\n",
    "#es = EarlyStopping(monitor='val_loss', patience=20, mode='min', verbose=1)\n",
    "cp = ModelCheckpoint('./models/{epoch:02d}-{val_acc:.4f}.h5', monitor='val_loss',\n",
    "                     save_best_only=True, mode='min')\n",
    "\n",
    "history = model.fit(x_train, y_train,\n",
    "                    validation_data=(x_val, y_val), \n",
    "                    batch_size=64, epochs=100, verbose=1, callbacks = [cp])"
   ]
  },
  {
   "cell_type": "code",
   "execution_count": 15,
   "metadata": {
    "ExecuteTime": {
     "end_time": "2020-08-21T04:24:12.375933Z",
     "start_time": "2020-08-21T04:24:09.091543Z"
    }
   },
   "outputs": [],
   "source": [
    "from tensorflow.keras.models import load_model\n",
    "best_model = load_model('models/noskipCNN_drop.h5')"
   ]
  },
  {
   "cell_type": "code",
   "execution_count": 16,
   "metadata": {
    "ExecuteTime": {
     "end_time": "2020-08-21T04:24:12.659180Z",
     "start_time": "2020-08-21T04:24:12.375933Z"
    }
   },
   "outputs": [
    {
     "name": "stdout",
     "output_type": "stream",
     "text": [
      "48/48 [==============================] - 0s 6ms/step\n"
     ]
    },
    {
     "data": {
      "text/plain": [
       "[0.2990819315115611, 0.8333333333333334]"
      ]
     },
     "execution_count": 16,
     "metadata": {},
     "output_type": "execute_result"
    }
   ],
   "source": [
    "evaluate = best_model.evaluate(valid_x, valid_y)\n",
    "evaluate"
   ]
  },
  {
   "cell_type": "code",
   "execution_count": 14,
   "metadata": {
    "ExecuteTime": {
     "end_time": "2020-08-21T04:23:29.032665Z",
     "start_time": "2020-08-21T04:23:29.020634Z"
    }
   },
   "outputs": [],
   "source": [
    "#submission = pd.read_csv('data/val.csv')\n",
    "#submission['digit'] = np.argmax(best_model.predict([x_test, x_letter_test]), axis=1)\n",
    "#submission.to_csv('data/val(CNN).csv', index=False)"
   ]
  },
  {
   "cell_type": "code",
   "execution_count": null,
   "metadata": {},
   "outputs": [],
   "source": []
  }
 ],
 "metadata": {
  "kernelspec": {
   "display_name": "Python 3",
   "language": "python",
   "name": "python3"
  },
  "language_info": {
   "codemirror_mode": {
    "name": "ipython",
    "version": 3
   },
   "file_extension": ".py",
   "mimetype": "text/x-python",
   "name": "python",
   "nbconvert_exporter": "python",
   "pygments_lexer": "ipython3",
   "version": "3.6.10"
  }
 },
 "nbformat": 4,
 "nbformat_minor": 4
}
