{
 "cells": [
  {
   "cell_type": "code",
   "execution_count": 1,
   "metadata": {
    "ExecuteTime": {
     "end_time": "2020-08-26T05:45:26.685898Z",
     "start_time": "2020-08-26T05:45:23.145902Z"
    }
   },
   "outputs": [],
   "source": [
    "import pandas as pd\n",
    "import numpy as np\n",
    "import matplotlib.pyplot as plt\n",
    "from tensorflow.keras.preprocessing.image import ImageDataGenerator\n",
    "from sklearn.preprocessing import OneHotEncoder, StandardScaler, MinMaxScaler\n",
    "from sklearn.model_selection import train_test_split\n",
    "\n",
    "import tensorflow as tf\n",
    "from sklearn.decomposition import PCA\n",
    "from tensorflow.keras.models import Model\n",
    "from tensorflow.keras.layers import Input, Conv2D, MaxPooling2D, Flatten, Dense\n",
    "from tensorflow.keras.layers import concatenate, Dropout, GlobalAveragePooling2D\n",
    "from tensorflow.keras.layers import BatchNormalization, Activation, AveragePooling2D\n",
    "from tensorflow.keras.callbacks import EarlyStopping, ModelCheckpoint\n",
    "\n",
    "# seed\n",
    "import os\n",
    "seed = 123\n",
    "os.environ['PYTHONHASHSEED'] = str(seed)\n",
    "np.random.seed(seed)\n",
    "tf.set_random_seed(seed)"
   ]
  },
  {
   "cell_type": "code",
   "execution_count": 2,
   "metadata": {
    "ExecuteTime": {
     "end_time": "2020-08-26T05:45:28.279619Z",
     "start_time": "2020-08-26T05:45:26.688892Z"
    }
   },
   "outputs": [],
   "source": [
    "train = np.load('data/train.npy', allow_pickle = 'True')\n",
    "test = np.load('data/test.npy', allow_pickle = 'True')"
   ]
  },
  {
   "cell_type": "code",
   "execution_count": 3,
   "metadata": {
    "ExecuteTime": {
     "end_time": "2020-08-26T05:45:28.613987Z",
     "start_time": "2020-08-26T05:45:28.279619Z"
    }
   },
   "outputs": [],
   "source": [
    "train_image = train[:,2:].reshape(-1,28,28).astype(np.int)\n",
    "train_digit = train[:,0]\n",
    "train_letter = train[:,1]\n",
    "train_del_noise = np.where(train_image>=150, train_image, 0)\n",
    "\n",
    "test_image = test[:,1:].reshape(-1,28,28).astype(np.int)"
   ]
  },
  {
   "cell_type": "code",
   "execution_count": 4,
   "metadata": {
    "ExecuteTime": {
     "end_time": "2020-08-26T05:45:28.629779Z",
     "start_time": "2020-08-26T05:45:28.615841Z"
    }
   },
   "outputs": [],
   "source": [
    "def class_pca(data, num):\n",
    "    lst = []\n",
    "    for idx in range(len(data)):\n",
    "        if train_digit[idx] == num:\n",
    "            lst.append(train_del_noise[idx])\n",
    "    lst = np.array(lst)\n",
    "    \n",
    "    pca = PCA(n_components=2)\n",
    "    x = lst.reshape(lst.shape[0],-1).copy()\n",
    "    w = pca.fit_transform(x)\n",
    "    f = pca.components_.reshape(1,-1)\n",
    "    return f"
   ]
  },
  {
   "cell_type": "code",
   "execution_count": 5,
   "metadata": {
    "ExecuteTime": {
     "end_time": "2020-08-26T05:45:28.864798Z",
     "start_time": "2020-08-26T05:45:28.632807Z"
    }
   },
   "outputs": [],
   "source": [
    "label_0 = class_pca(train_image, 0)\n",
    "label_1 = class_pca(train_image, 1)\n",
    "label_2 = class_pca(train_image, 2)\n",
    "label_3 = class_pca(train_image, 3)\n",
    "label_4 = class_pca(train_image, 4)\n",
    "label_5 = class_pca(train_image, 5)\n",
    "label_6 = class_pca(train_image, 6)\n",
    "label_7 = class_pca(train_image, 7)\n",
    "label_8 = class_pca(train_image, 8)\n",
    "label_9 = class_pca(train_image, 9)"
   ]
  },
  {
   "cell_type": "code",
   "execution_count": 6,
   "metadata": {
    "ExecuteTime": {
     "end_time": "2020-08-26T05:45:28.911599Z",
     "start_time": "2020-08-26T05:45:28.867786Z"
    }
   },
   "outputs": [],
   "source": [
    "mid_label = []\n",
    "for idx in range(len(train_digit)):\n",
    "    if train_digit[idx] == 0:\n",
    "        mid_label.append(label_0)\n",
    "    elif train_digit[idx] == 1:\n",
    "        mid_label.append(label_1)\n",
    "    elif train_digit[idx] == 2:\n",
    "        mid_label.append(label_2)\n",
    "    elif train_digit[idx] == 3:\n",
    "        mid_label.append(label_3)\n",
    "    elif train_digit[idx] == 4:\n",
    "        mid_label.append(label_4)\n",
    "    elif train_digit[idx] == 5:\n",
    "        mid_label.append(label_5)\n",
    "    elif train_digit[idx] == 6:\n",
    "        mid_label.append(label_6)\n",
    "    elif train_digit[idx] == 7:\n",
    "        mid_label.append(label_7)\n",
    "    elif train_digit[idx] == 8:\n",
    "        mid_label.append(label_8)\n",
    "    else:\n",
    "        mid_label.append(label_9)\n",
    "mid_label = np.array(mid_label)\n",
    "m = mid_label.reshape(-1,mid_label.shape[2])"
   ]
  },
  {
   "cell_type": "code",
   "execution_count": 7,
   "metadata": {
    "ExecuteTime": {
     "end_time": "2020-08-26T05:45:28.975327Z",
     "start_time": "2020-08-26T05:45:28.913589Z"
    }
   },
   "outputs": [],
   "source": [
    "scaler = MinMaxScaler()\n",
    "scaler.fit(m)\n",
    "m_scaled = scaler.transform(m)"
   ]
  },
  {
   "cell_type": "code",
   "execution_count": 8,
   "metadata": {
    "ExecuteTime": {
     "end_time": "2020-08-26T05:45:28.991259Z",
     "start_time": "2020-08-26T05:45:28.979310Z"
    }
   },
   "outputs": [
    {
     "data": {
      "text/plain": [
       "(2048, 1568)"
      ]
     },
     "execution_count": 8,
     "metadata": {},
     "output_type": "execute_result"
    }
   ],
   "source": [
    "m_scaled.shape"
   ]
  },
  {
   "cell_type": "code",
   "execution_count": 9,
   "metadata": {
    "ExecuteTime": {
     "end_time": "2020-08-26T05:45:29.086853Z",
     "start_time": "2020-08-26T05:45:28.994247Z"
    }
   },
   "outputs": [
    {
     "name": "stdout",
     "output_type": "stream",
     "text": [
      "(2048, 28, 28, 1)\n",
      "(2048, 10)\n"
     ]
    }
   ],
   "source": [
    "x = train[:,2:]\n",
    "x = np.reshape(x, (-1, 28, 28, 1))\n",
    "x = x/255\n",
    "\n",
    "y = train[:,0]\n",
    "y = np.reshape(y, (-1, 1))\n",
    "en = OneHotEncoder()\n",
    "y = en.fit_transform(y).toarray()\n",
    "\n",
    "print(x.shape)\n",
    "print(y.shape)"
   ]
  },
  {
   "cell_type": "code",
   "execution_count": 10,
   "metadata": {
    "ExecuteTime": {
     "end_time": "2020-08-26T05:45:29.102785Z",
     "start_time": "2020-08-26T05:45:29.087849Z"
    }
   },
   "outputs": [
    {
     "name": "stdout",
     "output_type": "stream",
     "text": [
      "(2000, 28, 28, 1)\n",
      "(48, 28, 28, 1)\n",
      "(2000, 10)\n",
      "(48, 10)\n",
      "(2000, 1568)\n",
      "(48, 1568)\n"
     ]
    }
   ],
   "source": [
    "valid_size = 48\n",
    "valid_x = x[-valid_size:]\n",
    "x = x[:-valid_size]\n",
    "\n",
    "valid_y = y[-valid_size:]\n",
    "y = y[:-valid_size]\n",
    "\n",
    "valid_m = m_scaled[-valid_size:]\n",
    "m = m_scaled[:-valid_size]\n",
    "\n",
    "print(x.shape)\n",
    "print(valid_x.shape)\n",
    "print(y.shape)\n",
    "print(valid_y.shape)\n",
    "print(m.shape)\n",
    "print(valid_m.shape)"
   ]
  },
  {
   "cell_type": "code",
   "execution_count": 11,
   "metadata": {
    "ExecuteTime": {
     "end_time": "2020-08-26T05:45:29.117723Z",
     "start_time": "2020-08-26T05:45:29.103781Z"
    }
   },
   "outputs": [],
   "source": [
    "image_generator = ImageDataGenerator(width_shift_range=0.1,\n",
    "                                     height_shift_range=0.1, \n",
    "                                     zoom_range=[0.8,1.2],\n",
    "                                     shear_range=10)"
   ]
  },
  {
   "cell_type": "code",
   "execution_count": 12,
   "metadata": {
    "ExecuteTime": {
     "end_time": "2020-08-26T05:45:31.701103Z",
     "start_time": "2020-08-26T05:45:29.118719Z"
    }
   },
   "outputs": [
    {
     "name": "stdout",
     "output_type": "stream",
     "text": [
      "(6000, 28, 28, 1)\n"
     ]
    }
   ],
   "source": [
    "x_total = x.copy()\n",
    "def augment(x):\n",
    "    aug_list = []\n",
    "    for i in range(x.shape[0]):\n",
    "        num_aug = 0\n",
    "        tmp = x[i]\n",
    "        tmp = tmp.reshape((1,) + tmp.shape)\n",
    "        for x_aug in image_generator.flow(tmp, batch_size = 1) :\n",
    "            if num_aug >= 1:\n",
    "                break\n",
    "            aug_list.append(x_aug[0])\n",
    "            num_aug += 1\n",
    "    aug_list = np.array(aug_list)\n",
    "    return aug_list\n",
    "\n",
    "n = 2\n",
    "for i in range(n):\n",
    "    arr = augment(x)\n",
    "    x_total = np.concatenate((x_total, arr), axis=0)\n",
    "    if i > n:\n",
    "        break\n",
    "\n",
    "print(x_total.shape)"
   ]
  },
  {
   "cell_type": "code",
   "execution_count": 13,
   "metadata": {
    "ExecuteTime": {
     "end_time": "2020-08-26T05:45:31.810668Z",
     "start_time": "2020-08-26T05:45:31.707036Z"
    }
   },
   "outputs": [
    {
     "name": "stdout",
     "output_type": "stream",
     "text": [
      "(6000, 10)\n",
      "(6000, 1568)\n"
     ]
    }
   ],
   "source": [
    "y_total = y.copy()\n",
    "for i in range(n):\n",
    "    arr = y.copy()\n",
    "    y_total = np.concatenate((y_total, arr), axis=0)\n",
    "    \n",
    "m_total = m.copy()\n",
    "for i in range(n):\n",
    "    arr = m.copy()\n",
    "    m_total = np.concatenate((m_total, arr), axis=0)\n",
    "\n",
    "print(y_total.shape)\n",
    "print(m_total.shape)"
   ]
  },
  {
   "cell_type": "code",
   "execution_count": 14,
   "metadata": {
    "ExecuteTime": {
     "end_time": "2020-08-26T05:45:31.887715Z",
     "start_time": "2020-08-26T05:45:31.812666Z"
    }
   },
   "outputs": [
    {
     "name": "stdout",
     "output_type": "stream",
     "text": [
      "(4800, 28, 28, 1)\n",
      "(1200, 28, 28, 1)\n",
      "(4800, 10)\n",
      "(1200, 10)\n",
      "(4800, 1568)\n",
      "(1200, 1568)\n"
     ]
    }
   ],
   "source": [
    "x_train, x_val, y_train, y_val = train_test_split(x_total, y_total, test_size=0.2, \n",
    "                                                  shuffle=True)#, stratify=y_total)\n",
    "\n",
    "m_train = m_total[:x_train.shape[0],:]\n",
    "m_val = m_total[x_train.shape[0]:,:]\n",
    "\n",
    "print(x_train.shape)\n",
    "print(x_val.shape)\n",
    "print(y_train.shape)\n",
    "print(y_val.shape)\n",
    "print(m_train.shape)\n",
    "print(m_val.shape)"
   ]
  },
  {
   "cell_type": "code",
   "execution_count": 25,
   "metadata": {
    "ExecuteTime": {
     "end_time": "2020-08-26T05:54:19.341520Z",
     "start_time": "2020-08-26T05:54:19.318613Z"
    }
   },
   "outputs": [],
   "source": [
    "def CNN(model_input, classes):\n",
    "    x = Conv2D(64, (3,3), activation='elu', padding='same')(model_input)\n",
    "    x = Conv2D(64, (3,3), activation='elu', padding='same')(x)\n",
    "    x = Dropout(0.3)(x)\n",
    "    x = MaxPooling2D((2,2))(x)\n",
    "    x = Conv2D(64, (3,3), activation='elu', padding='same')(x)\n",
    "    x = Conv2D(64, (3,3), activation='elu', padding='same')(x)\n",
    "    x = Dropout(0.3)(x)\n",
    "    x = MaxPooling2D((2,2))(x)\n",
    "    #x = Conv2D(128, (3,3), activation='relu', padding='same')(x)\n",
    "    #x = Conv2D(128, (3,3), activation='relu', padding='same')(x)\n",
    "    #x = Dropout(0.3)(x)\n",
    "    x = Flatten()(x)\n",
    "    x = Dense(2000, activation='elu')(x)\n",
    "    #x = Dropout(0.3)(x)\n",
    "    #x = GlobalAveragePooling2D()(x)\n",
    "    outputs = Dense(classes, activation='softmax')(x)\n",
    "    \n",
    "    model = Model(inputs = model_input, outputs = outputs)\n",
    "    \n",
    "    return model"
   ]
  },
  {
   "cell_type": "code",
   "execution_count": 26,
   "metadata": {
    "ExecuteTime": {
     "end_time": "2020-08-26T05:54:20.795065Z",
     "start_time": "2020-08-26T05:54:20.468111Z"
    }
   },
   "outputs": [
    {
     "name": "stdout",
     "output_type": "stream",
     "text": [
      "_________________________________________________________________\n",
      "Layer (type)                 Output Shape              Param #   \n",
      "=================================================================\n",
      "input_2 (InputLayer)         (None, 28, 28, 1)         0         \n",
      "_________________________________________________________________\n",
      "conv2d_4 (Conv2D)            (None, 28, 28, 64)        640       \n",
      "_________________________________________________________________\n",
      "conv2d_5 (Conv2D)            (None, 28, 28, 64)        36928     \n",
      "_________________________________________________________________\n",
      "dropout_3 (Dropout)          (None, 28, 28, 64)        0         \n",
      "_________________________________________________________________\n",
      "max_pooling2d_2 (MaxPooling2 (None, 14, 14, 64)        0         \n",
      "_________________________________________________________________\n",
      "conv2d_6 (Conv2D)            (None, 14, 14, 64)        36928     \n",
      "_________________________________________________________________\n",
      "conv2d_7 (Conv2D)            (None, 14, 14, 64)        36928     \n",
      "_________________________________________________________________\n",
      "dropout_4 (Dropout)          (None, 14, 14, 64)        0         \n",
      "_________________________________________________________________\n",
      "max_pooling2d_3 (MaxPooling2 (None, 7, 7, 64)          0         \n",
      "_________________________________________________________________\n",
      "flatten_1 (Flatten)          (None, 3136)              0         \n",
      "_________________________________________________________________\n",
      "dense_2 (Dense)              (None, 2000)              6274000   \n",
      "_________________________________________________________________\n",
      "dense_3 (Dense)              (None, 1568)              3137568   \n",
      "=================================================================\n",
      "Total params: 9,522,992\n",
      "Trainable params: 9,522,992\n",
      "Non-trainable params: 0\n",
      "_________________________________________________________________\n"
     ]
    }
   ],
   "source": [
    "layers_in_block = {'DenseNet-121':[6, 12, 24, 16],\n",
    "                   'DenseNet-169':[6, 12, 32, 32],\n",
    "                   'DenseNet-201':[6, 12, 48, 32],\n",
    "                   'DenseNet-265':[6, 12, 64, 48],\n",
    "                   'myDenseNet':[8, 12, 16, 32]}\n",
    "\n",
    "base_growth_rate = 32\n",
    "\n",
    "model_input = Input(shape=(28,28,1))\n",
    "classes = 1568\n",
    "\n",
    "#model = DenseNet(model_input, classes, 'DenseNet-121')\n",
    "model = CNN(model_input, classes)\n",
    "\n",
    "model.summary()"
   ]
  },
  {
   "cell_type": "code",
   "execution_count": 27,
   "metadata": {
    "ExecuteTime": {
     "end_time": "2020-08-26T05:54:50.453472Z",
     "start_time": "2020-08-26T05:54:23.568940Z"
    }
   },
   "outputs": [
    {
     "name": "stdout",
     "output_type": "stream",
     "text": [
      "Train on 4800 samples, validate on 1200 samples\n",
      "Epoch 1/10\n",
      "4800/4800 [==============================] - 4s 819us/step - loss: 0.2313 - mean_absolute_error: 0.3251 - val_loss: 0.2305 - val_mean_absolute_error: 0.3243\n",
      "Epoch 2/10\n",
      "4800/4800 [==============================] - 2s 510us/step - loss: 0.2313 - mean_absolute_error: 0.3250 - val_loss: 0.2305 - val_mean_absolute_error: 0.3243\n",
      "Epoch 3/10\n",
      "4800/4800 [==============================] - 2s 511us/step - loss: 0.2313 - mean_absolute_error: 0.3250 - val_loss: 0.2305 - val_mean_absolute_error: 0.3243\n",
      "Epoch 4/10\n",
      "4800/4800 [==============================] - 2s 517us/step - loss: 0.2313 - mean_absolute_error: 0.3250 - val_loss: 0.2305 - val_mean_absolute_error: 0.3243\n",
      "Epoch 5/10\n",
      "4800/4800 [==============================] - 2s 514us/step - loss: 0.2313 - mean_absolute_error: 0.3250 - val_loss: 0.2305 - val_mean_absolute_error: 0.3243\n",
      "Epoch 6/10\n",
      "4800/4800 [==============================] - 2s 508us/step - loss: 0.2313 - mean_absolute_error: 0.3250 - val_loss: 0.2305 - val_mean_absolute_error: 0.3243\n",
      "Epoch 7/10\n",
      "4800/4800 [==============================] - 2s 499us/step - loss: 0.2313 - mean_absolute_error: 0.3250 - val_loss: 0.2305 - val_mean_absolute_error: 0.3243\n",
      "Epoch 8/10\n",
      "4800/4800 [==============================] - 2s 505us/step - loss: 0.2313 - mean_absolute_error: 0.3250 - val_loss: 0.2305 - val_mean_absolute_error: 0.3243\n",
      "Epoch 9/10\n",
      "4800/4800 [==============================] - 2s 505us/step - loss: 0.2313 - mean_absolute_error: 0.3250 - val_loss: 0.2305 - val_mean_absolute_error: 0.3243\n",
      "Epoch 10/10\n",
      "4800/4800 [==============================] - 2s 508us/step - loss: 0.2313 - mean_absolute_error: 0.3250 - val_loss: 0.2305 - val_mean_absolute_error: 0.3243\n"
     ]
    }
   ],
   "source": [
    "model.compile(optimizer = 'adam', metrics = ['mae'], loss = 'mse')\n",
    "history = model.fit(x_train, m_train, validation_data=(x_val, m_val), \n",
    "                    batch_size=64, epochs=10, verbose=1)"
   ]
  },
  {
   "cell_type": "code",
   "execution_count": 28,
   "metadata": {
    "ExecuteTime": {
     "end_time": "2020-08-26T05:55:30.436690Z",
     "start_time": "2020-08-26T05:55:30.290745Z"
    }
   },
   "outputs": [],
   "source": [
    "pred = model.predict(valid_x)"
   ]
  },
  {
   "cell_type": "code",
   "execution_count": 35,
   "metadata": {
    "ExecuteTime": {
     "end_time": "2020-08-26T05:56:22.247849Z",
     "start_time": "2020-08-26T05:56:22.228942Z"
    }
   },
   "outputs": [
    {
     "data": {
      "text/plain": [
       "array([[-3.1237258e-17, -1.1856914e-17, -1.5537834e-18, ...,\n",
       "         0.0000000e+00,  0.0000000e+00,  0.0000000e+00],\n",
       "       [-3.1237258e-17, -1.1856914e-17, -1.5537834e-18, ...,\n",
       "         0.0000000e+00,  0.0000000e+00,  0.0000000e+00],\n",
       "       [-3.1237258e-17, -1.1856914e-17, -1.5537834e-18, ...,\n",
       "         0.0000000e+00,  0.0000000e+00,  0.0000000e+00],\n",
       "       ...,\n",
       "       [-3.1237258e-17, -1.1856914e-17, -1.5537834e-18, ...,\n",
       "         0.0000000e+00,  0.0000000e+00,  0.0000000e+00],\n",
       "       [-3.1237258e-17, -1.1856914e-17, -1.5537834e-18, ...,\n",
       "         0.0000000e+00,  0.0000000e+00,  0.0000000e+00],\n",
       "       [-3.1237258e-17, -1.1856914e-17, -1.5537834e-18, ...,\n",
       "         0.0000000e+00,  0.0000000e+00,  0.0000000e+00]], dtype=float32)"
      ]
     },
     "execution_count": 35,
     "metadata": {},
     "output_type": "execute_result"
    }
   ],
   "source": [
    "real_pred = scaler.inverse_transform(pred)\n",
    "real_pred"
   ]
  },
  {
   "cell_type": "code",
   "execution_count": 34,
   "metadata": {
    "ExecuteTime": {
     "end_time": "2020-08-26T05:56:02.908614Z",
     "start_time": "2020-08-26T05:56:02.840949Z"
    }
   },
   "outputs": [
    {
     "data": {
      "text/plain": [
       "(-0.5, 27.5, 27.5, -0.5)"
      ]
     },
     "execution_count": 34,
     "metadata": {},
     "output_type": "execute_result"
    },
    {
     "data": {
      "image/png": "[encoded data removed]",
      "text/plain": [
       "<Figure size 432x288 with 1 Axes>"
      ]
     },
     "metadata": {
      "needs_background": "light"
     },
     "output_type": "display_data"
    }
   ],
   "source": [
    "img = real_pred[10].reshape(-1,28,28)\n",
    "img_1 = img[1]\n",
    "plt.imshow(img_1)\n",
    "plt.axis('off')"
   ]
  },
  {
   "cell_type": "code",
   "execution_count": null,
   "metadata": {},
   "outputs": [],
   "source": []
  },
  {
   "cell_type": "code",
   "execution_count": null,
   "metadata": {},
   "outputs": [],
   "source": []
  },
  {
   "cell_type": "code",
   "execution_count": null,
   "metadata": {},
   "outputs": [],
   "source": []
  },
  {
   "cell_type": "code",
   "execution_count": null,
   "metadata": {},
   "outputs": [],
   "source": []
  },
  {
   "cell_type": "code",
   "execution_count": null,
   "metadata": {},
   "outputs": [],
   "source": []
  }
 ],
 "metadata": {
  "kernelspec": {
   "display_name": "Python 3",
   "language": "python",
   "name": "python3"
  },
  "language_info": {
   "codemirror_mode": {
    "name": "ipython",
    "version": 3
   },
   "file_extension": ".py",
   "mimetype": "text/x-python",
   "name": "python",
   "nbconvert_exporter": "python",
   "pygments_lexer": "ipython3",
   "version": "3.6.10"
  }
 },
 "nbformat": 4,
 "nbformat_minor": 4
}
