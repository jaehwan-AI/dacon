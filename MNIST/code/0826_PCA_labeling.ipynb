{
 "cells": [
  {
   "cell_type": "code",
   "execution_count": 1,
   "metadata": {
    "ExecuteTime": {
<<<<<<< HEAD
     "end_time": "2020-08-26T07:02:53.640967Z",
     "start_time": "2020-08-26T07:02:51.174420Z"
=======
     "end_time": "2020-08-26T05:45:26.685898Z",
     "start_time": "2020-08-26T05:45:23.145902Z"
>>>>>>> 44193f9cdfb61d9eabf93038cc5053bc1f266dd8
    }
   },
   "outputs": [],
   "source": [
    "import pandas as pd\n",
    "import numpy as np\n",
    "import matplotlib.pyplot as plt\n",
    "from tensorflow.keras.preprocessing.image import ImageDataGenerator\n",
    "from sklearn.preprocessing import OneHotEncoder, StandardScaler, MinMaxScaler\n",
    "from sklearn.model_selection import train_test_split\n",
    "\n",
    "import tensorflow as tf\n",
    "from sklearn.decomposition import PCA\n",
    "from tensorflow.keras.models import Model\n",
    "from tensorflow.keras.layers import Input, Conv2D, MaxPooling2D, Flatten, Dense\n",
    "from tensorflow.keras.layers import concatenate, Dropout, GlobalAveragePooling2D\n",
    "from tensorflow.keras.layers import BatchNormalization, Activation, AveragePooling2D\n",
    "from tensorflow.keras.callbacks import EarlyStopping, ModelCheckpoint\n",
    "\n",
    "# seed\n",
    "import os\n",
    "seed = 123\n",
    "os.environ['PYTHONHASHSEED'] = str(seed)\n",
    "np.random.seed(seed)\n",
<<<<<<< HEAD
    "tf.random.set_seed(seed)"
=======
    "tf.set_random_seed(seed)"
>>>>>>> 44193f9cdfb61d9eabf93038cc5053bc1f266dd8
   ]
  },
  {
   "cell_type": "code",
   "execution_count": 2,
   "metadata": {
    "ExecuteTime": {
<<<<<<< HEAD
     "end_time": "2020-08-26T07:02:54.807194Z",
     "start_time": "2020-08-26T07:02:53.641965Z"
=======
     "end_time": "2020-08-26T05:45:28.279619Z",
     "start_time": "2020-08-26T05:45:26.688892Z"
>>>>>>> 44193f9cdfb61d9eabf93038cc5053bc1f266dd8
    }
   },
   "outputs": [],
   "source": [
    "train = np.load('data/train.npy', allow_pickle = 'True')\n",
    "test = np.load('data/test.npy', allow_pickle = 'True')"
   ]
  },
  {
   "cell_type": "code",
   "execution_count": 3,
   "metadata": {
    "ExecuteTime": {
<<<<<<< HEAD
     "end_time": "2020-08-26T07:02:55.036266Z",
     "start_time": "2020-08-26T07:02:54.809119Z"
=======
     "end_time": "2020-08-26T05:45:28.613987Z",
     "start_time": "2020-08-26T05:45:28.279619Z"
>>>>>>> 44193f9cdfb61d9eabf93038cc5053bc1f266dd8
    }
   },
   "outputs": [],
   "source": [
    "train_image = train[:,2:].reshape(-1,28,28).astype(np.int)\n",
    "train_digit = train[:,0]\n",
    "train_letter = train[:,1]\n",
    "train_del_noise = np.where(train_image>=150, train_image, 0)\n",
    "\n",
    "test_image = test[:,1:].reshape(-1,28,28).astype(np.int)"
   ]
  },
  {
   "cell_type": "code",
   "execution_count": 4,
   "metadata": {
    "ExecuteTime": {
<<<<<<< HEAD
     "end_time": "2020-08-26T07:02:55.045911Z",
     "start_time": "2020-08-26T07:02:55.037911Z"
=======
     "end_time": "2020-08-26T05:45:28.629779Z",
     "start_time": "2020-08-26T05:45:28.615841Z"
>>>>>>> 44193f9cdfb61d9eabf93038cc5053bc1f266dd8
    }
   },
   "outputs": [],
   "source": [
    "def class_pca(data, num):\n",
    "    lst = []\n",
    "    for idx in range(len(data)):\n",
    "        if train_digit[idx] == num:\n",
    "            lst.append(train_del_noise[idx])\n",
    "    lst = np.array(lst)\n",
    "    \n",
<<<<<<< HEAD
    "    pca = PCA(n_components=1)\n",
=======
    "    pca = PCA(n_components=2)\n",
>>>>>>> 44193f9cdfb61d9eabf93038cc5053bc1f266dd8
    "    x = lst.reshape(lst.shape[0],-1).copy()\n",
    "    w = pca.fit_transform(x)\n",
    "    f = pca.components_.reshape(1,-1)\n",
    "    return f"
   ]
  },
  {
   "cell_type": "code",
   "execution_count": 5,
   "metadata": {
    "ExecuteTime": {
<<<<<<< HEAD
     "end_time": "2020-08-26T07:02:55.158626Z",
     "start_time": "2020-08-26T07:02:55.046911Z"
=======
     "end_time": "2020-08-26T05:45:28.864798Z",
     "start_time": "2020-08-26T05:45:28.632807Z"
>>>>>>> 44193f9cdfb61d9eabf93038cc5053bc1f266dd8
    }
   },
   "outputs": [],
   "source": [
    "label_0 = class_pca(train_image, 0)\n",
    "label_1 = class_pca(train_image, 1)\n",
    "label_2 = class_pca(train_image, 2)\n",
    "label_3 = class_pca(train_image, 3)\n",
    "label_4 = class_pca(train_image, 4)\n",
    "label_5 = class_pca(train_image, 5)\n",
    "label_6 = class_pca(train_image, 6)\n",
    "label_7 = class_pca(train_image, 7)\n",
    "label_8 = class_pca(train_image, 8)\n",
    "label_9 = class_pca(train_image, 9)"
   ]
  },
  {
   "cell_type": "code",
   "execution_count": 6,
   "metadata": {
    "ExecuteTime": {
<<<<<<< HEAD
     "end_time": "2020-08-26T07:02:55.174616Z",
     "start_time": "2020-08-26T07:02:55.159618Z"
=======
     "end_time": "2020-08-26T05:45:28.911599Z",
     "start_time": "2020-08-26T05:45:28.867786Z"
>>>>>>> 44193f9cdfb61d9eabf93038cc5053bc1f266dd8
    }
   },
   "outputs": [],
   "source": [
    "mid_label = []\n",
    "for idx in range(len(train_digit)):\n",
    "    if train_digit[idx] == 0:\n",
    "        mid_label.append(label_0)\n",
    "    elif train_digit[idx] == 1:\n",
    "        mid_label.append(label_1)\n",
    "    elif train_digit[idx] == 2:\n",
    "        mid_label.append(label_2)\n",
    "    elif train_digit[idx] == 3:\n",
    "        mid_label.append(label_3)\n",
    "    elif train_digit[idx] == 4:\n",
    "        mid_label.append(label_4)\n",
    "    elif train_digit[idx] == 5:\n",
    "        mid_label.append(label_5)\n",
    "    elif train_digit[idx] == 6:\n",
    "        mid_label.append(label_6)\n",
    "    elif train_digit[idx] == 7:\n",
    "        mid_label.append(label_7)\n",
    "    elif train_digit[idx] == 8:\n",
    "        mid_label.append(label_8)\n",
    "    else:\n",
    "        mid_label.append(label_9)\n",
    "mid_label = np.array(mid_label)\n",
    "m = mid_label.reshape(-1,mid_label.shape[2])"
   ]
  },
  {
   "cell_type": "code",
   "execution_count": 7,
   "metadata": {
    "ExecuteTime": {
<<<<<<< HEAD
     "end_time": "2020-08-26T07:02:55.198200Z",
     "start_time": "2020-08-26T07:02:55.176617Z"
=======
     "end_time": "2020-08-26T05:45:28.975327Z",
     "start_time": "2020-08-26T05:45:28.913589Z"
>>>>>>> 44193f9cdfb61d9eabf93038cc5053bc1f266dd8
    }
   },
   "outputs": [],
   "source": [
    "scaler = MinMaxScaler()\n",
    "scaler.fit(m)\n",
    "m_scaled = scaler.transform(m)"
   ]
  },
  {
   "cell_type": "code",
   "execution_count": 8,
   "metadata": {
    "ExecuteTime": {
<<<<<<< HEAD
     "end_time": "2020-08-26T07:02:55.235221Z",
     "start_time": "2020-08-26T07:02:55.200242Z"
=======
     "end_time": "2020-08-26T05:45:28.991259Z",
     "start_time": "2020-08-26T05:45:28.979310Z"
    }
   },
   "outputs": [
    {
     "data": {
      "text/plain": [
       "(2048, 1568)"
      ]
     },
     "execution_count": 8,
     "metadata": {},
     "output_type": "execute_result"
    }
   ],
   "source": [
    "m_scaled.shape"
   ]
  },
  {
   "cell_type": "code",
   "execution_count": 9,
   "metadata": {
    "ExecuteTime": {
     "end_time": "2020-08-26T05:45:29.086853Z",
     "start_time": "2020-08-26T05:45:28.994247Z"
>>>>>>> 44193f9cdfb61d9eabf93038cc5053bc1f266dd8
    }
   },
   "outputs": [
    {
     "name": "stdout",
     "output_type": "stream",
     "text": [
      "(2048, 28, 28, 1)\n",
      "(2048, 10)\n"
     ]
    }
   ],
   "source": [
<<<<<<< HEAD
    "x_raw = train_image.copy()\n",
    "x = np.where(x_raw>=150, x_raw, 0)\n",
    "x = np.reshape(x, (x.shape[0], x.shape[1], x.shape[2], 1))\n",
=======
    "x = train[:,2:]\n",
    "x = np.reshape(x, (-1, 28, 28, 1))\n",
>>>>>>> 44193f9cdfb61d9eabf93038cc5053bc1f266dd8
    "x = x/255\n",
    "\n",
    "y = train[:,0]\n",
    "y = np.reshape(y, (-1, 1))\n",
    "en = OneHotEncoder()\n",
    "y = en.fit_transform(y).toarray()\n",
    "\n",
    "print(x.shape)\n",
    "print(y.shape)"
   ]
  },
  {
   "cell_type": "code",
<<<<<<< HEAD
   "execution_count": 9,
   "metadata": {
    "ExecuteTime": {
     "end_time": "2020-08-26T07:02:55.241128Z",
     "start_time": "2020-08-26T07:02:55.236125Z"
=======
   "execution_count": 10,
   "metadata": {
    "ExecuteTime": {
     "end_time": "2020-08-26T05:45:29.102785Z",
     "start_time": "2020-08-26T05:45:29.087849Z"
>>>>>>> 44193f9cdfb61d9eabf93038cc5053bc1f266dd8
    }
   },
   "outputs": [
    {
     "name": "stdout",
     "output_type": "stream",
     "text": [
      "(2000, 28, 28, 1)\n",
      "(48, 28, 28, 1)\n",
      "(2000, 10)\n",
      "(48, 10)\n",
<<<<<<< HEAD
      "(2000, 784)\n",
      "(48, 784)\n"
=======
      "(2000, 1568)\n",
      "(48, 1568)\n"
>>>>>>> 44193f9cdfb61d9eabf93038cc5053bc1f266dd8
     ]
    }
   ],
   "source": [
    "valid_size = 48\n",
    "valid_x = x[-valid_size:]\n",
    "x = x[:-valid_size]\n",
    "\n",
    "valid_y = y[-valid_size:]\n",
    "y = y[:-valid_size]\n",
    "\n",
    "valid_m = m_scaled[-valid_size:]\n",
    "m = m_scaled[:-valid_size]\n",
    "\n",
    "print(x.shape)\n",
    "print(valid_x.shape)\n",
    "print(y.shape)\n",
    "print(valid_y.shape)\n",
    "print(m.shape)\n",
    "print(valid_m.shape)"
   ]
  },
  {
   "cell_type": "code",
<<<<<<< HEAD
   "execution_count": 10,
   "metadata": {
    "ExecuteTime": {
     "end_time": "2020-08-26T07:02:55.263127Z",
     "start_time": "2020-08-26T07:02:55.243126Z"
=======
   "execution_count": 11,
   "metadata": {
    "ExecuteTime": {
     "end_time": "2020-08-26T05:45:29.117723Z",
     "start_time": "2020-08-26T05:45:29.103781Z"
>>>>>>> 44193f9cdfb61d9eabf93038cc5053bc1f266dd8
    }
   },
   "outputs": [],
   "source": [
    "image_generator = ImageDataGenerator(width_shift_range=0.1,\n",
    "                                     height_shift_range=0.1, \n",
    "                                     zoom_range=[0.8,1.2],\n",
    "                                     shear_range=10)"
   ]
  },
  {
   "cell_type": "code",
<<<<<<< HEAD
   "execution_count": 11,
   "metadata": {
    "ExecuteTime": {
     "end_time": "2020-08-26T07:02:56.686346Z",
     "start_time": "2020-08-26T07:02:55.265124Z"
=======
   "execution_count": 12,
   "metadata": {
    "ExecuteTime": {
     "end_time": "2020-08-26T05:45:31.701103Z",
     "start_time": "2020-08-26T05:45:29.118719Z"
>>>>>>> 44193f9cdfb61d9eabf93038cc5053bc1f266dd8
    }
   },
   "outputs": [
    {
     "name": "stdout",
     "output_type": "stream",
     "text": [
      "(6000, 28, 28, 1)\n"
     ]
    }
   ],
   "source": [
    "x_total = x.copy()\n",
    "def augment(x):\n",
    "    aug_list = []\n",
    "    for i in range(x.shape[0]):\n",
    "        num_aug = 0\n",
    "        tmp = x[i]\n",
    "        tmp = tmp.reshape((1,) + tmp.shape)\n",
    "        for x_aug in image_generator.flow(tmp, batch_size = 1) :\n",
    "            if num_aug >= 1:\n",
    "                break\n",
    "            aug_list.append(x_aug[0])\n",
    "            num_aug += 1\n",
    "    aug_list = np.array(aug_list)\n",
    "    return aug_list\n",
    "\n",
    "n = 2\n",
    "for i in range(n):\n",
    "    arr = augment(x)\n",
    "    x_total = np.concatenate((x_total, arr), axis=0)\n",
    "    if i > n:\n",
    "        break\n",
    "\n",
    "print(x_total.shape)"
   ]
  },
  {
   "cell_type": "code",
<<<<<<< HEAD
   "execution_count": 12,
   "metadata": {
    "ExecuteTime": {
     "end_time": "2020-08-26T07:02:56.744774Z",
     "start_time": "2020-08-26T07:02:56.688352Z"
=======
   "execution_count": 13,
   "metadata": {
    "ExecuteTime": {
     "end_time": "2020-08-26T05:45:31.810668Z",
     "start_time": "2020-08-26T05:45:31.707036Z"
>>>>>>> 44193f9cdfb61d9eabf93038cc5053bc1f266dd8
    }
   },
   "outputs": [
    {
     "name": "stdout",
     "output_type": "stream",
     "text": [
      "(6000, 10)\n",
<<<<<<< HEAD
      "(6000, 784)\n"
=======
      "(6000, 1568)\n"
>>>>>>> 44193f9cdfb61d9eabf93038cc5053bc1f266dd8
     ]
    }
   ],
   "source": [
    "y_total = y.copy()\n",
    "for i in range(n):\n",
    "    arr = y.copy()\n",
    "    y_total = np.concatenate((y_total, arr), axis=0)\n",
    "    \n",
    "m_total = m.copy()\n",
    "for i in range(n):\n",
    "    arr = m.copy()\n",
    "    m_total = np.concatenate((m_total, arr), axis=0)\n",
    "\n",
    "print(y_total.shape)\n",
    "print(m_total.shape)"
   ]
  },
  {
   "cell_type": "code",
<<<<<<< HEAD
   "execution_count": 13,
   "metadata": {
    "ExecuteTime": {
     "end_time": "2020-08-26T07:02:56.774774Z",
     "start_time": "2020-08-26T07:02:56.746793Z"
=======
   "execution_count": 14,
   "metadata": {
    "ExecuteTime": {
     "end_time": "2020-08-26T05:45:31.887715Z",
     "start_time": "2020-08-26T05:45:31.812666Z"
>>>>>>> 44193f9cdfb61d9eabf93038cc5053bc1f266dd8
    }
   },
   "outputs": [
    {
     "name": "stdout",
     "output_type": "stream",
     "text": [
      "(4800, 28, 28, 1)\n",
      "(1200, 28, 28, 1)\n",
      "(4800, 10)\n",
      "(1200, 10)\n",
<<<<<<< HEAD
      "(4800, 784)\n",
      "(1200, 784)\n"
=======
      "(4800, 1568)\n",
      "(1200, 1568)\n"
>>>>>>> 44193f9cdfb61d9eabf93038cc5053bc1f266dd8
     ]
    }
   ],
   "source": [
    "x_train, x_val, y_train, y_val = train_test_split(x_total, y_total, test_size=0.2, \n",
    "                                                  shuffle=True)#, stratify=y_total)\n",
    "\n",
    "m_train = m_total[:x_train.shape[0],:]\n",
    "m_val = m_total[x_train.shape[0]:,:]\n",
    "\n",
    "print(x_train.shape)\n",
    "print(x_val.shape)\n",
    "print(y_train.shape)\n",
    "print(y_val.shape)\n",
    "print(m_train.shape)\n",
    "print(m_val.shape)"
   ]
  },
  {
   "cell_type": "code",
<<<<<<< HEAD
   "execution_count": 14,
   "metadata": {
    "ExecuteTime": {
     "end_time": "2020-08-26T07:02:56.783776Z",
     "start_time": "2020-08-26T07:02:56.776772Z"
=======
   "execution_count": 25,
   "metadata": {
    "ExecuteTime": {
     "end_time": "2020-08-26T05:54:19.341520Z",
     "start_time": "2020-08-26T05:54:19.318613Z"
>>>>>>> 44193f9cdfb61d9eabf93038cc5053bc1f266dd8
    }
   },
   "outputs": [],
   "source": [
    "def CNN(model_input, classes):\n",
    "    x = Conv2D(64, (3,3), activation='elu', padding='same')(model_input)\n",
    "    x = Conv2D(64, (3,3), activation='elu', padding='same')(x)\n",
    "    x = Dropout(0.3)(x)\n",
    "    x = MaxPooling2D((2,2))(x)\n",
    "    x = Conv2D(64, (3,3), activation='elu', padding='same')(x)\n",
    "    x = Conv2D(64, (3,3), activation='elu', padding='same')(x)\n",
    "    x = Dropout(0.3)(x)\n",
    "    x = MaxPooling2D((2,2))(x)\n",
    "    #x = Conv2D(128, (3,3), activation='relu', padding='same')(x)\n",
    "    #x = Conv2D(128, (3,3), activation='relu', padding='same')(x)\n",
    "    #x = Dropout(0.3)(x)\n",
    "    x = Flatten()(x)\n",
    "    x = Dense(2000, activation='elu')(x)\n",
    "    #x = Dropout(0.3)(x)\n",
<<<<<<< HEAD
    "    x = Dense(1000, activation='elu')(x)\n",
=======
>>>>>>> 44193f9cdfb61d9eabf93038cc5053bc1f266dd8
    "    #x = GlobalAveragePooling2D()(x)\n",
    "    outputs = Dense(classes, activation='softmax')(x)\n",
    "    \n",
    "    model = Model(inputs = model_input, outputs = outputs)\n",
    "    \n",
    "    return model"
   ]
  },
  {
   "cell_type": "code",
<<<<<<< HEAD
   "execution_count": 15,
   "metadata": {
    "ExecuteTime": {
     "end_time": "2020-08-26T07:02:57.007706Z",
     "start_time": "2020-08-26T07:02:56.787740Z"
=======
   "execution_count": 26,
   "metadata": {
    "ExecuteTime": {
     "end_time": "2020-08-26T05:54:20.795065Z",
     "start_time": "2020-08-26T05:54:20.468111Z"
>>>>>>> 44193f9cdfb61d9eabf93038cc5053bc1f266dd8
    }
   },
   "outputs": [
    {
     "name": "stdout",
     "output_type": "stream",
     "text": [
<<<<<<< HEAD
      "Model: \"model\"\n",
      "_________________________________________________________________\n",
      "Layer (type)                 Output Shape              Param #   \n",
      "=================================================================\n",
      "input_1 (InputLayer)         [(None, 28, 28, 1)]       0         \n",
      "_________________________________________________________________\n",
      "conv2d (Conv2D)              (None, 28, 28, 64)        640       \n",
      "_________________________________________________________________\n",
      "conv2d_1 (Conv2D)            (None, 28, 28, 64)        36928     \n",
      "_________________________________________________________________\n",
      "dropout (Dropout)            (None, 28, 28, 64)        0         \n",
      "_________________________________________________________________\n",
      "max_pooling2d (MaxPooling2D) (None, 14, 14, 64)        0         \n",
      "_________________________________________________________________\n",
      "conv2d_2 (Conv2D)            (None, 14, 14, 64)        36928     \n",
      "_________________________________________________________________\n",
      "conv2d_3 (Conv2D)            (None, 14, 14, 64)        36928     \n",
      "_________________________________________________________________\n",
      "dropout_1 (Dropout)          (None, 14, 14, 64)        0         \n",
      "_________________________________________________________________\n",
      "max_pooling2d_1 (MaxPooling2 (None, 7, 7, 64)          0         \n",
      "_________________________________________________________________\n",
      "flatten (Flatten)            (None, 3136)              0         \n",
      "_________________________________________________________________\n",
      "dense (Dense)                (None, 2000)              6274000   \n",
      "_________________________________________________________________\n",
      "dense_1 (Dense)              (None, 1000)              2001000   \n",
      "_________________________________________________________________\n",
      "dense_2 (Dense)              (None, 784)               784784    \n",
      "=================================================================\n",
      "Total params: 9,171,208\n",
      "Trainable params: 9,171,208\n",
=======
      "_________________________________________________________________\n",
      "Layer (type)                 Output Shape              Param #   \n",
      "=================================================================\n",
      "input_2 (InputLayer)         (None, 28, 28, 1)         0         \n",
      "_________________________________________________________________\n",
      "conv2d_4 (Conv2D)            (None, 28, 28, 64)        640       \n",
      "_________________________________________________________________\n",
      "conv2d_5 (Conv2D)            (None, 28, 28, 64)        36928     \n",
      "_________________________________________________________________\n",
      "dropout_3 (Dropout)          (None, 28, 28, 64)        0         \n",
      "_________________________________________________________________\n",
      "max_pooling2d_2 (MaxPooling2 (None, 14, 14, 64)        0         \n",
      "_________________________________________________________________\n",
      "conv2d_6 (Conv2D)            (None, 14, 14, 64)        36928     \n",
      "_________________________________________________________________\n",
      "conv2d_7 (Conv2D)            (None, 14, 14, 64)        36928     \n",
      "_________________________________________________________________\n",
      "dropout_4 (Dropout)          (None, 14, 14, 64)        0         \n",
      "_________________________________________________________________\n",
      "max_pooling2d_3 (MaxPooling2 (None, 7, 7, 64)          0         \n",
      "_________________________________________________________________\n",
      "flatten_1 (Flatten)          (None, 3136)              0         \n",
      "_________________________________________________________________\n",
      "dense_2 (Dense)              (None, 2000)              6274000   \n",
      "_________________________________________________________________\n",
      "dense_3 (Dense)              (None, 1568)              3137568   \n",
      "=================================================================\n",
      "Total params: 9,522,992\n",
      "Trainable params: 9,522,992\n",
>>>>>>> 44193f9cdfb61d9eabf93038cc5053bc1f266dd8
      "Non-trainable params: 0\n",
      "_________________________________________________________________\n"
     ]
    }
   ],
   "source": [
    "layers_in_block = {'DenseNet-121':[6, 12, 24, 16],\n",
    "                   'DenseNet-169':[6, 12, 32, 32],\n",
    "                   'DenseNet-201':[6, 12, 48, 32],\n",
    "                   'DenseNet-265':[6, 12, 64, 48],\n",
    "                   'myDenseNet':[8, 12, 16, 32]}\n",
    "\n",
    "base_growth_rate = 32\n",
    "\n",
    "model_input = Input(shape=(28,28,1))\n",
<<<<<<< HEAD
    "classes = 784\n",
=======
    "classes = 1568\n",
>>>>>>> 44193f9cdfb61d9eabf93038cc5053bc1f266dd8
    "\n",
    "#model = DenseNet(model_input, classes, 'DenseNet-121')\n",
    "model = CNN(model_input, classes)\n",
    "\n",
    "model.summary()"
   ]
  },
  {
   "cell_type": "code",
<<<<<<< HEAD
   "execution_count": 16,
   "metadata": {
    "ExecuteTime": {
     "end_time": "2020-08-26T07:06:56.677997Z",
     "start_time": "2020-08-26T07:02:57.008632Z"
=======
   "execution_count": 27,
   "metadata": {
    "ExecuteTime": {
     "end_time": "2020-08-26T05:54:50.453472Z",
     "start_time": "2020-08-26T05:54:23.568940Z"
>>>>>>> 44193f9cdfb61d9eabf93038cc5053bc1f266dd8
    }
   },
   "outputs": [
    {
     "name": "stdout",
     "output_type": "stream",
     "text": [
      "Train on 4800 samples, validate on 1200 samples\n",
      "Epoch 1/10\n",
<<<<<<< HEAD
      "4800/4800 [==============================] - 23s 5ms/sample - loss: 0.2247 - mae: 0.3189 - val_loss: 0.2257 - val_mae: 0.3200\n",
      "Epoch 2/10\n",
      "4800/4800 [==============================] - 22s 5ms/sample - loss: 0.2247 - mae: 0.3188 - val_loss: 0.2257 - val_mae: 0.3200\n",
      "Epoch 3/10\n",
      "4800/4800 [==============================] - 23s 5ms/sample - loss: 0.2247 - mae: 0.3188 - val_loss: 0.2257 - val_mae: 0.3200\n",
      "Epoch 4/10\n",
      "4800/4800 [==============================] - 23s 5ms/sample - loss: 0.2247 - mae: 0.3188 - val_loss: 0.2257 - val_mae: 0.3200\n",
      "Epoch 5/10\n",
      "4800/4800 [==============================] - 24s 5ms/sample - loss: 0.2247 - mae: 0.3188 - val_loss: 0.2257 - val_mae: 0.3200\n",
      "Epoch 6/10\n",
      "4800/4800 [==============================] - 26s 5ms/sample - loss: 0.2247 - mae: 0.3188 - val_loss: 0.2257 - val_mae: 0.3200\n",
      "Epoch 7/10\n",
      "4800/4800 [==============================] - 28s 6ms/sample - loss: 0.2247 - mae: 0.3188 - val_loss: 0.2257 - val_mae: 0.3200\n",
      "Epoch 8/10\n",
      "4800/4800 [==============================] - 24s 5ms/sample - loss: 0.2247 - mae: 0.3188 - val_loss: 0.2257 - val_mae: 0.3200\n",
      "Epoch 9/10\n",
      "4800/4800 [==============================] - 23s 5ms/sample - loss: 0.2247 - mae: 0.3188 - val_loss: 0.2257 - val_mae: 0.3200\n",
      "Epoch 10/10\n",
      "4800/4800 [==============================] - 24s 5ms/sample - loss: 0.2247 - mae: 0.3188 - val_loss: 0.2257 - val_mae: 0.3200\n"
=======
      "4800/4800 [==============================] - 4s 819us/step - loss: 0.2313 - mean_absolute_error: 0.3251 - val_loss: 0.2305 - val_mean_absolute_error: 0.3243\n",
      "Epoch 2/10\n",
      "4800/4800 [==============================] - 2s 510us/step - loss: 0.2313 - mean_absolute_error: 0.3250 - val_loss: 0.2305 - val_mean_absolute_error: 0.3243\n",
      "Epoch 3/10\n",
      "4800/4800 [==============================] - 2s 511us/step - loss: 0.2313 - mean_absolute_error: 0.3250 - val_loss: 0.2305 - val_mean_absolute_error: 0.3243\n",
      "Epoch 4/10\n",
      "4800/4800 [==============================] - 2s 517us/step - loss: 0.2313 - mean_absolute_error: 0.3250 - val_loss: 0.2305 - val_mean_absolute_error: 0.3243\n",
      "Epoch 5/10\n",
      "4800/4800 [==============================] - 2s 514us/step - loss: 0.2313 - mean_absolute_error: 0.3250 - val_loss: 0.2305 - val_mean_absolute_error: 0.3243\n",
      "Epoch 6/10\n",
      "4800/4800 [==============================] - 2s 508us/step - loss: 0.2313 - mean_absolute_error: 0.3250 - val_loss: 0.2305 - val_mean_absolute_error: 0.3243\n",
      "Epoch 7/10\n",
      "4800/4800 [==============================] - 2s 499us/step - loss: 0.2313 - mean_absolute_error: 0.3250 - val_loss: 0.2305 - val_mean_absolute_error: 0.3243\n",
      "Epoch 8/10\n",
      "4800/4800 [==============================] - 2s 505us/step - loss: 0.2313 - mean_absolute_error: 0.3250 - val_loss: 0.2305 - val_mean_absolute_error: 0.3243\n",
      "Epoch 9/10\n",
      "4800/4800 [==============================] - 2s 505us/step - loss: 0.2313 - mean_absolute_error: 0.3250 - val_loss: 0.2305 - val_mean_absolute_error: 0.3243\n",
      "Epoch 10/10\n",
      "4800/4800 [==============================] - 2s 508us/step - loss: 0.2313 - mean_absolute_error: 0.3250 - val_loss: 0.2305 - val_mean_absolute_error: 0.3243\n"
>>>>>>> 44193f9cdfb61d9eabf93038cc5053bc1f266dd8
     ]
    }
   ],
   "source": [
    "model.compile(optimizer = 'adam', metrics = ['mae'], loss = 'mse')\n",
    "history = model.fit(x_train, m_train, validation_data=(x_val, m_val), \n",
    "                    batch_size=64, epochs=10, verbose=1)"
   ]
  },
  {
   "cell_type": "code",
<<<<<<< HEAD
   "execution_count": 17,
   "metadata": {
    "ExecuteTime": {
     "end_time": "2020-08-26T07:06:56.817064Z",
     "start_time": "2020-08-26T07:06:56.679005Z"
    }
   },
   "outputs": [
    {
     "data": {
      "text/plain": [
       "array([[-1.0921365e-17, -2.5821411e-17, -6.8542539e-18, ...,\n",
       "         0.0000000e+00,  0.0000000e+00,  0.0000000e+00],\n",
       "       [-1.0921365e-17, -2.5821411e-17, -6.8542539e-18, ...,\n",
       "         0.0000000e+00,  0.0000000e+00,  0.0000000e+00],\n",
       "       [-1.0921365e-17, -2.5821411e-17, -6.8542539e-18, ...,\n",
       "         0.0000000e+00,  0.0000000e+00,  0.0000000e+00],\n",
       "       ...,\n",
       "       [-1.0921365e-17, -2.5821411e-17, -6.8542539e-18, ...,\n",
       "         0.0000000e+00,  0.0000000e+00,  0.0000000e+00],\n",
       "       [-1.0921365e-17, -2.5821411e-17, -6.8542539e-18, ...,\n",
       "         0.0000000e+00,  0.0000000e+00,  0.0000000e+00],\n",
       "       [-1.0921365e-17, -2.5821411e-17, -6.8542539e-18, ...,\n",
       "         0.0000000e+00,  0.0000000e+00,  0.0000000e+00]], dtype=float32)"
      ]
     },
     "execution_count": 17,
     "metadata": {},
     "output_type": "execute_result"
    }
   ],
   "source": [
    "pred = model.predict(valid_x)\n",
    "real_pred = scaler.inverse_transform(pred)\n",
    "real_pred"
=======
   "execution_count": 28,
   "metadata": {
    "ExecuteTime": {
     "end_time": "2020-08-26T05:55:30.436690Z",
     "start_time": "2020-08-26T05:55:30.290745Z"
    }
   },
   "outputs": [],
   "source": [
    "pred = model.predict(valid_x)"
>>>>>>> 44193f9cdfb61d9eabf93038cc5053bc1f266dd8
   ]
  },
  {
   "cell_type": "code",
<<<<<<< HEAD
   "execution_count": 19,
   "metadata": {
    "ExecuteTime": {
     "end_time": "2020-08-26T07:15:00.992496Z",
     "start_time": "2020-08-26T07:15:00.987513Z"
=======
   "execution_count": 35,
   "metadata": {
    "ExecuteTime": {
     "end_time": "2020-08-26T05:56:22.247849Z",
     "start_time": "2020-08-26T05:56:22.228942Z"
>>>>>>> 44193f9cdfb61d9eabf93038cc5053bc1f266dd8
    }
   },
   "outputs": [
    {
     "data": {
      "text/plain": [
<<<<<<< HEAD
       "(48, 784)"
      ]
     },
     "execution_count": 19,
=======
       "array([[-3.1237258e-17, -1.1856914e-17, -1.5537834e-18, ...,\n",
       "         0.0000000e+00,  0.0000000e+00,  0.0000000e+00],\n",
       "       [-3.1237258e-17, -1.1856914e-17, -1.5537834e-18, ...,\n",
       "         0.0000000e+00,  0.0000000e+00,  0.0000000e+00],\n",
       "       [-3.1237258e-17, -1.1856914e-17, -1.5537834e-18, ...,\n",
       "         0.0000000e+00,  0.0000000e+00,  0.0000000e+00],\n",
       "       ...,\n",
       "       [-3.1237258e-17, -1.1856914e-17, -1.5537834e-18, ...,\n",
       "         0.0000000e+00,  0.0000000e+00,  0.0000000e+00],\n",
       "       [-3.1237258e-17, -1.1856914e-17, -1.5537834e-18, ...,\n",
       "         0.0000000e+00,  0.0000000e+00,  0.0000000e+00],\n",
       "       [-3.1237258e-17, -1.1856914e-17, -1.5537834e-18, ...,\n",
       "         0.0000000e+00,  0.0000000e+00,  0.0000000e+00]], dtype=float32)"
      ]
     },
     "execution_count": 35,
>>>>>>> 44193f9cdfb61d9eabf93038cc5053bc1f266dd8
     "metadata": {},
     "output_type": "execute_result"
    }
   ],
   "source": [
<<<<<<< HEAD
    "real_pred.shape"
=======
    "real_pred = scaler.inverse_transform(pred)\n",
    "real_pred"
>>>>>>> 44193f9cdfb61d9eabf93038cc5053bc1f266dd8
   ]
  },
  {
   "cell_type": "code",
<<<<<<< HEAD
   "execution_count": 21,
   "metadata": {
    "ExecuteTime": {
     "end_time": "2020-08-26T07:15:16.075322Z",
     "start_time": "2020-08-26T07:15:16.024126Z"
=======
   "execution_count": 34,
   "metadata": {
    "ExecuteTime": {
     "end_time": "2020-08-26T05:56:02.908614Z",
     "start_time": "2020-08-26T05:56:02.840949Z"
>>>>>>> 44193f9cdfb61d9eabf93038cc5053bc1f266dd8
    }
   },
   "outputs": [
    {
     "data": {
      "text/plain": [
       "(-0.5, 27.5, 27.5, -0.5)"
      ]
     },
<<<<<<< HEAD
     "execution_count": 21,
=======
     "execution_count": 34,
>>>>>>> 44193f9cdfb61d9eabf93038cc5053bc1f266dd8
     "metadata": {},
     "output_type": "execute_result"
    },
    {
     "data": {
<<<<<<< HEAD
      "image/png": "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\n",
=======
      "image/png": "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\n",
>>>>>>> 44193f9cdfb61d9eabf93038cc5053bc1f266dd8
      "text/plain": [
       "<Figure size 432x288 with 1 Axes>"
      ]
     },
     "metadata": {
      "needs_background": "light"
     },
     "output_type": "display_data"
    }
   ],
   "source": [
<<<<<<< HEAD
    "img = real_pred[9].reshape(-1,28,28)\n",
    "img_1 = img[0]\n",
=======
    "img = real_pred[10].reshape(-1,28,28)\n",
    "img_1 = img[1]\n",
>>>>>>> 44193f9cdfb61d9eabf93038cc5053bc1f266dd8
    "plt.imshow(img_1)\n",
    "plt.axis('off')"
   ]
  },
  {
   "cell_type": "code",
   "execution_count": null,
   "metadata": {},
   "outputs": [],
   "source": []
<<<<<<< HEAD
=======
  },
  {
   "cell_type": "code",
   "execution_count": null,
   "metadata": {},
   "outputs": [],
   "source": []
  },
  {
   "cell_type": "code",
   "execution_count": null,
   "metadata": {},
   "outputs": [],
   "source": []
  },
  {
   "cell_type": "code",
   "execution_count": null,
   "metadata": {},
   "outputs": [],
   "source": []
  },
  {
   "cell_type": "code",
   "execution_count": null,
   "metadata": {},
   "outputs": [],
   "source": []
>>>>>>> 44193f9cdfb61d9eabf93038cc5053bc1f266dd8
  }
 ],
 "metadata": {
  "kernelspec": {
<<<<<<< HEAD
   "display_name": "Tensorflow",
   "language": "python",
   "name": "tensorflow"
=======
   "display_name": "Python 3",
   "language": "python",
   "name": "python3"
>>>>>>> 44193f9cdfb61d9eabf93038cc5053bc1f266dd8
  },
  "language_info": {
   "codemirror_mode": {
    "name": "ipython",
    "version": 3
   },
   "file_extension": ".py",
   "mimetype": "text/x-python",
   "name": "python",
   "nbconvert_exporter": "python",
   "pygments_lexer": "ipython3",
<<<<<<< HEAD
   "version": "3.7.6"
=======
   "version": "3.6.10"
>>>>>>> 44193f9cdfb61d9eabf93038cc5053bc1f266dd8
  }
 },
 "nbformat": 4,
 "nbformat_minor": 4
}
