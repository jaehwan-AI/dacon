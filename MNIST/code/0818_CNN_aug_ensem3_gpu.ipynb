{
 "cells": [
  {
   "cell_type": "code",
   "execution_count": 1,
   "metadata": {
    "ExecuteTime": {
     "end_time": "2020-08-18T08:17:17.989329Z",
     "start_time": "2020-08-18T08:17:14.530206Z"
    }
   },
   "outputs": [],
   "source": [
    "import pandas as pd\n",
    "import numpy as np\n",
    "import matplotlib.pyplot as plt\n",
    "import tensorflow as tf\n",
    "from sklearn.preprocessing import OneHotEncoder\n",
    "from sklearn.model_selection import train_test_split\n",
    "from tensorflow.keras.models import Model\n",
    "from tensorflow.keras.layers import Input, Conv2D, MaxPooling2D, Flatten, Dense, LSTM, concatenate, Dropout\n",
    "from tensorflow.keras.utils import plot_model\n",
    "from tensorflow.keras.wrappers.scikit_learn import KerasClassifier\n",
    "from sklearn.model_selection import RandomizedSearchCV\n",
    "from tensorflow.keras.preprocessing.image import ImageDataGenerator\n",
    "from tensorflow.keras.callbacks import ModelCheckpoint\n",
    "\n",
    "# seed\n",
    "import os\n",
    "seed = 123\n",
    "os.environ['PYTHONHASHSEED'] = str(seed)\n",
    "np.random.seed(seed)\n",
    "tf.set_random_seed(seed)"
   ]
  },
  {
   "cell_type": "code",
   "execution_count": 2,
   "metadata": {
    "ExecuteTime": {
     "end_time": "2020-08-18T08:17:19.425926Z",
     "start_time": "2020-08-18T08:17:17.992325Z"
    }
   },
   "outputs": [],
   "source": [
    "train = pd.read_csv('data/train.csv')\n",
    "test = pd.read_csv('data/test.csv')"
   ]
  },
  {
   "cell_type": "code",
   "execution_count": 3,
   "metadata": {
    "ExecuteTime": {
     "end_time": "2020-08-18T08:17:19.440801Z",
     "start_time": "2020-08-18T08:17:19.425926Z"
    }
   },
   "outputs": [],
   "source": [
    "image_generator = ImageDataGenerator(width_shift_range=0.1,\n",
    "                                     height_shift_range=0.1, \n",
    "                                     zoom_range=[0.8,1.2],\n",
    "                                     #brightness_range=[0.8,1.2], \n",
    "                                     shear_range=10)"
   ]
  },
  {
   "cell_type": "code",
   "execution_count": 4,
   "metadata": {
    "ExecuteTime": {
     "end_time": "2020-08-18T08:17:20.541640Z",
     "start_time": "2020-08-18T08:17:19.443788Z"
    }
   },
   "outputs": [
    {
     "name": "stdout",
     "output_type": "stream",
     "text": [
      "(4096, 28, 28, 1)\n"
     ]
    }
   ],
   "source": [
    "x1 = train.drop(['id', 'digit', 'letter'], axis=1).values\n",
    "x1 = x1.reshape(-1, 28, 28, 1)\n",
    "x1 = x1/255\n",
    "x1_remake = []\n",
    "for i in range(x1.shape[0]):\n",
    "    num_aug = 0\n",
    "    tmp = x1[i]\n",
    "    tmp = tmp.reshape((1,) + tmp.shape)\n",
    "    for x_aug in image_generator.flow(tmp, batch_size = 1) :\n",
    "        if num_aug >= 1:\n",
    "            break\n",
    "        x1_remake.append(x_aug[0])\n",
    "        num_aug += 1\n",
    "x1_remake = np.array(x1_remake)\n",
    "\n",
    "x1_total = np.concatenate((x1, x1_remake), axis=0)\n",
    "print(x1_total.shape)"
   ]
  },
  {
   "cell_type": "code",
   "execution_count": 5,
   "metadata": {
    "ExecuteTime": {
     "end_time": "2020-08-18T08:17:20.556577Z",
     "start_time": "2020-08-18T08:17:20.543632Z"
    }
   },
   "outputs": [
    {
     "name": "stdout",
     "output_type": "stream",
     "text": [
      "(4096, 10)\n"
     ]
    }
   ],
   "source": [
    "y1_data = train['digit']\n",
    "y1 = np.zeros((len(y1_data), len(y1_data.unique())))\n",
    "for i, digit in enumerate(y1_data):\n",
    "    y1[i, digit] = 1\n",
    "\n",
    "y1_remake = y1.copy()\n",
    "y1_total = np.concatenate((y1, y1_remake), axis=0)\n",
    "print(y1_total.shape)"
   ]
  },
  {
   "cell_type": "code",
   "execution_count": 6,
   "metadata": {
    "ExecuteTime": {
     "end_time": "2020-08-18T08:17:20.572510Z",
     "start_time": "2020-08-18T08:17:20.558566Z"
    }
   },
   "outputs": [
    {
     "data": {
      "text/plain": [
       "(4096, 26)"
      ]
     },
     "execution_count": 6,
     "metadata": {},
     "output_type": "execute_result"
    }
   ],
   "source": [
    "x1_let = train['letter'].values\n",
    "x1_let = x1_let[:, np.newaxis]\n",
    "en = OneHotEncoder()\n",
    "x1_let = en.fit_transform(x1_let).toarray()\n",
    "\n",
    "x1_remake_let = x1_let.copy()\n",
    "\n",
    "x1_letter_total = np.concatenate((x1_let, x1_remake_let), axis=0)\n",
    "x1_letter_total.shape"
   ]
  },
  {
   "cell_type": "code",
   "execution_count": 7,
   "metadata": {
    "ExecuteTime": {
     "end_time": "2020-08-18T08:17:20.651464Z",
     "start_time": "2020-08-18T08:17:20.574501Z"
    }
   },
   "outputs": [
    {
     "name": "stdout",
     "output_type": "stream",
     "text": [
      "(3276, 28, 28, 1)\n",
      "(820, 28, 28, 1)\n",
      "(3276, 10)\n",
      "(820, 10)\n",
      "(3276, 26)\n",
      "(820, 26)\n"
     ]
    }
   ],
   "source": [
    "x1_train, x1_val, y1_train, y1_val = train_test_split(x1_total, y1_total, test_size=0.2, shuffle=True, stratify=y1_total)\n",
    "\n",
    "print(x1_train.shape)\n",
    "print(x1_val.shape)\n",
    "print(y1_train.shape)\n",
    "print(y1_val.shape)\n",
    "\n",
    "x1_letter_train = x1_letter_total[:x1_train.shape[0],:]\n",
    "x1_letter_val = x1_letter_total[x1_train.shape[0]:,:]\n",
    "print(x1_letter_train.shape)\n",
    "print(x1_letter_val.shape)"
   ]
  },
  {
   "cell_type": "code",
   "execution_count": 8,
   "metadata": {
    "ExecuteTime": {
     "end_time": "2020-08-18T08:17:20.666411Z",
     "start_time": "2020-08-18T08:17:20.654500Z"
    }
   },
   "outputs": [
    {
     "name": "stdout",
     "output_type": "stream",
     "text": [
      "(3276, 28, 28)\n",
      "(820, 28, 28)\n",
      "(3276, 10)\n",
      "(820, 10)\n",
      "(3276, 26)\n",
      "(820, 26)\n"
     ]
    }
   ],
   "source": [
    "x2_train = np.reshape(x1_train, (x1_train.shape[0], x1_train.shape[1], x1_train.shape[2]))\n",
    "x2_val = np.reshape(x1_val, (x1_val.shape[0], x1_val.shape[1], x1_val.shape[2]))\n",
    "y2_train = y1_train.copy()\n",
    "y2_val = y1_val.copy()\n",
    "x2_letter_train = x1_letter_train.copy()\n",
    "x2_letter_val = x1_letter_val.copy()\n",
    "\n",
    "print(x2_train.shape)\n",
    "print(x2_val.shape)\n",
    "print(y2_train.shape)\n",
    "print(y2_val.shape)\n",
    "print(x2_letter_train.shape)\n",
    "print(x2_letter_val.shape)"
   ]
  },
  {
   "cell_type": "code",
   "execution_count": 9,
   "metadata": {
    "ExecuteTime": {
     "end_time": "2020-08-18T08:17:20.682343Z",
     "start_time": "2020-08-18T08:17:20.669398Z"
    }
   },
   "outputs": [
    {
     "name": "stdout",
     "output_type": "stream",
     "text": [
      "(3276, 784)\n",
      "(820, 784)\n",
      "(3276, 10)\n",
      "(820, 10)\n",
      "(3276, 26)\n",
      "(820, 26)\n"
     ]
    }
   ],
   "source": [
    "x3_train = np.reshape(x1_train, (x1_train.shape[0], x1_train.shape[1]*x1_train.shape[2]))\n",
    "x3_val = np.reshape(x1_val, (x1_val.shape[0], x1_val.shape[1]*x1_val.shape[2]))\n",
    "y3_train = y1_train.copy()\n",
    "y3_val = y1_val.copy()\n",
    "x3_letter_train = x1_letter_train.copy()\n",
    "x3_letter_val = x1_letter_val.copy()\n",
    "\n",
    "print(x3_train.shape)\n",
    "print(x3_val.shape)\n",
    "print(y3_train.shape)\n",
    "print(y3_val.shape)\n",
    "print(x3_letter_train.shape)\n",
    "print(x3_letter_val.shape)"
   ]
  },
  {
   "cell_type": "code",
   "execution_count": 10,
   "metadata": {
    "ExecuteTime": {
     "end_time": "2020-08-18T08:17:22.850221Z",
     "start_time": "2020-08-18T08:17:20.684329Z"
    },
    "scrolled": true
   },
   "outputs": [
    {
     "name": "stdout",
     "output_type": "stream",
     "text": [
      "__________________________________________________________________________________________________\n",
      "Layer (type)                    Output Shape         Param #     Connected to                     \n",
      "==================================================================================================\n",
      "input_1 (InputLayer)            (None, 28, 28, 1)    0                                            \n",
      "__________________________________________________________________________________________________\n",
      "conv2d (Conv2D)                 (None, 28, 28, 64)   320         input_1[0][0]                    \n",
      "__________________________________________________________________________________________________\n",
      "dropout (Dropout)               (None, 28, 28, 64)   0           conv2d[0][0]                     \n",
      "__________________________________________________________________________________________________\n",
      "max_pooling2d (MaxPooling2D)    (None, 14, 14, 64)   0           dropout[0][0]                    \n",
      "__________________________________________________________________________________________________\n",
      "conv2d_1 (Conv2D)               (None, 14, 14, 64)   16448       max_pooling2d[0][0]              \n",
      "__________________________________________________________________________________________________\n",
      "dropout_1 (Dropout)             (None, 14, 14, 64)   0           conv2d_1[0][0]                   \n",
      "__________________________________________________________________________________________________\n",
      "input_3 (InputLayer)            (None, 28, 28)       0                                            \n",
      "__________________________________________________________________________________________________\n",
      "max_pooling2d_1 (MaxPooling2D)  (None, 7, 7, 64)     0           dropout_1[0][0]                  \n",
      "__________________________________________________________________________________________________\n",
      "lstm (LSTM)                     (None, 28, 512)      1107968     input_3[0][0]                    \n",
      "__________________________________________________________________________________________________\n",
      "conv2d_2 (Conv2D)               (None, 7, 7, 128)    32896       max_pooling2d_1[0][0]            \n",
      "__________________________________________________________________________________________________\n",
      "dropout_4 (Dropout)             (None, 28, 512)      0           lstm[0][0]                       \n",
      "__________________________________________________________________________________________________\n",
      "input_5 (InputLayer)            (None, 784)          0                                            \n",
      "__________________________________________________________________________________________________\n",
      "dropout_2 (Dropout)             (None, 7, 7, 128)    0           conv2d_2[0][0]                   \n",
      "__________________________________________________________________________________________________\n",
      "lstm_1 (LSTM)                   (None, 28, 256)      787456      dropout_4[0][0]                  \n",
      "__________________________________________________________________________________________________\n",
      "dense_4 (Dense)                 (None, 1000)         785000      input_5[0][0]                    \n",
      "__________________________________________________________________________________________________\n",
      "max_pooling2d_2 (MaxPooling2D)  (None, 3, 3, 128)    0           dropout_2[0][0]                  \n",
      "__________________________________________________________________________________________________\n",
      "dropout_5 (Dropout)             (None, 28, 256)      0           lstm_1[0][0]                     \n",
      "__________________________________________________________________________________________________\n",
      "dropout_7 (Dropout)             (None, 1000)         0           dense_4[0][0]                    \n",
      "__________________________________________________________________________________________________\n",
      "flatten (Flatten)               (None, 1152)         0           max_pooling2d_2[0][0]            \n",
      "__________________________________________________________________________________________________\n",
      "input_2 (InputLayer)            (None, 26)           0                                            \n",
      "__________________________________________________________________________________________________\n",
      "lstm_2 (LSTM)                   (None, 128)          197120      dropout_5[0][0]                  \n",
      "__________________________________________________________________________________________________\n",
      "dense_5 (Dense)                 (None, 500)          500500      dropout_7[0][0]                  \n",
      "__________________________________________________________________________________________________\n",
      "concatenate (Concatenate)       (None, 1178)         0           flatten[0][0]                    \n",
      "                                                                 input_2[0][0]                    \n",
      "__________________________________________________________________________________________________\n",
      "dropout_6 (Dropout)             (None, 128)          0           lstm_2[0][0]                     \n",
      "__________________________________________________________________________________________________\n",
      "dropout_8 (Dropout)             (None, 500)          0           dense_5[0][0]                    \n",
      "__________________________________________________________________________________________________\n",
      "dense (Dense)                   (None, 500)          589500      concatenate[0][0]                \n",
      "__________________________________________________________________________________________________\n",
      "dense_2 (Dense)                 (None, 100)          12900       dropout_6[0][0]                  \n",
      "__________________________________________________________________________________________________\n",
      "input_4 (InputLayer)            (None, 26)           0                                            \n",
      "__________________________________________________________________________________________________\n",
      "dense_6 (Dense)                 (None, 100)          50100       dropout_8[0][0]                  \n",
      "__________________________________________________________________________________________________\n",
      "input_6 (InputLayer)            (None, 26)           0                                            \n",
      "__________________________________________________________________________________________________\n",
      "dropout_3 (Dropout)             (None, 500)          0           dense[0][0]                      \n",
      "__________________________________________________________________________________________________\n",
      "concatenate_1 (Concatenate)     (None, 126)          0           dense_2[0][0]                    \n",
      "                                                                 input_4[0][0]                    \n",
      "__________________________________________________________________________________________________\n",
      "concatenate_2 (Concatenate)     (None, 126)          0           dense_6[0][0]                    \n",
      "                                                                 input_6[0][0]                    \n",
      "__________________________________________________________________________________________________\n",
      "dense_1 (Dense)                 (None, 100)          50100       dropout_3[0][0]                  \n",
      "__________________________________________________________________________________________________\n",
      "dense_3 (Dense)                 (None, 100)          12700       concatenate_1[0][0]              \n",
      "__________________________________________________________________________________________________\n",
      "dense_7 (Dense)                 (None, 100)          12700       concatenate_2[0][0]              \n",
      "__________________________________________________________________________________________________\n",
      "concatenate_3 (Concatenate)     (None, 300)          0           dense_1[0][0]                    \n",
      "                                                                 dense_3[0][0]                    \n",
      "                                                                 dense_7[0][0]                    \n",
      "__________________________________________________________________________________________________\n",
      "dense_8 (Dense)                 (None, 200)          60200       concatenate_3[0][0]              \n",
      "__________________________________________________________________________________________________\n",
      "dropout_9 (Dropout)             (None, 200)          0           dense_8[0][0]                    \n",
      "__________________________________________________________________________________________________\n",
      "dense_9 (Dense)                 (None, 50)           10050       dropout_9[0][0]                  \n",
      "__________________________________________________________________________________________________\n",
      "dense_11 (Dense)                (None, 50)           10050       dropout_9[0][0]                  \n",
      "__________________________________________________________________________________________________\n",
      "dense_13 (Dense)                (None, 50)           10050       dropout_9[0][0]                  \n",
      "__________________________________________________________________________________________________\n",
      "dropout_10 (Dropout)            (None, 50)           0           dense_9[0][0]                    \n",
      "__________________________________________________________________________________________________\n",
      "dropout_11 (Dropout)            (None, 50)           0           dense_11[0][0]                   \n",
      "__________________________________________________________________________________________________\n",
      "dropout_12 (Dropout)            (None, 50)           0           dense_13[0][0]                   \n",
      "__________________________________________________________________________________________________\n",
      "dense_10 (Dense)                (None, 10)           510         dropout_10[0][0]                 \n",
      "__________________________________________________________________________________________________\n",
      "dense_12 (Dense)                (None, 10)           510         dropout_11[0][0]                 \n",
      "__________________________________________________________________________________________________\n",
      "dense_14 (Dense)                (None, 10)           510         dropout_12[0][0]                 \n",
      "==================================================================================================\n",
      "Total params: 4,247,588\n",
      "Trainable params: 4,247,588\n",
      "Non-trainable params: 0\n",
      "__________________________________________________________________________________________________\n"
     ]
    }
   ],
   "source": [
    "input1 = Input(shape=(28,28,1))\n",
    "x1 = Conv2D(64, (2,2), activation='relu', padding='same')(input1)\n",
    "x1 = Dropout(0.2)(x1)\n",
    "x1 = MaxPooling2D((2,2))(x1)\n",
    "x1 = Conv2D(64, (2,2), activation='relu', padding='same')(x1)\n",
    "x1 = Dropout(0.2)(x1)\n",
    "x1 = MaxPooling2D((2,2))(x1)\n",
    "x1 = Conv2D(128, (2,2), activation='relu', padding='same')(x1)\n",
    "x1 = Dropout(0.2)(x1)\n",
    "x1 = MaxPooling2D((2,2))(x1)\n",
    "x1 = Flatten()(x1)\n",
    "\n",
    "input2 = Input(shape=(26,))\n",
    "merge1 = concatenate([x1, input2])\n",
    "x2 = Dense(500, activation='relu')(merge1)\n",
    "x2 = Dropout(0.2)(x2)\n",
    "x2 = Dense(100, activation='relu')(x2)\n",
    "\n",
    "input3 = Input(shape=(28,28))\n",
    "x3 = LSTM(512, activation='relu', return_sequences=True)(input3)\n",
    "x3 = Dropout(0.2)(x3)\n",
    "x3 = LSTM(256, activation='relu', return_sequences=True)(x3)\n",
    "x3 = Dropout(0.2)(x3)\n",
    "x3 = LSTM(128, activation='relu')(x3)\n",
    "x3 = Dropout(0.2)(x3)\n",
    "x3 = Dense(100, activation='relu')(x3)\n",
    "\n",
    "input4 = Input(shape=(26,))\n",
    "merge2 = concatenate([x3, input4])\n",
    "x4 = Dense(100, activation='relu')(merge2)\n",
    "\n",
    "input5 = Input(shape=(784,))\n",
    "x5 = Dense(1000, activation='relu')(input5)\n",
    "x5 = Dropout(0.2)(x5)\n",
    "x5 = Dense(500, activation='relu')(x5)\n",
    "x5 = Dropout(0.2)(x5)\n",
    "x5 = Dense(100, activation='relu')(x5)\n",
    "\n",
    "input6 = Input(shape=(26,))\n",
    "merge3 = concatenate([x5, input6])\n",
    "x6 = Dense(100, activation='relu')(merge3)\n",
    "\n",
    "merge = concatenate([x2, x4, x6])\n",
    "\n",
    "x7 = Dense(200, activation='relu')(merge)\n",
    "x7 = Dropout(0.2)(x7)\n",
    "\n",
    "x8 = Dense(50, activation='relu')(x7)\n",
    "x8 = Dropout(0.2)(x8)\n",
    "output1 = Dense(10, activation='softmax')(x8)\n",
    "\n",
    "x9 = Dense(50, activation='relu')(x7)\n",
    "x9 = Dropout(0.2)(x9)\n",
    "output2 = Dense(10, activation='softmax')(x9)\n",
    "\n",
    "x10 = Dense(50, activation='relu')(x7)\n",
    "x10 = Dropout(0.2)(x10)\n",
    "output3 = Dense(10, activation='softmax')(x10)\n",
    "\n",
    "model = Model(inputs = [input1, input2, input3, input4, input5, input6], outputs = [output1, output2, output3])\n",
    "model.summary()"
   ]
  },
  {
   "cell_type": "code",
   "execution_count": 11,
   "metadata": {
    "ExecuteTime": {
     "end_time": "2020-08-18T08:30:30.926049Z",
     "start_time": "2020-08-18T08:17:22.852259Z"
    }
   },
   "outputs": [
    {
     "name": "stdout",
     "output_type": "stream",
     "text": [
      "Train on 3276 samples, validate on 820 samples\n",
      "Epoch 1/50\n",
      "3276/3276 [==============================] - 24s 7ms/step - loss: 2.2994 - dense_10_loss: 2.2972 - dense_12_loss: 2.3051 - dense_14_loss: 2.3109 - dense_10_acc: 0.1230 - dense_12_acc: 0.1123 - dense_14_acc: 0.1013 - val_loss: 2.2682 - val_dense_10_loss: 2.2662 - val_dense_12_loss: 2.2762 - val_dense_14_loss: 2.2758 - val_dense_10_acc: 0.1488 - val_dense_12_acc: 0.1293 - val_dense_14_acc: 0.1573\n",
      "\n",
      "Epoch 00001: val_dense_10_acc improved from -inf to 0.14878, saving model to ./models/01-0.1488.h5\n",
      "Epoch 2/50\n",
      "3276/3276 [==============================] - 15s 5ms/step - loss: 2.2029 - dense_10_loss: 2.1949 - dense_12_loss: 2.2326 - dense_14_loss: 2.2367 - dense_10_acc: 0.1725 - dense_12_acc: 0.1566 - dense_14_acc: 0.1587 - val_loss: 2.1198 - val_dense_10_loss: 2.1119 - val_dense_12_loss: 2.1536 - val_dense_14_loss: 2.1487 - val_dense_10_acc: 0.2207 - val_dense_12_acc: 0.2049 - val_dense_14_acc: 0.2341\n",
      "\n",
      "Epoch 00002: val_dense_10_acc improved from 0.14878 to 0.22073, saving model to ./models/02-0.2207.h5\n",
      "Epoch 3/50\n",
      "3276/3276 [==============================] - 15s 5ms/step - loss: 1.9975 - dense_10_loss: 1.9863 - dense_12_loss: 2.0434 - dense_14_loss: 2.0415 - dense_10_acc: 0.2802 - dense_12_acc: 0.2558 - dense_14_acc: 0.2579 - val_loss: 1.9281 - val_dense_10_loss: 1.9168 - val_dense_12_loss: 1.9930 - val_dense_14_loss: 1.9533 - val_dense_10_acc: 0.3537 - val_dense_12_acc: 0.3012 - val_dense_14_acc: 0.3524\n",
      "\n",
      "Epoch 00003: val_dense_10_acc improved from 0.22073 to 0.35366, saving model to ./models/03-0.3537.h5\n",
      "Epoch 4/50\n",
      "3276/3276 [==============================] - 15s 5ms/step - loss: 1.7181 - dense_10_loss: 1.7047 - dense_12_loss: 1.7735 - dense_14_loss: 1.7704 - dense_10_acc: 0.3971 - dense_12_acc: 0.3645 - dense_14_acc: 0.3568 - val_loss: 1.6389 - val_dense_10_loss: 1.6297 - val_dense_12_loss: 1.6928 - val_dense_14_loss: 1.6584 - val_dense_10_acc: 0.4305 - val_dense_12_acc: 0.4110 - val_dense_14_acc: 0.4402\n",
      "\n",
      "Epoch 00004: val_dense_10_acc improved from 0.35366 to 0.43049, saving model to ./models/04-0.4305.h5\n",
      "Epoch 5/50\n",
      "3276/3276 [==============================] - 15s 5ms/step - loss: 1.4834 - dense_10_loss: 1.4731 - dense_12_loss: 1.5267 - dense_14_loss: 1.5221 - dense_10_acc: 0.4893 - dense_12_acc: 0.4652 - dense_14_acc: 0.4661 - val_loss: 1.5568 - val_dense_10_loss: 1.5544 - val_dense_12_loss: 1.5761 - val_dense_14_loss: 1.5570 - val_dense_10_acc: 0.4829 - val_dense_12_acc: 0.4768 - val_dense_14_acc: 0.4695\n",
      "\n",
      "Epoch 00005: val_dense_10_acc improved from 0.43049 to 0.48293, saving model to ./models/05-0.4829.h5\n",
      "Epoch 6/50\n",
      "3276/3276 [==============================] - 15s 5ms/step - loss: 1.2593 - dense_10_loss: 1.2490 - dense_12_loss: 1.2911 - dense_14_loss: 1.3102 - dense_10_acc: 0.5745 - dense_12_acc: 0.5641 - dense_14_acc: 0.5504 - val_loss: 1.3944 - val_dense_10_loss: 1.3876 - val_dense_12_loss: 1.4270 - val_dense_14_loss: 1.4156 - val_dense_10_acc: 0.5390 - val_dense_12_acc: 0.5098 - val_dense_14_acc: 0.5378\n",
      "\n",
      "Epoch 00006: val_dense_10_acc improved from 0.48293 to 0.53902, saving model to ./models/06-0.5390.h5\n",
      "Epoch 7/50\n",
      "3276/3276 [==============================] - 15s 5ms/step - loss: 1.1456 - dense_10_loss: 1.1399 - dense_12_loss: 1.1600 - dense_14_loss: 1.1765 - dense_10_acc: 0.6114 - dense_12_acc: 0.6078 - dense_14_acc: 0.5940 - val_loss: 1.3144 - val_dense_10_loss: 1.3113 - val_dense_12_loss: 1.3230 - val_dense_14_loss: 1.3304 - val_dense_10_acc: 0.5756 - val_dense_12_acc: 0.5524 - val_dense_14_acc: 0.5634\n",
      "\n",
      "Epoch 00007: val_dense_10_acc improved from 0.53902 to 0.57561, saving model to ./models/07-0.5756.h5\n",
      "Epoch 8/50\n",
      "3276/3276 [==============================] - 15s 5ms/step - loss: 1.0074 - dense_10_loss: 1.0004 - dense_12_loss: 1.0330 - dense_14_loss: 1.0379 - dense_10_acc: 0.6682 - dense_12_acc: 0.6572 - dense_14_acc: 0.6499 - val_loss: 1.2326 - val_dense_10_loss: 1.2293 - val_dense_12_loss: 1.2495 - val_dense_14_loss: 1.2419 - val_dense_10_acc: 0.5732 - val_dense_12_acc: 0.5744 - val_dense_14_acc: 0.5610\n",
      "\n",
      "Epoch 00008: val_dense_10_acc did not improve from 0.57561\n",
      "Epoch 9/50\n",
      "3276/3276 [==============================] - 15s 5ms/step - loss: 0.8962 - dense_10_loss: 0.8907 - dense_12_loss: 0.9035 - dense_14_loss: 0.9328 - dense_10_acc: 0.6963 - dense_12_acc: 0.6926 - dense_14_acc: 0.6862 - val_loss: 1.1590 - val_dense_10_loss: 1.1581 - val_dense_12_loss: 1.1546 - val_dense_14_loss: 1.1706 - val_dense_10_acc: 0.5939 - val_dense_12_acc: 0.6012 - val_dense_14_acc: 0.5976\n",
      "\n",
      "Epoch 00009: val_dense_10_acc improved from 0.57561 to 0.59390, saving model to ./models/09-0.5939.h5\n",
      "Epoch 10/50\n",
      "3276/3276 [==============================] - 15s 5ms/step - loss: 0.7796 - dense_10_loss: 0.7728 - dense_12_loss: 0.8033 - dense_14_loss: 0.8096 - dense_10_acc: 0.7427 - dense_12_acc: 0.7344 - dense_14_acc: 0.7289 - val_loss: 1.1748 - val_dense_10_loss: 1.1731 - val_dense_12_loss: 1.1765 - val_dense_14_loss: 1.1868 - val_dense_10_acc: 0.5780 - val_dense_12_acc: 0.5780 - val_dense_14_acc: 0.5793\n",
      "\n",
      "Epoch 00010: val_dense_10_acc did not improve from 0.59390\n",
      "Epoch 11/50\n",
      "3276/3276 [==============================] - 16s 5ms/step - loss: 0.6852 - dense_10_loss: 0.6784 - dense_12_loss: 0.7198 - dense_14_loss: 0.7054 - dense_10_acc: 0.7726 - dense_12_acc: 0.7607 - dense_14_acc: 0.7695 - val_loss: 1.2382 - val_dense_10_loss: 1.2357 - val_dense_12_loss: 1.2473 - val_dense_14_loss: 1.2491 - val_dense_10_acc: 0.5927 - val_dense_12_acc: 0.5793 - val_dense_14_acc: 0.5890\n",
      "\n",
      "Epoch 00011: val_dense_10_acc did not improve from 0.59390\n",
      "Epoch 12/50\n",
      "3276/3276 [==============================] - 16s 5ms/step - loss: 0.6315 - dense_10_loss: 0.6255 - dense_12_loss: 0.6621 - dense_14_loss: 0.6490 - dense_10_acc: 0.7924 - dense_12_acc: 0.7854 - dense_14_acc: 0.7830 - val_loss: 1.1283 - val_dense_10_loss: 1.1246 - val_dense_12_loss: 1.1447 - val_dense_14_loss: 1.1414 - val_dense_10_acc: 0.6171 - val_dense_12_acc: 0.6244 - val_dense_14_acc: 0.6024\n",
      "\n",
      "Epoch 00012: val_dense_10_acc improved from 0.59390 to 0.61707, saving model to ./models/12-0.6171.h5\n",
      "Epoch 13/50\n",
      "3276/3276 [==============================] - 15s 5ms/step - loss: 0.5195 - dense_10_loss: 0.5139 - dense_12_loss: 0.5478 - dense_14_loss: 0.5360 - dense_10_acc: 0.8315 - dense_12_acc: 0.8223 - dense_14_acc: 0.8199 - val_loss: 1.2035 - val_dense_10_loss: 1.2049 - val_dense_12_loss: 1.1917 - val_dense_14_loss: 1.2037 - val_dense_10_acc: 0.5951 - val_dense_12_acc: 0.5963 - val_dense_14_acc: 0.5878\n",
      "\n",
      "Epoch 00013: val_dense_10_acc did not improve from 0.61707\n",
      "Epoch 14/50\n",
      "3276/3276 [==============================] - 15s 5ms/step - loss: 0.4419 - dense_10_loss: 0.4367 - dense_12_loss: 0.4600 - dense_14_loss: 0.4660 - dense_10_acc: 0.8532 - dense_12_acc: 0.8513 - dense_14_acc: 0.8462 - val_loss: 1.2213 - val_dense_10_loss: 1.2274 - val_dense_12_loss: 1.2006 - val_dense_14_loss: 1.1928 - val_dense_10_acc: 0.6195 - val_dense_12_acc: 0.6098 - val_dense_14_acc: 0.6195\n",
      "\n",
      "Epoch 00014: val_dense_10_acc improved from 0.61707 to 0.61951, saving model to ./models/14-0.6195.h5\n",
      "Epoch 15/50\n",
      "3276/3276 [==============================] - 16s 5ms/step - loss: 0.4111 - dense_10_loss: 0.4073 - dense_12_loss: 0.4251 - dense_14_loss: 0.4277 - dense_10_acc: 0.8675 - dense_12_acc: 0.8629 - dense_14_acc: 0.8617 - val_loss: 1.3670 - val_dense_10_loss: 1.3703 - val_dense_12_loss: 1.3620 - val_dense_14_loss: 1.3450 - val_dense_10_acc: 0.5976 - val_dense_12_acc: 0.5841 - val_dense_14_acc: 0.5915\n",
      "\n",
      "Epoch 00015: val_dense_10_acc did not improve from 0.61951\n",
      "Epoch 16/50\n",
      "3276/3276 [==============================] - 15s 5ms/step - loss: 0.3608 - dense_10_loss: 0.3578 - dense_12_loss: 0.3728 - dense_14_loss: 0.3729 - dense_10_acc: 0.8843 - dense_12_acc: 0.8785 - dense_14_acc: 0.8776 - val_loss: 1.3243 - val_dense_10_loss: 1.3315 - val_dense_12_loss: 1.2984 - val_dense_14_loss: 1.2926 - val_dense_10_acc: 0.6024 - val_dense_12_acc: 0.6073 - val_dense_14_acc: 0.6098\n",
      "\n",
      "Epoch 00016: val_dense_10_acc did not improve from 0.61951\n",
      "Epoch 17/50\n"
     ]
    },
    {
     "name": "stdout",
     "output_type": "stream",
     "text": [
      "3276/3276 [==============================] - 15s 5ms/step - loss: 0.2930 - dense_10_loss: 0.2906 - dense_12_loss: 0.2995 - dense_14_loss: 0.3056 - dense_10_acc: 0.9023 - dense_12_acc: 0.9005 - dense_14_acc: 0.8962 - val_loss: 1.2387 - val_dense_10_loss: 1.2417 - val_dense_12_loss: 1.2242 - val_dense_14_loss: 1.2291 - val_dense_10_acc: 0.6244 - val_dense_12_acc: 0.6232 - val_dense_14_acc: 0.6293\n",
      "\n",
      "Epoch 00017: val_dense_10_acc improved from 0.61951 to 0.62439, saving model to ./models/17-0.6244.h5\n",
      "Epoch 18/50\n",
      "3276/3276 [==============================] - 16s 5ms/step - loss: 0.2617 - dense_10_loss: 0.2587 - dense_12_loss: 0.2752 - dense_14_loss: 0.2716 - dense_10_acc: 0.9148 - dense_12_acc: 0.9139 - dense_14_acc: 0.9127 - val_loss: 1.4251 - val_dense_10_loss: 1.4331 - val_dense_12_loss: 1.4034 - val_dense_14_loss: 1.3828 - val_dense_10_acc: 0.5939 - val_dense_12_acc: 0.5915 - val_dense_14_acc: 0.6012\n",
      "\n",
      "Epoch 00018: val_dense_10_acc did not improve from 0.62439\n",
      "Epoch 19/50\n",
      "3276/3276 [==============================] - 16s 5ms/step - loss: 0.2564 - dense_10_loss: 0.2560 - dense_12_loss: 0.2585 - dense_14_loss: 0.2579 - dense_10_acc: 0.9170 - dense_12_acc: 0.9154 - dense_14_acc: 0.9164 - val_loss: 1.2442 - val_dense_10_loss: 1.2452 - val_dense_12_loss: 1.2470 - val_dense_14_loss: 1.2336 - val_dense_10_acc: 0.6354 - val_dense_12_acc: 0.6305 - val_dense_14_acc: 0.6415\n",
      "\n",
      "Epoch 00019: val_dense_10_acc improved from 0.62439 to 0.63537, saving model to ./models/19-0.6354.h5\n",
      "Epoch 20/50\n",
      "3276/3276 [==============================] - 15s 5ms/step - loss: 0.2206 - dense_10_loss: 0.2176 - dense_12_loss: 0.2341 - dense_14_loss: 0.2309 - dense_10_acc: 0.9304 - dense_12_acc: 0.9292 - dense_14_acc: 0.9255 - val_loss: 1.3983 - val_dense_10_loss: 1.4049 - val_dense_12_loss: 1.3703 - val_dense_14_loss: 1.3738 - val_dense_10_acc: 0.6024 - val_dense_12_acc: 0.6024 - val_dense_14_acc: 0.5976\n",
      "\n",
      "Epoch 00020: val_dense_10_acc did not improve from 0.63537\n",
      "Epoch 21/50\n",
      "3276/3276 [==============================] - 15s 5ms/step - loss: 0.1882 - dense_10_loss: 0.1849 - dense_12_loss: 0.2046 - dense_14_loss: 0.1981 - dense_10_acc: 0.9371 - dense_12_acc: 0.9319 - dense_14_acc: 0.9341 - val_loss: 1.3597 - val_dense_10_loss: 1.3617 - val_dense_12_loss: 1.3518 - val_dense_14_loss: 1.3512 - val_dense_10_acc: 0.6195 - val_dense_12_acc: 0.6195 - val_dense_14_acc: 0.6159\n",
      "\n",
      "Epoch 00021: val_dense_10_acc did not improve from 0.63537\n",
      "Epoch 22/50\n",
      "3276/3276 [==============================] - 15s 5ms/step - loss: 0.1682 - dense_10_loss: 0.1677 - dense_12_loss: 0.1734 - dense_14_loss: 0.1667 - dense_10_acc: 0.9435 - dense_12_acc: 0.9451 - dense_14_acc: 0.9438 - val_loss: 1.4231 - val_dense_10_loss: 1.4266 - val_dense_12_loss: 1.4103 - val_dense_14_loss: 1.4083 - val_dense_10_acc: 0.6159 - val_dense_12_acc: 0.6159 - val_dense_14_acc: 0.6073\n",
      "\n",
      "Epoch 00022: val_dense_10_acc did not improve from 0.63537\n",
      "Epoch 23/50\n",
      "3276/3276 [==============================] - 15s 5ms/step - loss: 0.1316 - dense_10_loss: 0.1289 - dense_12_loss: 0.1422 - dense_14_loss: 0.1427 - dense_10_acc: 0.9585 - dense_12_acc: 0.9518 - dense_14_acc: 0.9524 - val_loss: 1.3239 - val_dense_10_loss: 1.3256 - val_dense_12_loss: 1.3104 - val_dense_14_loss: 1.3237 - val_dense_10_acc: 0.6463 - val_dense_12_acc: 0.6402 - val_dense_14_acc: 0.6439\n",
      "\n",
      "Epoch 00023: val_dense_10_acc improved from 0.63537 to 0.64634, saving model to ./models/23-0.6463.h5\n",
      "Epoch 24/50\n",
      "3276/3276 [==============================] - 15s 5ms/step - loss: 0.1433 - dense_10_loss: 0.1411 - dense_12_loss: 0.1577 - dense_14_loss: 0.1469 - dense_10_acc: 0.9505 - dense_12_acc: 0.9490 - dense_14_acc: 0.9527 - val_loss: 1.5061 - val_dense_10_loss: 1.5100 - val_dense_12_loss: 1.4803 - val_dense_14_loss: 1.5010 - val_dense_10_acc: 0.6146 - val_dense_12_acc: 0.6061 - val_dense_14_acc: 0.6085\n",
      "\n",
      "Epoch 00024: val_dense_10_acc did not improve from 0.64634\n",
      "Epoch 25/50\n",
      "3276/3276 [==============================] - 15s 5ms/step - loss: 0.1688 - dense_10_loss: 0.1682 - dense_12_loss: 0.1700 - dense_14_loss: 0.1721 - dense_10_acc: 0.9438 - dense_12_acc: 0.9457 - dense_14_acc: 0.9490 - val_loss: 1.4566 - val_dense_10_loss: 1.4560 - val_dense_12_loss: 1.4557 - val_dense_14_loss: 1.4621 - val_dense_10_acc: 0.6183 - val_dense_12_acc: 0.6256 - val_dense_14_acc: 0.6256\n",
      "\n",
      "Epoch 00025: val_dense_10_acc did not improve from 0.64634\n",
      "Epoch 26/50\n",
      "3276/3276 [==============================] - 15s 5ms/step - loss: 0.1096 - dense_10_loss: 0.1082 - dense_12_loss: 0.1181 - dense_14_loss: 0.1122 - dense_10_acc: 0.9664 - dense_12_acc: 0.9649 - dense_14_acc: 0.9686 - val_loss: 1.3420 - val_dense_10_loss: 1.3447 - val_dense_12_loss: 1.3136 - val_dense_14_loss: 1.3486 - val_dense_10_acc: 0.6598 - val_dense_12_acc: 0.6610 - val_dense_14_acc: 0.6500\n",
      "\n",
      "Epoch 00026: val_dense_10_acc improved from 0.64634 to 0.65976, saving model to ./models/26-0.6598.h5\n",
      "Epoch 27/50\n",
      "3276/3276 [==============================] - 15s 5ms/step - loss: 0.1132 - dense_10_loss: 0.1118 - dense_12_loss: 0.1185 - dense_14_loss: 0.1191 - dense_10_acc: 0.9591 - dense_12_acc: 0.9588 - dense_14_acc: 0.9621 - val_loss: 1.4877 - val_dense_10_loss: 1.4907 - val_dense_12_loss: 1.4506 - val_dense_14_loss: 1.5004 - val_dense_10_acc: 0.6317 - val_dense_12_acc: 0.6317 - val_dense_14_acc: 0.6317\n",
      "\n",
      "Epoch 00027: val_dense_10_acc did not improve from 0.65976\n",
      "Epoch 28/50\n",
      "3276/3276 [==============================] - 15s 5ms/step - loss: 0.1088 - dense_10_loss: 0.1082 - dense_12_loss: 0.1070 - dense_14_loss: 0.1147 - dense_10_acc: 0.9615 - dense_12_acc: 0.9643 - dense_14_acc: 0.9606 - val_loss: 1.5966 - val_dense_10_loss: 1.5964 - val_dense_12_loss: 1.5836 - val_dense_14_loss: 1.6119 - val_dense_10_acc: 0.6244 - val_dense_12_acc: 0.6293 - val_dense_14_acc: 0.6207\n",
      "\n",
      "Epoch 00028: val_dense_10_acc did not improve from 0.65976\n",
      "Epoch 29/50\n",
      "3276/3276 [==============================] - 15s 5ms/step - loss: 0.1481 - dense_10_loss: 0.1456 - dense_12_loss: 0.1544 - dense_14_loss: 0.1621 - dense_10_acc: 0.9548 - dense_12_acc: 0.9521 - dense_14_acc: 0.9493 - val_loss: 1.3238 - val_dense_10_loss: 1.3280 - val_dense_12_loss: 1.3107 - val_dense_14_loss: 1.3037 - val_dense_10_acc: 0.6354 - val_dense_12_acc: 0.6329 - val_dense_14_acc: 0.6439\n",
      "\n",
      "Epoch 00029: val_dense_10_acc did not improve from 0.65976\n",
      "Epoch 30/50\n",
      "3276/3276 [==============================] - 15s 5ms/step - loss: 0.0953 - dense_10_loss: 0.0939 - dense_12_loss: 0.0977 - dense_14_loss: 0.1042 - dense_10_acc: 0.9716 - dense_12_acc: 0.9707 - dense_14_acc: 0.9679 - val_loss: 1.3662 - val_dense_10_loss: 1.3705 - val_dense_12_loss: 1.3504 - val_dense_14_loss: 1.3476 - val_dense_10_acc: 0.6463 - val_dense_12_acc: 0.6427 - val_dense_14_acc: 0.6488\n",
      "\n",
      "Epoch 00030: val_dense_10_acc did not improve from 0.65976\n",
      "Epoch 31/50\n",
      "3276/3276 [==============================] - 15s 5ms/step - loss: 0.0786 - dense_10_loss: 0.0776 - dense_12_loss: 0.0810 - dense_14_loss: 0.0848 - dense_10_acc: 0.9744 - dense_12_acc: 0.9750 - dense_14_acc: 0.9695 - val_loss: 1.5623 - val_dense_10_loss: 1.5657 - val_dense_12_loss: 1.5590 - val_dense_14_loss: 1.5391 - val_dense_10_acc: 0.6293 - val_dense_12_acc: 0.6268 - val_dense_14_acc: 0.6256\n",
      "\n",
      "Epoch 00031: val_dense_10_acc did not improve from 0.65976\n",
      "Epoch 32/50\n",
      "3276/3276 [==============================] - 15s 5ms/step - loss: 0.0738 - dense_10_loss: 0.0726 - dense_12_loss: 0.0782 - dense_14_loss: 0.0794 - dense_10_acc: 0.9765 - dense_12_acc: 0.9750 - dense_14_acc: 0.9734 - val_loss: 1.5324 - val_dense_10_loss: 1.5348 - val_dense_12_loss: 1.5404 - val_dense_14_loss: 1.5052 - val_dense_10_acc: 0.6500 - val_dense_12_acc: 0.6500 - val_dense_14_acc: 0.6439\n",
      "\n",
      "Epoch 00032: val_dense_10_acc did not improve from 0.65976\n",
      "Epoch 33/50\n",
      "3276/3276 [==============================] - 15s 5ms/step - loss: 0.0952 - dense_10_loss: 0.0949 - dense_12_loss: 0.0985 - dense_14_loss: 0.0943 - dense_10_acc: 0.9676 - dense_12_acc: 0.9695 - dense_14_acc: 0.9686 - val_loss: 1.5497 - val_dense_10_loss: 1.5530 - val_dense_12_loss: 1.5720 - val_dense_14_loss: 1.5004 - val_dense_10_acc: 0.6341 - val_dense_12_acc: 0.6305 - val_dense_14_acc: 0.6402\n",
      "\n",
      "Epoch 00033: val_dense_10_acc did not improve from 0.65976\n",
      "Epoch 34/50\n"
     ]
    },
    {
     "name": "stdout",
     "output_type": "stream",
     "text": [
      "3276/3276 [==============================] - 16s 5ms/step - loss: 0.0948 - dense_10_loss: 0.0924 - dense_12_loss: 0.1054 - dense_14_loss: 0.1036 - dense_10_acc: 0.9744 - dense_12_acc: 0.9689 - dense_14_acc: 0.9707 - val_loss: 1.4376 - val_dense_10_loss: 1.4393 - val_dense_12_loss: 1.4426 - val_dense_14_loss: 1.4183 - val_dense_10_acc: 0.6476 - val_dense_12_acc: 0.6463 - val_dense_14_acc: 0.6500\n",
      "\n",
      "Epoch 00034: val_dense_10_acc did not improve from 0.65976\n",
      "Epoch 35/50\n",
      "3276/3276 [==============================] - 15s 5ms/step - loss: 0.0558 - dense_10_loss: 0.0551 - dense_12_loss: 0.0601 - dense_14_loss: 0.0569 - dense_10_acc: 0.9850 - dense_12_acc: 0.9844 - dense_14_acc: 0.9829 - val_loss: 1.5072 - val_dense_10_loss: 1.5108 - val_dense_12_loss: 1.5009 - val_dense_14_loss: 1.4849 - val_dense_10_acc: 0.6488 - val_dense_12_acc: 0.6439 - val_dense_14_acc: 0.6537\n",
      "\n",
      "Epoch 00035: val_dense_10_acc did not improve from 0.65976\n",
      "Epoch 36/50\n",
      "3276/3276 [==============================] - 15s 5ms/step - loss: 0.0642 - dense_10_loss: 0.0632 - dense_12_loss: 0.0689 - dense_14_loss: 0.0677 - dense_10_acc: 0.9811 - dense_12_acc: 0.9799 - dense_14_acc: 0.9777 - val_loss: 1.6826 - val_dense_10_loss: 1.6880 - val_dense_12_loss: 1.6529 - val_dense_14_loss: 1.6687 - val_dense_10_acc: 0.6256 - val_dense_12_acc: 0.6317 - val_dense_14_acc: 0.6305\n",
      "\n",
      "Epoch 00036: val_dense_10_acc did not improve from 0.65976\n",
      "Epoch 37/50\n",
      "3276/3276 [==============================] - 15s 5ms/step - loss: 0.0743 - dense_10_loss: 0.0720 - dense_12_loss: 0.0846 - dense_14_loss: 0.0829 - dense_10_acc: 0.9802 - dense_12_acc: 0.9759 - dense_14_acc: 0.9771 - val_loss: 1.8394 - val_dense_10_loss: 1.8499 - val_dense_12_loss: 1.7699 - val_dense_14_loss: 1.8249 - val_dense_10_acc: 0.6085 - val_dense_12_acc: 0.6098 - val_dense_14_acc: 0.6098\n",
      "\n",
      "Epoch 00037: val_dense_10_acc did not improve from 0.65976\n",
      "Epoch 38/50\n",
      "3276/3276 [==============================] - 15s 5ms/step - loss: 0.1081 - dense_10_loss: 0.1066 - dense_12_loss: 0.1201 - dense_14_loss: 0.1079 - dense_10_acc: 0.9670 - dense_12_acc: 0.9646 - dense_14_acc: 0.9643 - val_loss: 1.4798 - val_dense_10_loss: 1.4854 - val_dense_12_loss: 1.4603 - val_dense_14_loss: 1.4551 - val_dense_10_acc: 0.6134 - val_dense_12_acc: 0.6159 - val_dense_14_acc: 0.6195\n",
      "\n",
      "Epoch 00038: val_dense_10_acc did not improve from 0.65976\n",
      "Epoch 39/50\n",
      "3276/3276 [==============================] - 15s 5ms/step - loss: 0.0569 - dense_10_loss: 0.0565 - dense_12_loss: 0.0560 - dense_14_loss: 0.0608 - dense_10_acc: 0.9841 - dense_12_acc: 0.9841 - dense_14_acc: 0.9823 - val_loss: 1.5962 - val_dense_10_loss: 1.6028 - val_dense_12_loss: 1.5765 - val_dense_14_loss: 1.5633 - val_dense_10_acc: 0.6512 - val_dense_12_acc: 0.6402 - val_dense_14_acc: 0.6488\n",
      "\n",
      "Epoch 00039: val_dense_10_acc did not improve from 0.65976\n",
      "Epoch 40/50\n",
      "3276/3276 [==============================] - 15s 5ms/step - loss: 0.0535 - dense_10_loss: 0.0527 - dense_12_loss: 0.0570 - dense_14_loss: 0.0571 - dense_10_acc: 0.9838 - dense_12_acc: 0.9829 - dense_14_acc: 0.9832 - val_loss: 1.4412 - val_dense_10_loss: 1.4521 - val_dense_12_loss: 1.4084 - val_dense_14_loss: 1.3866 - val_dense_10_acc: 0.6598 - val_dense_12_acc: 0.6634 - val_dense_14_acc: 0.6695\n",
      "\n",
      "Epoch 00040: val_dense_10_acc did not improve from 0.65976\n",
      "Epoch 41/50\n",
      "3276/3276 [==============================] - 15s 5ms/step - loss: 0.0779 - dense_10_loss: 0.0781 - dense_12_loss: 0.0767 - dense_14_loss: 0.0768 - dense_10_acc: 0.9750 - dense_12_acc: 0.9759 - dense_14_acc: 0.9744 - val_loss: 1.5789 - val_dense_10_loss: 1.5879 - val_dense_12_loss: 1.5321 - val_dense_14_loss: 1.5533 - val_dense_10_acc: 0.6378 - val_dense_12_acc: 0.6305 - val_dense_14_acc: 0.6415\n",
      "\n",
      "Epoch 00041: val_dense_10_acc did not improve from 0.65976\n",
      "Epoch 42/50\n",
      "3276/3276 [==============================] - 15s 5ms/step - loss: 0.0553 - dense_10_loss: 0.0556 - dense_12_loss: 0.0537 - dense_14_loss: 0.0545 - dense_10_acc: 0.9838 - dense_12_acc: 0.9805 - dense_14_acc: 0.9829 - val_loss: 1.5871 - val_dense_10_loss: 1.5889 - val_dense_12_loss: 1.5713 - val_dense_14_loss: 1.5883 - val_dense_10_acc: 0.6232 - val_dense_12_acc: 0.6171 - val_dense_14_acc: 0.6305\n",
      "\n",
      "Epoch 00042: val_dense_10_acc did not improve from 0.65976\n",
      "Epoch 43/50\n",
      "3276/3276 [==============================] - 15s 5ms/step - loss: 0.0574 - dense_10_loss: 0.0561 - dense_12_loss: 0.0628 - dense_14_loss: 0.0627 - dense_10_acc: 0.9814 - dense_12_acc: 0.9799 - dense_14_acc: 0.9789 - val_loss: 1.4680 - val_dense_10_loss: 1.4692 - val_dense_12_loss: 1.4581 - val_dense_14_loss: 1.4686 - val_dense_10_acc: 0.6683 - val_dense_12_acc: 0.6634 - val_dense_14_acc: 0.6634\n",
      "\n",
      "Epoch 00043: val_dense_10_acc improved from 0.65976 to 0.66829, saving model to ./models/43-0.6683.h5\n",
      "Epoch 44/50\n",
      "3276/3276 [==============================] - 15s 5ms/step - loss: 0.0556 - dense_10_loss: 0.0562 - dense_12_loss: 0.0519 - dense_14_loss: 0.0544 - dense_10_acc: 0.9817 - dense_12_acc: 0.9847 - dense_14_acc: 0.9838 - val_loss: 1.7672 - val_dense_10_loss: 1.7681 - val_dense_12_loss: 1.7433 - val_dense_14_loss: 1.7832 - val_dense_10_acc: 0.6232 - val_dense_12_acc: 0.6341 - val_dense_14_acc: 0.6232\n",
      "\n",
      "Epoch 00044: val_dense_10_acc did not improve from 0.66829\n",
      "Epoch 45/50\n",
      "3276/3276 [==============================] - 15s 5ms/step - loss: 0.0696 - dense_10_loss: 0.0691 - dense_12_loss: 0.0734 - dense_14_loss: 0.0705 - dense_10_acc: 0.9789 - dense_12_acc: 0.9774 - dense_14_acc: 0.9774 - val_loss: 1.6254 - val_dense_10_loss: 1.6326 - val_dense_12_loss: 1.5909 - val_dense_14_loss: 1.6021 - val_dense_10_acc: 0.6098 - val_dense_12_acc: 0.6183 - val_dense_14_acc: 0.6207\n",
      "\n",
      "Epoch 00045: val_dense_10_acc did not improve from 0.66829\n",
      "Epoch 46/50\n",
      "3276/3276 [==============================] - 15s 5ms/step - loss: 0.0562 - dense_10_loss: 0.0565 - dense_12_loss: 0.0537 - dense_14_loss: 0.0561 - dense_10_acc: 0.9814 - dense_12_acc: 0.9829 - dense_14_acc: 0.9841 - val_loss: 1.5921 - val_dense_10_loss: 1.5956 - val_dense_12_loss: 1.5704 - val_dense_14_loss: 1.5857 - val_dense_10_acc: 0.6524 - val_dense_12_acc: 0.6549 - val_dense_14_acc: 0.6524\n",
      "\n",
      "Epoch 00046: val_dense_10_acc did not improve from 0.66829\n",
      "Epoch 47/50\n",
      "3276/3276 [==============================] - 15s 5ms/step - loss: 0.0484 - dense_10_loss: 0.0484 - dense_12_loss: 0.0484 - dense_14_loss: 0.0486 - dense_10_acc: 0.9832 - dense_12_acc: 0.9847 - dense_14_acc: 0.9860 - val_loss: 1.5464 - val_dense_10_loss: 1.5462 - val_dense_12_loss: 1.5461 - val_dense_14_loss: 1.5488 - val_dense_10_acc: 0.6585 - val_dense_12_acc: 0.6561 - val_dense_14_acc: 0.6549\n",
      "\n",
      "Epoch 00047: val_dense_10_acc did not improve from 0.66829\n",
      "Epoch 48/50\n",
      "3276/3276 [==============================] - 16s 5ms/step - loss: 0.0553 - dense_10_loss: 0.0541 - dense_12_loss: 0.0607 - dense_14_loss: 0.0599 - dense_10_acc: 0.9829 - dense_12_acc: 0.9838 - dense_14_acc: 0.9826 - val_loss: 1.5737 - val_dense_10_loss: 1.5773 - val_dense_12_loss: 1.5600 - val_dense_14_loss: 1.5583 - val_dense_10_acc: 0.6463 - val_dense_12_acc: 0.6402 - val_dense_14_acc: 0.6415\n",
      "\n",
      "Epoch 00048: val_dense_10_acc did not improve from 0.66829\n",
      "Epoch 49/50\n",
      "3276/3276 [==============================] - 15s 5ms/step - loss: 0.0388 - dense_10_loss: 0.0379 - dense_12_loss: 0.0417 - dense_14_loss: 0.0429 - dense_10_acc: 0.9869 - dense_12_acc: 0.9878 - dense_14_acc: 0.9866 - val_loss: 1.5589 - val_dense_10_loss: 1.5659 - val_dense_12_loss: 1.5256 - val_dense_14_loss: 1.5355 - val_dense_10_acc: 0.6415 - val_dense_12_acc: 0.6500 - val_dense_14_acc: 0.6537\n",
      "\n",
      "Epoch 00049: val_dense_10_acc did not improve from 0.66829\n",
      "Epoch 50/50\n",
      "3276/3276 [==============================] - 15s 5ms/step - loss: 0.0611 - dense_10_loss: 0.0597 - dense_12_loss: 0.0686 - dense_14_loss: 0.0645 - dense_10_acc: 0.9817 - dense_12_acc: 0.9795 - dense_14_acc: 0.9814 - val_loss: 1.4997 - val_dense_10_loss: 1.5012 - val_dense_12_loss: 1.4805 - val_dense_14_loss: 1.5069 - val_dense_10_acc: 0.6549 - val_dense_12_acc: 0.6561 - val_dense_14_acc: 0.6561\n",
      "\n",
      "Epoch 00050: val_dense_10_acc did not improve from 0.66829\n"
     ]
    }
   ],
   "source": [
    "model.compile(optimizer = 'adam', metrics = ['accuracy'], loss = 'categorical_crossentropy', \n",
    "              loss_weights = [0.8, 0.1, 0.1])\n",
    "history = model.fit([x1_train, x1_letter_train, x2_train, x2_letter_train, x3_train, x3_letter_train], [y1_train, y2_train, y3_train],\n",
    "                    validation_data=([x1_val, x1_letter_val, x2_val, x2_letter_val, x3_val, x3_letter_val], [y1_val, y2_val, y3_val]), \n",
    "                    batch_size=64, epochs=50, verbose=1, \n",
    "                    callbacks = [ModelCheckpoint('./models/{epoch:02d}-{val_dense_10_acc:.4f}.h5',\n",
    "                    monitor='val_dense_10_acc', verbose=1, save_best_only=True, mode='auto')])"
   ]
  },
  {
   "cell_type": "code",
   "execution_count": 12,
   "metadata": {
    "ExecuteTime": {
     "end_time": "2020-08-18T08:30:42.050651Z",
     "start_time": "2020-08-18T08:30:30.930032Z"
    }
   },
   "outputs": [],
   "source": [
    "#from tensorflow.keras.models import load_model\n",
    "#best_model = load_model('./models/46-0.7463.h5')"
   ]
  },
  {
   "cell_type": "code",
   "execution_count": 13,
   "metadata": {
    "ExecuteTime": {
     "end_time": "2020-08-18T08:32:00.222873Z",
     "start_time": "2020-08-18T08:30:42.050651Z"
    }
   },
   "outputs": [
    {
     "name": "stdout",
     "output_type": "stream",
     "text": [
      "[6 5 2 ... 6 9 0]\n",
      "[6 0 2 ... 6 9 0]\n"
     ]
    }
   ],
   "source": [
    "#x1_test = test.drop(['id', 'letter'], axis=1).values\n",
    "#x1_test = x1_test.reshape(-1, 28, 28, 1)\n",
    "#x1_test = x1_test/255\n",
    "\n",
    "#x2_test = test.drop(['id', 'letter'], axis=1).values\n",
    "#x2_test = x2_test.reshape(-1, 28, 28)\n",
    "#x2_test = x2_test/255\n",
    "\n",
    "#x1_letter_test = test['letter'].values\n",
    "#x1_letter_test = x1_letter_test[:, np.newaxis]\n",
    "#en = OneHotEncoder()\n",
    "#x1_letter_test = en.fit_transform(x1_letter_test).toarray()\n",
    "\n",
    "#x2_letter_test = x1_letter_test.copy()\n",
    "\n",
    "#y1_test, y2_test = best_model.predict([x1_test, x1_letter_test, x2_test, x2_letter_test])\n",
    "#y_1 = np.argmax(y1_test, axis=1)\n",
    "#y_2 = np.argmax(y2_test, axis=1)\n",
    "#print(y_1)\n",
    "#print(y_2)"
   ]
  },
  {
   "cell_type": "code",
   "execution_count": 14,
   "metadata": {
    "ExecuteTime": {
     "end_time": "2020-08-18T08:32:00.238775Z",
     "start_time": "2020-08-18T08:32:00.228851Z"
    }
   },
   "outputs": [],
   "source": [
    "#submission = pd.read_csv('data/submission.csv')\n",
    "#submission['digit'] = y_1"
   ]
  },
  {
   "cell_type": "code",
   "execution_count": 15,
   "metadata": {
    "ExecuteTime": {
     "end_time": "2020-08-18T08:32:00.253746Z",
     "start_time": "2020-08-18T08:32:00.242753Z"
    }
   },
   "outputs": [],
   "source": [
    "#submission.to_csv('data/submission(val7463).csv', index=False)"
   ]
  },
  {
   "cell_type": "code",
   "execution_count": 16,
   "metadata": {
    "ExecuteTime": {
     "end_time": "2020-08-18T08:32:00.269850Z",
     "start_time": "2020-08-18T08:32:00.258897Z"
    }
   },
   "outputs": [],
   "source": [
    "#submission['digit'] = y_2\n",
    "#submission.to_csv('data/submission2.csv', index=False)"
   ]
  },
  {
   "cell_type": "code",
   "execution_count": null,
   "metadata": {},
   "outputs": [],
   "source": []
  }
 ],
 "metadata": {
  "kernelspec": {
   "display_name": "Python 3",
   "language": "python",
   "name": "python3"
  },
  "language_info": {
   "codemirror_mode": {
    "name": "ipython",
    "version": 3
   },
   "file_extension": ".py",
   "mimetype": "text/x-python",
   "name": "python",
   "nbconvert_exporter": "python",
   "pygments_lexer": "ipython3",
   "version": "3.6.10"
  }
 },
 "nbformat": 4,
 "nbformat_minor": 4
}
