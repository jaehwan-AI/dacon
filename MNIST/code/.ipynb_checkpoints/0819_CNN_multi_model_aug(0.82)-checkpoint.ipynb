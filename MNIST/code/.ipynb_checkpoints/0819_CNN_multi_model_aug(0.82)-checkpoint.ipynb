{
 "cells": [
  {
   "cell_type": "code",
   "execution_count": 1,
   "metadata": {
    "ExecuteTime": {
     "end_time": "2020-08-19T07:20:46.383162Z",
     "start_time": "2020-08-19T07:20:43.808498Z"
    }
   },
   "outputs": [],
   "source": [
    "import pandas as pd\n",
    "import numpy as np\n",
    "import matplotlib.pyplot as plt\n",
    "import tensorflow as tf\n",
    "from sklearn.preprocessing import OneHotEncoder\n",
    "from sklearn.model_selection import train_test_split\n",
    "from tensorflow.keras.models import Model\n",
    "from tensorflow.keras.layers import Input, Conv2D, MaxPooling2D, Flatten, Dense, Activation\n",
    "from tensorflow.keras.layers import concatenate, Dropout, AveragePooling2D, GlobalAveragePooling2D\n",
    "from tensorflow.keras.layers import BatchNormalization\n",
    "from tensorflow.keras.preprocessing.image import ImageDataGenerator\n",
    "from tensorflow.keras.callbacks import EarlyStopping, ModelCheckpoint\n",
    "\n",
    "# seed\n",
    "import os\n",
    "seed = 123\n",
    "os.environ['PYTHONHASHSEED'] = str(seed)\n",
    "np.random.seed(seed)\n",
    "tf.random.set_seed(seed)"
   ]
  },
  {
   "cell_type": "code",
   "execution_count": 2,
   "metadata": {
    "ExecuteTime": {
     "end_time": "2020-08-19T07:20:47.358415Z",
     "start_time": "2020-08-19T07:20:46.385042Z"
    }
   },
   "outputs": [],
   "source": [
    "train = pd.read_csv('data/train.csv')\n",
    "test = pd.read_csv('data/test.csv')"
   ]
  },
  {
   "cell_type": "code",
   "execution_count": 3,
   "metadata": {
    "ExecuteTime": {
     "end_time": "2020-08-19T07:20:47.365417Z",
     "start_time": "2020-08-19T07:20:47.360415Z"
    }
   },
   "outputs": [],
   "source": [
    "image_generator = ImageDataGenerator(width_shift_range=0.1,\n",
    "                                     height_shift_range=0.1, \n",
    "                                     zoom_range=[0.8,1.2],\n",
    "                                     #brightness_range=[0.75,1.25], \n",
    "                                     shear_range=10)"
   ]
  },
  {
   "cell_type": "code",
   "execution_count": 4,
   "metadata": {
    "ExecuteTime": {
     "end_time": "2020-08-19T07:20:54.121613Z",
     "start_time": "2020-08-19T07:20:47.367418Z"
    }
   },
   "outputs": [
    {
     "name": "stdout",
     "output_type": "stream",
     "text": [
      "(20480, 28, 28, 1)\n"
     ]
    }
   ],
   "source": [
    "x1 = train.drop(['id', 'digit', 'letter'], axis=1).values\n",
    "x1 = x1.reshape(-1, 28, 28, 1)\n",
    "x1 = x1/255\n",
    "x1_total = x1.copy()\n",
    "\n",
    "def augment(x):\n",
    "    aug_list = []\n",
    "    for i in range(x1.shape[0]):\n",
    "        num_aug = 0\n",
    "        tmp = x1[i]\n",
    "        tmp = tmp.reshape((1,) + tmp.shape)\n",
    "        for x_aug in image_generator.flow(tmp, batch_size = 1) :\n",
    "            if num_aug >= 1:\n",
    "                break\n",
    "            aug_list.append(x_aug[0])\n",
    "            num_aug += 1\n",
    "    aug_list = np.array(aug_list)\n",
    "    return aug_list\n",
    "\n",
    "n = 9\n",
    "for i in range(n):\n",
    "    arr = augment(x1)\n",
    "    x1_total = np.concatenate((x1_total, arr), axis=0)\n",
    "    if i > n:\n",
    "        break\n",
    "\n",
    "print(x1_total.shape)"
   ]
  },
  {
   "cell_type": "code",
   "execution_count": 5,
   "metadata": {
    "ExecuteTime": {
     "end_time": "2020-08-19T07:20:54.138331Z",
     "start_time": "2020-08-19T07:20:54.124615Z"
    }
   },
   "outputs": [
    {
     "name": "stdout",
     "output_type": "stream",
     "text": [
      "(20480, 10)\n"
     ]
    }
   ],
   "source": [
    "y1_data = train['digit']\n",
    "y1 = np.zeros((len(y1_data), len(y1_data.unique())))\n",
    "for i, digit in enumerate(y1_data):\n",
    "    y1[i, digit] = 1\n",
    "\n",
    "y1_total = y1.copy()\n",
    "for i in range(n):\n",
    "    arr = y1.copy()\n",
    "    y1_total = np.concatenate((y1_total, arr), axis=0)\n",
    "\n",
    "print(y1_total.shape)"
   ]
  },
  {
   "cell_type": "code",
   "execution_count": 6,
   "metadata": {
    "ExecuteTime": {
     "end_time": "2020-08-19T07:20:54.182891Z",
     "start_time": "2020-08-19T07:20:54.140811Z"
    }
   },
   "outputs": [
    {
     "name": "stdout",
     "output_type": "stream",
     "text": [
      "(20480, 26)\n"
     ]
    }
   ],
   "source": [
    "x1_let = train['letter'].values\n",
    "x1_let = x1_let[:, np.newaxis]\n",
    "en = OneHotEncoder()\n",
    "x1_let = en.fit_transform(x1_let).toarray()\n",
    "\n",
    "x1_letter_total = x1_let.copy()\n",
    "for i in range(n):\n",
    "    arr = x1_let.copy()\n",
    "    x1_letter_total = np.concatenate((x1_letter_total, arr), axis=0)\n",
    "\n",
    "print(x1_letter_total.shape)"
   ]
  },
  {
   "cell_type": "code",
   "execution_count": 7,
   "metadata": {
    "ExecuteTime": {
     "end_time": "2020-08-19T07:20:54.444811Z",
     "start_time": "2020-08-19T07:20:54.184894Z"
    }
   },
   "outputs": [
    {
     "name": "stdout",
     "output_type": "stream",
     "text": [
      "(16384, 28, 28, 1)\n",
      "(4096, 28, 28, 1)\n",
      "(16384, 10)\n",
      "(4096, 10)\n",
      "(16384, 26)\n",
      "(4096, 26)\n"
     ]
    }
   ],
   "source": [
    "x1_train, x1_val, y1_train, y1_val = train_test_split(x1_total, y1_total, test_size=0.2, shuffle=True, stratify=y1_total)\n",
    "\n",
    "print(x1_train.shape)\n",
    "print(x1_val.shape)\n",
    "print(y1_train.shape)\n",
    "print(y1_val.shape)\n",
    "\n",
    "x1_letter_train = x1_letter_total[:x1_train.shape[0],:]\n",
    "x1_letter_val = x1_letter_total[x1_train.shape[0]:,:]\n",
    "print(x1_letter_train.shape)\n",
    "print(x1_letter_val.shape)"
   ]
  },
  {
   "cell_type": "code",
   "execution_count": 8,
   "metadata": {
    "ExecuteTime": {
     "end_time": "2020-08-19T07:20:54.637319Z",
     "start_time": "2020-08-19T07:20:54.446811Z"
    }
   },
   "outputs": [
    {
     "name": "stdout",
     "output_type": "stream",
     "text": [
      "Model: \"model\"\n",
      "__________________________________________________________________________________________________\n",
      "Layer (type)                    Output Shape         Param #     Connected to                     \n",
      "==================================================================================================\n",
      "input_1 (InputLayer)            [(None, 28, 28, 1)]  0                                            \n",
      "__________________________________________________________________________________________________\n",
      "conv2d (Conv2D)                 (None, 28, 28, 64)   640         input_1[0][0]                    \n",
      "__________________________________________________________________________________________________\n",
      "dropout (Dropout)               (None, 28, 28, 64)   0           conv2d[0][0]                     \n",
      "__________________________________________________________________________________________________\n",
      "max_pooling2d (MaxPooling2D)    (None, 14, 14, 64)   0           dropout[0][0]                    \n",
      "__________________________________________________________________________________________________\n",
      "conv2d_1 (Conv2D)               (None, 14, 14, 64)   16448       max_pooling2d[0][0]              \n",
      "__________________________________________________________________________________________________\n",
      "dropout_1 (Dropout)             (None, 14, 14, 64)   0           conv2d_1[0][0]                   \n",
      "__________________________________________________________________________________________________\n",
      "max_pooling2d_1 (MaxPooling2D)  (None, 7, 7, 64)     0           dropout_1[0][0]                  \n",
      "__________________________________________________________________________________________________\n",
      "conv2d_2 (Conv2D)               (None, 7, 7, 128)    32896       max_pooling2d_1[0][0]            \n",
      "__________________________________________________________________________________________________\n",
      "dropout_2 (Dropout)             (None, 7, 7, 128)    0           conv2d_2[0][0]                   \n",
      "__________________________________________________________________________________________________\n",
      "max_pooling2d_2 (MaxPooling2D)  (None, 3, 3, 128)    0           dropout_2[0][0]                  \n",
      "__________________________________________________________________________________________________\n",
      "flatten (Flatten)               (None, 1152)         0           max_pooling2d_2[0][0]            \n",
      "__________________________________________________________________________________________________\n",
      "input_2 (InputLayer)            [(None, 26)]         0                                            \n",
      "__________________________________________________________________________________________________\n",
      "concatenate (Concatenate)       (None, 1178)         0           flatten[0][0]                    \n",
      "                                                                 input_2[0][0]                    \n",
      "__________________________________________________________________________________________________\n",
      "dense (Dense)                   (None, 500)          589500      concatenate[0][0]                \n",
      "__________________________________________________________________________________________________\n",
      "dropout_3 (Dropout)             (None, 500)          0           dense[0][0]                      \n",
      "__________________________________________________________________________________________________\n",
      "dense_1 (Dense)                 (None, 100)          50100       dropout_3[0][0]                  \n",
      "__________________________________________________________________________________________________\n",
      "dropout_4 (Dropout)             (None, 100)          0           dense_1[0][0]                    \n",
      "__________________________________________________________________________________________________\n",
      "dense_2 (Dense)                 (None, 50)           5050        dropout_4[0][0]                  \n",
      "__________________________________________________________________________________________________\n",
      "dense_3 (Dense)                 (None, 10)           510         dense_2[0][0]                    \n",
      "==================================================================================================\n",
      "Total params: 695,144\n",
      "Trainable params: 695,144\n",
      "Non-trainable params: 0\n",
      "__________________________________________________________________________________________________\n"
     ]
    }
   ],
   "source": [
    "input1 = Input(shape=(28,28,1))\n",
    "x1 = Conv2D(64, (3,3), activation='relu', padding='same')(input1)\n",
    "x1 = Dropout(0.3)(x1)\n",
    "x1 = MaxPooling2D((2,2))(x1)\n",
    "x1 = Conv2D(64, (2,2), activation='relu', padding='same')(x1)\n",
    "x1 = Dropout(0.3)(x1)\n",
    "x1 = MaxPooling2D((2,2))(x1)\n",
    "x1 = Conv2D(128, (2,2), activation='relu', padding='same')(x1)\n",
    "x1 = Dropout(0.3)(x1)\n",
    "x1 = MaxPooling2D((2,2))(x1)\n",
    "x1 = Flatten()(x1)\n",
    "\n",
    "input2 = Input(shape=(26,))\n",
    "merge = concatenate([x1, input2])\n",
    "\n",
    "x2 = Dense(500, activation='relu')(merge)\n",
    "x2 = Dropout(0.3)(x2)\n",
    "x2 = Dense(100, activation='relu')(x2)\n",
    "x2 = Dropout(0.3)(x2)\n",
    "x2 = Dense(50, activation='relu')(x2)\n",
    "outputs = Dense(10, activation='softmax')(x2)\n",
    "\n",
    "model = Model(inputs = [input1, input2], outputs = outputs)\n",
    "\n",
    "model.summary()"
   ]
  },
  {
   "cell_type": "code",
   "execution_count": 11,
   "metadata": {
    "ExecuteTime": {
     "end_time": "2020-08-19T07:52:01.583244Z",
     "start_time": "2020-08-19T07:30:17.451243Z"
    }
   },
   "outputs": [
    {
     "name": "stdout",
     "output_type": "stream",
     "text": [
      "Train on 16384 samples, validate on 4096 samples\n",
      "Epoch 1/50\n",
      "16384/16384 [==============================] - 25s 2ms/sample - loss: 1.0214 - accuracy: 0.6430 - val_loss: 1.2390 - val_accuracy: 0.5999\n",
      "Epoch 2/50\n",
      "16384/16384 [==============================] - 25s 2ms/sample - loss: 1.0099 - accuracy: 0.6552 - val_loss: 1.0444 - val_accuracy: 0.6836\n",
      "Epoch 3/50\n",
      "16384/16384 [==============================] - 29s 2ms/sample - loss: 0.8641 - accuracy: 0.7012 - val_loss: 0.9332 - val_accuracy: 0.7400\n",
      "Epoch 4/50\n",
      "16384/16384 [==============================] - 27s 2ms/sample - loss: 0.7614 - accuracy: 0.7382 - val_loss: 0.8233 - val_accuracy: 0.7632\n",
      "Epoch 5/50\n",
      "16384/16384 [==============================] - 29s 2ms/sample - loss: 0.6758 - accuracy: 0.7686 - val_loss: 0.7440 - val_accuracy: 0.7964\n",
      "Epoch 6/50\n",
      "16384/16384 [==============================] - 28s 2ms/sample - loss: 0.6056 - accuracy: 0.7919 - val_loss: 0.6232 - val_accuracy: 0.8086\n",
      "Epoch 7/50\n",
      "16384/16384 [==============================] - 27s 2ms/sample - loss: 0.5435 - accuracy: 0.8155 - val_loss: 0.6144 - val_accuracy: 0.8342\n",
      "Epoch 8/50\n",
      "16384/16384 [==============================] - 27s 2ms/sample - loss: 0.4899 - accuracy: 0.8330 - val_loss: 0.5687 - val_accuracy: 0.8462\n",
      "Epoch 9/50\n",
      "16384/16384 [==============================] - 26s 2ms/sample - loss: 0.4521 - accuracy: 0.8463 - val_loss: 0.4797 - val_accuracy: 0.8606\n",
      "Epoch 10/50\n",
      "16384/16384 [==============================] - 26s 2ms/sample - loss: 0.4150 - accuracy: 0.8588 - val_loss: 0.5068 - val_accuracy: 0.8440\n",
      "Epoch 11/50\n",
      "16384/16384 [==============================] - 26s 2ms/sample - loss: 0.3802 - accuracy: 0.8728 - val_loss: 0.4338 - val_accuracy: 0.8674\n",
      "Epoch 12/50\n",
      "16384/16384 [==============================] - 26s 2ms/sample - loss: 0.3546 - accuracy: 0.8792 - val_loss: 0.4118 - val_accuracy: 0.8748\n",
      "Epoch 13/50\n",
      "16384/16384 [==============================] - 26s 2ms/sample - loss: 0.3190 - accuracy: 0.8906 - val_loss: 0.4189 - val_accuracy: 0.8752\n",
      "Epoch 14/50\n",
      "16384/16384 [==============================] - 26s 2ms/sample - loss: 0.3082 - accuracy: 0.8970 - val_loss: 0.3697 - val_accuracy: 0.8899\n",
      "Epoch 15/50\n",
      "16384/16384 [==============================] - 26s 2ms/sample - loss: 0.2915 - accuracy: 0.9003 - val_loss: 0.3515 - val_accuracy: 0.8916\n",
      "Epoch 16/50\n",
      "16384/16384 [==============================] - 26s 2ms/sample - loss: 0.2640 - accuracy: 0.9116 - val_loss: 0.3365 - val_accuracy: 0.8931\n",
      "Epoch 17/50\n",
      "16384/16384 [==============================] - 26s 2ms/sample - loss: 0.2512 - accuracy: 0.9138 - val_loss: 0.2994 - val_accuracy: 0.9109\n",
      "Epoch 18/50\n",
      "16384/16384 [==============================] - 26s 2ms/sample - loss: 0.2430 - accuracy: 0.9180 - val_loss: 0.3065 - val_accuracy: 0.8987\n",
      "Epoch 19/50\n",
      "16384/16384 [==============================] - 26s 2ms/sample - loss: 0.2318 - accuracy: 0.9218 - val_loss: 0.3125 - val_accuracy: 0.9043\n",
      "Epoch 20/50\n",
      "16384/16384 [==============================] - 26s 2ms/sample - loss: 0.2169 - accuracy: 0.9259 - val_loss: 0.2990 - val_accuracy: 0.9062\n",
      "Epoch 21/50\n",
      "16384/16384 [==============================] - 26s 2ms/sample - loss: 0.2099 - accuracy: 0.9301 - val_loss: 0.2631 - val_accuracy: 0.9182\n",
      "Epoch 22/50\n",
      "16384/16384 [==============================] - 26s 2ms/sample - loss: 0.2114 - accuracy: 0.9292 - val_loss: 0.2945 - val_accuracy: 0.9126\n",
      "Epoch 23/50\n",
      "16384/16384 [==============================] - 26s 2ms/sample - loss: 0.1971 - accuracy: 0.9326 - val_loss: 0.3010 - val_accuracy: 0.9033\n",
      "Epoch 24/50\n",
      "16384/16384 [==============================] - 26s 2ms/sample - loss: 0.1901 - accuracy: 0.9377 - val_loss: 0.2525 - val_accuracy: 0.9241\n",
      "Epoch 25/50\n",
      "16384/16384 [==============================] - 26s 2ms/sample - loss: 0.1782 - accuracy: 0.9398 - val_loss: 0.2616 - val_accuracy: 0.9163\n",
      "Epoch 26/50\n",
      "16384/16384 [==============================] - 26s 2ms/sample - loss: 0.1721 - accuracy: 0.9434 - val_loss: 0.2628 - val_accuracy: 0.9136\n",
      "Epoch 27/50\n",
      "16384/16384 [==============================] - 27s 2ms/sample - loss: 0.1723 - accuracy: 0.9442 - val_loss: 0.2346 - val_accuracy: 0.9263\n",
      "Epoch 28/50\n",
      "16384/16384 [==============================] - 26s 2ms/sample - loss: 0.1641 - accuracy: 0.9437 - val_loss: 0.2178 - val_accuracy: 0.9272\n",
      "Epoch 29/50\n",
      "16384/16384 [==============================] - 26s 2ms/sample - loss: 0.1552 - accuracy: 0.9478 - val_loss: 0.2704 - val_accuracy: 0.9060\n",
      "Epoch 30/50\n",
      "16384/16384 [==============================] - 26s 2ms/sample - loss: 0.1684 - accuracy: 0.9431 - val_loss: 0.2327 - val_accuracy: 0.9233\n",
      "Epoch 31/50\n",
      "16384/16384 [==============================] - 26s 2ms/sample - loss: 0.1497 - accuracy: 0.9500 - val_loss: 0.2228 - val_accuracy: 0.9294\n",
      "Epoch 32/50\n",
      "16384/16384 [==============================] - 26s 2ms/sample - loss: 0.1476 - accuracy: 0.9507 - val_loss: 0.2325 - val_accuracy: 0.9275\n",
      "Epoch 33/50\n",
      "16384/16384 [==============================] - 27s 2ms/sample - loss: 0.1467 - accuracy: 0.9532 - val_loss: 0.2208 - val_accuracy: 0.9285\n",
      "Epoch 34/50\n",
      "16384/16384 [==============================] - 26s 2ms/sample - loss: 0.1498 - accuracy: 0.9506 - val_loss: 0.2287 - val_accuracy: 0.9221\n",
      "Epoch 35/50\n",
      "16384/16384 [==============================] - 26s 2ms/sample - loss: 0.1344 - accuracy: 0.9547 - val_loss: 0.2265 - val_accuracy: 0.9277\n",
      "Epoch 36/50\n",
      "16384/16384 [==============================] - 26s 2ms/sample - loss: 0.1368 - accuracy: 0.9561 - val_loss: 0.2388 - val_accuracy: 0.9260\n",
      "Epoch 37/50\n",
      "16384/16384 [==============================] - 26s 2ms/sample - loss: 0.1301 - accuracy: 0.9555 - val_loss: 0.1852 - val_accuracy: 0.9421\n",
      "Epoch 38/50\n",
      "16384/16384 [==============================] - 26s 2ms/sample - loss: 0.1359 - accuracy: 0.9552 - val_loss: 0.2008 - val_accuracy: 0.9373\n",
      "Epoch 39/50\n",
      "16384/16384 [==============================] - 26s 2ms/sample - loss: 0.1341 - accuracy: 0.9564 - val_loss: 0.2379 - val_accuracy: 0.9241\n",
      "Epoch 40/50\n",
      "16384/16384 [==============================] - 26s 2ms/sample - loss: 0.1260 - accuracy: 0.9584 - val_loss: 0.2144 - val_accuracy: 0.9292\n",
      "Epoch 41/50\n",
      "16384/16384 [==============================] - 26s 2ms/sample - loss: 0.1274 - accuracy: 0.9592 - val_loss: 0.2068 - val_accuracy: 0.9341\n",
      "Epoch 42/50\n",
      "16384/16384 [==============================] - 25s 2ms/sample - loss: 0.1166 - accuracy: 0.9615 - val_loss: 0.1830 - val_accuracy: 0.9399\n",
      "Epoch 43/50\n",
      "16384/16384 [==============================] - 25s 2ms/sample - loss: 0.1181 - accuracy: 0.9625 - val_loss: 0.2374 - val_accuracy: 0.9182\n",
      "Epoch 44/50\n",
      "16384/16384 [==============================] - 25s 2ms/sample - loss: 0.1204 - accuracy: 0.9619 - val_loss: 0.1820 - val_accuracy: 0.9404\n",
      "Epoch 45/50\n",
      "16384/16384 [==============================] - 25s 2ms/sample - loss: 0.1122 - accuracy: 0.9628 - val_loss: 0.1783 - val_accuracy: 0.9441\n",
      "Epoch 46/50\n",
      "16384/16384 [==============================] - 25s 2ms/sample - loss: 0.1095 - accuracy: 0.9628 - val_loss: 0.1948 - val_accuracy: 0.9304\n",
      "Epoch 47/50\n",
      "16384/16384 [==============================] - 26s 2ms/sample - loss: 0.1167 - accuracy: 0.9642 - val_loss: 0.1979 - val_accuracy: 0.9321\n",
      "Epoch 48/50\n",
      "16384/16384 [==============================] - 26s 2ms/sample - loss: 0.1118 - accuracy: 0.9642 - val_loss: 0.1999 - val_accuracy: 0.9365\n",
      "Epoch 49/50\n",
      "16384/16384 [==============================] - 25s 2ms/sample - loss: 0.1072 - accuracy: 0.9655 - val_loss: 0.2006 - val_accuracy: 0.9353\n",
      "Epoch 50/50\n",
      "16384/16384 [==============================] - 28s 2ms/sample - loss: 0.1035 - accuracy: 0.9658 - val_loss: 0.1826 - val_accuracy: 0.9365\n"
     ]
    }
   ],
   "source": [
    "model.compile(optimizer = 'adam', metrics = ['accuracy'], loss = 'categorical_crossentropy')\n",
    "\n",
    "cp = ModelCheckpoint('./models/{epoch:02d}-{val_accuracy:.4f}.h5', monitor='val_loss',\n",
    "                     save_best_only=True, mode='min')\n",
    "\n",
    "history = model.fit([x1_train, x1_letter_train], y1_train,\n",
    "                    validation_data=([x1_val, x1_letter_val], y1_val), \n",
    "                    batch_size=64, epochs=50, verbose=1, callbacks = [cp])"
   ]
  },
  {
   "cell_type": "code",
   "execution_count": 14,
   "metadata": {
    "ExecuteTime": {
     "end_time": "2020-08-19T08:08:16.426624Z",
     "start_time": "2020-08-19T08:08:15.845238Z"
    }
   },
   "outputs": [],
   "source": [
    "from tensorflow.keras.models import load_model\n",
    "best_model = load_model('./models/45-0.9441.h5')"
   ]
  },
  {
   "cell_type": "code",
   "execution_count": 15,
   "metadata": {
    "ExecuteTime": {
     "end_time": "2020-08-19T08:08:16.589452Z",
     "start_time": "2020-08-19T08:08:16.428024Z"
    }
   },
   "outputs": [],
   "source": [
    "x_test = test.drop(['id', 'letter'], axis=1).values\n",
    "x_test = x_test.reshape(-1, 28, 28, 1)\n",
    "x_test = x_test/255\n",
    "\n",
    "x_letter_test = test['letter'].values\n",
    "x_letter_test = x_letter_test[:, np.newaxis]\n",
    "en = OneHotEncoder()\n",
    "x_letter_test = en.fit_transform(x_letter_test).toarray()"
   ]
  },
  {
   "cell_type": "code",
   "execution_count": 16,
   "metadata": {
    "ExecuteTime": {
     "end_time": "2020-08-19T08:08:21.973209Z",
     "start_time": "2020-08-19T08:08:16.591453Z"
    }
   },
   "outputs": [],
   "source": [
    "submission = pd.read_csv('data/submission.csv')\n",
    "submission['digit'] = np.argmax(best_model.predict([x_test, x_letter_test]), axis=1)"
   ]
  },
  {
   "cell_type": "code",
   "execution_count": 17,
   "metadata": {
    "ExecuteTime": {
     "end_time": "2020-08-19T08:08:22.014163Z",
     "start_time": "2020-08-19T08:08:21.974204Z"
    }
   },
   "outputs": [],
   "source": [
    "submission.to_csv('data/submission(CNN).csv', index=False)"
   ]
  },
  {
   "cell_type": "code",
   "execution_count": null,
   "metadata": {},
   "outputs": [],
   "source": []
  }
 ],
 "metadata": {
  "kernelspec": {
   "display_name": "Tensorflow",
   "language": "python",
   "name": "tensorflow"
  },
  "language_info": {
   "codemirror_mode": {
    "name": "ipython",
    "version": 3
   },
   "file_extension": ".py",
   "mimetype": "text/x-python",
   "name": "python",
   "nbconvert_exporter": "python",
   "pygments_lexer": "ipython3",
   "version": "3.7.6"
  }
 },
 "nbformat": 4,
 "nbformat_minor": 4
}
