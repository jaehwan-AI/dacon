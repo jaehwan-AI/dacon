{
 "cells": [
  {
   "cell_type": "code",
   "execution_count": 8,
   "metadata": {
    "ExecuteTime": {
     "end_time": "2020-08-20T10:43:16.309200Z",
     "start_time": "2020-08-20T10:43:16.305207Z"
    }
   },
   "outputs": [],
   "source": [
    "import pandas as pd\n",
    "import numpy as np"
   ]
  },
  {
   "cell_type": "code",
   "execution_count": 3,
   "metadata": {
    "ExecuteTime": {
     "end_time": "2020-08-20T10:41:34.288989Z",
     "start_time": "2020-08-20T10:41:33.049329Z"
    }
   },
   "outputs": [],
   "source": [
    "train = pd.read_csv('data/train.csv', index_col = 0, header = 0, sep = ',')\n",
    "test = pd.read_csv('data/test.csv', index_col = 0, header = 0, sep = ',')"
   ]
  },
  {
   "cell_type": "code",
   "execution_count": 6,
   "metadata": {
    "ExecuteTime": {
     "end_time": "2020-08-20T10:42:59.182703Z",
     "start_time": "2020-08-20T10:42:58.876704Z"
    }
   },
   "outputs": [],
   "source": [
    "train = train.values\n",
    "test = test.values"
   ]
  },
  {
   "cell_type": "code",
   "execution_count": 9,
   "metadata": {
    "ExecuteTime": {
     "end_time": "2020-08-20T10:43:47.052130Z",
     "start_time": "2020-08-20T10:43:46.098240Z"
    }
   },
   "outputs": [],
   "source": [
    "np.save('data/train.npy', arr = train)\n",
    "np.save('data/test.npy', arr = test)"
   ]
  },
  {
   "cell_type": "code",
   "execution_count": null,
   "metadata": {},
   "outputs": [],
   "source": []
  }
 ],
 "metadata": {
  "kernelspec": {
   "display_name": "Tensorflow",
   "language": "python",
   "name": "tensorflow"
  },
  "language_info": {
   "codemirror_mode": {
    "name": "ipython",
    "version": 3
   },
   "file_extension": ".py",
   "mimetype": "text/x-python",
   "name": "python",
   "nbconvert_exporter": "python",
   "pygments_lexer": "ipython3",
   "version": "3.7.6"
  }
 },
 "nbformat": 4,
 "nbformat_minor": 4
}
