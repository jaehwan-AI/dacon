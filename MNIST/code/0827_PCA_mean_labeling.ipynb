{
 "cells": [
  {
   "cell_type": "code",
   "execution_count": 1,
   "metadata": {
    "ExecuteTime": {
     "end_time": "2020-08-27T05:16:53.985735Z",
     "start_time": "2020-08-27T05:16:51.415339Z"
    }
   },
   "outputs": [],
   "source": [
    "import pandas as pd\n",
    "import numpy as np\n",
    "import matplotlib.pyplot as plt\n",
    "from tensorflow.keras.preprocessing.image import ImageDataGenerator\n",
    "from sklearn.preprocessing import OneHotEncoder, StandardScaler, MinMaxScaler\n",
    "from sklearn.model_selection import train_test_split\n",
    "\n",
    "import tensorflow as tf\n",
    "from sklearn.decomposition import PCA\n",
    "from tensorflow.keras.models import Model\n",
    "from tensorflow.keras.layers import Input, Conv2D, MaxPooling2D, Flatten, Dense\n",
    "from tensorflow.keras.layers import concatenate, Dropout, GlobalAveragePooling2D\n",
    "from tensorflow.keras.layers import BatchNormalization, Activation, AveragePooling2D\n",
    "from tensorflow.keras.callbacks import EarlyStopping, ModelCheckpoint\n",
    "\n",
    "# seed\n",
    "import os\n",
    "seed = 123\n",
    "os.environ['PYTHONHASHSEED'] = str(seed)\n",
    "np.random.seed(seed)\n",
    "tf.random.set_seed(seed)"
   ]
  },
  {
   "cell_type": "code",
   "execution_count": 2,
   "metadata": {
    "ExecuteTime": {
     "end_time": "2020-08-27T05:16:55.158201Z",
     "start_time": "2020-08-27T05:16:53.986737Z"
    }
   },
   "outputs": [],
   "source": [
    "train = np.load('data/train.npy', allow_pickle = 'True')\n",
    "test = np.load('data/test.npy', allow_pickle = 'True')"
   ]
  },
  {
   "cell_type": "code",
   "execution_count": 3,
   "metadata": {
    "ExecuteTime": {
     "end_time": "2020-08-27T05:16:55.403907Z",
     "start_time": "2020-08-27T05:16:55.160202Z"
    }
   },
   "outputs": [],
   "source": [
    "train_image = train[:,2:].reshape(-1,28,28).astype(np.int)\n",
    "train_digit = train[:,0]\n",
    "train_letter = train[:,1]\n",
    "train_del_noise = np.where(train_image>=150, train_image, 0)\n",
    "\n",
    "test_image = test[:,1:].reshape(-1,28,28).astype(np.int)"
   ]
  },
  {
   "cell_type": "code",
   "execution_count": 4,
   "metadata": {
    "ExecuteTime": {
     "end_time": "2020-08-27T05:16:55.419036Z",
     "start_time": "2020-08-27T05:16:55.404863Z"
    }
   },
   "outputs": [],
   "source": [
    "def class_pca_mean(data, num, n):\n",
    "    lst = []\n",
    "    for idx in range(len(data)):\n",
    "        if train_digit[idx] == num:\n",
    "            lst.append(data[idx])\n",
    "    lst = np.array(lst)\n",
    "    \n",
    "    pca = PCA(n_components=n)\n",
    "    x = lst.reshape(lst.shape[0],-1).copy()\n",
    "    w = pca.fit_transform(x)\n",
    "    return pca.mean_"
   ]
  },
  {
   "cell_type": "code",
   "execution_count": 5,
   "metadata": {
    "ExecuteTime": {
     "end_time": "2020-08-27T05:16:55.562326Z",
     "start_time": "2020-08-27T05:16:55.420942Z"
    }
   },
   "outputs": [],
   "source": [
    "label_0 = class_pca_mean(train_image, 0, 5)\n",
    "label_1 = class_pca_mean(train_image, 1, 5)\n",
    "label_2 = class_pca_mean(train_image, 2, 5)\n",
    "label_3 = class_pca_mean(train_image, 3, 5)\n",
    "label_4 = class_pca_mean(train_image, 4, 5)\n",
    "label_5 = class_pca_mean(train_image, 5, 5)\n",
    "label_6 = class_pca_mean(train_image, 6, 5)\n",
    "label_7 = class_pca_mean(train_image, 7, 5)\n",
    "label_8 = class_pca_mean(train_image, 8, 5)\n",
    "label_9 = class_pca_mean(train_image, 9, 5)"
   ]
  },
  {
   "cell_type": "code",
   "execution_count": 6,
   "metadata": {
    "ExecuteTime": {
     "end_time": "2020-08-27T05:16:55.582781Z",
     "start_time": "2020-08-27T05:16:55.562779Z"
    }
   },
   "outputs": [],
   "source": [
    "mid_label = []\n",
    "for idx in range(len(train_digit)):\n",
    "    if train_digit[idx] == 0:\n",
    "        mid_label.append(label_0)\n",
    "    elif train_digit[idx] == 1:\n",
    "        mid_label.append(label_1)\n",
    "    elif train_digit[idx] == 2:\n",
    "        mid_label.append(label_2)\n",
    "    elif train_digit[idx] == 3:\n",
    "        mid_label.append(label_3)\n",
    "    elif train_digit[idx] == 4:\n",
    "        mid_label.append(label_4)\n",
    "    elif train_digit[idx] == 5:\n",
    "        mid_label.append(label_5)\n",
    "    elif train_digit[idx] == 6:\n",
    "        mid_label.append(label_6)\n",
    "    elif train_digit[idx] == 7:\n",
    "        mid_label.append(label_7)\n",
    "    elif train_digit[idx] == 8:\n",
    "        mid_label.append(label_8)\n",
    "    else:\n",
    "        mid_label.append(label_9)\n",
    "mid_label = np.array(mid_label)\n",
    "m = mid_label.copy()\n",
    "#m = mid_label.reshape(-1,mid_label.shape[0])"
   ]
  },
  {
   "cell_type": "code",
   "execution_count": 7,
   "metadata": {
    "ExecuteTime": {
     "end_time": "2020-08-27T05:16:55.589792Z",
     "start_time": "2020-08-27T05:16:55.584782Z"
    }
   },
   "outputs": [
    {
     "data": {
      "text/plain": [
       "(2048, 784)"
      ]
     },
     "execution_count": 7,
     "metadata": {},
     "output_type": "execute_result"
    }
   ],
   "source": [
    "m.shape"
   ]
  },
  {
   "cell_type": "code",
   "execution_count": 8,
   "metadata": {
    "ExecuteTime": {
     "end_time": "2020-08-27T05:16:55.612832Z",
     "start_time": "2020-08-27T05:16:55.590783Z"
    }
   },
   "outputs": [
    {
     "data": {
      "text/plain": [
       "(784,)"
      ]
     },
     "execution_count": 8,
     "metadata": {},
     "output_type": "execute_result"
    }
   ],
   "source": [
    "m[0].shape"
   ]
  },
  {
   "cell_type": "code",
   "execution_count": 9,
   "metadata": {
    "ExecuteTime": {
     "end_time": "2020-08-27T05:16:55.629812Z",
     "start_time": "2020-08-27T05:16:55.615818Z"
    }
   },
   "outputs": [
    {
     "data": {
      "text/plain": [
       "array([  1.89777778,   1.85777778,   2.01333333,   2.04      ,\n",
       "         2.04444444,   2.        ,   1.94222222,   1.93333333,\n",
       "         1.99111111,   1.87555556,   2.07111111,   2.08      ,\n",
       "         2.06222222,   1.88      ,   1.87111111,   2.08      ,\n",
       "         1.91555556,   1.96      ,   1.91111111,   1.92444444,\n",
       "         1.80444444,   2.06222222,   1.96444444,   1.89333333,\n",
       "         1.94666667,   2.14222222,   2.02222222,   1.98666667,\n",
       "         1.80444444,   1.93333333,   1.94222222,   1.99111111,\n",
       "         2.00444444,   1.84      ,   1.97777778,   2.17333333,\n",
       "         1.96888889,   2.10666667,   2.15111111,   2.24      ,\n",
       "         2.29777778,   2.2       ,   2.20888889,   2.13777778,\n",
       "         2.21777778,   2.52888889,   2.64444444,   2.17333333,\n",
       "         2.22666667,   2.37777778,   2.19111111,   2.12      ,\n",
       "         2.08      ,   1.94666667,   1.91555556,   1.91111111,\n",
       "         1.96      ,   1.90222222,   2.04      ,   1.87555556,\n",
       "         2.32888889,   3.01333333,   3.90666667,   3.24444444,\n",
       "         2.93777778,   3.83111111,   5.33777778,   5.18666667,\n",
       "         5.85777778,   7.60444444,   9.38666667,  11.29777778,\n",
       "        12.48444444,  15.4       ,  16.65777778,  15.65333333,\n",
       "        13.56444444,  11.10222222,   9.38666667,   6.46666667,\n",
       "         3.61777778,   2.48444444,   2.00888889,   2.02666667,\n",
       "         1.98666667,   1.99555556,   2.11111111,   2.61777778,\n",
       "         3.85333333,   5.57333333,   7.40444444,   8.70222222,\n",
       "         9.16444444,  11.52      ,  13.80444444,  17.32888889,\n",
       "        24.21777778,  28.71555556,  33.46666667,  36.52      ,\n",
       "        42.00888889,  45.48888889,  47.05777778,  48.01777778,\n",
       "        43.61333333,  37.46222222,  29.74666667,  20.79111111,\n",
       "        10.93333333,   4.46222222,   2.12      ,   2.04      ,\n",
       "         2.01333333,   1.86222222,   2.02666667,   3.97333333,\n",
       "         6.02666667,   9.57333333,  12.07111111,  15.15555556,\n",
       "        18.75555556,  23.84      ,  30.48      ,  36.85333333,\n",
       "        44.26222222,  52.52      ,  58.83111111,  68.16444444,\n",
       "        70.83555556,  73.27555556,  74.63555556,  74.57333333,\n",
       "        70.96444444,  61.89333333,  48.92      ,  35.02666667,\n",
       "        17.88      ,   7.67111111,   2.19111111,   1.94666667,\n",
       "         2.03111111,   2.10222222,   2.56888889,   5.22222222,\n",
       "        11.00888889,  16.77777778,  21.67555556,  25.96444444,\n",
       "        33.71555556,  40.28444444,  46.28444444,  52.67111111,\n",
       "        62.74666667,  71.52      ,  79.95555556,  88.91111111,\n",
       "        91.28444444,  93.96444444,  91.58222222,  87.81333333,\n",
       "        81.21333333,  71.23555556,  59.70222222,  44.48      ,\n",
       "        25.43111111,   8.75555556,   2.59111111,   2.10222222,\n",
       "         2.01777778,   2.38666667,   3.42222222,   8.00444444,\n",
       "        14.95111111,  23.44      ,  29.98666667,  37.98222222,\n",
       "        48.00444444,  58.39111111,  62.70666667,  68.50222222,\n",
       "        73.98666667,  84.10222222,  90.84      ,  95.05777778,\n",
       "        98.58222222,  97.6       ,  94.20444444,  86.36444444,\n",
       "        78.53777778,  69.76444444,  57.88888889,  44.72      ,\n",
       "        27.10666667,  11.26222222,   2.65333333,   2.01333333,\n",
       "         1.96888889,   2.24444444,   4.53777778,  10.89333333,\n",
       "        18.89333333,  29.30222222,  40.47555556,  50.74222222,\n",
       "        65.76888889,  73.23111111,  77.36888889,  78.74666667,\n",
       "        80.65333333,  82.96444444,  88.41777778,  90.03111111,\n",
       "        91.21777778,  90.38222222,  87.21333333,  76.12444444,\n",
       "        66.44444444,  57.92888889,  49.98222222,  38.28888889,\n",
       "        24.04444444,   9.13333333,   2.26222222,   1.94666667,\n",
       "         2.00888889,   2.36      ,   7.30666667,  13.56444444,\n",
       "        21.88888889,  34.34222222,  50.64888889,  65.36888889,\n",
       "        79.33333333,  83.99111111,  83.20888889,  85.        ,\n",
       "        84.56      ,  80.67555556,  80.76      ,  77.90222222,\n",
       "        79.13333333,  78.54222222,  73.04444444,  64.93333333,\n",
       "        55.53333333,  48.82222222,  43.74666667,  30.32      ,\n",
       "        15.08888889,   5.36      ,   2.11111111,   2.03555556,\n",
       "         2.07111111,   2.14222222,   7.11111111,  14.33333333,\n",
       "        23.53777778,  39.66666667,  58.10222222,  73.13777778,\n",
       "        85.84      ,  89.89777778,  85.31111111,  83.24      ,\n",
       "        77.90222222,  77.85777778,  73.68      ,  70.42666667,\n",
       "        66.60888889,  63.63111111,  59.56888889,  53.08888889,\n",
       "        44.38222222,  40.64      ,  34.42222222,  22.68888889,\n",
       "        10.98222222,   3.85333333,   1.98222222,   1.99111111,\n",
       "         2.13333333,   2.18222222,   5.71555556,  13.25777778,\n",
       "        25.12      ,  42.32444444,  60.73777778,  76.08888889,\n",
       "        89.73333333,  92.84444444,  86.33777778,  84.34666667,\n",
       "        81.76      ,  78.94666667,  75.79555556,  70.05777778,\n",
       "        62.64444444,  57.34222222,  52.92      ,  46.31555556,\n",
       "        42.59555556,  39.28888889,  31.70666667,  20.61777778,\n",
       "        10.72444444,   3.32      ,   2.01777778,   2.02222222,\n",
       "         1.90666667,   2.09333333,   5.06666667,  12.80444444,\n",
       "        26.10666667,  43.96888889,  63.03111111,  76.48444444,\n",
       "        91.42222222,  96.81777778,  94.93333333,  93.72888889,\n",
       "        92.95555556,  91.37333333,  90.63111111,  81.31555556,\n",
       "        70.79111111,  57.46222222,  50.32444444,  44.86222222,\n",
       "        42.56      ,  37.87111111,  31.32      ,  20.90222222,\n",
       "        10.23555556,   3.40888889,   1.98222222,   2.04      ,\n",
       "         1.98666667,   2.04444444,   4.51555556,  12.51555556,\n",
       "        25.46222222,  43.90222222,  58.63555556,  73.58666667,\n",
       "        87.26222222,  92.76      , 100.05333333, 104.93333333,\n",
       "       106.11111111, 107.81333333, 109.17333333,  94.77333333,\n",
       "        79.64      ,  68.16444444,  55.44888889,  46.27555556,\n",
       "        41.03555556,  35.36      ,  28.8       ,  20.20444444,\n",
       "         9.77333333,   3.74222222,   2.01333333,   2.09777778,\n",
       "         2.09777778,   2.08888889,   5.27555556,  13.48      ,\n",
       "        26.48      ,  41.24444444,  54.67111111,  72.38666667,\n",
       "        80.06666667,  86.76      ,  96.52888889, 103.83555556,\n",
       "       110.41777778, 116.08      , 115.30666667, 103.60444444,\n",
       "        83.55555556,  75.76888889,  64.51555556,  50.59111111,\n",
       "        39.88888889,  33.        ,  26.99555556,  20.16888889,\n",
       "        10.09777778,   3.98666667,   1.83111111,   1.94222222,\n",
       "         2.02666667,   2.03111111,   5.24      ,  14.26222222,\n",
       "        27.47111111,  41.62222222,  53.56      ,  65.89777778,\n",
       "        72.48888889,  76.76444444,  85.69777778,  96.44888889,\n",
       "       104.01333333, 108.72888889, 108.36      ,  99.41333333,\n",
       "        84.20444444,  73.93777778,  67.33777778,  55.42666667,\n",
       "        41.65777778,  33.27111111,  27.24      ,  18.77777778,\n",
       "        10.63111111,   4.16      ,   2.05333333,   2.02222222,\n",
       "         1.84444444,   1.97333333,   5.64888889,  16.99555556,\n",
       "        30.87555556,  42.89777778,  51.96      ,  61.17777778,\n",
       "        63.62666667,  67.08888889,  75.31111111,  83.26222222,\n",
       "        90.76444444,  95.39555556,  96.56      ,  87.55555556,\n",
       "        75.84888889,  70.27111111,  65.45333333,  56.43555556,\n",
       "        46.81777778,  35.22666667,  29.66666667,  20.38222222,\n",
       "        10.58666667,   4.19555556,   2.19111111,   1.95111111,\n",
       "         2.03555556,   2.12444444,   6.6       ,  18.90222222,\n",
       "        34.17333333,  45.22666667,  52.59555556,  55.58222222,\n",
       "        53.93777778,  55.90666667,  65.16888889,  72.73333333,\n",
       "        81.25777778,  85.14222222,  84.45333333,  78.95111111,\n",
       "        70.50666667,  64.40444444,  60.60444444,  57.97333333,\n",
       "        46.87555556,  38.62222222,  30.84444444,  21.33333333,\n",
       "        10.75111111,   4.29777778,   2.12888889,   2.01333333,\n",
       "         2.05333333,   1.78222222,   6.93333333,  22.41333333,\n",
       "        38.26666667,  47.18222222,  51.82666667,  52.53333333,\n",
       "        53.49333333,  55.74222222,  62.49333333,  70.42666667,\n",
       "        77.17777778,  77.65777778,  75.66222222,  70.52      ,\n",
       "        64.65777778,  61.22222222,  60.56      ,  58.28888889,\n",
       "        48.76      ,  40.26666667,  32.92444444,  21.18222222,\n",
       "        10.46666667,   4.69777778,   2.23555556,   1.81777778,\n",
       "         2.12      ,   2.21777778,   9.41333333,  29.30666667,\n",
       "        45.89777778,  54.82666667,  56.80888889,  59.54666667,\n",
       "        60.20888889,  62.21777778,  64.52888889,  72.26222222,\n",
       "        77.26666667,  75.69333333,  71.67111111,  68.04      ,\n",
       "        62.8       ,  62.97777778,  64.49777778,  61.53333333,\n",
       "        51.42222222,  41.82222222,  32.64      ,  20.86666667,\n",
       "        10.73333333,   4.89333333,   1.95555556,   1.98222222,\n",
       "         2.04888889,   2.28888889,  11.87555556,  36.48888889,\n",
       "        55.80444444,  65.84      ,  70.80444444,  75.31111111,\n",
       "        76.44888889,  76.37333333,  76.48      ,  79.65777778,\n",
       "        80.55111111,  80.52444444,  78.64888889,  74.55111111,\n",
       "        72.23111111,  72.70222222,  71.14222222,  62.95111111,\n",
       "        50.66222222,  40.81777778,  31.11111111,  19.97777778,\n",
       "        10.93333333,   4.41333333,   2.01333333,   2.18666667,\n",
       "         2.07111111,   2.28      ,  10.95111111,  36.71111111,\n",
       "        62.68888889,  76.80888889,  87.96444444,  96.52      ,\n",
       "        98.50666667,  95.76444444,  94.72444444,  89.62222222,\n",
       "        88.31111111,  87.52      ,  84.63111111,  81.05333333,\n",
       "        79.48444444,  78.27555556,  71.00888889,  62.85333333,\n",
       "        51.35111111,  41.04      ,  29.89777778,  19.10222222,\n",
       "        10.28888889,   3.99111111,   2.07555556,   2.14666667,\n",
       "         1.94666667,   2.16      ,   8.07111111,  28.93777778,\n",
       "        54.68444444,  75.48      ,  97.15111111, 114.12      ,\n",
       "       121.29777778, 116.52      , 110.29777778, 101.46222222,\n",
       "        97.78222222,  95.13777778,  87.58666667,  82.19111111,\n",
       "        82.28444444,  74.99111111,  65.12888889,  56.65333333,\n",
       "        47.53777778,  37.04888889,  27.48888889,  18.54222222,\n",
       "         9.92444444,   3.8       ,   1.93333333,   1.97777778,\n",
       "         2.00444444,   2.33333333,   6.48      ,  20.35111111,\n",
       "        39.72      ,  59.30222222,  87.25333333, 111.38666667,\n",
       "       126.16888889, 128.20444444, 121.56      , 110.11555556,\n",
       "       102.08      ,  95.06222222,  86.04      ,  79.40888889,\n",
       "        71.14666667,  62.69333333,  52.6       ,  45.66222222,\n",
       "        39.75111111,  31.18222222,  23.01777778,  15.78666667,\n",
       "         8.56888889,   3.51111111,   1.92888889,   2.01333333,\n",
       "         1.83555556,   2.07555556,   5.21333333,  14.22666667,\n",
       "        25.00444444,  38.21777778,  58.29777778,  82.09333333,\n",
       "       102.48444444, 107.99555556, 106.01777778,  94.03111111,\n",
       "        88.48      ,  81.71111111,  72.89333333,  61.84      ,\n",
       "        52.46222222,  41.80888889,  35.32444444,  33.17333333,\n",
       "        28.06666667,  22.01777778,  16.58222222,  10.82666667,\n",
       "         6.49777778,   2.95555556,   1.90222222,   2.03555556,\n",
       "         1.95111111,   2.18222222,   3.83555556,   8.42666667,\n",
       "        13.62222222,  21.88      ,  30.92      ,  40.14222222,\n",
       "        50.05777778,  57.08888889,  61.17777778,  56.88      ,\n",
       "        51.03111111,  46.46666667,  39.18222222,  32.90666667,\n",
       "        26.79111111,  23.45333333,  20.47111111,  19.21777778,\n",
       "        16.48444444,  12.65333333,   9.41777778,   5.88444444,\n",
       "         3.42222222,   2.27111111,   1.92444444,   2.04444444,\n",
       "         1.95111111,   2.00888889,   2.64      ,   4.33777778,\n",
       "         6.31111111,   7.89333333,   9.95111111,  12.44888889,\n",
       "        13.97777778,  14.56      ,  15.83111111,  15.28444444,\n",
       "        14.60888889,  13.21333333,  12.15111111,  10.12      ,\n",
       "         9.91111111,   8.49333333,   6.41333333,   6.11555556,\n",
       "         5.94222222,   5.26666667,   3.48      ,   2.38222222,\n",
       "         2.19555556,   2.        ,   1.93777778,   1.99111111,\n",
       "         2.08      ,   2.09777778,   1.87555556,   2.05777778,\n",
       "         2.14222222,   2.17333333,   2.17333333,   2.51111111,\n",
       "         2.36444444,   2.23555556,   2.44888889,   2.18222222,\n",
       "         2.24888889,   2.48      ,   2.15555556,   2.30666667,\n",
       "         2.28888889,   2.16      ,   2.2       ,   2.08444444,\n",
       "         2.18222222,   2.16444444,   2.01333333,   1.88      ,\n",
       "         2.16888889,   1.82222222,   2.00444444,   1.8       ,\n",
       "         2.02222222,   2.00444444,   2.01333333,   2.09333333,\n",
       "         1.93777778,   1.96444444,   2.09333333,   2.11111111,\n",
       "         1.89333333,   2.18222222,   2.00888889,   2.06666667,\n",
       "         1.90222222,   2.04      ,   1.95555556,   2.00444444,\n",
       "         2.00444444,   1.97777778,   2.05333333,   1.98666667,\n",
       "         2.11555556,   2.11111111,   2.03111111,   1.97777778,\n",
       "         2.25333333,   2.01333333,   1.96      ,   2.16888889])"
      ]
     },
     "execution_count": 9,
     "metadata": {},
     "output_type": "execute_result"
    }
   ],
   "source": [
    "m[0]"
   ]
  },
  {
   "cell_type": "code",
   "execution_count": 10,
   "metadata": {
    "ExecuteTime": {
     "end_time": "2020-08-27T05:16:55.707040Z",
     "start_time": "2020-08-27T05:16:55.630843Z"
    }
   },
   "outputs": [
    {
     "data": {
      "text/plain": [
       "(-0.5, 27.5, 27.5, -0.5)"
      ]
     },
     "execution_count": 10,
     "metadata": {},
     "output_type": "execute_result"
    },
    {
     "data": {
      "image/png": "[encoded data removed]",
      "text/plain": [
       "<Figure size 432x288 with 1 Axes>"
      ]
     },
     "metadata": {
      "needs_background": "light"
     },
     "output_type": "display_data"
    }
   ],
   "source": [
    "plt.imshow(m[0].reshape(28,28))\n",
    "plt.axis('off')"
   ]
  },
  {
   "cell_type": "code",
   "execution_count": 11,
   "metadata": {
    "ExecuteTime": {
     "end_time": "2020-08-27T05:16:55.712127Z",
     "start_time": "2020-08-27T05:16:55.708040Z"
    },
    "code_folding": [
     0
    ]
   },
   "outputs": [],
   "source": [
    "#scaler = MinMaxScaler()\n",
    "#scaler.fit(m)\n",
    "#m_scaled = scaler.transform(m)"
   ]
  },
  {
   "cell_type": "code",
   "execution_count": 12,
   "metadata": {
    "ExecuteTime": {
     "end_time": "2020-08-27T05:16:55.761106Z",
     "start_time": "2020-08-27T05:16:55.714042Z"
    }
   },
   "outputs": [
    {
     "name": "stdout",
     "output_type": "stream",
     "text": [
      "(2048, 28, 28, 1)\n",
      "(2048, 10)\n"
     ]
    }
   ],
   "source": [
    "x = train[:,2:]\n",
    "x = np.reshape(x, (-1, 28, 28, 1))\n",
    "x = x.astype(np.float32)\n",
    "#x_raw = train_image.copy()\n",
    "#x = np.where(x_raw>=150, x_raw, 0)\n",
    "#x = np.reshape(x, (x.shape[0], x.shape[1], x.shape[2], 1))\n",
    "#x = x/255\n",
    "\n",
    "y = train[:,0]\n",
    "y = np.reshape(y, (-1, 1))\n",
    "en = OneHotEncoder()\n",
    "y = en.fit_transform(y).toarray()\n",
    "\n",
    "print(x.shape)\n",
    "print(y.shape)"
   ]
  },
  {
   "cell_type": "code",
   "execution_count": 13,
   "metadata": {
    "ExecuteTime": {
     "end_time": "2020-08-27T05:16:55.771044Z",
     "start_time": "2020-08-27T05:16:55.763132Z"
    }
   },
   "outputs": [
    {
     "name": "stdout",
     "output_type": "stream",
     "text": [
      "(2000, 28, 28, 1)\n",
      "(48, 28, 28, 1)\n",
      "(2000, 10)\n",
      "(48, 10)\n",
      "(2000, 784)\n",
      "(48, 784)\n"
     ]
    }
   ],
   "source": [
    "valid_size = 48\n",
    "valid_x = x[-valid_size:]\n",
    "x = x[:-valid_size]\n",
    "\n",
    "valid_y = y[-valid_size:]\n",
    "y = y[:-valid_size]\n",
    "\n",
    "valid_m = m[-valid_size:]\n",
    "m = m[:-valid_size]\n",
    "\n",
    "print(x.shape)\n",
    "print(valid_x.shape)\n",
    "print(y.shape)\n",
    "print(valid_y.shape)\n",
    "print(m.shape)\n",
    "print(valid_m.shape)"
   ]
  },
  {
   "cell_type": "code",
   "execution_count": 14,
   "metadata": {
    "ExecuteTime": {
     "end_time": "2020-08-27T05:16:55.781054Z",
     "start_time": "2020-08-27T05:16:55.773041Z"
    }
   },
   "outputs": [],
   "source": [
    "image_generator = ImageDataGenerator(width_shift_range=0.1,\n",
    "                                     height_shift_range=0.1, \n",
    "                                     zoom_range=[0.8,1.2],\n",
    "                                     shear_range=10)"
   ]
  },
  {
   "cell_type": "code",
   "execution_count": 15,
   "metadata": {
    "ExecuteTime": {
     "end_time": "2020-08-27T05:16:57.362765Z",
     "start_time": "2020-08-27T05:16:55.783043Z"
    }
   },
   "outputs": [
    {
     "name": "stdout",
     "output_type": "stream",
     "text": [
      "(6000, 28, 28, 1)\n"
     ]
    }
   ],
   "source": [
    "x_total = x.copy()\n",
    "def augment(x):\n",
    "    aug_list = []\n",
    "    for i in range(x.shape[0]):\n",
    "        num_aug = 0\n",
    "        tmp = x[i]\n",
    "        tmp = tmp.reshape((1,) + tmp.shape)\n",
    "        for x_aug in image_generator.flow(tmp, batch_size = 1) :\n",
    "            if num_aug >= 1:\n",
    "                break\n",
    "            aug_list.append(x_aug[0])\n",
    "            num_aug += 1\n",
    "    aug_list = np.array(aug_list)\n",
    "    return aug_list\n",
    "\n",
    "n = 2\n",
    "for i in range(n):\n",
    "    arr = augment(x)\n",
    "    x_total = np.concatenate((x_total, arr), axis=0)\n",
    "    if i > n:\n",
    "        break\n",
    "\n",
    "print(x_total.shape)"
   ]
  },
  {
   "cell_type": "code",
   "execution_count": 16,
   "metadata": {
    "ExecuteTime": {
     "end_time": "2020-08-27T05:16:57.431330Z",
     "start_time": "2020-08-27T05:16:57.364690Z"
    }
   },
   "outputs": [
    {
     "name": "stdout",
     "output_type": "stream",
     "text": [
      "(6000, 10)\n",
      "(6000, 784)\n"
     ]
    }
   ],
   "source": [
    "y_total = y.copy()\n",
    "for i in range(n):\n",
    "    arr = y.copy()\n",
    "    y_total = np.concatenate((y_total, arr), axis=0)\n",
    "    \n",
    "m_total = m.copy()\n",
    "for i in range(n):\n",
    "    arr = m.copy()\n",
    "    m_total = np.concatenate((m_total, arr), axis=0)\n",
    "\n",
    "print(y_total.shape)\n",
    "print(m_total.shape)"
   ]
  },
  {
   "cell_type": "code",
   "execution_count": 17,
   "metadata": {
    "ExecuteTime": {
     "end_time": "2020-08-27T05:16:57.451389Z",
     "start_time": "2020-08-27T05:16:57.433270Z"
    }
   },
   "outputs": [
    {
     "name": "stdout",
     "output_type": "stream",
     "text": [
      "(4800, 28, 28, 1)\n",
      "(1200, 28, 28, 1)\n",
      "(4800, 10)\n",
      "(1200, 10)\n",
      "(4800, 784)\n",
      "(1200, 784)\n"
     ]
    }
   ],
   "source": [
    "x_train, x_val, y_train, y_val = train_test_split(x_total, y_total, test_size=0.2, \n",
    "                                                  shuffle=True)#, stratify=y_total)\n",
    "\n",
    "m_train = m_total[:x_train.shape[0],:]\n",
    "m_val = m_total[x_train.shape[0]:,:]\n",
    "\n",
    "print(x_train.shape)\n",
    "print(x_val.shape)\n",
    "print(y_train.shape)\n",
    "print(y_val.shape)\n",
    "print(m_train.shape)\n",
    "print(m_val.shape)"
   ]
  },
  {
   "cell_type": "code",
   "execution_count": 18,
   "metadata": {
    "ExecuteTime": {
     "end_time": "2020-08-27T05:16:57.464271Z",
     "start_time": "2020-08-27T05:16:57.455295Z"
    }
   },
   "outputs": [],
   "source": [
    "def CNN(model_input, classes):\n",
    "    x = Conv2D(64, (3,3), activation='elu', padding='same')(model_input)\n",
    "    x = Conv2D(64, (3,3), activation='elu', padding='same')(x)\n",
    "    x = Dropout(0.3)(x)\n",
    "    x = MaxPooling2D((2,2))(x)\n",
    "    x = Conv2D(64, (3,3), activation='elu', padding='same')(x)\n",
    "    x = Conv2D(64, (3,3), activation='elu', padding='same')(x)\n",
    "    x = Dropout(0.3)(x)\n",
    "    x = MaxPooling2D((2,2))(x)\n",
    "    #x = Conv2D(128, (3,3), activation='relu', padding='same')(x)\n",
    "    #x = Conv2D(128, (3,3), activation='relu', padding='same')(x)\n",
    "    #x = Dropout(0.3)(x)\n",
    "    x = Flatten()(x)\n",
    "    x = Dense(2000, activation='elu')(x)\n",
    "    x = Dropout(0.3)(x)\n",
    "    x = Dense(1000, activation='elu')(x)\n",
    "    x = Dropout(0.3)(x)\n",
    "    #x = GlobalAveragePooling2D()(x)\n",
    "    outputs = Dense(classes, activation='elu')(x)\n",
    "    \n",
    "    model = Model(inputs = model_input, outputs = outputs)\n",
    "    \n",
    "    return model"
   ]
  },
  {
   "cell_type": "code",
   "execution_count": 19,
   "metadata": {
    "ExecuteTime": {
     "end_time": "2020-08-27T05:16:57.475276Z",
     "start_time": "2020-08-27T05:16:57.467275Z"
    },
    "code_folding": [
     0
    ]
   },
   "outputs": [],
   "source": [
    "def DNN(model_input, classes):\n",
    "    x = Dense(1000, activation='elu', kernel_initializer='he_normal')(model_input)\n",
    "    #x = Dropout(0.3)(x)\n",
    "    x = Dense(2000, activation='elu', kernel_initializer='he_normal')(x)\n",
    "    #x = Dropout(0.3)(x)\n",
    "    x = Dense(3000, activation='elu', kernel_initializer='he_normal')(x)\n",
    "    #x = Dropout(0.3)(x)\n",
    "    x = Dense(2000, activation='elu', kernel_initializer='he_normal')(x)\n",
    "    #x = Dropout(0.3)(x)\n",
    "    x = Dense(1000, activation='elu', kernel_initializer='he_normal')(x)\n",
    "    #x = Dropout(0.3)(x)\n",
    "    outputs = Dense(classes, activation='elu', kernel_initializer='he_normal')(x)\n",
    "    \n",
    "    model = Model(inputs = model_input, outputs = outputs)\n",
    "    \n",
    "    return model"
   ]
  },
  {
   "cell_type": "code",
   "execution_count": 20,
   "metadata": {
    "ExecuteTime": {
     "end_time": "2020-08-27T05:16:57.678622Z",
     "start_time": "2020-08-27T05:16:57.477270Z"
    }
   },
   "outputs": [
    {
     "name": "stdout",
     "output_type": "stream",
     "text": [
      "Model: \"model\"\n",
      "_________________________________________________________________\n",
      "Layer (type)                 Output Shape              Param #   \n",
      "=================================================================\n",
      "input_1 (InputLayer)         [(None, 28, 28, 1)]       0         \n",
      "_________________________________________________________________\n",
      "conv2d (Conv2D)              (None, 28, 28, 64)        640       \n",
      "_________________________________________________________________\n",
      "conv2d_1 (Conv2D)            (None, 28, 28, 64)        36928     \n",
      "_________________________________________________________________\n",
      "dropout (Dropout)            (None, 28, 28, 64)        0         \n",
      "_________________________________________________________________\n",
      "max_pooling2d (MaxPooling2D) (None, 14, 14, 64)        0         \n",
      "_________________________________________________________________\n",
      "conv2d_2 (Conv2D)            (None, 14, 14, 64)        36928     \n",
      "_________________________________________________________________\n",
      "conv2d_3 (Conv2D)            (None, 14, 14, 64)        36928     \n",
      "_________________________________________________________________\n",
      "dropout_1 (Dropout)          (None, 14, 14, 64)        0         \n",
      "_________________________________________________________________\n",
      "max_pooling2d_1 (MaxPooling2 (None, 7, 7, 64)          0         \n",
      "_________________________________________________________________\n",
      "flatten (Flatten)            (None, 3136)              0         \n",
      "_________________________________________________________________\n",
      "dense (Dense)                (None, 2000)              6274000   \n",
      "_________________________________________________________________\n",
      "dropout_2 (Dropout)          (None, 2000)              0         \n",
      "_________________________________________________________________\n",
      "dense_1 (Dense)              (None, 1000)              2001000   \n",
      "_________________________________________________________________\n",
      "dropout_3 (Dropout)          (None, 1000)              0         \n",
      "_________________________________________________________________\n",
      "dense_2 (Dense)              (None, 784)               784784    \n",
      "=================================================================\n",
      "Total params: 9,171,208\n",
      "Trainable params: 9,171,208\n",
      "Non-trainable params: 0\n",
      "_________________________________________________________________\n"
     ]
    }
   ],
   "source": [
    "layers_in_block = {'DenseNet-121':[6, 12, 24, 16],\n",
    "                   'DenseNet-169':[6, 12, 32, 32],\n",
    "                   'DenseNet-201':[6, 12, 48, 32],\n",
    "                   'DenseNet-265':[6, 12, 64, 48],\n",
    "                   'myDenseNet':[8, 12, 16, 32]}\n",
    "\n",
    "base_growth_rate = 32\n",
    "\n",
    "model_input = Input(shape=(28,28,1))\n",
    "classes = 784\n",
    "\n",
    "#model = DenseNet(model_input, classes, 'DenseNet-121')\n",
    "model = CNN(model_input, classes)\n",
    "\n",
    "model.summary()"
   ]
  },
  {
   "cell_type": "code",
   "execution_count": 21,
   "metadata": {
    "ExecuteTime": {
     "end_time": "2020-08-27T05:21:12.912616Z",
     "start_time": "2020-08-27T05:16:57.679622Z"
    }
   },
   "outputs": [
    {
     "name": "stdout",
     "output_type": "stream",
     "text": [
      "Train on 4800 samples, validate on 1200 samples\n",
      "Epoch 1/10\n",
      "4800/4800 [==============================] - 24s 5ms/sample - loss: 511.4162 - mae: 13.6695 - val_loss: 248.8698 - val_mae: 10.2620\n",
      "Epoch 2/10\n",
      "4800/4800 [==============================] - 23s 5ms/sample - loss: 163.8393 - mae: 8.9020 - val_loss: 404.7776 - val_mae: 13.2260\n",
      "Epoch 3/10\n",
      "4800/4800 [==============================] - 24s 5ms/sample - loss: 145.1438 - mae: 8.4465 - val_loss: 300.9579 - val_mae: 11.2945\n",
      "Epoch 4/10\n",
      "4800/4800 [==============================] - 24s 5ms/sample - loss: 139.8224 - mae: 8.2149 - val_loss: 242.8270 - val_mae: 10.0405\n",
      "Epoch 5/10\n",
      "4800/4800 [==============================] - 24s 5ms/sample - loss: 136.0411 - mae: 8.0279 - val_loss: 213.6019 - val_mae: 9.4079\n",
      "Epoch 6/10\n",
      "4800/4800 [==============================] - 27s 6ms/sample - loss: 132.9735 - mae: 7.8810 - val_loss: 178.3659 - val_mae: 8.6282\n",
      "Epoch 7/10\n",
      "4800/4800 [==============================] - 29s 6ms/sample - loss: 131.5114 - mae: 7.7666 - val_loss: 162.4169 - val_mae: 8.2661\n",
      "Epoch 8/10\n",
      "4800/4800 [==============================] - 29s 6ms/sample - loss: 130.8430 - mae: 7.6925 - val_loss: 135.3224 - val_mae: 7.6655\n",
      "Epoch 9/10\n",
      "4800/4800 [==============================] - 25s 5ms/sample - loss: 125.9905 - mae: 7.5519 - val_loss: 150.9515 - val_mae: 7.9393\n",
      "Epoch 10/10\n",
      "4800/4800 [==============================] - 27s 6ms/sample - loss: 122.2444 - mae: 7.4343 - val_loss: 175.2047 - val_mae: 8.3676\n"
     ]
    }
   ],
   "source": [
    "model.compile(optimizer = 'adam', metrics = ['mae'], loss = 'mse')\n",
    "history = model.fit(x_train, m_train, validation_data=(x_val, m_val), \n",
    "                    batch_size=64, epochs=10, verbose=1)"
   ]
  },
  {
   "cell_type": "code",
   "execution_count": 22,
   "metadata": {
    "ExecuteTime": {
     "end_time": "2020-08-27T05:21:13.067561Z",
     "start_time": "2020-08-27T05:21:12.915611Z"
    }
   },
   "outputs": [
    {
     "data": {
      "text/plain": [
       "(48, 784)"
      ]
     },
     "execution_count": 22,
     "metadata": {},
     "output_type": "execute_result"
    }
   ],
   "source": [
    "valid_x = tf.cast(valid_x, tf.float32)\n",
    "pred = model.predict(valid_x)\n",
    "pred.shape"
   ]
  },
  {
   "cell_type": "code",
   "execution_count": 23,
   "metadata": {
    "ExecuteTime": {
     "end_time": "2020-08-27T05:21:13.074548Z",
     "start_time": "2020-08-27T05:21:13.068463Z"
    },
    "scrolled": true
   },
   "outputs": [
    {
     "data": {
      "text/plain": [
       "array([[-1.        , -0.99999994,  2.0643244 , ..., -0.99999994,\n",
       "        -1.        , -0.9999998 ],\n",
       "       [-0.99999994, -0.99999976,  2.4688754 , ..., -0.99999684,\n",
       "        -1.        , -0.99998945],\n",
       "       [-1.        , -0.99999994,  2.9655967 , ..., -0.9999993 ,\n",
       "        -1.        , -0.99999917],\n",
       "       ...,\n",
       "       [-0.99999994, -0.99999976,  2.2890143 , ..., -0.9999921 ,\n",
       "        -1.        , -0.9999876 ],\n",
       "       [-1.        , -0.9999998 ,  2.9927979 , ..., -0.9999977 ,\n",
       "        -1.        , -0.999998  ],\n",
       "       [-1.        , -0.99999964,  2.551949  , ..., -0.99999934,\n",
       "        -1.        , -0.99999905]], dtype=float32)"
      ]
     },
     "execution_count": 23,
     "metadata": {},
     "output_type": "execute_result"
    }
   ],
   "source": [
    "pred"
   ]
  },
  {
   "cell_type": "code",
   "execution_count": 24,
   "metadata": {
    "ExecuteTime": {
     "end_time": "2020-08-27T05:21:13.141254Z",
     "start_time": "2020-08-27T05:21:13.076464Z"
    }
   },
   "outputs": [
    {
     "data": {
      "text/plain": [
       "(-0.5, 27.5, 27.5, -0.5)"
      ]
     },
     "execution_count": 24,
     "metadata": {},
     "output_type": "execute_result"
    },
    {
     "data": {
      "image/png": "[encoded data removed]",
      "text/plain": [
       "<Figure size 432x288 with 1 Axes>"
      ]
     },
     "metadata": {
      "needs_background": "light"
     },
     "output_type": "display_data"
    }
   ],
   "source": [
    "img = pred[0].reshape(28,28)\n",
    "plt.imshow(img)\n",
    "plt.axis('off')"
   ]
  },
  {
   "cell_type": "code",
   "execution_count": 25,
   "metadata": {
    "ExecuteTime": {
     "end_time": "2020-08-27T05:21:13.196251Z",
     "start_time": "2020-08-27T05:21:13.142159Z"
    }
   },
   "outputs": [
    {
     "data": {
      "text/plain": [
       "(-0.5, 27.5, 27.5, -0.5)"
      ]
     },
     "execution_count": 25,
     "metadata": {},
     "output_type": "execute_result"
    },
    {
     "data": {
      "image/png": "[encoded data removed]",
      "text/plain": [
       "<Figure size 432x288 with 1 Axes>"
      ]
     },
     "metadata": {
      "needs_background": "light"
     },
     "output_type": "display_data"
    }
   ],
   "source": [
    "img = pred[30].reshape(28,28)\n",
    "plt.imshow(img)\n",
    "plt.axis('off')"
   ]
  }
 ],
 "metadata": {
  "kernelspec": {
   "display_name": "Tensorflow",
   "language": "python",
   "name": "tensorflow"
  },
  "language_info": {
   "codemirror_mode": {
    "name": "ipython",
    "version": 3
   },
   "file_extension": ".py",
   "mimetype": "text/x-python",
   "name": "python",
   "nbconvert_exporter": "python",
   "pygments_lexer": "ipython3",
   "version": "3.7.6"
  }
 },
 "nbformat": 4,
 "nbformat_minor": 4
}
