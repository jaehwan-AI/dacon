{
 "cells": [
  {
   "cell_type": "code",
   "execution_count": 1,
   "metadata": {
    "ExecuteTime": {
     "end_time": "2020-08-21T06:47:03.329102Z",
     "start_time": "2020-08-21T06:47:00.267913Z"
    }
   },
   "outputs": [],
   "source": [
    "import pandas as pd\n",
    "import numpy as np\n",
    "import tensorflow as tf\n",
    "from sklearn.preprocessing import OneHotEncoder\n",
    "from sklearn.model_selection import train_test_split\n",
    "from tensorflow.keras.models import Model\n",
    "from tensorflow.keras.layers import Input, Conv2D, MaxPooling2D, Flatten, Dense\n",
    "from tensorflow.keras.layers import concatenate, Dropout, Add\n",
    "from tensorflow.keras.preprocessing.image import ImageDataGenerator\n",
    "from tensorflow.keras.callbacks import EarlyStopping, ModelCheckpoint\n",
    "\n",
    "# seed\n",
    "import os\n",
    "seed = 123\n",
    "os.environ['PYTHONHASHSEED'] = str(seed)\n",
    "np.random.seed(seed)\n",
    "tf.set_random_seed(seed)"
   ]
  },
  {
   "cell_type": "code",
   "execution_count": 2,
   "metadata": {
    "ExecuteTime": {
     "end_time": "2020-08-21T06:47:05.000975Z",
     "start_time": "2020-08-21T06:47:03.329102Z"
    }
   },
   "outputs": [],
   "source": [
    "train = np.load('data/train.npy', allow_pickle = 'True')\n",
    "test = np.load('data/test.npy', allow_pickle = 'True')"
   ]
  },
  {
   "cell_type": "code",
   "execution_count": 3,
   "metadata": {
    "ExecuteTime": {
     "end_time": "2020-08-21T06:47:05.032178Z",
     "start_time": "2020-08-21T06:47:05.000975Z"
    }
   },
   "outputs": [
    {
     "name": "stdout",
     "output_type": "stream",
     "text": [
      "(2048, 28, 28, 1)\n",
      "(2048, 26)\n",
      "(2048, 10)\n"
     ]
    }
   ],
   "source": [
    "x = train[:,2:]\n",
    "x = np.reshape(x, (-1, 28, 28, 1))\n",
    "\n",
    "x_letter = train[:,1]\n",
    "x_letter = np.reshape(x_letter, (-1, 1))\n",
    "en = OneHotEncoder()\n",
    "x_letter = en.fit_transform(x_letter).toarray()\n",
    "\n",
    "y = train[:,0]\n",
    "y = np.reshape(y, (-1, 1))\n",
    "en = OneHotEncoder()\n",
    "y = en.fit_transform(y).toarray()\n",
    "\n",
    "print(x.shape)\n",
    "print(x_letter.shape)\n",
    "print(y.shape)"
   ]
  },
  {
   "cell_type": "code",
   "execution_count": 4,
   "metadata": {
    "ExecuteTime": {
     "end_time": "2020-08-21T06:47:05.048965Z",
     "start_time": "2020-08-21T06:47:05.033300Z"
    }
   },
   "outputs": [
    {
     "name": "stdout",
     "output_type": "stream",
     "text": [
      "(2000, 28, 28, 1)\n",
      "(48, 28, 28, 1)\n",
      "(2000, 26)\n",
      "(48, 26)\n",
      "(2000, 10)\n",
      "(48, 10)\n"
     ]
    }
   ],
   "source": [
    "valid_size = 48\n",
    "valid_x = x[-valid_size:]\n",
    "x = x[:-48]\n",
    "\n",
    "valid_x_letter = x_letter[-valid_size:]\n",
    "x_letter = x_letter[:-48]\n",
    "\n",
    "valid_y = y[-valid_size:]\n",
    "y = y[:-48]\n",
    "\n",
    "print(x.shape)\n",
    "print(valid_x.shape)\n",
    "print(x_letter.shape)\n",
    "print(valid_x_letter.shape)\n",
    "print(y.shape)\n",
    "print(valid_y.shape)"
   ]
  },
  {
   "cell_type": "code",
   "execution_count": 5,
   "metadata": {
    "ExecuteTime": {
     "end_time": "2020-08-21T06:47:05.064266Z",
     "start_time": "2020-08-21T06:47:05.052317Z"
    }
   },
   "outputs": [],
   "source": [
    "image_generator = ImageDataGenerator(width_shift_range=0.1,\n",
    "                                     height_shift_range=0.1, \n",
    "                                     zoom_range=[0.8,1.2],\n",
    "                                     shear_range=10)"
   ]
  },
  {
   "cell_type": "code",
   "execution_count": 6,
   "metadata": {
    "ExecuteTime": {
     "end_time": "2020-08-21T06:47:07.329197Z",
     "start_time": "2020-08-21T06:47:05.066260Z"
    }
   },
   "outputs": [
    {
     "name": "stdout",
     "output_type": "stream",
     "text": [
      "(6000, 28, 28, 1)\n"
     ]
    }
   ],
   "source": [
    "x_total = x.copy()\n",
    "def augment(x):\n",
    "    aug_list = []\n",
    "    for i in range(x.shape[0]):\n",
    "        num_aug = 0\n",
    "        tmp = x[i]\n",
    "        tmp = tmp.reshape((1,) + tmp.shape)\n",
    "        for x_aug in image_generator.flow(tmp, batch_size = 1) :\n",
    "            if num_aug >= 1:\n",
    "                break\n",
    "            aug_list.append(x_aug[0])\n",
    "            num_aug += 1\n",
    "    aug_list = np.array(aug_list)\n",
    "    return aug_list\n",
    "\n",
    "n = 2\n",
    "for i in range(n):\n",
    "    arr = augment(x)\n",
    "    x_total = np.concatenate((x_total, arr), axis=0)\n",
    "    if i > n:\n",
    "        break\n",
    "\n",
    "print(x_total.shape)"
   ]
  },
  {
   "cell_type": "code",
   "execution_count": 7,
   "metadata": {
    "ExecuteTime": {
     "end_time": "2020-08-21T06:47:07.344557Z",
     "start_time": "2020-08-21T06:47:07.333603Z"
    }
   },
   "outputs": [
    {
     "name": "stdout",
     "output_type": "stream",
     "text": [
      "(6000, 10)\n"
     ]
    }
   ],
   "source": [
    "y_total = y.copy()\n",
    "for i in range(n):\n",
    "    arr = y.copy()\n",
    "    y_total = np.concatenate((y_total, arr), axis=0)\n",
    "\n",
    "print(y_total.shape)"
   ]
  },
  {
   "cell_type": "code",
   "execution_count": 8,
   "metadata": {
    "ExecuteTime": {
     "end_time": "2020-08-21T06:47:07.376275Z",
     "start_time": "2020-08-21T06:47:07.348538Z"
    }
   },
   "outputs": [
    {
     "name": "stdout",
     "output_type": "stream",
     "text": [
      "(6000, 26)\n"
     ]
    }
   ],
   "source": [
    "x_letter_total = x_letter.copy()\n",
    "for i in range(n):\n",
    "    arr = x_letter.copy()\n",
    "    x_letter_total = np.concatenate((x_letter_total, arr), axis=0)\n",
    "    \n",
    "print(x_letter_total.shape)"
   ]
  },
  {
   "cell_type": "code",
   "execution_count": 9,
   "metadata": {
    "ExecuteTime": {
     "end_time": "2020-08-21T06:47:07.425176Z",
     "start_time": "2020-08-21T06:47:07.381564Z"
    }
   },
   "outputs": [
    {
     "name": "stdout",
     "output_type": "stream",
     "text": [
      "(4800, 28, 28, 1)\n",
      "(1200, 28, 28, 1)\n",
      "(4800, 10)\n",
      "(1200, 10)\n",
      "(4800, 26)\n",
      "(1200, 26)\n"
     ]
    }
   ],
   "source": [
    "x_train, x_val, y_train, y_val = train_test_split(x_total, y_total, test_size=0.2, shuffle=True)#, stratify=y_total)\n",
    "x_letter_train = x_letter_total[:x_train.shape[0],:]\n",
    "x_letter_val = x_letter_total[x_train.shape[0]:,:]\n",
    "\n",
    "print(x_train.shape)\n",
    "print(x_val.shape)\n",
    "print(y_train.shape)\n",
    "print(y_val.shape)\n",
    "print(x_letter_train.shape)\n",
    "print(x_letter_val.shape)"
   ]
  },
  {
   "cell_type": "code",
   "execution_count": 10,
   "metadata": {
    "ExecuteTime": {
     "end_time": "2020-08-21T06:47:07.781615Z",
     "start_time": "2020-08-21T06:47:07.429593Z"
    }
   },
   "outputs": [
    {
     "name": "stdout",
     "output_type": "stream",
     "text": [
      "__________________________________________________________________________________________________\n",
      "Layer (type)                    Output Shape         Param #     Connected to                     \n",
      "==================================================================================================\n",
      "input_1 (InputLayer)            (None, 28, 28, 1)    0                                            \n",
      "__________________________________________________________________________________________________\n",
      "conv2d (Conv2D)                 (None, 28, 28, 128)  1280        input_1[0][0]                    \n",
      "__________________________________________________________________________________________________\n",
      "conv2d_1 (Conv2D)               (None, 28, 28, 128)  147584      conv2d[0][0]                     \n",
      "__________________________________________________________________________________________________\n",
      "conv2d_2 (Conv2D)               (None, 28, 28, 128)  147584      conv2d_1[0][0]                   \n",
      "__________________________________________________________________________________________________\n",
      "conv2d_3 (Conv2D)               (None, 28, 28, 128)  147584      conv2d_2[0][0]                   \n",
      "__________________________________________________________________________________________________\n",
      "add (Add)                       (None, 28, 28, 128)  0           conv2d_1[0][0]                   \n",
      "                                                                 conv2d_3[0][0]                   \n",
      "__________________________________________________________________________________________________\n",
      "max_pooling2d (MaxPooling2D)    (None, 14, 14, 128)  0           add[0][0]                        \n",
      "__________________________________________________________________________________________________\n",
      "conv2d_4 (Conv2D)               (None, 14, 14, 128)  147584      max_pooling2d[0][0]              \n",
      "__________________________________________________________________________________________________\n",
      "conv2d_5 (Conv2D)               (None, 14, 14, 128)  147584      conv2d_4[0][0]                   \n",
      "__________________________________________________________________________________________________\n",
      "add_1 (Add)                     (None, 14, 14, 128)  0           max_pooling2d[0][0]              \n",
      "                                                                 conv2d_5[0][0]                   \n",
      "__________________________________________________________________________________________________\n",
      "max_pooling2d_1 (MaxPooling2D)  (None, 7, 7, 128)    0           add_1[0][0]                      \n",
      "__________________________________________________________________________________________________\n",
      "conv2d_6 (Conv2D)               (None, 7, 7, 128)    147584      max_pooling2d_1[0][0]            \n",
      "__________________________________________________________________________________________________\n",
      "conv2d_7 (Conv2D)               (None, 7, 7, 128)    147584      conv2d_6[0][0]                   \n",
      "__________________________________________________________________________________________________\n",
      "add_2 (Add)                     (None, 7, 7, 128)    0           max_pooling2d_1[0][0]            \n",
      "                                                                 conv2d_7[0][0]                   \n",
      "__________________________________________________________________________________________________\n",
      "max_pooling2d_2 (MaxPooling2D)  (None, 3, 3, 128)    0           add_2[0][0]                      \n",
      "__________________________________________________________________________________________________\n",
      "flatten (Flatten)               (None, 1152)         0           max_pooling2d_2[0][0]            \n",
      "__________________________________________________________________________________________________\n",
      "dense (Dense)                   (None, 100)          115300      flatten[0][0]                    \n",
      "__________________________________________________________________________________________________\n",
      "dropout (Dropout)               (None, 100)          0           dense[0][0]                      \n",
      "__________________________________________________________________________________________________\n",
      "dense_1 (Dense)                 (None, 50)           5050        dropout[0][0]                    \n",
      "__________________________________________________________________________________________________\n",
      "dropout_1 (Dropout)             (None, 50)           0           dense_1[0][0]                    \n",
      "__________________________________________________________________________________________________\n",
      "dense_2 (Dense)                 (None, 10)           510         dropout_1[0][0]                  \n",
      "==================================================================================================\n",
      "Total params: 1,155,228\n",
      "Trainable params: 1,155,228\n",
      "Non-trainable params: 0\n",
      "__________________________________________________________________________________________________\n"
     ]
    }
   ],
   "source": [
    "input1 = Input(shape=(28,28,1))\n",
    "x = input1\n",
    "_x = Conv2D(64, (3,3), activation='relu', padding='same')(x)\n",
    "_x = Conv2D(128, (3,3), activation='relu', padding='same')(_x)\n",
    "#_x = Dropout(0.3)(_x)\n",
    "x = _x\n",
    "#x = MaxPooling2D((2,2))(x)\n",
    "_x = Conv2D(64, (3,3), activation='relu', padding='same')(x)\n",
    "_x = Conv2D(128, (3,3), activation='relu', padding='same')(_x)\n",
    "#_x = Dropout(0.3)(_x)\n",
    "x = Add()([x, _x])\n",
    "x = MaxPooling2D((2,2))(x)\n",
    "_x = Conv2D(64, (3,3), activation='relu', padding='same')(x)\n",
    "_x = Conv2D(128, (3,3), activation='relu', padding='same')(_x)\n",
    "#_x = Dropout(0.3)(_x)\n",
    "x = Add()([x, _x])\n",
    "x = MaxPooling2D((2,2))(x)\n",
    "_x = Conv2D(64, (3,3), activation='relu', padding='same')(x)\n",
    "_x = Conv2D(128, (3,3), activation='relu', padding='same')(_x)\n",
    "#_x = Dropout(0.3)(_x)\n",
    "x = Add()([x, _x])\n",
    "x = MaxPooling2D((2,2))(x)\n",
    "x = Flatten()(x)\n",
    "\n",
    "#input2 = Input(shape=(26,))\n",
    "#x2 = Dense(50, activation='relu')(input2)\n",
    "#x2 = Dropout(0.3)(x2)\n",
    "\n",
    "#merge = concatenate([x1, input2])\n",
    "\n",
    "#x2 = Dense(500, activation='relu')(merge)\n",
    "#x2 = Dropout(0.3)(x2)\n",
    "x = Dense(100, activation='relu')(x)\n",
    "x = Dropout(0.3)(x)\n",
    "x = Dense(50, activation='relu')(x)\n",
    "x = Dropout(0.3)(x)\n",
    "outputs = Dense(10, activation='softmax')(x)\n",
    "\n",
    "model = Model(inputs = input1, outputs = outputs)\n",
    "\n",
    "model.summary()"
   ]
  },
  {
   "cell_type": "code",
   "execution_count": 11,
   "metadata": {
    "ExecuteTime": {
     "end_time": "2020-08-21T06:52:24.047638Z",
     "start_time": "2020-08-21T06:47:07.784213Z"
    }
   },
   "outputs": [
    {
     "name": "stdout",
     "output_type": "stream",
     "text": [
      "Train on 4800 samples, validate on 1200 samples\n",
      "Epoch 1/100\n",
      "4800/4800 [==============================] - 7s 1ms/step - loss: 14.4771 - acc: 0.1002 - val_loss: 14.7481 - val_acc: 0.0850\n",
      "Epoch 2/100\n",
      "4800/4800 [==============================] - 3s 641us/step - loss: 14.4929 - acc: 0.1008 - val_loss: 14.7481 - val_acc: 0.0850\n",
      "Epoch 3/100\n",
      "4800/4800 [==============================] - 3s 645us/step - loss: 14.5029 - acc: 0.1002 - val_loss: 14.7481 - val_acc: 0.0850\n",
      "Epoch 4/100\n",
      "4800/4800 [==============================] - 3s 638us/step - loss: 14.4429 - acc: 0.1037 - val_loss: 14.7884 - val_acc: 0.0825\n",
      "Epoch 5/100\n",
      "4800/4800 [==============================] - 3s 638us/step - loss: 14.4693 - acc: 0.1023 - val_loss: 14.8689 - val_acc: 0.0775\n",
      "Epoch 6/100\n",
      "4800/4800 [==============================] - 3s 648us/step - loss: 14.5567 - acc: 0.0969 - val_loss: 14.8689 - val_acc: 0.0775\n",
      "Epoch 7/100\n",
      "4800/4800 [==============================] - 3s 641us/step - loss: 14.5734 - acc: 0.0958 - val_loss: 14.8689 - val_acc: 0.0775\n",
      "Epoch 8/100\n",
      "4800/4800 [==============================] - 3s 648us/step - loss: 14.4660 - acc: 0.1025 - val_loss: 14.8689 - val_acc: 0.0775\n",
      "Epoch 9/100\n",
      "4800/4800 [==============================] - 3s 645us/step - loss: 14.6272 - acc: 0.0925 - val_loss: 14.8689 - val_acc: 0.0775\n",
      "Epoch 10/100\n",
      "4800/4800 [==============================] - 3s 651us/step - loss: 14.4996 - acc: 0.1004 - val_loss: 14.8689 - val_acc: 0.0775\n",
      "Epoch 11/100\n",
      "4800/4800 [==============================] - 3s 645us/step - loss: 14.5634 - acc: 0.0965 - val_loss: 14.8689 - val_acc: 0.0775\n",
      "Epoch 12/100\n",
      "4800/4800 [==============================] - 3s 648us/step - loss: 14.4727 - acc: 0.1021 - val_loss: 14.8689 - val_acc: 0.0775\n",
      "Epoch 13/100\n",
      "4800/4800 [==============================] - 3s 641us/step - loss: 14.4962 - acc: 0.1006 - val_loss: 14.8689 - val_acc: 0.0775\n",
      "Epoch 14/100\n",
      "4800/4800 [==============================] - 3s 641us/step - loss: 14.5164 - acc: 0.0994 - val_loss: 14.8689 - val_acc: 0.0775\n",
      "Epoch 15/100\n",
      "4800/4800 [==============================] - 3s 638us/step - loss: 14.4626 - acc: 0.1027 - val_loss: 14.8689 - val_acc: 0.0775\n",
      "Epoch 16/100\n",
      "4800/4800 [==============================] - 3s 641us/step - loss: 14.4861 - acc: 0.1013 - val_loss: 14.8689 - val_acc: 0.0775\n",
      "Epoch 17/100\n",
      "4800/4800 [==============================] - 3s 645us/step - loss: 14.5231 - acc: 0.0990 - val_loss: 14.8689 - val_acc: 0.0775\n",
      "Epoch 18/100\n",
      "4800/4800 [==============================] - 3s 641us/step - loss: 14.5802 - acc: 0.0954 - val_loss: 14.8689 - val_acc: 0.0775\n",
      "Epoch 19/100\n",
      "4800/4800 [==============================] - 3s 641us/step - loss: 14.4962 - acc: 0.1006 - val_loss: 14.8689 - val_acc: 0.0775\n",
      "Epoch 20/100\n",
      "4800/4800 [==============================] - 3s 648us/step - loss: 14.5567 - acc: 0.0969 - val_loss: 14.8689 - val_acc: 0.0775\n",
      "Epoch 21/100\n",
      "4800/4800 [==============================] - 3s 645us/step - loss: 14.4593 - acc: 0.1029 - val_loss: 14.8689 - val_acc: 0.0775\n",
      "Epoch 22/100\n",
      "4800/4800 [==============================] - 3s 648us/step - loss: 14.5029 - acc: 0.1002 - val_loss: 14.8689 - val_acc: 0.0775\n",
      "Epoch 23/100\n",
      "4800/4800 [==============================] - 3s 648us/step - loss: 14.5567 - acc: 0.0969 - val_loss: 14.8689 - val_acc: 0.0775\n",
      "Epoch 24/100\n",
      "4800/4800 [==============================] - 3s 648us/step - loss: 14.4660 - acc: 0.1025 - val_loss: 14.8689 - val_acc: 0.0775\n",
      "Epoch 25/100\n",
      "4800/4800 [==============================] - 3s 641us/step - loss: 14.5634 - acc: 0.0965 - val_loss: 14.8689 - val_acc: 0.0775\n",
      "Epoch 26/100\n",
      "4800/4800 [==============================] - 3s 638us/step - loss: 14.5533 - acc: 0.0971 - val_loss: 14.8689 - val_acc: 0.0775\n",
      "Epoch 27/100\n",
      "4800/4800 [==============================] - 3s 635us/step - loss: 14.4458 - acc: 0.1037 - val_loss: 14.8689 - val_acc: 0.0775\n",
      "Epoch 28/100\n",
      "4800/4800 [==============================] - 3s 645us/step - loss: 14.5835 - acc: 0.0952 - val_loss: 14.8689 - val_acc: 0.0775\n",
      "Epoch 29/100\n",
      "4800/4800 [==============================] - 3s 654us/step - loss: 14.4492 - acc: 0.1035 - val_loss: 14.8689 - val_acc: 0.0775\n",
      "Epoch 30/100\n",
      "4800/4800 [==============================] - 3s 649us/step - loss: 14.5634 - acc: 0.0965 - val_loss: 14.8689 - val_acc: 0.0775\n",
      "Epoch 31/100\n",
      "4800/4800 [==============================] - 3s 643us/step - loss: 14.6137 - acc: 0.0933 - val_loss: 14.8689 - val_acc: 0.0775\n",
      "Epoch 32/100\n",
      "4800/4800 [==============================] - 3s 648us/step - loss: 14.5835 - acc: 0.0952 - val_loss: 14.8689 - val_acc: 0.0775\n",
      "Epoch 33/100\n",
      "4800/4800 [==============================] - 3s 644us/step - loss: 14.5231 - acc: 0.0990 - val_loss: 14.8689 - val_acc: 0.0775\n",
      "Epoch 34/100\n",
      "4800/4800 [==============================] - 3s 648us/step - loss: 14.5567 - acc: 0.0969 - val_loss: 14.8689 - val_acc: 0.0775\n",
      "Epoch 35/100\n",
      "4800/4800 [==============================] - 3s 645us/step - loss: 14.4895 - acc: 0.1010 - val_loss: 14.8689 - val_acc: 0.0775\n",
      "Epoch 36/100\n",
      "4800/4800 [==============================] - 3s 654us/step - loss: 14.4727 - acc: 0.1021 - val_loss: 14.8689 - val_acc: 0.0775\n",
      "Epoch 37/100\n",
      "4800/4800 [==============================] - 3s 645us/step - loss: 14.5231 - acc: 0.0990 - val_loss: 14.8689 - val_acc: 0.0775\n",
      "Epoch 38/100\n",
      "4800/4800 [==============================] - 3s 648us/step - loss: 14.5029 - acc: 0.1002 - val_loss: 14.8689 - val_acc: 0.0775\n",
      "Epoch 39/100\n",
      "4800/4800 [==============================] - 3s 648us/step - loss: 14.5667 - acc: 0.0963 - val_loss: 14.8689 - val_acc: 0.0775\n",
      "Epoch 40/100\n",
      "4800/4800 [==============================] - 3s 645us/step - loss: 14.4660 - acc: 0.1025 - val_loss: 14.8689 - val_acc: 0.0775\n",
      "Epoch 41/100\n",
      "4800/4800 [==============================] - 3s 651us/step - loss: 14.5533 - acc: 0.0971 - val_loss: 14.8689 - val_acc: 0.0775\n",
      "Epoch 42/100\n",
      "4800/4800 [==============================] - 3s 641us/step - loss: 14.5499 - acc: 0.0973 - val_loss: 14.8689 - val_acc: 0.0775\n",
      "Epoch 43/100\n",
      "4800/4800 [==============================] - 3s 651us/step - loss: 14.5399 - acc: 0.0979 - val_loss: 14.8689 - val_acc: 0.0775\n",
      "Epoch 44/100\n",
      "4800/4800 [==============================] - 3s 638us/step - loss: 14.5365 - acc: 0.0981 - val_loss: 14.8689 - val_acc: 0.0775\n",
      "Epoch 45/100\n",
      "4800/4800 [==============================] - 3s 638us/step - loss: 14.4257 - acc: 0.1050 - val_loss: 14.8689 - val_acc: 0.0775\n",
      "Epoch 46/100\n",
      "4800/4800 [==============================] - 3s 638us/step - loss: 14.6574 - acc: 0.0906 - val_loss: 14.8689 - val_acc: 0.0775\n",
      "Epoch 47/100\n",
      "4800/4800 [==============================] - 3s 641us/step - loss: 14.5936 - acc: 0.0946 - val_loss: 14.8689 - val_acc: 0.0775\n",
      "Epoch 48/100\n",
      "4800/4800 [==============================] - 3s 645us/step - loss: 14.4391 - acc: 0.1042 - val_loss: 14.8689 - val_acc: 0.0775\n",
      "Epoch 49/100\n",
      "4800/4800 [==============================] - 3s 641us/step - loss: 14.4929 - acc: 0.1008 - val_loss: 14.8689 - val_acc: 0.0775\n",
      "Epoch 50/100\n",
      "4800/4800 [==============================] - 3s 645us/step - loss: 14.5399 - acc: 0.0979 - val_loss: 14.8689 - val_acc: 0.0775\n",
      "Epoch 51/100\n",
      "4800/4800 [==============================] - 3s 648us/step - loss: 14.5365 - acc: 0.0981 - val_loss: 14.8689 - val_acc: 0.0775\n",
      "Epoch 52/100\n",
      "4800/4800 [==============================] - 3s 654us/step - loss: 14.5902 - acc: 0.0948 - val_loss: 14.8689 - val_acc: 0.0775\n",
      "Epoch 53/100\n",
      "4800/4800 [==============================] - 3s 641us/step - loss: 14.4996 - acc: 0.1004 - val_loss: 14.8689 - val_acc: 0.0775\n",
      "Epoch 54/100\n",
      "4800/4800 [==============================] - 3s 645us/step - loss: 14.5969 - acc: 0.0944 - val_loss: 14.8689 - val_acc: 0.0775\n",
      "Epoch 55/100\n",
      "4800/4800 [==============================] - 3s 641us/step - loss: 14.4526 - acc: 0.1033 - val_loss: 14.8689 - val_acc: 0.0775\n",
      "Epoch 56/100\n",
      "4800/4800 [==============================] - 3s 645us/step - loss: 14.5600 - acc: 0.0967 - val_loss: 14.8689 - val_acc: 0.0775\n",
      "Epoch 57/100\n",
      "4800/4800 [==============================] - 3s 654us/step - loss: 14.5835 - acc: 0.0952 - val_loss: 14.8689 - val_acc: 0.0775\n",
      "Epoch 58/100\n",
      "4800/4800 [==============================] - 3s 648us/step - loss: 14.4996 - acc: 0.1004 - val_loss: 14.8689 - val_acc: 0.0775\n",
      "Epoch 59/100\n"
     ]
    },
    {
     "name": "stdout",
     "output_type": "stream",
     "text": [
      "4800/4800 [==============================] - 3s 651us/step - loss: 14.4660 - acc: 0.1025 - val_loss: 14.8689 - val_acc: 0.0775\n",
      "Epoch 60/100\n",
      "4800/4800 [==============================] - 3s 651us/step - loss: 14.5533 - acc: 0.0971 - val_loss: 14.8689 - val_acc: 0.0775\n",
      "Epoch 61/100\n",
      "4800/4800 [==============================] - 3s 658us/step - loss: 14.4727 - acc: 0.1021 - val_loss: 14.8689 - val_acc: 0.0775\n",
      "Epoch 62/100\n",
      "4800/4800 [==============================] - 3s 652us/step - loss: 14.4929 - acc: 0.1008 - val_loss: 14.8689 - val_acc: 0.0775\n",
      "Epoch 63/100\n",
      "4800/4800 [==============================] - 3s 647us/step - loss: 14.5701 - acc: 0.0960 - val_loss: 14.8689 - val_acc: 0.0775\n",
      "Epoch 64/100\n",
      "4800/4800 [==============================] - 3s 648us/step - loss: 14.4861 - acc: 0.1013 - val_loss: 14.8689 - val_acc: 0.0775\n",
      "Epoch 65/100\n",
      "4800/4800 [==============================] - 3s 651us/step - loss: 14.5936 - acc: 0.0946 - val_loss: 14.8689 - val_acc: 0.0775\n",
      "Epoch 66/100\n",
      "4800/4800 [==============================] - 3s 658us/step - loss: 14.5298 - acc: 0.0985 - val_loss: 14.8689 - val_acc: 0.0775\n",
      "Epoch 67/100\n",
      "4800/4800 [==============================] - 3s 648us/step - loss: 14.6272 - acc: 0.0925 - val_loss: 14.8689 - val_acc: 0.0775\n",
      "Epoch 68/100\n",
      "4800/4800 [==============================] - 3s 645us/step - loss: 14.5667 - acc: 0.0963 - val_loss: 14.8689 - val_acc: 0.0775\n",
      "Epoch 69/100\n",
      "4800/4800 [==============================] - 3s 641us/step - loss: 14.5365 - acc: 0.0981 - val_loss: 14.8689 - val_acc: 0.0775\n",
      "Epoch 70/100\n",
      "4800/4800 [==============================] - 3s 648us/step - loss: 14.4526 - acc: 0.1033 - val_loss: 14.8689 - val_acc: 0.0775\n",
      "Epoch 71/100\n",
      "4800/4800 [==============================] - 3s 648us/step - loss: 14.5164 - acc: 0.0994 - val_loss: 14.8689 - val_acc: 0.0775\n",
      "Epoch 72/100\n",
      "4800/4800 [==============================] - 3s 641us/step - loss: 14.4761 - acc: 0.1019 - val_loss: 14.8689 - val_acc: 0.0775\n",
      "Epoch 73/100\n",
      "4800/4800 [==============================] - 3s 648us/step - loss: 14.4929 - acc: 0.1008 - val_loss: 14.8689 - val_acc: 0.0775\n",
      "Epoch 74/100\n",
      "4800/4800 [==============================] - 3s 645us/step - loss: 14.6070 - acc: 0.0938 - val_loss: 14.8689 - val_acc: 0.0775\n",
      "Epoch 75/100\n",
      "4800/4800 [==============================] - 3s 641us/step - loss: 14.5835 - acc: 0.0952 - val_loss: 14.8689 - val_acc: 0.0775\n",
      "Epoch 76/100\n",
      "4800/4800 [==============================] - 3s 651us/step - loss: 14.6003 - acc: 0.0942 - val_loss: 14.8689 - val_acc: 0.0775\n",
      "Epoch 77/100\n",
      "4800/4800 [==============================] - 3s 651us/step - loss: 14.5701 - acc: 0.0960 - val_loss: 14.8689 - val_acc: 0.0775\n",
      "Epoch 78/100\n",
      "4800/4800 [==============================] - 3s 648us/step - loss: 14.5231 - acc: 0.0990 - val_loss: 14.8689 - val_acc: 0.0775\n",
      "Epoch 79/100\n",
      "4800/4800 [==============================] - 3s 648us/step - loss: 14.5298 - acc: 0.0985 - val_loss: 14.8689 - val_acc: 0.0775\n",
      "Epoch 80/100\n",
      "4800/4800 [==============================] - 3s 651us/step - loss: 14.5029 - acc: 0.1002 - val_loss: 14.8689 - val_acc: 0.0775\n",
      "Epoch 81/100\n",
      "4800/4800 [==============================] - 3s 651us/step - loss: 14.5063 - acc: 0.1000 - val_loss: 14.8689 - val_acc: 0.0775\n",
      "Epoch 82/100\n",
      "4800/4800 [==============================] - 3s 648us/step - loss: 14.4828 - acc: 0.1015 - val_loss: 14.8689 - val_acc: 0.0775\n",
      "Epoch 83/100\n",
      "4800/4800 [==============================] - 3s 645us/step - loss: 14.5466 - acc: 0.0975 - val_loss: 14.8689 - val_acc: 0.0775\n",
      "Epoch 84/100\n",
      "4800/4800 [==============================] - 3s 651us/step - loss: 14.5869 - acc: 0.0950 - val_loss: 14.8689 - val_acc: 0.0775\n",
      "Epoch 85/100\n",
      "4800/4800 [==============================] - 3s 648us/step - loss: 14.5802 - acc: 0.0954 - val_loss: 14.8689 - val_acc: 0.0775\n",
      "Epoch 86/100\n",
      "4800/4800 [==============================] - 3s 651us/step - loss: 14.5802 - acc: 0.0954 - val_loss: 14.8689 - val_acc: 0.0775\n",
      "Epoch 87/100\n",
      "4800/4800 [==============================] - 3s 645us/step - loss: 14.5231 - acc: 0.0990 - val_loss: 14.8689 - val_acc: 0.0775\n",
      "Epoch 88/100\n",
      "4800/4800 [==============================] - 3s 645us/step - loss: 14.5634 - acc: 0.0965 - val_loss: 14.8689 - val_acc: 0.0775\n",
      "Epoch 89/100\n",
      "4800/4800 [==============================] - 3s 651us/step - loss: 14.5231 - acc: 0.0990 - val_loss: 14.8689 - val_acc: 0.0775\n",
      "Epoch 90/100\n",
      "4800/4800 [==============================] - 3s 651us/step - loss: 14.4761 - acc: 0.1019 - val_loss: 14.8689 - val_acc: 0.0775\n",
      "Epoch 91/100\n",
      "4800/4800 [==============================] - 3s 648us/step - loss: 14.4425 - acc: 0.1040 - val_loss: 14.8689 - val_acc: 0.0775\n",
      "Epoch 92/100\n",
      "4800/4800 [==============================] - 3s 648us/step - loss: 14.5231 - acc: 0.0990 - val_loss: 14.8689 - val_acc: 0.0775\n",
      "Epoch 93/100\n",
      "4800/4800 [==============================] - 3s 651us/step - loss: 14.4358 - acc: 0.1044 - val_loss: 14.8689 - val_acc: 0.0775\n",
      "Epoch 94/100\n",
      "4800/4800 [==============================] - 3s 645us/step - loss: 14.4794 - acc: 0.1017 - val_loss: 14.8689 - val_acc: 0.0775\n",
      "Epoch 95/100\n",
      "4800/4800 [==============================] - 3s 644us/step - loss: 14.4526 - acc: 0.1033 - val_loss: 14.8689 - val_acc: 0.0775\n",
      "Epoch 96/100\n",
      "4800/4800 [==============================] - 3s 651us/step - loss: 14.5231 - acc: 0.0990 - val_loss: 14.8689 - val_acc: 0.0775\n",
      "Epoch 97/100\n",
      "4800/4800 [==============================] - 3s 654us/step - loss: 14.5466 - acc: 0.0975 - val_loss: 14.8689 - val_acc: 0.0775\n",
      "Epoch 98/100\n",
      "4800/4800 [==============================] - 3s 651us/step - loss: 14.5298 - acc: 0.0985 - val_loss: 14.8689 - val_acc: 0.0775\n",
      "Epoch 99/100\n",
      "4800/4800 [==============================] - 3s 648us/step - loss: 14.4761 - acc: 0.1019 - val_loss: 14.8689 - val_acc: 0.0775\n",
      "Epoch 100/100\n",
      "4800/4800 [==============================] - 3s 641us/step - loss: 14.5600 - acc: 0.0967 - val_loss: 14.8689 - val_acc: 0.0775\n"
     ]
    }
   ],
   "source": [
    "model.compile(optimizer = 'adam', metrics = ['accuracy'], loss = 'categorical_crossentropy')\n",
    "\n",
    "#es = EarlyStopping(monitor='val_loss', patience=20, mode='min', verbose=1)\n",
    "cp = ModelCheckpoint('./models/{epoch:02d}-{val_acc:.4f}.h5', monitor='val_loss',\n",
    "                     save_best_only=True, mode='min')\n",
    "\n",
    "history = model.fit(x_train, y_train,\n",
    "                    validation_data=(x_val, y_val), \n",
    "                    batch_size=64, epochs=100, verbose=1, callbacks = [cp])"
   ]
  },
  {
   "cell_type": "code",
   "execution_count": 12,
   "metadata": {
    "ExecuteTime": {
     "end_time": "2020-08-21T06:52:27.375886Z",
     "start_time": "2020-08-21T06:52:24.048464Z"
    }
   },
   "outputs": [],
   "source": [
    "from tensorflow.keras.models import load_model\n",
    "best_model = load_model('models/noskipCNN_drop.h5')"
   ]
  },
  {
   "cell_type": "code",
   "execution_count": 13,
   "metadata": {
    "ExecuteTime": {
     "end_time": "2020-08-21T06:52:27.628588Z",
     "start_time": "2020-08-21T06:52:27.375886Z"
    }
   },
   "outputs": [
    {
     "name": "stdout",
     "output_type": "stream",
     "text": [
      "48/48 [==============================] - 0s 5ms/step\n"
     ]
    },
    {
     "data": {
      "text/plain": [
       "[0.2990819315115611, 0.8333333333333334]"
      ]
     },
     "execution_count": 13,
     "metadata": {},
     "output_type": "execute_result"
    }
   ],
   "source": [
    "evaluate = best_model.evaluate(valid_x, valid_y)\n",
    "evaluate"
   ]
  },
  {
   "cell_type": "code",
   "execution_count": 14,
   "metadata": {
    "ExecuteTime": {
     "end_time": "2020-08-21T06:52:27.651724Z",
     "start_time": "2020-08-21T06:52:27.632570Z"
    }
   },
   "outputs": [],
   "source": [
    "#submission = pd.read_csv('data/val.csv')\n",
    "#submission['digit'] = np.argmax(best_model.predict([x_test, x_letter_test]), axis=1)\n",
    "#submission.to_csv('data/val(CNN).csv', index=False)"
   ]
  },
  {
   "cell_type": "code",
   "execution_count": null,
   "metadata": {},
   "outputs": [],
   "source": []
  }
 ],
 "metadata": {
  "kernelspec": {
   "display_name": "Python 3",
   "language": "python",
   "name": "python3"
  },
  "language_info": {
   "codemirror_mode": {
    "name": "ipython",
    "version": 3
   },
   "file_extension": ".py",
   "mimetype": "text/x-python",
   "name": "python",
   "nbconvert_exporter": "python",
   "pygments_lexer": "ipython3",
   "version": "3.6.10"
  }
 },
 "nbformat": 4,
 "nbformat_minor": 4
}
