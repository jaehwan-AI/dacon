{
 "cells": [
  {
   "cell_type": "code",
   "execution_count": 1,
   "metadata": {
    "ExecuteTime": {
     "end_time": "2020-08-17T15:16:08.488042Z",
     "start_time": "2020-08-17T15:16:02.233855Z"
    }
   },
   "outputs": [],
   "source": [
    "import pandas as pd\n",
    "import numpy as np\n",
    "import matplotlib.pyplot as plt\n",
    "import tensorflow as tf\n",
    "from sklearn.preprocessing import OneHotEncoder\n",
    "from sklearn.model_selection import train_test_split\n",
    "from tensorflow.keras.models import Model\n",
    "from tensorflow.keras.layers import Input, Conv2D, MaxPooling2D, Flatten, Dense, LSTM, concatenate, Dropout\n",
    "from tensorflow.keras.utils import plot_model\n",
    "from tensorflow.keras.wrappers.scikit_learn import KerasClassifier\n",
    "from sklearn.model_selection import RandomizedSearchCV"
   ]
  },
  {
   "cell_type": "code",
   "execution_count": 2,
   "metadata": {
    "ExecuteTime": {
     "end_time": "2020-08-17T15:16:09.810985Z",
     "start_time": "2020-08-17T15:16:08.492042Z"
    }
   },
   "outputs": [],
   "source": [
    "train = pd.read_csv('data/train.csv')\n",
    "test = pd.read_csv('data/test.csv')"
   ]
  },
  {
   "cell_type": "code",
   "execution_count": 3,
   "metadata": {
    "ExecuteTime": {
     "end_time": "2020-08-17T15:16:09.842494Z",
     "start_time": "2020-08-17T15:16:09.813986Z"
    }
   },
   "outputs": [],
   "source": [
    "x = train.drop(['id', 'digit', 'letter'], axis=1).values\n",
    "x = x.reshape(-1, 28, 28, 1)\n",
    "x = x/255\n",
    "\n",
    "y_data = train['digit']\n",
    "y = np.zeros((len(y_data), len(y_data.unique())))\n",
    "for i, digit in enumerate(y_data):\n",
    "    y[i, digit] = 1"
   ]
  },
  {
   "cell_type": "code",
   "execution_count": 4,
   "metadata": {
    "ExecuteTime": {
     "end_time": "2020-08-17T15:16:09.855496Z",
     "start_time": "2020-08-17T15:16:09.845495Z"
    }
   },
   "outputs": [
    {
     "data": {
      "text/plain": [
       "(2048, 26)"
      ]
     },
     "execution_count": 4,
     "metadata": {},
     "output_type": "execute_result"
    }
   ],
   "source": [
    "x_letter = train['letter'].values\n",
    "x_letter = x_letter[:, np.newaxis]\n",
    "en = OneHotEncoder()\n",
    "x_letter = en.fit_transform(x_letter).toarray()\n",
    "x_letter.shape"
   ]
  },
  {
   "cell_type": "code",
   "execution_count": 6,
   "metadata": {
    "ExecuteTime": {
     "end_time": "2020-08-17T15:16:25.869109Z",
     "start_time": "2020-08-17T15:16:25.782997Z"
    }
   },
   "outputs": [
    {
     "name": "stdout",
     "output_type": "stream",
     "text": [
      "(1638, 28, 28, 1)\n",
      "(410, 28, 28, 1)\n",
      "(1638, 10)\n",
      "(410, 10)\n",
      "(1638, 26)\n",
      "(410, 26)\n"
     ]
    }
   ],
   "source": [
    "x_train, x_val, y_train, y_val = train_test_split(x, y, test_size=0.2, shuffle=True, stratify=y)\n",
    "\n",
    "print(x_train.shape)\n",
    "print(x_val.shape)\n",
    "print(y_train.shape)\n",
    "print(y_val.shape)\n",
    "\n",
    "x_letter_train = x_letter[:x_train.shape[0],:]\n",
    "x_letter_val = x_letter[x_train.shape[0]:,:]\n",
    "print(x_letter_train.shape)\n",
    "print(x_letter_val.shape)"
   ]
  },
  {
   "cell_type": "code",
   "execution_count": 8,
   "metadata": {
    "ExecuteTime": {
     "end_time": "2020-08-17T15:18:23.379738Z",
     "start_time": "2020-08-17T15:18:23.005408Z"
    }
   },
   "outputs": [
    {
     "name": "stdout",
     "output_type": "stream",
     "text": [
      "Model: \"model\"\n",
      "__________________________________________________________________________________________________\n",
      "Layer (type)                    Output Shape         Param #     Connected to                     \n",
      "==================================================================================================\n",
      "input_1 (InputLayer)            [(None, 28, 28, 1)]  0                                            \n",
      "__________________________________________________________________________________________________\n",
      "conv2d (Conv2D)                 (None, 28, 28, 64)   640         input_1[0][0]                    \n",
      "__________________________________________________________________________________________________\n",
      "dropout (Dropout)               (None, 28, 28, 64)   0           conv2d[0][0]                     \n",
      "__________________________________________________________________________________________________\n",
      "max_pooling2d (MaxPooling2D)    (None, 14, 14, 64)   0           dropout[0][0]                    \n",
      "__________________________________________________________________________________________________\n",
      "conv2d_1 (Conv2D)               (None, 14, 14, 64)   16448       max_pooling2d[0][0]              \n",
      "__________________________________________________________________________________________________\n",
      "dropout_1 (Dropout)             (None, 14, 14, 64)   0           conv2d_1[0][0]                   \n",
      "__________________________________________________________________________________________________\n",
      "max_pooling2d_1 (MaxPooling2D)  (None, 7, 7, 64)     0           dropout_1[0][0]                  \n",
      "__________________________________________________________________________________________________\n",
      "conv2d_2 (Conv2D)               (None, 7, 7, 128)    32896       max_pooling2d_1[0][0]            \n",
      "__________________________________________________________________________________________________\n",
      "dropout_2 (Dropout)             (None, 7, 7, 128)    0           conv2d_2[0][0]                   \n",
      "__________________________________________________________________________________________________\n",
      "max_pooling2d_2 (MaxPooling2D)  (None, 3, 3, 128)    0           dropout_2[0][0]                  \n",
      "__________________________________________________________________________________________________\n",
      "flatten (Flatten)               (None, 1152)         0           max_pooling2d_2[0][0]            \n",
      "__________________________________________________________________________________________________\n",
      "input_2 (InputLayer)            [(None, 26)]         0                                            \n",
      "__________________________________________________________________________________________________\n",
      "concatenate (Concatenate)       (None, 1178)         0           flatten[0][0]                    \n",
      "                                                                 input_2[0][0]                    \n",
      "__________________________________________________________________________________________________\n",
      "dense (Dense)                   (None, 500)          589500      concatenate[0][0]                \n",
      "__________________________________________________________________________________________________\n",
      "dropout_3 (Dropout)             (None, 500)          0           dense[0][0]                      \n",
      "__________________________________________________________________________________________________\n",
      "dense_1 (Dense)                 (None, 100)          50100       dropout_3[0][0]                  \n",
      "__________________________________________________________________________________________________\n",
      "dropout_4 (Dropout)             (None, 100)          0           dense_1[0][0]                    \n",
      "__________________________________________________________________________________________________\n",
      "dense_2 (Dense)                 (None, 50)           5050        dropout_4[0][0]                  \n",
      "__________________________________________________________________________________________________\n",
      "dense_3 (Dense)                 (None, 10)           510         dense_2[0][0]                    \n",
      "==================================================================================================\n",
      "Total params: 695,144\n",
      "Trainable params: 695,144\n",
      "Non-trainable params: 0\n",
      "__________________________________________________________________________________________________\n"
     ]
    }
   ],
   "source": [
    "input1 = Input(shape=(28,28,1))\n",
    "x1 = Conv2D(64, (3,3), activation='relu', padding='same')(input1)\n",
    "x1 = Dropout(0.3)(x1)\n",
    "x1 = MaxPooling2D((2,2))(x1)\n",
    "x1 = Conv2D(64, (2,2), activation='relu', padding='same')(x1)\n",
    "x1 = Dropout(0.3)(x1)\n",
    "x1 = MaxPooling2D((2,2))(x1)\n",
    "x1 = Conv2D(128, (2,2), activation='relu', padding='same')(x1)\n",
    "x1 = Dropout(0.3)(x1)\n",
    "x1 = MaxPooling2D((2,2))(x1)\n",
    "x1 = Flatten()(x1)\n",
    "\n",
    "input2 = Input(shape=(26,))\n",
    "merge = concatenate([x1, input2])\n",
    "\n",
    "x2 = Dense(500, activation='relu')(merge)\n",
    "x2 = Dropout(0.3)(x2)\n",
    "x2 = Dense(100, activation='relu')(x2)\n",
    "x2 = Dropout(0.3)(x2)\n",
    "x2 = Dense(50, activation='relu')(x2)\n",
    "outputs = Dense(10, activation='softmax')(x2)\n",
    "\n",
    "model = Model(inputs = [input1, input2], outputs = outputs)\n",
    "\n",
    "model.summary()"
   ]
  },
  {
   "cell_type": "code",
   "execution_count": 10,
   "metadata": {
    "ExecuteTime": {
     "end_time": "2020-08-17T15:21:07.656852Z",
     "start_time": "2020-08-17T15:18:39.232863Z"
    }
   },
   "outputs": [
    {
     "name": "stdout",
     "output_type": "stream",
     "text": [
      "Train on 1638 samples, validate on 410 samples\n",
      "Epoch 1/50\n",
      "1638/1638 [==============================] - 4s 2ms/sample - loss: 2.2989 - accuracy: 0.1197 - val_loss: 2.2906 - val_accuracy: 0.1220\n",
      "Epoch 2/50\n",
      "1638/1638 [==============================] - 3s 2ms/sample - loss: 2.2466 - accuracy: 0.1600 - val_loss: 2.2216 - val_accuracy: 0.2707\n",
      "Epoch 3/50\n",
      "1638/1638 [==============================] - 3s 2ms/sample - loss: 2.1223 - accuracy: 0.2161 - val_loss: 2.1404 - val_accuracy: 0.3341\n",
      "Epoch 4/50\n",
      "1638/1638 [==============================] - 3s 2ms/sample - loss: 1.8939 - accuracy: 0.3266 - val_loss: 1.9277 - val_accuracy: 0.4293\n",
      "Epoch 5/50\n",
      "1638/1638 [==============================] - 3s 2ms/sample - loss: 1.6662 - accuracy: 0.4103 - val_loss: 1.7010 - val_accuracy: 0.5171\n",
      "Epoch 6/50\n",
      "1638/1638 [==============================] - 3s 2ms/sample - loss: 1.4794 - accuracy: 0.4945 - val_loss: 1.5329 - val_accuracy: 0.5854\n",
      "Epoch 7/50\n",
      "1638/1638 [==============================] - 3s 2ms/sample - loss: 1.2865 - accuracy: 0.5733 - val_loss: 1.4864 - val_accuracy: 0.6220\n",
      "Epoch 8/50\n",
      "1638/1638 [==============================] - 3s 2ms/sample - loss: 1.1192 - accuracy: 0.6306 - val_loss: 1.2612 - val_accuracy: 0.6268\n",
      "Epoch 9/50\n",
      "1638/1638 [==============================] - 3s 2ms/sample - loss: 1.0527 - accuracy: 0.6422 - val_loss: 1.2817 - val_accuracy: 0.6780\n",
      "Epoch 10/50\n",
      "1638/1638 [==============================] - 3s 2ms/sample - loss: 0.9534 - accuracy: 0.6947 - val_loss: 1.0818 - val_accuracy: 0.7000\n",
      "Epoch 11/50\n",
      "1638/1638 [==============================] - 3s 2ms/sample - loss: 0.9011 - accuracy: 0.6954 - val_loss: 1.1063 - val_accuracy: 0.6659\n",
      "Epoch 12/50\n",
      "1638/1638 [==============================] - 3s 2ms/sample - loss: 0.7835 - accuracy: 0.7344 - val_loss: 1.0169 - val_accuracy: 0.6854\n",
      "Epoch 13/50\n",
      "1638/1638 [==============================] - 3s 2ms/sample - loss: 0.7715 - accuracy: 0.7399 - val_loss: 0.9573 - val_accuracy: 0.7488\n",
      "Epoch 14/50\n",
      "1638/1638 [==============================] - 3s 2ms/sample - loss: 0.7071 - accuracy: 0.7631 - val_loss: 0.9408 - val_accuracy: 0.6805\n",
      "Epoch 15/50\n",
      "1638/1638 [==============================] - 3s 2ms/sample - loss: 0.6396 - accuracy: 0.7894 - val_loss: 0.7947 - val_accuracy: 0.7463\n",
      "Epoch 16/50\n",
      "1638/1638 [==============================] - 3s 2ms/sample - loss: 0.6127 - accuracy: 0.7924 - val_loss: 0.8001 - val_accuracy: 0.7293\n",
      "Epoch 17/50\n",
      "1638/1638 [==============================] - 3s 2ms/sample - loss: 0.5587 - accuracy: 0.8114 - val_loss: 0.8614 - val_accuracy: 0.7195\n",
      "Epoch 18/50\n",
      "1638/1638 [==============================] - 3s 2ms/sample - loss: 0.5010 - accuracy: 0.8315 - val_loss: 0.7331 - val_accuracy: 0.7512\n",
      "Epoch 19/50\n",
      "1638/1638 [==============================] - 3s 2ms/sample - loss: 0.5058 - accuracy: 0.8199 - val_loss: 0.7646 - val_accuracy: 0.7366\n",
      "Epoch 20/50\n",
      "1638/1638 [==============================] - 3s 2ms/sample - loss: 0.4976 - accuracy: 0.8346 - val_loss: 0.8094 - val_accuracy: 0.7244\n",
      "Epoch 21/50\n",
      "1638/1638 [==============================] - 3s 2ms/sample - loss: 0.4451 - accuracy: 0.8468 - val_loss: 0.7676 - val_accuracy: 0.7293\n",
      "Epoch 22/50\n",
      "1638/1638 [==============================] - 3s 2ms/sample - loss: 0.4261 - accuracy: 0.8571 - val_loss: 0.7247 - val_accuracy: 0.7585\n",
      "Epoch 23/50\n",
      "1638/1638 [==============================] - 3s 2ms/sample - loss: 0.3895 - accuracy: 0.8785 - val_loss: 0.7471 - val_accuracy: 0.7366\n",
      "Epoch 24/50\n",
      "1638/1638 [==============================] - 3s 2ms/sample - loss: 0.3554 - accuracy: 0.8724 - val_loss: 0.7260 - val_accuracy: 0.7610\n",
      "Epoch 25/50\n",
      "1638/1638 [==============================] - 3s 2ms/sample - loss: 0.3349 - accuracy: 0.8797 - val_loss: 0.6628 - val_accuracy: 0.7707\n",
      "Epoch 26/50\n",
      "1638/1638 [==============================] - 3s 2ms/sample - loss: 0.3259 - accuracy: 0.8907 - val_loss: 0.6645 - val_accuracy: 0.7683\n",
      "Epoch 27/50\n",
      "1638/1638 [==============================] - 3s 2ms/sample - loss: 0.2938 - accuracy: 0.9035 - val_loss: 0.6949 - val_accuracy: 0.7561\n",
      "Epoch 28/50\n",
      "1638/1638 [==============================] - 3s 2ms/sample - loss: 0.2692 - accuracy: 0.9151 - val_loss: 0.6608 - val_accuracy: 0.7780\n",
      "Epoch 29/50\n",
      "1638/1638 [==============================] - 3s 2ms/sample - loss: 0.2551 - accuracy: 0.9139 - val_loss: 0.7186 - val_accuracy: 0.7537\n",
      "Epoch 30/50\n",
      "1638/1638 [==============================] - 3s 2ms/sample - loss: 0.2074 - accuracy: 0.9310 - val_loss: 0.7084 - val_accuracy: 0.7610\n",
      "Epoch 31/50\n",
      "1638/1638 [==============================] - 3s 2ms/sample - loss: 0.2389 - accuracy: 0.9066 - val_loss: 0.6433 - val_accuracy: 0.7683\n",
      "Epoch 32/50\n",
      "1638/1638 [==============================] - 3s 2ms/sample - loss: 0.2502 - accuracy: 0.9151 - val_loss: 0.6222 - val_accuracy: 0.8000\n",
      "Epoch 33/50\n",
      "1638/1638 [==============================] - 3s 2ms/sample - loss: 0.2153 - accuracy: 0.9249 - val_loss: 0.6545 - val_accuracy: 0.7683\n",
      "Epoch 34/50\n",
      "1638/1638 [==============================] - 3s 2ms/sample - loss: 0.2042 - accuracy: 0.9298 - val_loss: 0.6795 - val_accuracy: 0.7732\n",
      "Epoch 35/50\n",
      "1638/1638 [==============================] - 3s 2ms/sample - loss: 0.1970 - accuracy: 0.9402 - val_loss: 0.6888 - val_accuracy: 0.7634\n",
      "Epoch 36/50\n",
      "1638/1638 [==============================] - 3s 2ms/sample - loss: 0.1929 - accuracy: 0.9304 - val_loss: 0.6075 - val_accuracy: 0.7707\n",
      "Epoch 37/50\n",
      "1638/1638 [==============================] - 3s 2ms/sample - loss: 0.1475 - accuracy: 0.9554 - val_loss: 0.6246 - val_accuracy: 0.7927\n",
      "Epoch 38/50\n",
      "1638/1638 [==============================] - 3s 2ms/sample - loss: 0.1427 - accuracy: 0.9524 - val_loss: 0.6186 - val_accuracy: 0.8024\n",
      "Epoch 39/50\n",
      "1638/1638 [==============================] - 3s 2ms/sample - loss: 0.1393 - accuracy: 0.9579 - val_loss: 0.6946 - val_accuracy: 0.7634\n",
      "Epoch 40/50\n",
      "1638/1638 [==============================] - 3s 2ms/sample - loss: 0.1740 - accuracy: 0.9371 - val_loss: 0.6498 - val_accuracy: 0.7634\n",
      "Epoch 41/50\n",
      "1638/1638 [==============================] - 3s 2ms/sample - loss: 0.1173 - accuracy: 0.9591 - val_loss: 0.6437 - val_accuracy: 0.7707\n",
      "Epoch 42/50\n",
      "1638/1638 [==============================] - 3s 2ms/sample - loss: 0.1226 - accuracy: 0.9585 - val_loss: 0.6013 - val_accuracy: 0.7829\n",
      "Epoch 43/50\n",
      "1638/1638 [==============================] - 3s 2ms/sample - loss: 0.0958 - accuracy: 0.9676 - val_loss: 0.6148 - val_accuracy: 0.7878\n",
      "Epoch 44/50\n",
      "1638/1638 [==============================] - 3s 2ms/sample - loss: 0.1281 - accuracy: 0.9615 - val_loss: 0.5992 - val_accuracy: 0.8098\n",
      "Epoch 45/50\n",
      "1638/1638 [==============================] - 3s 2ms/sample - loss: 0.1335 - accuracy: 0.9603 - val_loss: 0.6860 - val_accuracy: 0.7561\n",
      "Epoch 46/50\n",
      "1638/1638 [==============================] - 3s 2ms/sample - loss: 0.1099 - accuracy: 0.9670 - val_loss: 0.6148 - val_accuracy: 0.7829\n",
      "Epoch 47/50\n",
      "1638/1638 [==============================] - 3s 2ms/sample - loss: 0.0954 - accuracy: 0.9658 - val_loss: 0.6337 - val_accuracy: 0.7829\n",
      "Epoch 48/50\n",
      "1638/1638 [==============================] - 3s 2ms/sample - loss: 0.1069 - accuracy: 0.9628 - val_loss: 0.6242 - val_accuracy: 0.7732\n",
      "Epoch 49/50\n",
      "1638/1638 [==============================] - 3s 2ms/sample - loss: 0.1103 - accuracy: 0.9670 - val_loss: 0.7031 - val_accuracy: 0.7585\n",
      "Epoch 50/50\n",
      "1638/1638 [==============================] - 3s 2ms/sample - loss: 0.1166 - accuracy: 0.9609 - val_loss: 0.6361 - val_accuracy: 0.7976\n"
     ]
    }
   ],
   "source": [
    "model.compile(optimizer = 'adam', metrics = ['accuracy'], loss = 'categorical_crossentropy')\n",
    "history = model.fit([x_train, x_letter_train], y_train, validation_data=([x_val, x_letter_val], y_val), \n",
    "                    batch_size=64, epochs=50, verbose=1)"
   ]
  },
  {
   "cell_type": "code",
   "execution_count": 13,
   "metadata": {
    "ExecuteTime": {
     "end_time": "2020-08-17T15:25:43.702699Z",
     "start_time": "2020-08-17T15:25:43.528169Z"
    }
   },
   "outputs": [
    {
     "data": {
      "text/plain": [
       "(20480, 26)"
      ]
     },
     "execution_count": 13,
     "metadata": {},
     "output_type": "execute_result"
    }
   ],
   "source": [
    "x_test = test.drop(['id', 'letter'], axis=1).values\n",
    "x_test = x_test.reshape(-1, 28, 28, 1)\n",
    "x_test = x_test/255\n",
    "\n",
    "x_letter_test = test['letter'].values\n",
    "x_letter_test = x_letter_test[:, np.newaxis]\n",
    "en = OneHotEncoder()\n",
    "x_letter_test = en.fit_transform(x_letter_test).toarray()\n",
    "x_letter_test.shape"
   ]
  },
  {
   "cell_type": "code",
   "execution_count": 14,
   "metadata": {
    "ExecuteTime": {
     "end_time": "2020-08-17T15:26:04.791115Z",
     "start_time": "2020-08-17T15:25:56.693274Z"
    }
   },
   "outputs": [],
   "source": [
    "submission = pd.read_csv('data/submission.csv')\n",
    "submission['digit'] = np.argmax(model.predict([x_test, x_letter_test]), axis=1)"
   ]
  },
  {
   "cell_type": "code",
   "execution_count": 15,
   "metadata": {
    "ExecuteTime": {
     "end_time": "2020-08-17T15:26:39.798419Z",
     "start_time": "2020-08-17T15:26:39.743900Z"
    }
   },
   "outputs": [],
   "source": [
    "submission.to_csv('data/submission1.csv', index=False)"
   ]
  }
 ],
 "metadata": {
  "kernelspec": {
   "display_name": "Python 3",
   "language": "python",
   "name": "python3"
  },
  "language_info": {
   "codemirror_mode": {
    "name": "ipython",
    "version": 3
   },
   "file_extension": ".py",
   "mimetype": "text/x-python",
   "name": "python",
   "nbconvert_exporter": "python",
   "pygments_lexer": "ipython3",
   "version": "3.7.6"
  }
 },
 "nbformat": 4,
 "nbformat_minor": 4
}
