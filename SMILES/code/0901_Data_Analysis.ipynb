{
 "cells": [
  {
   "cell_type": "code",
   "execution_count": 3,
   "metadata": {
    "ExecuteTime": {
     "end_time": "2020-09-01T08:26:54.299984Z",
     "start_time": "2020-09-01T08:26:53.874781Z"
    }
   },
   "outputs": [],
   "source": [
    "# library\n",
    "import pandas as pd\n",
    "from rdkit import Chem\n",
    "from rdkit import RDLogger\n",
    "RDLogger.DisableLog('RdApp.*')\n",
    "\n",
    "import numpy as np\n",
    "from PIL import Image\n",
    "import matplotlib.pyplot as plt\n"
   ]
  },
  {
   "cell_type": "code",
   "execution_count": 4,
   "metadata": {
    "ExecuteTime": {
     "end_time": "2020-09-01T08:27:04.797057Z",
     "start_time": "2020-09-01T08:27:04.647561Z"
    }
   },
   "outputs": [
    {
     "data": {
      "text/plain": [
       "<matplotlib.image.AxesImage at 0x2705386c4c8>"
      ]
     },
     "execution_count": 4,
     "metadata": {},
     "output_type": "execute_result"
    },
    {
     "data": {
      "image/png": "[encoded data removed]",
      "text/plain": [
       "<Figure size 432x288 with 1 Axes>"
      ]
     },
     "metadata": {
      "needs_background": "light"
     },
     "output_type": "display_data"
    }
   ],
   "source": [
    "img = Image.open('data/train/train_0.png')\n",
    "pix = np.array(img)\n",
    "plt.imshow(pix)"
   ]
  },
  {
   "cell_type": "code",
   "execution_count": 13,
   "metadata": {
    "ExecuteTime": {
     "end_time": "2020-09-01T09:29:42.934770Z",
     "start_time": "2020-09-01T09:29:41.965276Z"
    }
   },
   "outputs": [
    {
     "data": {
      "text/plain": [
       "array(['CC(=O)OC(CC(=O)[O-])C[N+](C)(C)C',\n",
       "       'CC(=O)OC(CC(=O)O)C[N+](C)(C)C', 'O=C(O)C1=CC=CC(O)C1O', ...,\n",
       "       'COc1ccc(-c2cc(C(F)(F)F)n3nc(C(=O)NCC(C)C)c(Cl)c3n2)cc1',\n",
       "       'COc1ccc(-c2cc(C(F)(F)F)n3nc(C(=O)Nc4cccc(Cl)c4)c(Cl)c3n2)cc1',\n",
       "       'COc1ccc(-c2cc(C(F)(F)F)n3nc(C(=O)NCc4cccnc4)c(Cl)c3n2)cc1'],\n",
       "      dtype=object)"
      ]
     },
     "execution_count": 13,
     "metadata": {},
     "output_type": "execute_result"
    }
   ],
   "source": [
    "train = pd.read_csv('data/train.csv')\n",
    "y_smiles = train['SMILES'].values\n",
    "y_smiles"
   ]
  },
  {
   "cell_type": "code",
   "execution_count": 14,
   "metadata": {
    "ExecuteTime": {
     "end_time": "2020-09-01T09:29:43.505293Z",
     "start_time": "2020-09-01T09:29:42.936762Z"
    }
   },
   "outputs": [
    {
     "data": {
      "text/plain": [
       "array(['CC(=O)OC(CC(=O)[O-])C[N+](C)(C)C',\n",
       "       'CC(=O)OC(CC(=O)O)C[N+](C)(C)C', 'O=C(O)C1=CC=CC(O)C1O', ...,\n",
       "       'COc1ccc(-c2cc(C(F)(F)F)n3nc(C(=O)NCC(C)C)c(Cl)c3n2)cc1',\n",
       "       'COc1ccc(-c2cc(C(F)(F)F)n3nc(C(=O)Nc4cccc(Cl)c4)c(Cl)c3n2)cc1',\n",
       "       'COc1ccc(-c2cc(C(F)(F)F)n3nc(C(=O)NCc4cccnc4)c(Cl)c3n2)cc1'],\n",
       "      dtype=object)"
      ]
     },
     "execution_count": 14,
     "metadata": {},
     "output_type": "execute_result"
    }
   ],
   "source": [
    "# save npy\n",
    "np.save('data/y_smiles.npy', arr=y_smiles)\n",
    "\n",
    "# load npy\n",
    "y_train = np.load('data/y_smiles.npy', allow_pickle='True')\n",
    "y_train"
   ]
  },
  {
   "cell_type": "code",
   "execution_count": null,
   "metadata": {},
   "outputs": [],
   "source": [
    "def f(smiles):\n",
    "    m = Chem.MolFromSmiles(smiles)\n",
    "    if m != None:\n",
    "        smiles = Chem.MolToSmiles(m)\n",
    "    return smiles"
   ]
  },
  {
   "cell_type": "code",
   "execution_count": null,
   "metadata": {},
   "outputs": [],
   "source": [
    "submission = pd.read_csv('sample_submission.csv')\n",
    "submission['SMILES'] = submission.apply(lambda x : f(x['SMILES']), axis=1)\n",
    "submission.to_csv('sample_submission.csv', index=False)"
   ]
  }
 ],
 "metadata": {
  "kernelspec": {
   "display_name": "Tensorflow",
   "language": "python",
   "name": "tensorflow"
  },
  "language_info": {
   "codemirror_mode": {
    "name": "ipython",
    "version": 3
   },
   "file_extension": ".py",
   "mimetype": "text/x-python",
   "name": "python",
   "nbconvert_exporter": "python",
   "pygments_lexer": "ipython3",
   "version": "3.7.6"
  }
 },
 "nbformat": 4,
 "nbformat_minor": 4
}
