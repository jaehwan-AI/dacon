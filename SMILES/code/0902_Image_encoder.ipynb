{
 "cells": [
  {
   "cell_type": "code",
   "execution_count": 1,
   "metadata": {
    "ExecuteTime": {
     "end_time": "2020-09-02T09:05:56.534933Z",
     "start_time": "2020-09-02T09:05:51.383054Z"
    }
   },
   "outputs": [],
   "source": [
    "# library\n",
    "import pandas as pd\n",
    "from rdkit import Chem\n",
    "from rdkit import RDLogger\n",
    "RDLogger.DisableLog('RdApp.*')\n",
    "\n",
    "import numpy as np\n",
    "from PIL import Image\n",
    "import matplotlib.pyplot as plt\n",
    "\n",
    "import tensorflow as tf\n",
    "from tensorflow.keras.models import Model\n",
    "from tensorflow.keras.layers import Input, Conv2D, MaxPooling2D, Flatten, Dense\n",
    "from tensorflow.keras.layers import concatenate, Dropout, GlobalAveragePooling2D\n",
    "from tensorflow.keras.layers import BatchNormalization, Activation, AveragePooling2D\n",
    "from tensorflow.keras.preprocessing.image import ImageDataGenerator\n",
    "from tensorflow.keras.callbacks import EarlyStopping, ModelCheckpoint, ReduceLROnPlateau\n",
    "\n",
    "# seed\n",
    "import os\n",
    "seed = 123\n",
    "os.environ['PYTHONHASHSEED'] = str(seed)\n",
    "np.random.seed(seed)\n",
    "tf.random.set_seed(seed)"
   ]
  },
  {
   "cell_type": "code",
   "execution_count": 2,
   "metadata": {
    "ExecuteTime": {
     "end_time": "2020-09-02T09:05:57.595785Z",
     "start_time": "2020-09-02T09:05:56.536833Z"
    }
   },
   "outputs": [
    {
     "data": {
      "text/plain": [
       "array(['train_0.png', 'train_1.png', 'train_2.png', ...,\n",
       "       'train_908762.png', 'train_908763.png', 'train_908764.png'],\n",
       "      dtype=object)"
      ]
     },
     "execution_count": 2,
     "metadata": {},
     "output_type": "execute_result"
    }
   ],
   "source": [
    "df = pd.read_csv('data/train.csv')\n",
    "file = df['file_name'].values\n",
    "file"
   ]
  },
  {
   "cell_type": "code",
   "execution_count": null,
   "metadata": {
    "ExecuteTime": {
     "end_time": "2020-09-02T08:48:06.620221Z",
     "start_time": "2020-09-02T08:48:06.492524Z"
    }
   },
   "outputs": [],
   "source": [
    "img = Image.open('data/train/train_0.png')\n",
    "pix = np.array(img)\n",
    "plt.imshow(pix)"
   ]
  },
  {
   "cell_type": "code",
   "execution_count": null,
   "metadata": {
    "ExecuteTime": {
     "end_time": "2020-09-02T07:40:42.521263Z",
     "start_time": "2020-09-02T07:40:42.516282Z"
    }
   },
   "outputs": [],
   "source": [
    "pix.shape"
   ]
  },
  {
   "cell_type": "code",
   "execution_count": null,
   "metadata": {
    "ExecuteTime": {
     "start_time": "2020-09-02T09:06:08.229Z"
    }
   },
   "outputs": [],
   "source": [
    "pix_lst = []\n",
    "for i in range(len(file[:100000])):\n",
    "    img = Image.open(f'data/train/{file[i]}')\n",
    "    pix = np.array(img)\n",
    "    pix_lst.append(pix)\n",
    "pix_lst.shape"
   ]
  },
  {
   "cell_type": "code",
   "execution_count": null,
   "metadata": {},
   "outputs": [],
   "source": [
    "for i in range(len(file[100000:200000])):\n",
    "    img = Image.open(f'data/train/{file[i]}')\n",
    "    pix = np.array(img)\n",
    "    pix_lst.append(pix)\n",
    "pix_lst.shape"
   ]
  },
  {
   "cell_type": "code",
   "execution_count": null,
   "metadata": {},
   "outputs": [],
   "source": [
    "for i in range(len(file[200000:300000])):\n",
    "    img = Image.open(f'data/train/{file[i]}')\n",
    "    pix = np.array(img)\n",
    "    pix_lst.append(pix)\n",
    "pix_lst.shape"
   ]
  },
  {
   "cell_type": "code",
   "execution_count": null,
   "metadata": {},
   "outputs": [],
   "source": [
    "for i in range(len(file[300000:400000])):\n",
    "    img = Image.open(f'data/train/{file[i]}')\n",
    "    pix = np.array(img)\n",
    "    pix_lst.append(pix)\n",
    "pix_lst.shape"
   ]
  },
  {
   "cell_type": "code",
   "execution_count": null,
   "metadata": {},
   "outputs": [],
   "source": [
    "for i in range(len(file[400000:500000])):\n",
    "    img = Image.open(f'data/train/{file[i]}')\n",
    "    pix = np.array(img)\n",
    "    pix_lst.append(pix)\n",
    "pix_lst.shape"
   ]
  },
  {
   "cell_type": "code",
   "execution_count": null,
   "metadata": {},
   "outputs": [],
   "source": [
    "for i in range(len(file[500000:600000])):\n",
    "    img = Image.open(f'data/train/{file[i]}')\n",
    "    pix = np.array(img)\n",
    "    pix_lst.append(pix)\n",
    "pix_lst.shape"
   ]
  },
  {
   "cell_type": "code",
   "execution_count": null,
   "metadata": {},
   "outputs": [],
   "source": [
    "for i in range(len(file[600000:700000])):\n",
    "    img = Image.open(f'data/train/{file[i]}')\n",
    "    pix = np.array(img)\n",
    "    pix_lst.append(pix)\n",
    "pix_lst.shape"
   ]
  },
  {
   "cell_type": "code",
   "execution_count": null,
   "metadata": {},
   "outputs": [],
   "source": [
    "for i in range(len(file[600000:700000])):\n",
    "    img = Image.open(f'data/train/{file[i]}')\n",
    "    pix = np.array(img)\n",
    "    pix_lst.append(pix)\n",
    "pix_lst.shape"
   ]
  },
  {
   "cell_type": "code",
   "execution_count": null,
   "metadata": {},
   "outputs": [],
   "source": [
    "for i in range(len(file[700000:800000])):\n",
    "    img = Image.open(f'data/train/{file[i]}')\n",
    "    pix = np.array(img)\n",
    "    pix_lst.append(pix)\n",
    "pix_lst.shape"
   ]
  },
  {
   "cell_type": "code",
   "execution_count": null,
   "metadata": {},
   "outputs": [],
   "source": [
    "for i in range(len(file[800000:900000])):\n",
    "    img = Image.open(f'data/train/{file[i]}')\n",
    "    pix = np.array(img)\n",
    "    pix_lst.append(pix)\n",
    "pix_lst.shape"
   ]
  },
  {
   "cell_type": "code",
   "execution_count": null,
   "metadata": {},
   "outputs": [],
   "source": [
    "for i in range(len(file[900000:])):\n",
    "    img = Image.open(f'data/train/{file[i]}')\n",
    "    pix = np.array(img)\n",
    "    pix_lst.append(pix)\n",
    "pix_lst.shape"
   ]
  },
  {
   "cell_type": "code",
   "execution_count": null,
   "metadata": {},
   "outputs": [],
   "source": [
    "# save npy\n",
    "np.save('data/x_images.npy', arr=pix_lst)\n",
    "\n",
    "# load npy\n",
    "x_train = np.load('data/x_images.npy', allow_pickle='True')\n",
    "x_train"
   ]
  },
  {
   "cell_type": "code",
   "execution_count": null,
   "metadata": {
    "ExecuteTime": {
     "end_time": "2020-09-02T08:23:12.234970Z",
     "start_time": "2020-09-02T08:23:12.222936Z"
    }
   },
   "outputs": [],
   "source": [
    "def Conv_block(x, growth_rate, activation='relu'):\n",
    "    x_l = BatchNormalization()(x)\n",
    "    x_l = Activation(activation)(x_l)\n",
    "    x_l = Conv2D(growth_rate*4, (1,1), padding='same', kernel_initializer='he_normal')(x_l)\n",
    "    \n",
    "    x_l = BatchNormalization()(x_l)\n",
    "    x_l = Activation(activation)(x_l)\n",
    "    x_l = Conv2D(growth_rate, (3,3), padding='same', kernel_initializer='he_normal')(x_l)\n",
    "    \n",
    "    x = concatenate([x, x_l])\n",
    "    return x\n",
    "\n",
    "def Dense_block(x, layers, growth_rate=32):\n",
    "    for i in range(layers):\n",
    "        x = Conv_block(x, growth_rate)\n",
    "    return x\n",
    "\n",
    "def Transition_layer(x, compression_factor=0.5, activation='relu'):\n",
    "    reduced_filters = int(tf.keras.backend.int_shape(x)[-1] * compression_factor)\n",
    "    \n",
    "    x = BatchNormalization()(x)\n",
    "    x = Activation(activation)(x)\n",
    "    x = Conv2D(reduced_filters, (1,1), padding='same', kernel_initializer='he_normal')(x)\n",
    "    \n",
    "    x = AveragePooling2D((2,2), padding='same', strides=2)(x)\n",
    "    return x\n",
    "\n",
    "def DenseNet(model_input, densenet_type='DenseNet-121'):\n",
    "    x = Conv2D(base_growth_rate*2, (7,7), padding='same', strides=2,\n",
    "               kernel_initializer='he_normal')(model_input)\n",
    "    x = BatchNormalization()(x)\n",
    "    x = Activation('relu')(x)\n",
    "    \n",
    "    x = MaxPooling2D((2,2), padding='same', strides=2)(x)\n",
    "    \n",
    "    x = Dense_block(x, layers_in_block[densenet_type][0], base_growth_rate)\n",
    "    x = Transition_layer(x, compression_factor=0.5)\n",
    "    x = Dense_block(x, layers_in_block[densenet_type][1], base_growth_rate)\n",
    "    x = Transition_layer(x, compression_factor=0.5)\n",
    "    x = Dense_block(x, layers_in_block[densenet_type][2], base_growth_rate)\n",
    "    x = Transition_layer(x, compression_factor=0.5)\n",
    "    x = Dense_block(x, layers_in_block[densenet_type][3], base_growth_rate)\n",
    "    \n",
    "    model_output = GlobalAveragePooling2D()(x)\n",
    "    \n",
    "    model = Model(model_input, model_output, name=densenet_type)\n",
    "    \n",
    "    return model"
   ]
  },
  {
   "cell_type": "code",
   "execution_count": null,
   "metadata": {
    "ExecuteTime": {
     "end_time": "2020-09-02T08:23:16.677380Z",
     "start_time": "2020-09-02T08:23:12.354311Z"
    }
   },
   "outputs": [],
   "source": [
    "layers_in_block = {'DenseNet-121':[6, 12, 24, 16],\n",
    "                   'DenseNet-169':[6, 12, 32, 32],\n",
    "                   'DenseNet-201':[6, 12, 48, 32],\n",
    "                   'DenseNet-265':[6, 12, 64, 48]}\n",
    "\n",
    "base_growth_rate = 32\n",
    "\n",
    "model_input = Input(shape=(300,300,3))\n",
    "\n",
    "encoder = DenseNet(model_input, 'DenseNet-121')\n",
    "\n",
    "encoder.summary()"
   ]
  },
  {
   "cell_type": "code",
   "execution_count": null,
   "metadata": {
    "ExecuteTime": {
     "end_time": "2020-09-02T08:45:56.614558Z",
     "start_time": "2020-09-02T08:45:56.489659Z"
    }
   },
   "outputs": [],
   "source": [
    "encoder.compile(optimizer = 'adam', metrics = ['mse'], loss = 'mse')\n",
    "hist = encoder(x_image, batch_size=64, epochs=10, verbose=1)"
   ]
  },
  {
   "cell_type": "code",
   "execution_count": null,
   "metadata": {},
   "outputs": [],
   "source": []
  },
  {
   "cell_type": "code",
   "execution_count": null,
   "metadata": {},
   "outputs": [],
   "source": []
  },
  {
   "cell_type": "code",
   "execution_count": null,
   "metadata": {},
   "outputs": [],
   "source": []
  },
  {
   "cell_type": "code",
   "execution_count": null,
   "metadata": {},
   "outputs": [],
   "source": [
    "def f(smiles):\n",
    "    m = Chem.MolFromSmiles(smiles)\n",
    "    if m != None:\n",
    "        smiles = Chem.MolToSmiles(m)\n",
    "    return smiles"
   ]
  },
  {
   "cell_type": "code",
   "execution_count": null,
   "metadata": {},
   "outputs": [],
   "source": [
    "submission = pd.read_csv('sample_submission.csv')\n",
    "submission['SMILES'] = submission.apply(lambda x : f(x['SMILES']), axis=1)\n",
    "submission.to_csv('sample_submission.csv', index=False)"
   ]
  }
 ],
 "metadata": {
  "kernelspec": {
   "display_name": "Tensorflow",
   "language": "python",
   "name": "tensorflow"
  },
  "language_info": {
   "codemirror_mode": {
    "name": "ipython",
    "version": 3
   },
   "file_extension": ".py",
   "mimetype": "text/x-python",
   "name": "python",
   "nbconvert_exporter": "python",
   "pygments_lexer": "ipython3",
   "version": "3.7.6"
  }
 },
 "nbformat": 4,
 "nbformat_minor": 4
}
